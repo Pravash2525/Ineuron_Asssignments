{
 "cells": [
  {
   "cell_type": "markdown",
   "id": "969f761b",
   "metadata": {},
   "source": [
    "<h1> <u> <font color= green > Assignment_24 </font> </u> </h1>"
   ]
  },
  {
   "cell_type": "markdown",
   "id": "64eba311",
   "metadata": {},
   "source": [
    "<h2><u> 1. What is the relationship between def statements and lambda expressions ?</u></h2>\n",
    "\n",
    "> * Def statements and lambda expressions are both used to create functions in Python.\n",
    "> * __Def statements__ allow us to define functions with multiple arguments, and they also allow you to define functions that have their own local scope. <br>\n",
    "__Lambda expressions__ can only be used to define functions with a single expression, and they do not have their own local scope.\n",
    "\n",
    "<table style= \"border:1px solid black\">\n",
    "  <thread>\n",
    "      <tr>\n",
    "        <th style= \"border:1px solid black\">Sn.</th>\n",
    "        <th style= \"border:1px solid black\">def statement</th>\n",
    "        <th style= \"border:1px solid black\">lambda expressions</th>\n",
    "      </tr>\n",
    "  </thread>\n",
    "  <tbody>\n",
    "      <tr>\n",
    "        <td style= \"border:1px solid black\">Syntax:</td>\n",
    "        <td style= \"border:1px solid black\">def function_name(parameters):</td>\n",
    "        <td style= \"border:1px solid black\">lambda parameters: expression</td>\n",
    "      </tr>\n",
    "      <tr>\n",
    "        <td style= \"border:1px solid black\">Function Name:</td>\n",
    "        <td style= \"border:1px solid black\">requires a function name, which is used to call the function later.</td>\n",
    "        <td style= \"border:1px solid black\">does not have a function name. Instead, it returns a function object that can be assigned to a variable or used immediately</td>\n",
    "      </tr>\n",
    "      <tr>\n",
    "        <td style= \"border:1px solid black\">Function Body:</td>\n",
    "        <td style= \"border:1px solid black\">consists of multiple lines of code enclosed within the function's block using indentation.</td>\n",
    "        <td style= \"border:1px solid black\">consists of a single expression</td>\n",
    "      </tr>\n",
    "      <tr>\n",
    "        <td style= \"border:1px solid black\">Return Value:</td>\n",
    "        <td style= \"border:1px solid black\">include a return statement to specify the value to be returned from the function.</td>\n",
    "        <td style= \"border:1px solid black\">It implicitly returns the value of the expression. </td>\n",
    "      </tr>\n",
    "  </tbody>\n",
    "</table>"
   ]
  },
  {
   "cell_type": "markdown",
   "id": "b84e0382",
   "metadata": {},
   "source": [
    "<h2><u> 2. What is the benefit of lambda?</u></h2>\n",
    "\n",
    "> Some benefits of using lambda expressions:\n",
    "> * __They are concise__: Lambda expressions are much shorter than def statements, which can make your code more readable and easier to maintain.\n",
    "> * __They are anonymous__: Lambda expressions do not have a name, which can be useful in situations where you only need to define a function for a short period of time.\n",
    "> * __They are flexible__: Lambda expressions can be used as arguments to other functions, which can give you more flexibility in your code.\n",
    "> * __Functional Programming__: Lambda expressions are commonly used in functional programming paradigms where functions are treated as first-class citizens. They can be used with higher-order functions like map(), filter(), reduce(), or as arguments to functions like sort(), sorted(), and max().\n",
    "> * __Readability__: Lambda expressions can enhance the readability of your code by keeping the function logic close to the place where it is used. This is particularly useful when the function is short and the intention is clear.\n"
   ]
  },
  {
   "cell_type": "markdown",
   "id": "ccf9f98a",
   "metadata": {},
   "source": [
    "<h2><u> 3. Compare and contrast map, filter, and reduce.</u></h2>\n",
    "\n",
    "> __map, filter, and reduce__ are the functions that operate on iterables. However, they each have a different purpose.\n",
    ">> * __Map__ applies a function to each element of an iterable and returns a new iterable with the results. This can be useful for transforming data or performing calculations on each element of an iterable.\n",
    ">> * __Filter__ filters an iterable by applying a function to each element and returning only those elements for which the function returns True. This can be useful for removing unwanted elements from an iterable or selecting specific elements from an iterable.\n",
    ">> * __Reduce__ reduces an iterable to a single value by applying a function to consecutive pairs of elements and passing the result to the function as the next element. This can be useful for performing cumulative calculations on an iterable.\n",
    "> Example: \n",
    "* ___``` map(lambda x: x ** 2, [1, 2, 3, 4]) ```___ returns an iterator [1, 4, 9, 16], where each element is the square of the corresponding element in the original list.\n",
    "* ___``` filter(lambda x: x % 2 == 0, [1, 2, 3, 4, 5, 6]) ```___ returns an iterator [2, 4, 6], containing only the even numbers from the original list.\n",
    "* ___``` reduce(lambda x, y: x + y, [1, 2, 3, 4, 5]) ```___ returns 15, which is the sum of all the elements in the original list.\n"
   ]
  },
  {
   "cell_type": "markdown",
   "id": "27371a68",
   "metadata": {},
   "source": [
    "<h2><u> 4. What are function annotations, and how are they used?</u></h2>\n",
    "\n",
    "> __Function annotations__ are a way to add metadata or type hints to the parameters and return value of a function declaration. They are used to provide additional information about the function, such as its return type, the types of its arguments, and the documentation for the function. and  are not evaluated at runtime.\n",
    "\n",
    "> __For Example:__\n",
    "```\n",
    "def factorial(n: int) -> int:\n",
    "    \"\"\"\n",
    "        Calculates the factorial of `n`.\n",
    "        Args:\n",
    "            n: The number to calculate the factorial of.\n",
    "        Returns:\n",
    "            The factorial of `n`.\n",
    "    \"\"\"\n",
    "\n",
    "    if n == 0:\n",
    "        return 1\n",
    "    else:\n",
    "        return n * factorial(n - 1)\n",
    "\n",
    "print(factorial(5))\n",
    "````\n",
    "> * The __n: int__ annotation specifies that the n argument is of type int.\n",
    "> * The __-> int__ annotation specifies that the return value of the function is of type int.\n",
    "> * the factorial() function has a __docstring__ that provides documentation for the function."
   ]
  },
  {
   "cell_type": "markdown",
   "id": "3a7c4b08",
   "metadata": {},
   "source": [
    "<h2><u> 5. What are recursive functions, and how are they used?</u></h2>\n",
    "\n",
    "> * __Recursive functions__ are functions that call themselves within their own body. And used to solve problems that can be divided into smaller, similar subproblems, solving them recursively, and combining the results to obtain the final solution. \n",
    "> * Recursive functions typically consist of two main parts:\n",
    ">> * __Base Case__: It defines the condition where the function does not call itself and returns a specific value. It prevents infinite recursion and provides a stopping condition.\n",
    ">> * __Recursive Case__: It defines the condition where the function calls itself with modified arguments, solving a smaller subproblem. The result of the recursive call is combined with other calculations to obtain the final solution.\n",
    "\n",
    "> __For Example__\n",
    "```\n",
    "def factorial(n):\n",
    "    if n == 0:\n",
    "        return 1\n",
    "    else:\n",
    "        return n*factorial(n - 1)\n",
    "        \n",
    "print(factorial(5))\n",
    "```"
   ]
  },
  {
   "cell_type": "markdown",
   "id": "5b9c0c0d",
   "metadata": {},
   "source": [
    "<h2><u> 6. What are some general design guidelines for coding functions?</u></h2>\n",
    "\n",
    "> Here are some key guidelines to consider:\n",
    "\n",
    "> * __Single Responsibility Principle__: Functions should perform one task or accomplish one objective, making the code easier to understand and maintain.\n",
    "> * __Function Naming__: Use meaningful and descriptive names for functions that accurately convey their purpose and functionality. \n",
    "> * __Parameter Design__: Keep the number of parameters in a function to a minimum. Excessive parameters can make function calls cumbersome and increase the chances of errors. \n",
    "> * __Modularity and Reusability__: Design functions to be modular and reusable. Make functions self-contained and independent of the global state whenever possible.\n",
    "> * __Function Documentation__: Provide clear and concise documentation for functions, including a description of the purpose, expected input parameters, return values, and any exceptions or side effects.\n",
    "> * __Error Handling__: Consider proper error handling within functions. Catch and handle expected exceptions, provide meaningful error messages, and document any potential error scenarios.\n",
    "> * __Code Readability__: Write clean and readable code within functions. Use proper indentation, meaningful variable and function names, comments where necessary, and adhere to the style guide of the programming language or project.\n",
    "\n",
    "    "
   ]
  },
  {
   "cell_type": "markdown",
   "id": "1c563eb5",
   "metadata": {},
   "source": [
    "<h2><u> 7. Name three or more ways that functions can communicate results to a caller.</u></h2>\n",
    "\n",
    "> functions can communicate results to a caller:\n",
    "\n",
    "> * __Return values__: The most common way for a function to communicate results to a caller is by returning a value. The return value can be any type of data, such as a number, a string, or a list.\n",
    "> * __Printing to the console__: Another way for a function to communicate results to a caller is by printing the results to the console. This is not as efficient as returning a value, but it can be useful for debugging or for displaying the results to the user.\n",
    "> * __Exception handling__: Functions can communicate errors to the caller by raising exceptions. Exceptions are special types of errors that can be handled by the caller.\n",
    "> * __Logging__: Functions can also communicate results to a caller by logging the results. Logging is a way of recording events that occur in a program.\n",
    "> * __Events__: Functions can also communicate results to a caller by emitting events. Events are notifications that are sent by a function to the caller.\n"
   ]
  },
  {
   "cell_type": "code",
   "execution_count": null,
   "id": "04f5206b",
   "metadata": {},
   "outputs": [],
   "source": []
  }
 ],
 "metadata": {
  "kernelspec": {
   "display_name": "Python 3 (ipykernel)",
   "language": "python",
   "name": "python3"
  },
  "language_info": {
   "codemirror_mode": {
    "name": "ipython",
    "version": 3
   },
   "file_extension": ".py",
   "mimetype": "text/x-python",
   "name": "python",
   "nbconvert_exporter": "python",
   "pygments_lexer": "ipython3",
   "version": "3.11.3"
  }
 },
 "nbformat": 4,
 "nbformat_minor": 5
}
