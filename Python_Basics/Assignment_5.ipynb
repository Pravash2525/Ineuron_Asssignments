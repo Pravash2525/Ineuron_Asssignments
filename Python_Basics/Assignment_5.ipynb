{
 "cells": [
  {
   "cell_type": "markdown",
   "id": "8cbf60da",
   "metadata": {},
   "source": [
    " <h1> <u> <font color= green > Assignment_5 </font> </u> </h1>"
   ]
  },
  {
   "cell_type": "markdown",
   "id": "3bfadac5",
   "metadata": {},
   "source": [
    "### 1. What does an empty dictionary's code look like?\n",
    "\n",
    "> * my_dict = {}"
   ]
  },
  {
   "cell_type": "markdown",
   "id": "135d575e",
   "metadata": {},
   "source": [
    "### 2. What is the value of a dictionary value with the key 'foo' and the value 42?\n",
    "\n",
    "> * my_dict = {'foo' : 42}"
   ]
  },
  {
   "cell_type": "markdown",
   "id": "99937b13",
   "metadata": {},
   "source": [
    "### 3. What is the most significant distinction between a dictionary and a list?\n",
    "\n",
    "> * The most significant distinction between a dictionary and a list in Python is that dictionaries are unordered, while lists are ordered."
   ]
  },
  {
   "cell_type": "markdown",
   "id": "16c06451",
   "metadata": {},
   "source": [
    "### 4. What happens if you try to access spam['foo'] if spam is {'bar': 100}?\n",
    "> * I wil get error if I try to access spam['foo'] if spam is {'bar': 100} because there is no \"foo\" key available in spam dictionary."
   ]
  },
  {
   "cell_type": "markdown",
   "id": "bcc94acd",
   "metadata": {},
   "source": [
    "### 5. If a dictionary is stored in spam, what is the difference between the expressions 'cat' in spam and 'cat' in spam.keys()?\n",
    "> + The expression 'cat' in spam checks if the string 'cat' is a key in the dictionary spam. This means that the expression will return True if the dictionary contains a key with the value 'cat', even if the value of the key is not 'cat'.\n",
    "> + The expression 'cat' in spam.keys() checks if the string 'cat' is a key in the dictionary spam. This means that the expression will only return True if the dictionary contains a key with the value 'cat'."
   ]
  },
  {
   "cell_type": "markdown",
   "id": "1a2f3110",
   "metadata": {},
   "source": [
    "### 6. If a dictionary is stored in spam, what is the difference between the expressions 'cat' in spam and'cat' i n spam.values()?\n",
    "> + The expression 'cat' in spam checks if the string 'cat' is a key in the dictionary spam. This means that the expression will return True if the dictionary contains a key with the value 'cat', even if the value of the key is not 'cat'.\n",
    "> + The expression 'cat' in spam.values() checks if the string 'cat' is a value in the dictionary spam. This means that the expression will only return True if the dictionary contains a key with the value 'cat'."
   ]
  },
  {
   "cell_type": "markdown",
   "id": "d54f9af8",
   "metadata": {},
   "source": [
    "### 7. What is a shortcut for the following code?\n",
    "if 'color' not in spam: <br>\n",
    "spam['color'] = 'black'\n",
    "> ```\n",
    "if 'color' not in spam: spam['color'] = 'black' \n",
    "```"
   ]
  },
  {
   "cell_type": "markdown",
   "id": "e9d59b89",
   "metadata": {},
   "source": [
    "### 8. How do you \"pretty print\" dictionary values using which module and function?\n",
    "\n",
    "> + can use the pprint module and the pprint.pprint() function. The pprint.pprint() function takes an object as input and returns a string representation of the object with appropriate indentation and line breaks.\n",
    ">```\n",
    "import pprint \n",
    "my_dict = {'key1': 'value1', 'key2': 'value2', 'key3': 'value3'} \n",
    "pprint.pprint(my_dict)\n",
    "```"
   ]
  },
  {
   "cell_type": "code",
   "execution_count": null,
   "id": "15475241",
   "metadata": {},
   "outputs": [],
   "source": []
  },
  {
   "cell_type": "code",
   "execution_count": null,
   "id": "c28ac7a9",
   "metadata": {},
   "outputs": [],
   "source": []
  }
 ],
 "metadata": {
  "kernelspec": {
   "display_name": "Python 3 (ipykernel)",
   "language": "python",
   "name": "python3"
  },
  "language_info": {
   "codemirror_mode": {
    "name": "ipython",
    "version": 3
   },
   "file_extension": ".py",
   "mimetype": "text/x-python",
   "name": "python",
   "nbconvert_exporter": "python",
   "pygments_lexer": "ipython3",
   "version": "3.11.2"
  }
 },
 "nbformat": 4,
 "nbformat_minor": 5
}
