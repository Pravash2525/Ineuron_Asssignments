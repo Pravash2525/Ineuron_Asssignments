{
 "cells": [
  {
   "cell_type": "markdown",
   "id": "fac2f702",
   "metadata": {},
   "source": [
    "<h1> <u> <font color= green > Assignment_11 </font> </u> </h1>"
   ]
  },
  {
   "cell_type": "markdown",
   "id": "0e86722c",
   "metadata": {},
   "source": [
    "## 1. Create an assert statement that throws an AssertionError if the variable spam is a negative integer.\n",
    "\n",
    "> ``` \n",
    "spam = -1\n",
    "assert spam >= 0\n",
    "```"
   ]
  },
  {
   "cell_type": "markdown",
   "id": "6f0417e0",
   "metadata": {},
   "source": [
    "## 2. Write an assert statement that triggers an AssertionError if the variables eggs and bacon contain strings that are the same as each other, even if their cases are different (that is, 'hello' and 'hello' are considered the same, and 'goodbye' and 'GOODbye' are also considered the same).\n",
    "\n",
    ">```\n",
    "eggs = \"hello\"\n",
    "bacon = \"HellO\"\n",
    "assert eggs.lower() != bacon.lower()\n",
    "```"
   ]
  },
  {
   "cell_type": "markdown",
   "id": "52fc6876",
   "metadata": {},
   "source": [
    "## 3. Create an assert statement that throws an AssertionError every time.\n",
    "\n",
    " ``` assert False ```"
   ]
  },
  {
   "cell_type": "markdown",
   "id": "568e9a00",
   "metadata": {},
   "source": [
    "## 4. What are the two lines that must be present in your software in order to call logging.debug()?\n",
    "\n",
    "```\n",
    "import logging\n",
    "logging.basicConfig(level=logging.DEBUG) \n",
    "```"
   ]
  },
  {
   "cell_type": "markdown",
   "id": "43240121",
   "metadata": {},
   "source": [
    "## 5. What are the two lines that your program must have in order to have logging.debug() send a logging message to a file named programLog.txt?\n",
    "\n",
    " ```\n",
    "import logging\n",
    "logging.basicConfig(filename='programLog.txt', level=logging.DEBUG)\n",
    "```"
   ]
  },
  {
   "cell_type": "markdown",
   "id": "7b98c726",
   "metadata": {},
   "source": [
    "## 6. What are the five levels of logging?\n",
    "\n",
    "> * DEBUG:    This level is used to log information that is useful for debugging.\n",
    "> * INFO:     This level is used to log general information about the program's execution.\n",
    "> * WARNING:  This level is used to log warnings about potential problems.\n",
    "> * ERROR:    This level is used to log errors that have occurred.\n",
    "> * CRITICAL: This level is used to log critical errors that have caused the program to terminate.\n"
   ]
  },
  {
   "cell_type": "markdown",
   "id": "438461fa",
   "metadata": {},
   "source": [
    "## 7. What line of code would you add to your software to disable all logging messages?\n",
    "\n",
    "> ``` logging.disable(logging.CRITICAL) ```\n",
    "> This line of code sets the logging level to CRITICAL. This means that no logging messages will be logged, not even critical errors."
   ]
  },
  {
   "cell_type": "markdown",
   "id": "79473e9b",
   "metadata": {},
   "source": [
    "## 8. Why is using logging messages better than using print() to display the same message?\n",
    "\n",
    "> There are several reasons why using logging messages is better than using print() to display the same message.\n",
    "\n",
    "* __Logging messages are more structured__: When you use print(), the output is just a string. This can be difficult to parse and understand, especially if you have a lot of logging messages. When you use logging, the output is a structured object that contains information about the message, such as the level, the source, and the timestamp. This makes it easier to filter, search, and analyze the logging messages.\n",
    " * __Logging messages can be redirected__: By default, logging messages are printed to the console. However, you can also redirect logging messages to a file, a database, or an email address. This allows you to keep a record of your logging messages, even if your program crashes or terminates unexpectedly.\n",
    " * __Logging messages can be filtered__: You can filter logging messages based on their level, source, or other criteria. This allows you to focus on the logging messages that are most relevant to you.\n",
    " * __Logging messages can be formatted__: You can format logging messages to make them more readable and easier to understand. For example, you can format the messages with timestamps, colors, or other special characters.\n"
   ]
  },
  {
   "cell_type": "markdown",
   "id": "28b5e1b8",
   "metadata": {},
   "source": [
    "## 9. What are the differences between the Step Over, Step In, and Step Out buttons in the debugger?\n",
    "\n",
    "> The Step Over, Step In, and Step Out buttons in the debugger are used to control the flow of execution of your program.\n",
    "* __Step Over__ executes the next line of code, but it does not step into any function calls. This means that if the next line of code is a function call, the debugger will not enter the function. Instead, it will execute the next line of code after the function call.\n",
    "* __Step In__ executes the next line of code, and it steps into any function calls. This means that if the next line of code is a function call, the debugger will enter the function and execute the first line of code in the function.\n",
    "* __Step Out__ executes the current function until it returns. This means that if you are currently in a function, the Step Out button will execute the rest of the code in the function, and then it will return to the line of code that called the function.\n"
   ]
  },
  {
   "cell_type": "markdown",
   "id": "00ef3671",
   "metadata": {},
   "source": [
    "## 10. After you click Continue, when will the debugger stop ?\n",
    "\n",
    "> After we click Continue, the debugger will stop when it reaches the end of the program, or when it encounters a breakpoint. A breakpoint is a line of code that you can set in your program to tell the debugger to stop execution."
   ]
  },
  {
   "cell_type": "markdown",
   "id": "fdd227fa",
   "metadata": {},
   "source": [
    "## 11. What is the concept of a breakpoint?\n",
    "\n",
    "> A ___breakpoint___ is a line of code that you can set in your program to tell the debugger to stop execution. When the debugger reaches a breakpoint, it will pause execution and you will be able to inspect the values of variables and the state of the program."
   ]
  },
  {
   "cell_type": "code",
   "execution_count": null,
   "id": "ad24adac",
   "metadata": {},
   "outputs": [],
   "source": []
  }
 ],
 "metadata": {
  "kernelspec": {
   "display_name": "Python 3 (ipykernel)",
   "language": "python",
   "name": "python3"
  },
  "language_info": {
   "codemirror_mode": {
    "name": "ipython",
    "version": 3
   },
   "file_extension": ".py",
   "mimetype": "text/x-python",
   "name": "python",
   "nbconvert_exporter": "python",
   "pygments_lexer": "ipython3",
   "version": "3.11.2"
  }
 },
 "nbformat": 4,
 "nbformat_minor": 5
}
