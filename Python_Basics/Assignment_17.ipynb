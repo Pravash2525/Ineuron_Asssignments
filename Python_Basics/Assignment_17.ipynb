{
 "cells": [
  {
   "cell_type": "markdown",
   "id": "f79c2d04",
   "metadata": {},
   "source": [
    "<h1> <u> <font color= green > Assignment_17 </font> </u> </h1>"
   ]
  },
  {
   "cell_type": "markdown",
   "id": "44284713",
   "metadata": {},
   "source": [
    "### 1. Assign the value 7 to the variable guess_me. Then, write the conditional tests (if, else, and elif) to print the string 'too low' if guess_me is less than 7, 'too high' if greater than 7, and 'just right' if equal to 7.\n",
    "\n",
    "```\n",
    "guess_me = 7\n",
    "\n",
    "if guess_me < 7:\n",
    "    print(\"too low\")\n",
    "elif guess_me > 7:\n",
    "    print(\"too high\")\n",
    "else:\n",
    "    print(\"just right\")\n",
    "```"
   ]
  },
  {
   "cell_type": "markdown",
   "id": "536cf392",
   "metadata": {},
   "source": [
    "### 2. Assign the value 7 to the variable guess_me and the value 1 to the variable start. Write a while loop that compares start with guess_me. Print too low if start is less than guess me. If start equals guess_me, print 'found it!' and exit the loop. If start is greater than guess_me, print 'oops' and exit the loop. Increment start at the end of the loop.\n",
    "\n",
    "```\n",
    "guess_me = 7\n",
    "start = 1\n",
    "if start != guess_me:    \n",
    "    while start != guess_me:\n",
    "        start += 1\n",
    "        if start < guess_me:\n",
    "            print(\"too low\")\n",
    "        elif start == guess_me:\n",
    "            print(\"found it!\")\n",
    "        else:\n",
    "            print(\"oops\")\n",
    "            break\n",
    "else:\n",
    "    print(\"found it!\")\n",
    "    \n",
    "```"
   ]
  },
  {
   "cell_type": "markdown",
   "id": "80e13083",
   "metadata": {},
   "source": [
    "### 3. Print the following values of the list [3, 2, 1, 0] using a for loop.\n",
    "\n",
    "```\n",
    "my_list = [3, 2, 1, 0] \n",
    "for i in my_list:\n",
    "    print(i)\n",
    "```"
   ]
  },
  {
   "cell_type": "markdown",
   "id": "dc9385c5",
   "metadata": {},
   "source": [
    "### 4. Use a list comprehension to make a list of the even numbers in range(10)\n",
    "\n",
    "``` \n",
    "even_list = [i for i in range(10) if (i%2) == 0] \n",
    "print(even_list)\n",
    "```"
   ]
  },
  {
   "cell_type": "markdown",
   "id": "2a61751a",
   "metadata": {},
   "source": [
    "### 5. Use a dictionary comprehension to create the dictionary squares. Use range(10) to return the keys, and use the square of each key as its value.\n",
    "\n",
    "```\n",
    "squares = {i: i**2 for i in range(10)}\n",
    "print(squares)\n",
    "```\n"
   ]
  },
  {
   "cell_type": "markdown",
   "id": "856930b5",
   "metadata": {},
   "source": [
    "### 6. Construct the set odd from the odd numbers in the range using a set comprehension (10).\n",
    "\n",
    "```\n",
    "odd = {i for i in range(10) if (i%2) == 1}\n",
    "print(odd)\n",
    "```"
   ]
  },
  {
   "cell_type": "markdown",
   "id": "3cfe61f2",
   "metadata": {},
   "source": [
    "### 7. Use a generator comprehension to return the string 'Got ' and a number for the numbers in range(10). Iterate through this by using a for loop.\n",
    "\n",
    "```\n",
    "string_generator = ('Got ' + str(i) for i in range(10))\n",
    "\n",
    "for item in string_generator:\n",
    "    print(item)\n",
    "```"
   ]
  },
  {
   "cell_type": "markdown",
   "id": "d7407ae5",
   "metadata": {},
   "source": [
    "### 8. Define a function called good that returns the list ['Harry', 'Ron', 'Hermione'].\n",
    "\n",
    "```\n",
    "def good():\n",
    "    return ['Harry', 'Ron', 'Hermione']\n",
    "\n",
    "print(good())\n",
    "```"
   ]
  },
  {
   "cell_type": "markdown",
   "id": "73333d20",
   "metadata": {},
   "source": [
    "### 9. Define a generator function called get_odds that returns the odd numbers from range(10). Use a for loop to find and print the third value returned.\n",
    "\n",
    "```\n",
    "def get_odds():\n",
    "    for i in range(10):\n",
    "        if (i%2) == 1:\n",
    "            yield i\n",
    "\n",
    "count = 0\n",
    "for i in get_odds():\n",
    "    count += 1\n",
    "    if count == 3:\n",
    "        print(\"third value returned is\", i)\n",
    "```\n"
   ]
  },
  {
   "cell_type": "markdown",
   "id": "47ae1d97",
   "metadata": {},
   "source": [
    "### 10. Define an exception called OopsException. Raise this exception to see what happens. Then write the code to catch this exception and print 'Caught an oops'.\n",
    "\n",
    "```\n",
    "class OopsException(Exception):\n",
    "    pass\n",
    "\n",
    "try:\n",
    "    raise OopsException()\n",
    "except OopsException:\n",
    "    print('Caught an oops')\n",
    "```"
   ]
  },
  {
   "cell_type": "markdown",
   "id": "abde6a99",
   "metadata": {},
   "source": [
    "### 11. Use zip() to make a dictionary called movies that pairs these lists: titles = ['Creature of Habit','Crewel Fate'] and plots = ['A nun turns into a monster', 'A haunted yarn shop'].\n",
    "\n",
    "```\n",
    "titles = ['Creature of Habit', 'Crewel Fate']\n",
    "plots = ['A nun turns into a monster', 'A haunted yarn shop']\n",
    "movies = dict(zip(titles, plots))\n",
    "print(movies)\n",
    "```"
   ]
  }
 ],
 "metadata": {
  "kernelspec": {
   "display_name": "Python 3 (ipykernel)",
   "language": "python",
   "name": "python3"
  },
  "language_info": {
   "codemirror_mode": {
    "name": "ipython",
    "version": 3
   },
   "file_extension": ".py",
   "mimetype": "text/x-python",
   "name": "python",
   "nbconvert_exporter": "python",
   "pygments_lexer": "ipython3",
   "version": "3.11.3"
  }
 },
 "nbformat": 4,
 "nbformat_minor": 5
}
