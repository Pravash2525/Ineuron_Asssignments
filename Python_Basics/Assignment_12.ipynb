{
 "cells": [
  {
   "cell_type": "markdown",
   "id": "969f761b",
   "metadata": {},
   "source": [
    "<h1> <u> <font color= green > Assignment_12 </font> </u> </h1>"
   ]
  },
  {
   "cell_type": "markdown",
   "id": "4f463473",
   "metadata": {},
   "source": [
    "## 1. In what modes should the PdfFileReader() and PdfFileWriter() File objects will be opened?\n",
    "\n",
    "> The PdfFileReader() and PdfFileWriter() file objects should be opened in read-binary mode, which is indicated by the rb mode. This mode used to open files that are only to be read and prevents the file from being modified or corrupted. \n",
    "```\n",
    "import PyPDF2 as pdf\n",
    "pdf_file = open(\"my_pdf.pdf\", \"rb\")\n",
    "pdf_reader = pdf.PdfFileReader(pdf_file)\n",
    "print(pdf_reader)\n",
    "```"
   ]
  },
  {
   "cell_type": "markdown",
   "id": "5d7ea956",
   "metadata": {},
   "source": [
    "## 2. From a PdfFileReader object, how do you get a Page object for page 5?\n",
    "\n",
    "> we can get get a Page object for page 5 as: ``` page_5 = pdf_reader.getPage(5) ```\n",
    "> ```\n",
    "import PyPDF2 as pdf\n",
    "pdf_file = open(\"my_pdf.pdf\", \"rb\")\n",
    "pdf_reader = pdf.PdfFileReader(pdf_file)\n",
    "page_5 = pdf_reader.getPage(5)\n",
    "```"
   ]
  },
  {
   "cell_type": "markdown",
   "id": "7fcdf8a8",
   "metadata": {},
   "source": [
    "## 3. What PdfFileReader variable stores the number of pages in the PDF document?\n",
    "\n",
    "> The numPages variable in a PdfFileReader object stores the number of pages in the PDF document. \n",
    "```\n",
    "import PyPDF2 as pdf\n",
    "pdf_file = open(\"my_pdf.pdf\", \"rb\")\n",
    "pdf_reader = pdf.PdfFileReader(pdf_file)\n",
    "num_pages = pdf_reader.numPages\n",
    "print(num_pages)\n",
    "```"
   ]
  },
  {
   "cell_type": "markdown",
   "id": "3153d68b",
   "metadata": {},
   "source": [
    "## 4. If a PdfFileReader object’s PDF is encrypted with the password swordfish, what must you do before you can obtain Page objects from it?\n",
    "\n",
    "> We should provide the password before we can obtain Page objects from it. we can do this by using the decrypt() method of the PdfFileReader object.  ``` pdf_reader.decrypt(\"swordfish\") ```"
   ]
  },
  {
   "cell_type": "markdown",
   "id": "e6a00de7",
   "metadata": {},
   "source": [
    "## 5. What methods do you use to rotate a page?\n",
    "\n",
    "> There are two methods that you can use to rotate a page in PyPDF2:\n",
    "> + The rotate() method of the Page object.\n",
    "> + The rotatePages() method of the PdfFileWriter object.\n"
   ]
  },
  {
   "cell_type": "markdown",
   "id": "3ef41d69",
   "metadata": {},
   "source": [
    "## 6. What is the difference between a Run object and a Paragraph object?\n",
    "\n",
    "> A Run object and a Paragraph object are both objects that represent text in a PDF file.\n",
    "\n",
    "<table style= \"border:1px solid black\">\n",
    "  <thread>\n",
    "      <tr>\n",
    "        <th style= \"border:1px solid black\">Feature</th>\n",
    "        <th style= \"border:1px solid black\">Run object</th>\n",
    "        <th style= \"border:1px solid black\">Paragraph object</th>\n",
    "      </tr>\n",
    "  </thread>\n",
    "  <tbody>\n",
    "      <tr>\n",
    "        <td style= \"border:1px solid black\">Represents</td>\n",
    "        <td style= \"border:1px solid black\">A single piece of text</td>\n",
    "        <td style= \"border:1px solid black\">A group of Run objects</td>\n",
    "      </tr>\n",
    "      <tr>\n",
    "        <td style= \"border:1px solid black\">Can contain</td>\n",
    "        <td style= \"border:1px solid black\">Only text</td>\n",
    "        <td style= \"border:1px solid black\">Text, fonts, colors, sizes, and other formatting information</td>\n",
    "      </tr>\n",
    "      <tr>\n",
    "        <td style= \"border:1px solid black\">Can be used to</td>\n",
    "        <td style= \"border:1px solid black\">Create text boxes, labels, and other text-based objects</td>\n",
    "        <td style= \"border:1px solid black\">Create paragraphs, headings, and other complex text-based objects</td>\n",
    "      </tr>\n",
    "  </tbody>\n",
    "</table>"
   ]
  },
  {
   "cell_type": "markdown",
   "id": "d716e2c8",
   "metadata": {},
   "source": [
    "## 7. How do you obtain a list of Paragraph objects for a Document object that’s stored in a variable named doc?\n",
    "\n",
    "> + We can use the getParagraphs() method that returns a list of Paragraph objects for the Document object. <br>\n",
    "> + Now, open the PDF file in read-binary mode & create a PdfFileReader object. The getDocument() method will then be used to get a Document object for the PDF file. The getParagraphs() method will be used to get a list of Paragraph objects for the Document object. <br>\n",
    "> + The output of the code will be a list of Paragraph objects.\n",
    "```\n",
    "import PyPDF2\n",
    "pdf_file = open(\"my_pdf.pdf\", \"rb\")\n",
    "pdf_reader = PyPDF2.PdfFileReader(pdf_file)\n",
    "doc = pdf_reader.getDocument()\n",
    "paragraphs = doc.getParagraphs()\n",
    "```"
   ]
  },
  {
   "cell_type": "markdown",
   "id": "19a628b2",
   "metadata": {},
   "source": [
    "## 8. What type of object has bold, underline, italic, strike, and outline variables?\n",
    "\n",
    "> The TextObject class in the PyPDF2 module has bold, underline, italic, strike, and outline variables. These variables control the formatting of text in a PDF file.\n",
    "``` \n",
    "import PyPDF2 as pdf\n",
    "\n",
    "pdf_file = open(\"my_pdf.pdf\", \"rb\")\n",
    "pdf_reader = pdf.PdfFileReader(pdf_file)\n",
    "page = pdf_reader.getPage(5)\n",
    "text_object = page.get_text_object()\n",
    "\n",
    "text_object.bold = True\n",
    "text_object.underline = True\n",
    "text_object.italic = True\n",
    "\n",
    "pdf_writer = pdf.PdfFileWriter()\n",
    "pdf_writer.addPage(page)\n",
    "\n",
    "with open(\"new_pdf.pdf\", \"wb\") as output_file:\n",
    "    pdf_writer.write(output_file)\n",
    "```"
   ]
  },
  {
   "cell_type": "markdown",
   "id": "2fb8063e",
   "metadata": {},
   "source": [
    "## 9. What is the difference between False, True, and None for the bold variable?\n",
    "\n",
    "> The bold variable can be assigned one of three values: False, True, or None.\n",
    "\n",
    "> * __False__ is a Boolean value that represents the logical concept of \"falsehood.\" It is the opposite of True. In Python, False is equal to 0, an empty string, an empty list, an empty tuple, an empty dictionary, or the special value None.\n",
    "> * __True__ is a Boolean value that represents the logical concept of \"truth.\" It is the opposite of False. In Python, True is equal to anything that is not False.\n",
    "> * __None__ is a special value that represents the absence of a value. It is not a Boolean value, and it is not equal to False or True.\n"
   ]
  },
  {
   "cell_type": "markdown",
   "id": "c115ed3d",
   "metadata": {},
   "source": [
    "## 10. How do you create a Document object for a new Word document?\n",
    "\n",
    "> To create a Document object for a new Word document, we can use the code:\n",
    "```\n",
    "import docx\n",
    "document = docx.Document()\n",
    "```"
   ]
  },
  {
   "cell_type": "markdown",
   "id": "a5ac1c12",
   "metadata": {},
   "source": [
    "## 11. How do you add a paragraph with the text 'Hello, there!' to a Document object stored in a variable named doc?\n",
    "\n",
    "> To add a paragraph with the text \"Hello, there!\" to a Document object stored in a variable named doc\n",
    "```\n",
    "import docx\n",
    "doc = docx.Document()\n",
    "paragraph = doc.add_paragraph(\"Hello, there!\")\n",
    "```"
   ]
  },
  {
   "cell_type": "markdown",
   "id": "657c0d0d",
   "metadata": {},
   "source": [
    "## 12. What integers represent the levels of headings available in Word documents?\n",
    "\n",
    "> There are 9 levels of headings available in Word documents. The integers that represent these levels are 0 to 8.\n",
    "\n",
    "    Level 0: This is the highest level heading and is typically used for the title of the document.\n",
    "    Level 1: This is the second-highest level heading and is typically used for the main headings in the document.\n",
    "    Level 2: This is the third-highest level heading and is typically used for the subheadings in the document.\n",
    "    Level 3: This is the fourth-highest level heading and is typically used for the sub-subheadings in the document.\n",
    "    Level 4: This is the fifth-highest level heading and is typically used for the sub-sub-subheadings in the document.\n",
    "    Level 5: This is the sixth-highest level heading and is typically used for the sub-sub-sub-subheadings in the document.\n",
    "    Level 6: This is the seventh-highest level heading and is typically used for the sub-sub-sub-sub-subheadings in the document.\n",
    "    Level 7: This is the eighth-highest level heading and is typically used for the sub-sub-sub-sub-sub-subheadings in the document.\n",
    "    Level 8: This is the ninth-highest level heading and is typically used for the sub-sub-sub-sub-sub-sub-subheadings in the document.\n",
    "\n"
   ]
  },
  {
   "cell_type": "code",
   "execution_count": null,
   "id": "93aa6a86",
   "metadata": {},
   "outputs": [],
   "source": []
  }
 ],
 "metadata": {
  "kernelspec": {
   "display_name": "Python 3 (ipykernel)",
   "language": "python",
   "name": "python3"
  },
  "language_info": {
   "codemirror_mode": {
    "name": "ipython",
    "version": 3
   },
   "file_extension": ".py",
   "mimetype": "text/x-python",
   "name": "python",
   "nbconvert_exporter": "python",
   "pygments_lexer": "ipython3",
   "version": "3.11.2"
  }
 },
 "nbformat": 4,
 "nbformat_minor": 5
}
