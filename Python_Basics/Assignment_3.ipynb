{
 "cells": [
  {
   "attachments": {},
   "cell_type": "markdown",
   "id": "8114fa2b",
   "metadata": {},
   "source": [
    "### 1. Why are functions advantageous to have in your programs?\n",
    "\n",
    "> Functions are advantageous because\n",
    "> 1. __Code Reusability:__ Functions allow you to encapsulate a block of code that can be reused throughout your program. You can call it multiple times, reducing code duplication.\n",
    "> 2. __Code Readability:__ Well-structured functions with appropriate names and a clear purpose make the code more readable. \n",
    "> 3. __Maintainability:__ Functions with specific tasks enhances maintainability.\n",
    "> 4. __Modularity:__ Functions by breaking down complex problems into smaller parts with specific task or functionality makes the codebase more organized & easier to understand. \n",
    "> 5. __Testing and Debugging:__ you can easily test them individually, makes it easier to locate & fix bugs and hence ensuring they work as intended. \n"
   ]
  },
  {
   "attachments": {},
   "cell_type": "markdown",
   "id": "ec4e24b0",
   "metadata": {},
   "source": [
    "### 2. When does the code in a function run: when it's specified or when it's called?\n",
    "\n",
    "> + the code in a function run: ___when it's called___"
   ]
  },
  {
   "attachments": {},
   "cell_type": "markdown",
   "id": "77f2388e",
   "metadata": {},
   "source": [
    "### 3. What statement creates a function?\n",
    "\n",
    "> + \"def\" keyword creates a function"
   ]
  },
  {
   "attachments": {},
   "cell_type": "markdown",
   "id": "6f658451",
   "metadata": {},
   "source": [
    "### 4. What is the difference between a function and a function call?\n",
    "\n",
    "> + Function is a block of code that write once.   \n",
    "> + where as function call is used to call function whenever required."
   ]
  },
  {
   "attachments": {},
   "cell_type": "markdown",
   "id": "8faf4b5e",
   "metadata": {},
   "source": [
    "### 5. How many global scopes are there in a Python program? How many local scopes?\n",
    "\n",
    "> * When you define variables, functions, or classes outside any function or class, they become part of the __global scope__\n",
    "> * Any variables, functions, or classes defined within that function or code block are part of its __local scope__ and are only accessible within that scope.\n",
    "\n",
    ">\n",
    "```\n",
    "x = 10  # Global variable\n",
    "def foo():\n",
    "    y = 5  # Local variable\n",
    "    print(x)  # Accessing global variable from within a function\n",
    "    print(y)\n",
    "foo()\n",
    "print(x)  # Accessing global variable outside the function\n",
    "```"
   ]
  },
  {
   "attachments": {},
   "cell_type": "markdown",
   "id": "c1c3df2b",
   "metadata": {},
   "source": [
    "### 6. What happens to variables in a local scope when the function call returns?\n",
    "\n",
    "> * When a function call returns, the local scope of that function is destroyed, and any variables defined within that local scope cease to exist"
   ]
  },
  {
   "attachments": {},
   "cell_type": "markdown",
   "id": "12f355b3",
   "metadata": {},
   "source": [
    "### 7. What is the concept of a return value? Is it possible to have a return value in an expression?\n",
    "\n",
    "> * The concept of a return value is that it provides a way to pass data or results from the function's. <br>\n",
    " The 'return' statement can appear multiple times within a function, but once it is executed, the function's execution is terminated, and the control flow returns to the caller. \n",
    "> *  Yes, it is possible to have a return value in an expression. <br>\n",
    "    example:  return_value = (10 + 20) * 3"
   ]
  },
  {
   "attachments": {},
   "cell_type": "markdown",
   "id": "f445a651",
   "metadata": {},
   "source": [
    "### 8. If a function does not have a return statement, what is the return value of a call to that function?\n",
    "\n",
    "> + If a function does not have a return statement, the return value of a call to that function is __None__. <br>\n",
    "    The __None__ value is a special value that represents nothingness."
   ]
  },
  {
   "attachments": {},
   "cell_type": "markdown",
   "id": "600909a4",
   "metadata": {},
   "source": [
    "### 9. How do you make a function variable refer to the global variable?\n",
    "\n",
    "> + We cam make a function variable refer to the global variable, you can use the ___global___ keyword."
   ]
  },
  {
   "attachments": {},
   "cell_type": "markdown",
   "id": "929df475",
   "metadata": {},
   "source": [
    "### 10. What is the data type of None?\n",
    "\n",
    "> + __None__ is a special built-in value in Python that represents the absence of a value or the lack of a meaningful result."
   ]
  },
  {
   "attachments": {},
   "cell_type": "markdown",
   "id": "ad59363a",
   "metadata": {},
   "source": [
    "### 11. What does the sentence import areallyourpetsnamederic do?\n",
    "\n",
    "> * It will imports a module named ___areallyourpetsnamederic___"
   ]
  },
  {
   "attachments": {},
   "cell_type": "markdown",
   "id": "47202102",
   "metadata": {},
   "source": [
    "### 12. If you had a bacon() feature in a spam module, what would you call it after importing spam?\n",
    "\n",
    "> * We can call bacon() feature as : _spam.bacon()_"
   ]
  },
  {
   "attachments": {},
   "cell_type": "markdown",
   "id": "0466bb18",
   "metadata": {},
   "source": [
    "### 13. What can you do to save a programme from crashing if it encounters an error?\n",
    "\n",
    "> * To prevent a program from crashing when it encounters an error, we can use error handling techniques to catch and handle exceptions."
   ]
  },
  {
   "attachments": {},
   "cell_type": "markdown",
   "id": "4ee6117f",
   "metadata": {},
   "source": [
    "### 14. What is the purpose of the try clause? What is the purpose of the except clause?\n",
    "\n",
    "> * The try block contains the code that you are trying to run, and <br>\n",
    "    the except block contains the code that you want to run if an error occurs.\n",
    "    \n",
    "```\n",
    "try:\n",
    "  file = open(\"my_file.txt\")\n",
    "except FileNotFoundError:\n",
    "  print(\"The file could not be found.\")\n",
    "```"
   ]
  },
  {
   "cell_type": "code",
   "execution_count": null,
   "id": "f3012c52",
   "metadata": {},
   "outputs": [],
   "source": []
  },
  {
   "cell_type": "code",
   "execution_count": null,
   "id": "3c63814c",
   "metadata": {},
   "outputs": [],
   "source": []
  }
 ],
 "metadata": {
  "kernelspec": {
   "display_name": "Python 3 (ipykernel)",
   "language": "python",
   "name": "python3"
  },
  "language_info": {
   "codemirror_mode": {
    "name": "ipython",
    "version": 3
   },
   "file_extension": ".py",
   "mimetype": "text/x-python",
   "name": "python",
   "nbconvert_exporter": "python",
   "pygments_lexer": "ipython3",
   "version": "3.11.2"
  }
 },
 "nbformat": 4,
 "nbformat_minor": 5
}
