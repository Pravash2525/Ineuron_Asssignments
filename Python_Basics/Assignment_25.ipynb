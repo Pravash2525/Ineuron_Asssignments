{
 "cells": [
  {
   "cell_type": "markdown",
   "id": "f79c2d04",
   "metadata": {},
   "source": [
    "<h1> <u> <font color= green > Assignment_25 </font> </u> </h1>"
   ]
  },
  {
   "cell_type": "markdown",
   "id": "6f3aa1e2",
   "metadata": {},
   "source": [
    "<h2><u> 1) . What is the difference between enclosing a list comprehension in square brackets and parentheses? </u></h2>\n",
    "\n",
    "> * __Square brackets__: Enclosing a list comprehension in square brackets _creates a list_. For example, the following code creates a list of the squares of the numbers from 1 to 5:  ___``` squares = [x * x for x in range(1, 6)] ```___\n",
    "\n",
    "> * __Parentheses___: Enclosing a list comprehension in parentheses creates a _generator expression_. A generator expression is a special type of expression that can be used to iterate over a sequence of values. They are more efficient. For example, the following code creates a generator expression that yields the squares of the numbers from 1 to 5: ___``` squares = (x * x for x in range(1, 6)) ```__\n"
   ]
  },
  {
   "cell_type": "markdown",
   "id": "e2460265",
   "metadata": {},
   "source": [
    "<h2><u> 2) What is the relationship between generators and iterators? </u></h2>\n",
    "\n",
    "> * __Generators__: Generators are a special _type of function_ that can be used to iterate over a sequence of values. Generators do not actually create a list in memory, but rather they __yield the values one at a time__. This makes generators _more efficient than lists_, especially when you are iterating over a large sequence of values.\n",
    "> * __Iterators__: Iterators are _objects_ that can be used to iterate over a __sequence of values__. Iterators can be created from lists, strings, and other iterable objects. Iterators can also be created from generators.\n"
   ]
  },
  {
   "cell_type": "markdown",
   "id": "dcec4e45",
   "metadata": {},
   "source": [
    "<h2><u> 3) What are the signs that a function is a generator function? </u></h2>\n",
    "\n",
    "> * The function uses the ___yield keyword___. This allows the function to be used to iterate over a sequence of values one at a time.\n",
    "> * The function can be used in a for loop. Generator functions can be used in a for loop just like any other iterable object. This allows you to iterate over the sequence of values that the generator function yields.\n",
    "\n",
    "> __For example__\n",
    "```\n",
    "def squares():\n",
    "    for x in range(1, 6):\n",
    "        yield x * x\n",
    "\n",
    "for x in squares():\n",
    "    print(x)\n",
    "```"
   ]
  },
  {
   "cell_type": "markdown",
   "id": "4bcb673a",
   "metadata": {},
   "source": [
    "<h2><u> 4) What is the purpose of a yield statement? </u></h2>\n",
    "\n",
    "> * The yield statement in Python is used to suspend the execution of a function and return a value. This allows the function to be used to iterate over a sequence of values one at a time.\n",
    "> * Generator functions do not actually create a list in memory, but rather they yield the values one at a time. This makes generators more efficient than lists, especially when you are iterating over a large sequence of values."
   ]
  },
  {
   "cell_type": "markdown",
   "id": "b44f9965",
   "metadata": {},
   "source": [
    "<h2><u> 5) What is the relationship between map calls and list comprehensions? Make a comparison and contrast between the two. </u></h2>\n",
    "\n",
    "> * __Map calls__: Map calls are a way to apply a function to each element of an iterable object and return a new iterable object with the results. For example, uses a map call to square the numbers from 1 to 5: ___``` list(map(lambda x: x * x, [1, 2, 3, 4, 5])) ```___\n",
    "> * __List comprehensions__: List comprehensions are a concise way to create a list from the results of a function call. For example, use a list comprehension to create a list of the squares of the numbers from 1 to 5: ___``` [x * x for x in [1, 2, 3, 4, 5]] ```___"
   ]
  },
  {
   "cell_type": "markdown",
   "id": "d85d4f53",
   "metadata": {},
   "source": []
  }
 ],
 "metadata": {
  "kernelspec": {
   "display_name": "Python 3 (ipykernel)",
   "language": "python",
   "name": "python3"
  },
  "language_info": {
   "codemirror_mode": {
    "name": "ipython",
    "version": 3
   },
   "file_extension": ".py",
   "mimetype": "text/x-python",
   "name": "python",
   "nbconvert_exporter": "python",
   "pygments_lexer": "ipython3",
   "version": "3.11.3"
  }
 },
 "nbformat": 4,
 "nbformat_minor": 5
}
