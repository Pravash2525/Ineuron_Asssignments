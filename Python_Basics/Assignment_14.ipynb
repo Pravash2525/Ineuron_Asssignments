{
 "cells": [
  {
   "cell_type": "markdown",
   "id": "8279765f",
   "metadata": {},
   "source": [
    "<h1> <u> <font color= green > Assignment_14 </font> </u> </h1>"
   ]
  },
  {
   "cell_type": "markdown",
   "id": "0873c75c",
   "metadata": {},
   "source": [
    "## 1. What does RGBA stand for?\n",
    "\n",
    "> RGBA stands for Red, Green, Blue, and Alpha. RGBA colors are represented by four values:\n",
    "\n",
    "        Red: The amount of red in the color.\n",
    "        Green: The amount of green in the color.\n",
    "        Blue: The amount of blue in the color.\n",
    "        Alpha: The opacity of the color.\n",
    "\n",
    "> The alpha value is a number between 0 and 1. A value of 0 means that the color is completely transparent, and a value of 1 means that the color is completely opaque. <br>\n",
    "> * ```rgba(255, 0, 0, 0.5) ``` This color is red with an alpha value of 0.5, which means that it is semi-transparent."
   ]
  },
  {
   "cell_type": "markdown",
   "id": "abc9e20d",
   "metadata": {},
   "source": [
    "## 2. From the Pillow module, how do you get the RGBA value of any images?\n",
    "\n",
    "> To get the RGBA value of any images from the Pillow module, we can use the getdata() method. The getdata() method returns a sequence of (red, green, blue, alpha) tuples, where each tuple represents the color of a pixel in the image.```\n",
    "\n",
    "``` \n",
    "import PIL.Image\n",
    "\n",
    "image = PIL.Image.open('image.png')\n",
    "rgba_values = image.getdata()\n",
    "\n",
    "for red, green, blue, alpha in rgba_values:\n",
    "    print(red, green, blue, alpha)\n",
    "```"
   ]
  },
  {
   "cell_type": "markdown",
   "id": "245a5ef2",
   "metadata": {},
   "source": [
    "## 3. What is a box tuple, and how does it work?\n",
    "\n",
    "> A box tuple, also known as a tuple struct, is a data structure in Python that is similar to a tuple, but the values to be stored in a box tuple can be mutable objects, such as lists or dictionaries. <br>\n",
    "> It works as:\n",
    "```\n",
    "        def my_function(box_tuple):\n",
    "            box_tuple[0].append(4)\n",
    "            box_tuple[1]['key'] = 'new value'\n",
    "\n",
    "        box_tuple = ([1, 2, 3], {'key': 'value'})\n",
    "        my_function(box_tuple)\n",
    "        print(box_tuple)\n",
    "```"
   ]
  },
  {
   "cell_type": "markdown",
   "id": "6b62e7bd",
   "metadata": {},
   "source": [
    "## 4. Use your image and load in notebook then, How can you find out the width and height of an Image object?\n",
    "\n",
    "> To find out the width and height of an Image object, you can use the __size__ property. <br>\n",
    "> lets find the width and height of image.\n",
    "```     \n",
    "    import PIL.Image\n",
    "\n",
    "    image = PIL.Image.open('pravash.png')\n",
    "    width = image.size[0]\n",
    "    height = image.size[1]\n",
    "    print(width, height)\n",
    "```"
   ]
  },
  {
   "cell_type": "markdown",
   "id": "1762cd93",
   "metadata": {},
   "source": [
    "## 5. What method would you call to get Image object for a 100×100 image, excluding the lower-left quarter of it?\n",
    "\n",
    "> To get an Image object for a 100×100 image, we can use the crop() method. The crop() method takes four arguments: the top left corner coordinates, and the width and height of the crop. <br>\n",
    "    > let get an Image object for a 100×100 image, excluding the lower-left quarter of it:\n",
    "```\n",
    "    import PIL.Image\n",
    "\n",
    "    image = PIL.Image.open('pravash.png')\n",
    "    width = image.size[0]\n",
    "    height = image.size[1]\n",
    "\n",
    "    crop_coordinates = (0, 0, width / 2, height / 2)\n",
    "    cropped_image = image.crop(crop_coordinates)\n",
    "    print(cropped_image)\n",
    "```"
   ]
  },
  {
   "cell_type": "markdown",
   "id": "ec0549cf",
   "metadata": {},
   "source": [
    "## 6. After making changes to an Image object, how could you save it as an image file?\n",
    "\n",
    "> To save an Image object as an image file, we can use the save() method. The save() method takes two arguments: the filename of the image file, and the format of the image file. <br>\n",
    "\n",
    "> syntax: ```image.save('cropped_image.png', 'PNG') ```"
   ]
  },
  {
   "cell_type": "markdown",
   "id": "b21d0179",
   "metadata": {},
   "source": [
    "## 7. What module contains Pillow’s shape-drawing code?\n",
    "\n",
    "> The module that contains Pillow’s shape-drawing code is the __ImageDraw__ module. The ImageDraw module provides a number of functions that can be used to draw shapes on images. These shapes include lines, rectangles, circles, and ellipses."
   ]
  },
  {
   "cell_type": "markdown",
   "id": "b8077e62",
   "metadata": {},
   "source": [
    "## 8. Image objects do not have drawing methods. What kind of object does? How do you get this kind of object?\n",
    "\n",
    "> Image objects do not have drawing methods because they are __immutable__. This means that they cannot be changed once they are created. To draw on an image, you need to create a __Draw__ object by using the __Draw()__ method on an Image object. "
   ]
  }
 ],
 "metadata": {
  "kernelspec": {
   "display_name": "Python 3 (ipykernel)",
   "language": "python",
   "name": "python3"
  },
  "language_info": {
   "codemirror_mode": {
    "name": "ipython",
    "version": 3
   },
   "file_extension": ".py",
   "mimetype": "text/x-python",
   "name": "python",
   "nbconvert_exporter": "python",
   "pygments_lexer": "ipython3",
   "version": "3.11.3"
  }
 },
 "nbformat": 4,
 "nbformat_minor": 5
}
