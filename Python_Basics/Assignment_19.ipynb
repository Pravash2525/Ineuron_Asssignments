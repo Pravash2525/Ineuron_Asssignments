{
 "cells": [
  {
   "cell_type": "markdown",
   "id": "130dc62d",
   "metadata": {},
   "source": [
    "<h1> <u> <font color= green > Assignment_19 </font> </u> </h1>"
   ]
  },
  {
   "cell_type": "markdown",
   "id": "a91e24f9",
   "metadata": {},
   "source": [
    "### 1. Make a class called Thing with no contents and print it. Then, create an object called example from this class and also print it. Are the printed values the same or different?\n",
    "\n",
    "```\n",
    "class Thing:\n",
    "    pass\n",
    "\n",
    "print(Thing)\n",
    "example = Thing()\n",
    "print(example)\n",
    "```\n",
    "> * The _first print()_ statement prints the class Thing. The _second print()_ statement prints the object example. \n",
    "> * The printed values are different because the __class Thing__ is a blueprint for creating objects, but it does not contain any data. \n",
    "> * The __object example__ is an instance of the class Thing, and it contains no data."
   ]
  },
  {
   "cell_type": "markdown",
   "id": "acbafb4d",
   "metadata": {},
   "source": [
    "### 2. Create a new class called Thing2 and add the value 'abc' to the letters class attribute. Letters should be printed.\n",
    "\n",
    "```\n",
    "class Thing2:\n",
    "    letters = 'abc'\n",
    "\n",
    "print(Thing2.letters)\n",
    "```\n",
    "> * The letters class attribute is a __class attribute__, which means that it is shared by all instances of the class Thing2. \n",
    "> * The print() statement prints the value of the letters class attribute."
   ]
  },
  {
   "cell_type": "markdown",
   "id": "1d43cc3f",
   "metadata": {},
   "source": [
    "### 3. Make yet another class called, of course, Thing3. This time, assign the value 'xyz' to an instance (object) attribute called letters. Print letters. Do you need to make an object from the class to do this?\n",
    "\n",
    "```\n",
    "class Thing3:\n",
    "    def __init__(self):\n",
    "        self.letters = 'xyz'\n",
    "\n",
    "print(Thing3().letters)\n",
    "```\n",
    "> * No, you do not need to make an object from the class to do this. The __ init __ () method is called automatically when an object of the class Thing3 is created. "
   ]
  },
  {
   "cell_type": "markdown",
   "id": "ae0f8af3",
   "metadata": {},
   "source": [
    "### 4. Create an Element class with the instance attributes name, symbol, and number. Create a class object with the values 'Hydrogen,' 'H,' and 1.\n",
    "\n",
    "```\n",
    "class Element:\n",
    "    def __init__(self, name, symbol, number):\n",
    "        self.name = name\n",
    "        self.symbol = symbol\n",
    "        self.number = number\n",
    "\n",
    "hydrogen = Element('Hydrogen', 'H', 1)\n",
    "\n",
    "print(hydrogen.name, hydrogen.symbol, hydrogen.number)\n",
    "```"
   ]
  },
  {
   "cell_type": "markdown",
   "id": "b669a2ea",
   "metadata": {},
   "source": [
    "### 5. Make a dictionary with these keys and values: 'name': 'Hydrogen', 'symbol': 'H', 'number': 1. Then, create an object called hydrogen from class Element using this dictionary.\n",
    "\n",
    "```\n",
    "element_dict = {'name': 'Hydrogen', 'symbol': 'H', 'number': 1}\n",
    "\n",
    "hydrogen = Element(**element_dict)\n",
    "\n",
    "print(hydrogen.name, hydrogen.symbol, hydrogen.number)\n",
    "```\n",
    "> * The __**element_dict__ syntax is used to unpack the dictionary into the __ init__() method of the Element class. The __ init__() method then assigns the values of the dictionary to the corresponding instance attributes. The print() statements print the values of the name, symbol, and number instance attributes."
   ]
  },
  {
   "cell_type": "markdown",
   "id": "9d2e8fff",
   "metadata": {},
   "source": [
    "### 6. For the Element class, define a method called dump() that prints the values of the object’s attributes (name, symbol, and number). Create the hydrogen object from this new definition and use dump() to print its attributes.\n",
    "\n",
    "```\n",
    "class Element:\n",
    "    def __init__(self, name, symbol, number):\n",
    "        self.name = name\n",
    "        self.symbol = symbol\n",
    "        self.number = number\n",
    "\n",
    "    def dump(self):\n",
    "        print(f'name = {self.name}')\n",
    "        print(f'symbol = {self.symbol}')\n",
    "        print(f'number = {self.number}')\n",
    "\n",
    "hydrogen = Element('Hydrogen', 'H', 1)\n",
    "\n",
    "hydrogen.dump()\n",
    "```"
   ]
  },
  {
   "cell_type": "markdown",
   "id": "307e69f3",
   "metadata": {},
   "source": [
    "### 7. Call print(hydrogen). In the definition of Element, change the name of method dump to __str__, create a new hydrogen object, and call print(hydrogen) again.\n",
    "\n",
    "```\n",
    "class Element:\n",
    "    def __init__(self, name, symbol, number):\n",
    "        self.name = name\n",
    "        self.symbol = symbol\n",
    "        self.number = number\n",
    "\n",
    "    def __str__(self):\n",
    "        return f'name = {self.name}\\nsymbol = {self.symbol}\\nnumber = {self.number}'\n",
    "\n",
    "hydrogen = Element('Hydrogen', 'H', 1)\n",
    "print(hydrogen)\n",
    "\n",
    "new_hydrogen = Element('Helium', 'He', 2)\n",
    "print(new_hydrogen)\n",
    "```"
   ]
  },
  {
   "cell_type": "markdown",
   "id": "1020d7df",
   "metadata": {},
   "source": [
    "### 8. Modify Element to make the attributes name, symbol, and number private. Define a getter property for each to return its value.\n",
    "\n",
    "```\n",
    "class Element:\n",
    "    def __init__(self, name, symbol, number):\n",
    "        self._name = name\n",
    "        self._symbol = symbol\n",
    "        self._number = number\n",
    "\n",
    "    @property\n",
    "    def name(self):\n",
    "        return self._name\n",
    "\n",
    "    @property\n",
    "    def symbol(self):\n",
    "        return self._symbol\n",
    "\n",
    "    @property\n",
    "    def number(self):\n",
    "        return self._number\n",
    "\n",
    "hydrogen = Element('Hydrogen', 'H', 1)\n",
    "\n",
    "print(hydrogen.name)\n",
    "print(hydrogen.symbol)\n",
    "print(hydrogen.number)\n",
    "```"
   ]
  },
  {
   "cell_type": "markdown",
   "id": "2219c81a",
   "metadata": {},
   "source": [
    "### 9. Define three classes: Bear, Rabbit, and Octothorpe. For each, define only one method: eats(). This should return 'berries' (Bear), 'clover' (Rabbit), or 'campers' (Octothorpe). Create one object from each and print what it eats.\n",
    "\n",
    "```\n",
    "class Bear:\n",
    "    def eats(self):\n",
    "        return 'berries'\n",
    "\n",
    "class Rabbit:\n",
    "    def eats(self):\n",
    "        return 'clover'\n",
    "\n",
    "class Octothorpe:\n",
    "    def eats(self):\n",
    "        return 'campers'\n",
    "\n",
    "bear = Bear()\n",
    "print(bear.eats())\n",
    "\n",
    "rabbit = Rabbit()\n",
    "print(rabbit.eats())\n",
    "\n",
    "octothorpe = Octothorpe()\n",
    "print(octothorpe.eats())\n",
    "```\n",
    "> * The print() statements print the value of the __eats() method__ for each object."
   ]
  },
  {
   "cell_type": "markdown",
   "id": "991f7bab",
   "metadata": {},
   "source": [
    "### 10. Define these classes: Laser, Claw, and SmartPhone. Each has only one method: does(). This returns 'disintegrate' (Laser), 'crush' (Claw), or 'ring' (SmartPhone). Then, define the class Robot that has one instance (object) of each of these. Define a does() method for the Robot that prints what its component objects do.\n",
    "\n",
    "```\n",
    "class Laser:\n",
    "    def does(self):\n",
    "        return 'disintegrate'\n",
    "\n",
    "class Claw:\n",
    "    def does(self):\n",
    "        return 'crush'\n",
    "\n",
    "class SmartPhone:\n",
    "    def does(self):\n",
    "        return 'ring'\n",
    "\n",
    "class Robot:\n",
    "    def __init__(self):\n",
    "        self.laser = Laser()\n",
    "        self.claw = Claw()\n",
    "        self.smartphone = SmartPhone()\n",
    "\n",
    "    def does(self):\n",
    "        print(\"Laser does:\", self.laser.does())\n",
    "        print(\"Claw does:\", self.claw.does())\n",
    "        print(\"SmartPhone does:\", self.smartphone.does())\n",
    "\n",
    "\n",
    "# Creating an instance of the Robot class\n",
    "robot = Robot()\n",
    "\n",
    "# Calling the does() method of the Robot instance\n",
    "robot.does()\n",
    "```"
   ]
  },
  {
   "cell_type": "markdown",
   "id": "90feefcf",
   "metadata": {},
   "source": []
  }
 ],
 "metadata": {
  "kernelspec": {
   "display_name": "Python 3 (ipykernel)",
   "language": "python",
   "name": "python3"
  },
  "language_info": {
   "codemirror_mode": {
    "name": "ipython",
    "version": 3
   },
   "file_extension": ".py",
   "mimetype": "text/x-python",
   "name": "python",
   "nbconvert_exporter": "python",
   "pygments_lexer": "ipython3",
   "version": "3.11.3"
  }
 },
 "nbformat": 4,
 "nbformat_minor": 5
}
