{
 "cells": [
  {
   "cell_type": "markdown",
   "id": "130dc62d",
   "metadata": {},
   "source": [
    "<h1> <u> <font color= green > Assignment_15 </font> </u> </h1>"
   ]
  },
  {
   "cell_type": "markdown",
   "id": "1ef3dcee",
   "metadata": {},
   "source": [
    "### 1. How many seconds are in an hour? Use the interactive interpreter as a calculator and multiply the number of seconds in a minute (60) by the number of minutes in an hour (also 60).\n",
    "\n",
    "> There are 3600 seconds in an hour.\n",
    "```\n",
    ">>> 60 * 60\n",
    "3600\n",
    "```"
   ]
  },
  {
   "cell_type": "markdown",
   "id": "ef4b2cdd",
   "metadata": {},
   "source": [
    "### 2. Assign the result from the previous task (seconds in an hour) to a variable called seconds_per_hour.\n",
    "\n",
    "> Assigning the value of 3600 to the variable seconds_per_hour: ``` seconds_per_hour = 60 * 60 ```\n",
    "\n"
   ]
  },
  {
   "cell_type": "markdown",
   "id": "737b96c0",
   "metadata": {},
   "source": [
    "### 3. How many seconds do you think there are in a day? Make use of the variables seconds per hour and minutes per hour.\n",
    "\n",
    "> There is 86400 seconds in a day.\n",
    "```\n",
    "seconds_per_hour = 60 * 60\n",
    "hours_per_day = 24\n",
    "seconds_per_day = seconds_per_hour * hours_per_day\n",
    "print(seconds_per_day)\n",
    "```"
   ]
  },
  {
   "cell_type": "markdown",
   "id": "96817573",
   "metadata": {},
   "source": [
    "### 4. Calculate seconds per day again, but this time save the result in a variable called seconds_per_day\n",
    "\n",
    "``` \n",
    "seconds_per_hour = 60 * 60\n",
    "hours_per_day = 24\n",
    "seconds_per_day = seconds_per_hour * hours_per_day\n",
    "print(seconds_per_day)\n",
    "```"
   ]
  },
  {
   "cell_type": "markdown",
   "id": "4b88a4cf",
   "metadata": {},
   "source": [
    "### 5. Divide seconds_per_day by seconds_per_hour. Use floating-point (/) division.\n",
    "\n",
    "> ``` float_seconds_per_day = seconds_per_day / seconds_per_hour  ```"
   ]
  },
  {
   "cell_type": "markdown",
   "id": "0190646c",
   "metadata": {},
   "source": [
    "### 6. Divide seconds_per_day by seconds_per_hour, using integer (//) division. Did this number agree with the floating-point value from the previous question, aside from the final .0?\n",
    "\n",
    "> __``` integer_seconds_per_day = seconds_per_day // seconds_per_hour ```__\n",
    "\n",
    "> we can see, the output of the code is the number of hours in a day, which is 24.  The integer division agrees with the floating-point division, aside from the final .0."
   ]
  },
  {
   "cell_type": "markdown",
   "id": "03bc1d0e",
   "metadata": {},
   "source": [
    "### 7. Write a generator, genPrimes, that returns the sequence of prime numbers on successive calls to its next() method: 2, 3, 5, 7, 11, ...\n",
    "\n",
    "> \n",
    "```\n",
    "def genPrimes():\n",
    "    primes = []\n",
    "    current = 2\n",
    "    while True:\n",
    "        if all(current % prime != 0 for prime in primes):\n",
    "            primes.append(current)\n",
    "            yield current\n",
    "        current += 1\n",
    "    \n",
    "for prime in genPrimes():\n",
    "    if prime <= 10:\n",
    "        print(prime)\n",
    "    else:\n",
    "        break\n",
    "```\n"
   ]
  },
  {
   "cell_type": "code",
   "execution_count": null,
   "id": "9c94ccac",
   "metadata": {},
   "outputs": [],
   "source": []
  }
 ],
 "metadata": {
  "kernelspec": {
   "display_name": "Python 3 (ipykernel)",
   "language": "python",
   "name": "python3"
  },
  "language_info": {
   "codemirror_mode": {
    "name": "ipython",
    "version": 3
   },
   "file_extension": ".py",
   "mimetype": "text/x-python",
   "name": "python",
   "nbconvert_exporter": "python",
   "pygments_lexer": "ipython3",
   "version": "3.11.3"
  }
 },
 "nbformat": 4,
 "nbformat_minor": 5
}
