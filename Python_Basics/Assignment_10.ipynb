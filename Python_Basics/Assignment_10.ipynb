{
 "cells": [
  {
   "attachments": {},
   "cell_type": "markdown",
   "id": "bd847ba3",
   "metadata": {},
   "source": [
    "<h1> <u> <font color= green > Assignment_10 </font> </u> </h1>"
   ]
  },
  {
   "attachments": {},
   "cell_type": "markdown",
   "id": "8e9835b1",
   "metadata": {},
   "source": [
    "### 1. How do you distinguish between shutil.copy() and shutil.copytree()?\n",
    "\n",
    "> The __shutil.copy()__ function copies a _single file_ from one location to another. <br>\n",
    "> The __shutil.copytree()__ function copies an _entire directory tree_ from one location to another."
   ]
  },
  {
   "attachments": {},
   "cell_type": "markdown",
   "id": "e9631b48",
   "metadata": {},
   "source": [
    "### 2. What function is used to rename files?\n",
    "\n",
    "> ___os.rename()___ function used to rename files and it takes two arguments: the old filename and the new filename. \n",
    "```\n",
    "import os\n",
    "old_filename = 'myfile.txt'\n",
    "new_filename = 'new_file.txt'\n",
    "os.rename(old_filename, new_filename)\n",
    "```"
   ]
  },
  {
   "attachments": {},
   "cell_type": "markdown",
   "id": "62764839",
   "metadata": {},
   "source": [
    "### 3. What is the difference between the delete functions in the send2trash and shutil modules?\n",
    "\n",
    "> * The send2trash and shutil modules in Python both provide functions for deleting files. \n",
    "> * The send2trash module moves files to the Trash or Recycle Bin, while the shutil module permanently deletes files. This means that if we delete a file using the send2trash module, then we can still recover it by restoring it, but if you delete a file using the shutil module, there is no way to recover it. \n",
    "> * The send2trash module is platform-independent, while the shutil module is not. This means that the send2trash module will work on all operating systems, while the shutil module will only work on operating systems that have a Trash or Recycle Bin."
   ]
  },
  {
   "attachments": {},
   "cell_type": "markdown",
   "id": "a115f883",
   "metadata": {},
   "source": [
    "### 4. ZipFile objects have a close() method just like File objects’ close() method. What ZipFile method is equivalent to File objects’ open() method?\n",
    "\n",
    "> The ZipFile object has a method called open() that is equivalent to the File object's open() method. <br> \n",
    "> The ZipFile.open() method takes two arguments: the name of the file in the zip archive and the mode in which to open the file.  <br>\n",
    "> The mode can be 'r' for reading, 'w' for writing, or 'a' for appending.\n",
    "```\n",
    "import zipfile\n",
    "with zipfile.ZipFile('myarchive.zip', 'r') as zip_file:\n",
    "    file = zip_file.open('myfile.txt')\n",
    "    contents = file.read()\n",
    "    print(contents)\n",
    "```"
   ]
  },
  {
   "attachments": {},
   "cell_type": "markdown",
   "id": "cacac50c",
   "metadata": {},
   "source": [
    "### 5. Create a programme that searches a folder tree for files with a certain file extension (such as .pdf or .jpg). Copy these files from whatever location they are in to a new folder.\n",
    "\n",
    ">\n",
    " ```\n",
    "import os\n",
    "import shutil\n",
    "\n",
    "def search_folder(folder, file_extension):\n",
    "    count = 0\n",
    "    for root, directories, files in os.walk(folder):\n",
    "        for file in files:\n",
    "            if file.endswith(file_extension):\n",
    "                current_source_file_path = os.path.join(root, file)\n",
    "                save_to_destination_file_path = os.path.join(folder, file_extension)\n",
    "                copied_file_name = shutil.copy(current_source_file_path, save_to_destination_file_path)                      \n",
    "            \n",
    "save_to_folder = r'C:\\Users\\pravash\\Desktop\\Ineuron_Assignments'\n",
    "search_file_extension = '.pdf'\n",
    "\n",
    "search_folder(save_to_folder, search_file_extension)\n",
    "```"
   ]
  },
  {
   "cell_type": "code",
   "execution_count": null,
   "id": "71938d79",
   "metadata": {},
   "outputs": [],
   "source": []
  }
 ],
 "metadata": {
  "kernelspec": {
   "display_name": "Python 3 (ipykernel)",
   "language": "python",
   "name": "python3"
  },
  "language_info": {
   "codemirror_mode": {
    "name": "ipython",
    "version": 3
   },
   "file_extension": ".py",
   "mimetype": "text/x-python",
   "name": "python",
   "nbconvert_exporter": "python",
   "pygments_lexer": "ipython3",
   "version": "3.11.2"
  }
 },
 "nbformat": 4,
 "nbformat_minor": 5
}
