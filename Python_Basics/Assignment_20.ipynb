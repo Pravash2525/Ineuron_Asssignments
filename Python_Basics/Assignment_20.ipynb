{
 "cells": [
  {
   "cell_type": "markdown",
   "id": "969f761b",
   "metadata": {},
   "source": [
    "<h1> <u> <font color= green > Assignment_20 </font> </u> </h1>"
   ]
  },
  {
   "cell_type": "markdown",
   "id": "b0ad5184",
   "metadata": {},
   "source": [
    "### 1. Set the variable test1 to the string 'This is a test of the emergency text system,' and save test1 to a file named test.txt.\n",
    "\n",
    "```\n",
    "test1 = 'This is a test of the emergency text system.'\n",
    "\n",
    "with open('test.txt', 'w') as f:\n",
    "    f.write(test1)\n",
    "```"
   ]
  },
  {
   "cell_type": "markdown",
   "id": "c4948584",
   "metadata": {},
   "source": [
    "### 2. Read the contents of the file test.txt into the variable test2. Is there a difference between test 1 and test 2?\n",
    "\n",
    "```\n",
    "with open('test.txt', 'r') as f:\n",
    "    test2 = f.read()\n",
    "\n",
    "print(test1 == test2)\n",
    "```\n",
    "> * The output of the print() statement will be True,  so there a difference between test 1 and test 2."
   ]
  },
  {
   "cell_type": "markdown",
   "id": "cc0e0d42",
   "metadata": {},
   "source": [
    "### 3. Create a CSV file called books.csv by using these lines:\n",
    "\n",
    "        title,author,year\n",
    "        The Weirdstone of Brisingamen,Alan Garner,1960\n",
    "        Perdido Street Station,China Miéville,2000\n",
    "        Thud!,Terry Pratchett,2005\n",
    "        The Spellman Files,Lisa Lutz,2007\n",
    "        Small Gods,Terry Pratchett,1992\n",
    ">\n",
    "```\n",
    "import csv\n",
    "\n",
    "with open('books.csv', 'w', newline='') as csvfile:\n",
    "    writer = csv.writer(csvfile, delimiter=',')\n",
    "    writer.writerow(['title', 'author', 'year'])\n",
    "    writer.writerow(['The Weirdstone of Brisingamen', 'Alan Garner', 1960])\n",
    "    writer.writerow(['Perdido Street Station', 'China Miéville', 2000])\n",
    "    writer.writerow(['Thud!', 'Terry Pratchett', 2005])\n",
    "    writer.writerow(['The Spellman Files', 'Lisa Lutz', 2007])\n",
    "    writer.writerow(['Small Gods', 'Terry Pratchett', 1992])\n",
    "```\n"
   ]
  },
  {
   "cell_type": "markdown",
   "id": "2b30711b",
   "metadata": {},
   "source": [
    "### 4. Use the sqlite3 module to create a SQLite database called books.db, and a table called books with these fields: title (text), author (text), and year (integer).\n",
    "\n",
    "```\n",
    "import sqlite3\n",
    "\n",
    "conn = sqlite3.connect('books.db')\n",
    "cur = conn.cursor()\n",
    "cur.execute('CREATE TABLE books (title TEXT, author TEXT, year INTEGER)')\n",
    "\n",
    "conn.commit()\n",
    "conn.close()\n",
    "```"
   ]
  },
  {
   "cell_type": "markdown",
   "id": "5cf90c00",
   "metadata": {},
   "source": [
    "### 5. Read books.csv and insert its data into the book table.\n",
    "\n",
    "```\n",
    "import csv\n",
    "import sqlite3\n",
    "\n",
    "conn = sqlite3.connect('books.db')\n",
    "\n",
    "cur = conn.cursor()\n",
    "\n",
    "with open('books.csv', 'r') as csvfile:\n",
    "    reader = csv.reader(csvfile, delimiter=',')\n",
    "    next(reader, None)                 # skip header\n",
    "    for row in reader:\n",
    "        cur.execute('INSERT INTO books (title, author, year) VALUES (?, ?, ?)', row)\n",
    "\n",
    "conn.commit()\n",
    "conn.close()\n",
    "```"
   ]
  },
  {
   "cell_type": "markdown",
   "id": "2c46dd9f",
   "metadata": {},
   "source": [
    "### 6. Select and print the title column from the book table in alphabetical order.\n",
    "\n",
    "```\n",
    "import sqlite3\n",
    "\n",
    "conn = sqlite3.connect('books.db')\n",
    "cur = conn.cursor()\n",
    "cur.execute('SELECT title FROM books ORDER BY title ASC')\n",
    "\n",
    "for row in cur.fetchall():\n",
    "    print(row[0])\n",
    "\n",
    "conn.close()\n",
    "```"
   ]
  },
  {
   "cell_type": "markdown",
   "id": "54610727",
   "metadata": {},
   "source": [
    "### 7. From the book table, select and print all columns in the order of publication.\n",
    "\n",
    "```\n",
    "import sqlite3\n",
    "\n",
    "conn = sqlite3.connect('books.db')\n",
    "cur = conn.cursor()\n",
    "cur.execute('SELECT title, author, year FROM books ORDER BY year ASC')\n",
    "\n",
    "for row in cur.fetchall():\n",
    "    print(row)\n",
    "\n",
    "conn.close()\n",
    "```"
   ]
  },
  {
   "cell_type": "markdown",
   "id": "a6f14174",
   "metadata": {},
   "source": [
    "### 8. Use the sqlalchemy module to connect to the sqlite3 database books.db that you just made in exercise 6.\n",
    "\n",
    "```\n",
    "import sqlalchemy\n",
    "\n",
    "engine = sqlalchemy.create_engine('sqlite:///books.db')\n",
    "connection = engine.connect()\n",
    "metadata = sqlalchemy.MetaData()\n",
    "\n",
    "books_table = sqlalchemy.Table('books', metadata,\n",
    "                             Column('title', sqlalchemy.String),\n",
    "                             Column('author', sqlalchemy.String),\n",
    "                             Column('year', sqlalchemy.Integer))\n",
    "\n",
    "metadata.create_all(engine)\n",
    "conn = engine.connect()\n",
    "\n",
    "for row in conn.execute('SELECT title, author, year FROM books'):\n",
    "    print(row)\n",
    "\n",
    "conn.close()\n",
    "```\n"
   ]
  },
  {
   "cell_type": "markdown",
   "id": "30a327fe",
   "metadata": {},
   "source": [
    "### 9. Install the Redis server and the Python redis library (pip install redis) on your computer. Create a Redis hash called test with the fields count (1) and name ('Fester Bestertester'). Print all the fields for test.\n",
    "\n",
    "```\n",
    "import redis\n",
    "\n",
    "# Connect to the Redis server\n",
    "r = redis.Redis()\n",
    "\n",
    "# Create a hash called test\n",
    "test = r.hmset(\"test\", {\"count\": 1, \"name\": \"Fester Bestertester\"})\n",
    "\n",
    "# Print all the fields for test\n",
    "print(r.hgetall(\"test\"))\n",
    "```"
   ]
  },
  {
   "cell_type": "markdown",
   "id": "f0d5f323",
   "metadata": {},
   "source": [
    "### 10. Increment the count field of test and print it.\n",
    "\n",
    "```\n",
    "import redis\n",
    "\n",
    "# Connect to the Redis server\n",
    "r = redis.Redis()\n",
    "\n",
    "# increments the count field of test by 1.\n",
    "r.hincrby(\"test\", \"count\", 1)\n",
    "\n",
    "# prints the value of the count field of test\n",
    "print(r.hget(\"test\", \"count\"))\n",
    "```"
   ]
  },
  {
   "cell_type": "markdown",
   "id": "4043f77b",
   "metadata": {},
   "source": []
  }
 ],
 "metadata": {
  "kernelspec": {
   "display_name": "Python 3 (ipykernel)",
   "language": "python",
   "name": "python3"
  },
  "language_info": {
   "codemirror_mode": {
    "name": "ipython",
    "version": 3
   },
   "file_extension": ".py",
   "mimetype": "text/x-python",
   "name": "python",
   "nbconvert_exporter": "python",
   "pygments_lexer": "ipython3",
   "version": "3.11.3"
  }
 },
 "nbformat": 4,
 "nbformat_minor": 5
}
