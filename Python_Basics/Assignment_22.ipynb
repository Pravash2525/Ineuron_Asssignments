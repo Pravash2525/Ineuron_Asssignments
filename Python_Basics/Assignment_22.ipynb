{
 "cells": [
  {
   "cell_type": "markdown",
   "id": "8279765f",
   "metadata": {},
   "source": [
    "<h1> <u> <font color= green > Assignment_22 </font> </u> </h1>"
   ]
  },
  {
   "cell_type": "markdown",
   "id": "ee5498ae",
   "metadata": {},
   "source": [
    "### 1. What is the result of the code, and explain?\n",
    "```\n",
    ">>> X = 'iNeuron'\n",
    ">>> def func():\n",
    "print(X)\n",
    ">>> func()\n",
    "```\n",
    "> * The result of the code is: __iNeuron__.\n",
    "> * first defines a variable X and assigns it the value iNeuron. Then, it defines a function func() that prints the value of X. After, it calls the function func(). When the func() is called, it prints the value of X, which is iNeuron."
   ]
  },
  {
   "cell_type": "markdown",
   "id": "a442023b",
   "metadata": {},
   "source": [
    "### 2. What is the result of the code, and explain?\n",
    "```\n",
    ">>> X = 'iNeuron'\n",
    ">>> def func():\n",
    "X = 'NI!'\n",
    ">>> func()\n",
    ">>> print(X)\n",
    "```\n",
    "> * The result of the code is: __iNeuron__.\n",
    "> * because the value of X is not changed in the global scope. The function func() changes the value of X in its own local scope, but this change is not reflected in the global scope."
   ]
  },
  {
   "cell_type": "markdown",
   "id": "7f9f01d6",
   "metadata": {},
   "source": [
    "### 3. What does this code print, and why?\n",
    "```\n",
    ">>> X = 'iNeuron'\n",
    ">>> def func():\n",
    "X = 'NI'\n",
    "print(X)\n",
    ">>> func()\n",
    ">>> print(X)\n",
    "```\n",
    "> * The above code prints __NI__ and then __iNeuron__.\n",
    "> * The __first print()__ statement prints the value of X in the local scope of the function, which is NI. <br> \n",
    "The __second print()__ statement prints the value of X in the global scope, which is still iNeuron."
   ]
  },
  {
   "cell_type": "markdown",
   "id": "35c30f07",
   "metadata": {},
   "source": [
    "### 4. What output does this code produce? Why?\n",
    "```\n",
    ">>> X = 'iNeuron'\n",
    ">>> def func():\n",
    "global X\n",
    "X = 'NI'\n",
    ">>> func()\n",
    ">>> print(X)\n",
    "```\n",
    "> * The output of the code is __NI__ because the value of X is changed to NI in the function func() and the __global keyword__ tells Python that the change is reflected in the global scope."
   ]
  },
  {
   "cell_type": "markdown",
   "id": "4ac49a92",
   "metadata": {},
   "source": [
    "### 5. What about this code—what’s the output, and why?\n",
    "```\n",
    ">>> X = 'iNeuron'\n",
    ">>> def func():\n",
    "X = 'NI'\n",
    "def nested():\n",
    "print(X)\n",
    "nested()\n",
    ">>> func()\n",
    ">>> X\n",
    "```\n",
    "> * The above code prints __NI__ and then __iNeuron__.\n",
    "> * the value of X is not changed in the global scope is because the nested function nested() has its own local scope. The changes made to X in the local scope of the function func() do not affect the value of X in the global scope."
   ]
  },
  {
   "cell_type": "markdown",
   "id": "d4e602e5",
   "metadata": {},
   "source": [
    "### 6. How about this code: what is its output in Python 3, and explain?\n",
    "```\n",
    ">>> def func():\n",
    "X = 'NI'\n",
    "def nested():\n",
    "nonlocal X\n",
    "X = 'Spam'\n",
    "nested()\n",
    "print(X)\n",
    ">>> func()\n",
    "```\n",
    "> * The code will print __Spam__. It is because the value of X is changed to Spam in the nested function and the nonlocal keyword tells Python that the change is reflected in the outer scope."
   ]
  },
  {
   "cell_type": "markdown",
   "id": "546eda74",
   "metadata": {},
   "source": []
  }
 ],
 "metadata": {
  "kernelspec": {
   "display_name": "Python 3 (ipykernel)",
   "language": "python",
   "name": "python3"
  },
  "language_info": {
   "codemirror_mode": {
    "name": "ipython",
    "version": 3
   },
   "file_extension": ".py",
   "mimetype": "text/x-python",
   "name": "python",
   "nbconvert_exporter": "python",
   "pygments_lexer": "ipython3",
   "version": "3.11.3"
  }
 },
 "nbformat": 4,
 "nbformat_minor": 5
}
