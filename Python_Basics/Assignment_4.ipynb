{
 "cells": [
  {
   "cell_type": "markdown",
   "id": "b4d3801d",
   "metadata": {},
   "source": [
    "### 1. What exactly is []?\n",
    "\n",
    "> + It is square brackets [] that are used to define lists. A list is a collection of data that is ordered and can be accessed by index."
   ]
  },
  {
   "cell_type": "markdown",
   "id": "71a6dd54",
   "metadata": {},
   "source": [
    "### 2. In a list of values stored in a variable called spam, how would you assign the value 'hello' as the third value? (Assume [2, 4, 6, 8, 10] are in spam.)\n",
    "\n",
    "> + spam[2] = 'hello'"
   ]
  },
  {
   "cell_type": "markdown",
   "id": "c813f33a",
   "metadata": {},
   "source": [
    "Let's pretend the spam includes the list ['a', 'b', 'c', 'd'] for the next three queries. <br>\n",
    "### 3. What is the value of spam[int(int('3' * 2) / 11)]?\n",
    "\n",
    "> + The value of spam[int(int('3' * 2) / 11)] is 'd'."
   ]
  },
  {
   "cell_type": "markdown",
   "id": "f0164768",
   "metadata": {},
   "source": [
    "### 4. What is the value of spam[-1]?\n",
    "\n",
    "> + the value of spam[-1] is \"d\"."
   ]
  },
  {
   "cell_type": "markdown",
   "id": "00b63885",
   "metadata": {},
   "source": [
    "### 5. What is the value of spam[:2]?\n",
    "\n",
    "> + the value of spam[:2] : 'a',  'b'"
   ]
  },
  {
   "cell_type": "markdown",
   "id": "492c35d8",
   "metadata": {},
   "source": [
    "Let's pretend bacon has the list [3.14, 'cat,' 11, 'cat,' True] for the next three questions. <br>\n",
    "### 6. What is the value of bacon.index('cat')?\n",
    "\n",
    "> + the value of bacon.index('cat') is 1."
   ]
  },
  {
   "cell_type": "markdown",
   "id": "f628c682",
   "metadata": {},
   "source": [
    "### 7. How does bacon.append(99) change the look of the list value in bacon?\n",
    "\n",
    "> + bacon.append(99) will add \"99\" at the end of the list. :  [3.14, 'cat', 11, 'cat',  True, 99] "
   ]
  },
  {
   "cell_type": "markdown",
   "id": "30d2cd4d",
   "metadata": {},
   "source": [
    "### 8. How does bacon.remove('cat') change the look of the list in bacon?\n",
    "\n",
    "> + after bacon.remove('cat'), the list will look like: [3.14, 11, 'cat', True, 99]"
   ]
  },
  {
   "cell_type": "markdown",
   "id": "b7f24905",
   "metadata": {},
   "source": [
    "### 9. What are the list concatenation and list replication operators?\n",
    "\n",
    "> + List Concatenation Operator: (+)   eg. concatenated_list = list1 + list2 <br>\n",
    "> + List Replication Operator: (*)     eg. replicated_list = list1 * 3\n",
    "                                                                                "
   ]
  },
  {
   "cell_type": "markdown",
   "id": "bff8d0fd",
   "metadata": {},
   "source": [
    "### 10. What is difference between the list methods append() and insert()?\n",
    "\n",
    "> + The append() method adds an element to the end of a list, <br>\n",
    "> + while the insert() method adds an element to a specific index in a list"
   ]
  },
  {
   "cell_type": "markdown",
   "id": "646c1ccf",
   "metadata": {},
   "source": [
    "### 11. What are the two methods for removing items from a list?\n",
    "\n",
    "> + The pop() method is used to delete an item from a list by its index, and it also returns the deleted item. eg. deleted_item = spam.pop(1)\n",
    "> + The del statement is used to delete an item from a list by its index. eg. del spam[1]"
   ]
  },
  {
   "cell_type": "markdown",
   "id": "63e28eb2",
   "metadata": {},
   "source": [
    "### 12. Describe how list values and string values are identical.\n",
    "\n",
    "> List values and string values are identical in the following ways:\n",
    "> * They are both ordered\n",
    "> * They can be indexed\n",
    "> * They can be sliced\n",
    "> * They can be iterated over"
   ]
  },
  {
   "cell_type": "markdown",
   "id": "036055a8",
   "metadata": {},
   "source": [
    "### 13. What's the difference between tuples and lists?\n",
    "\n",
    "> some key differences between tuples and lists are as follows:\n",
    "> * Immutability: Tuples are immutable, which means that they cannot be changed after they have been created. Lists are mutable, which means that they can be changed after they have been created.<br>\n",
    "> * Speed: Tuples are generally faster than lists, because they are immutable.<br>\n",
    "> * Syntax: Tuples are defined using parentheses, while lists are defined using square brackets.\n"
   ]
  },
  {
   "cell_type": "markdown",
   "id": "003b8988",
   "metadata": {},
   "source": [
    "### 14. How do you type a tuple value that only contains the integer 42?\n",
    "\n",
    "> + tuple_value = (42,)"
   ]
  },
  {
   "cell_type": "markdown",
   "id": "e21d3adb",
   "metadata": {},
   "source": [
    "### 15. How do you get a list value's tuple form? How do you get a tuple value's list form?\n",
    "\n",
    "> + To get a list value's tuple form, you can use the tuple() function. The tuple() function takes a list as an argument and returns a tuple that contains the elements of the list.\n",
    ">```\n",
    "my_list = [1, 2, 3, 4, 5]\n",
    "tuple_value = tuple(my_list)\n",
    "print(tuple_value)\n",
    "```"
   ]
  },
  {
   "cell_type": "markdown",
   "id": "9585e31f",
   "metadata": {},
   "source": [
    "### 16. Variables that \"contain\" list values are not necessarily lists themselves. Instead, what do they contain?\n",
    "\n",
    "> + Instead, they contain references to lists. A reference is a pointer to the location of the list in memory. When you assign a list to a variable, Python creates a reference to the list and stores the reference in the variable."
   ]
  },
  {
   "cell_type": "markdown",
   "id": "1196fd4a",
   "metadata": {},
   "source": [
    "### 17. How do you distinguish between copy.copy() and copy.deepcopy()?\n",
    "\n",
    "> The copy.copy() and copy.deepcopy() functions in Python are used to create copies of objects.\n",
    "> + A shallow copy creates a new object that contains the same references to the data as the original object. This means that if you change the data in the original object, the changes will be reflected in the copy.\n",
    "> + A deep copy creates a new object that contains new references to the data. This means that if you change the data in the original object, the changes will not be reflected in the copy.\n",
    "\n",
    "> Example\n",
    "```\n",
    "my_list = [1, 2, 3]\n",
    "my_copy = copy.copy(my_list)\n",
    "my_deepcopy = copy.deepcopy(my_list)\n",
    "my_list.append(4)\n",
    "print(my_copy)\n",
    "print(my_deepcopy)\n",
    "```"
   ]
  },
  {
   "cell_type": "code",
   "execution_count": null,
   "id": "2cc2f0da",
   "metadata": {},
   "outputs": [],
   "source": []
  }
 ],
 "metadata": {
  "kernelspec": {
   "display_name": "Python 3 (ipykernel)",
   "language": "python",
   "name": "python3"
  },
  "language_info": {
   "codemirror_mode": {
    "name": "ipython",
    "version": 3
   },
   "file_extension": ".py",
   "mimetype": "text/x-python",
   "name": "python",
   "nbconvert_exporter": "python",
   "pygments_lexer": "ipython3",
   "version": "3.11.2"
  }
 },
 "nbformat": 4,
 "nbformat_minor": 5
}
