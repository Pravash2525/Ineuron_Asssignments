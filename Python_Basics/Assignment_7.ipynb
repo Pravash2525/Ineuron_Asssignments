{
 "cells": [
  {
   "cell_type": "markdown",
   "id": "3dc465e5",
   "metadata": {},
   "source": [
    "<h1> <u> <font color= green > Assignment_7 </font> </u> </h1>"
   ]
  },
  {
   "cell_type": "markdown",
   "id": "1ed2c0c4",
   "metadata": {},
   "source": [
    "### 1. What is the name of the feature responsible for generating Regex objects?\n",
    "\n",
    "> The feature responsible for generating Regex objects is the re module that provides a number of functions for working with regular expressions. <br>\n",
    "The compile() function takes a regular expression as input and returns a Regex object."
   ]
  },
  {
   "cell_type": "markdown",
   "id": "5da91c66",
   "metadata": {},
   "source": [
    "### 2. Why do raw strings often appear in Regex objects?\n",
    "\n",
    "> because they allow you to use special characters without having to escape them. Example, r\"\\d+\" matches any string that consists of one or more digits. The r prefix tells Python that the string is a raw string. "
   ]
  },
  {
   "cell_type": "markdown",
   "id": "80bb78e0",
   "metadata": {},
   "source": [
    "### 3. What is the return value of the search() method?\n",
    "\n",
    "> The return value of the search() method is __Match object__ if a match is found, and __None__ if no match is found. \n",
    "> The match object gives the start and end positions of the match, and the matched string."
   ]
  },
  {
   "cell_type": "markdown",
   "id": "2badf332",
   "metadata": {},
   "source": [
    "### 4. From a Match item, how do you get the actual strings that match the pattern?\n",
    "\n",
    "> To get the actual strings that match the pattern from a Match item, we can use the group() method. The group() method returns the matched string.\n",
    "> ```\n",
    "import re\n",
    "regex = re.compile(r\"\\d+\")\n",
    "match = regex.search(string)\n",
    "if match:\n",
    "    print(match.group())\n",
    "else:\n",
    "    print(\"No match\")\n",
    "```"
   ]
  },
  {
   "cell_type": "markdown",
   "id": "f85b3b58",
   "metadata": {},
   "source": [
    "### 5. In the regex which created from the r'(\\d\\d\\d)-(\\d\\d\\d-\\d\\d\\d\\d)', what does group zero cover? Group 2? Group 1?\n",
    "\n",
    "> Group 0 covers the entire match. <br>\n",
    "  Group 1 covers the first group of digits, which is the three-digit phone number.  <br>\n",
    "  Group 2 covers the second group of digits, which is the seven-digit phone number."
   ]
  },
  {
   "cell_type": "markdown",
   "id": "d93ed3e7",
   "metadata": {},
   "source": [
    "###  6. In standard expression syntax, parentheses and intervals have distinct meanings. How can you tell a regex that you want it to fit real parentheses and periods?\n",
    "\n",
    "> Parentheses are used to group characters together, while periods are used to match any character. <br>\n",
    " To tell a regex that we want to fit real parentheses and periods, we can use the \\ escape character which tells the regex that the parentheses are literal characters, not special characters."
   ]
  },
  {
   "cell_type": "markdown",
   "id": "7cb6d7f1",
   "metadata": {},
   "source": [
    "### 7. The findall() method returns a string list or a list of string tuples. What causes it to return one of the two options?\n",
    "\n",
    "> The findall() method returns a list of strings or a list of string tuples, depending on whether the regular expression contains any capturing groups. <br>\n",
    "If the regular expression does not contain any capturing groups, then the findall() method will return a list of strings.<br>\n",
    "If the regular expression contains capturing groups, then the findall() method will return a list of string tuples, where each tuple contains the matched string and the captured groups.\n",
    ">```\n",
    "regex = re.compile(r\"\\d+\")     # will return a list of strings.\n",
    "regex = re.compile(r\"(\\d+)-(\\d+)\")   # will return a list of string tuples.\n",
    "```"
   ]
  },
  {
   "cell_type": "markdown",
   "id": "0c4653cb",
   "metadata": {},
   "source": [
    "### 8. In standard expressions, what does the | character mean?\n",
    "\n",
    "> '|' character is used to represent the OR operator, and useful in matching multiple patterns in regular expression."
   ]
  },
  {
   "cell_type": "markdown",
   "id": "71c30e10",
   "metadata": {},
   "source": [
    "### 9. In regular expressions, what does the * character stand for?\n",
    "\n",
    "> the * character stands for zero or more repetitions of the preceding character.\n"
   ]
  },
  {
   "cell_type": "markdown",
   "id": "803f54c2",
   "metadata": {},
   "source": [
    "### 10.In regular expressions, what is the difference between the + and * characters?\n",
    "\n",
    "> * The * character matches zero or more repetitions of the preceding character. <br>\n",
    "> * The + character matches one or more repetitions of the preceding character."
   ]
  },
  {
   "cell_type": "markdown",
   "id": "cf78c99c",
   "metadata": {},
   "source": [
    "### 11. What is the difference between {4} and {4,5} in regular expression?\n",
    "\n",
    "> * {4} matches exactly 4 occurrences of the preceding character, \n",
    "> * while {4,5} matches 4 or 5 occurrences of the preceding character."
   ]
  },
  {
   "cell_type": "markdown",
   "id": "8b05e5e6",
   "metadata": {},
   "source": [
    "### 12. What do you mean by the \\d, \\w, and \\s shorthand character classes signify in regular expressions?\n",
    "\n",
    "> * \\d matches any digit character.\n",
    "> * \\w matches any word character. Word characters include letters, digits, and underscores.\n",
    "> * \\s matches any whitespace character. Whitespace characters include spaces, tabs, newlines, and carriage returns.\n"
   ]
  },
  {
   "cell_type": "markdown",
   "id": "8a7bec27",
   "metadata": {},
   "source": [
    "### 13. What do means by \\D, \\W, and \\S shorthand character classes signify in regular expressions?\n",
    "\n",
    "> * \\D matches any character that is not a digit.\n",
    "> * \\W matches any character that is not a word character. Word characters include letters, digits, and underscores.\n",
    "> * \\S matches any character that is not a whitespace character. Whitespace characters include spaces, tabs, newlines, and carriage returns.\n"
   ]
  },
  {
   "cell_type": "raw",
   "id": "4b2dc67d",
   "metadata": {},
   "source": [
    "### 14. What is the difference between .*? and .*?\n",
    "\n",
    "=>  .*? is a non-greedy quantifier, while .* is a greedy quantifier.\n",
    "=>  A greedy quantifier will match as many occurrences of the preceding character as possible, \n",
    "    while a non-greedy quantifier will match as few occurrences of the preceding character as possible."
   ]
  },
  {
   "cell_type": "markdown",
   "id": "78a238f3",
   "metadata": {},
   "source": [
    "### 15. What is the syntax for matching both numbers and lowercase letters with a character class?\n",
    "\n",
    "> The \\w character class matches any word character, which includes letters, digits, and underscores. <br>\n",
    "> syntax: ___r\"\\w+\\d+\\w+\"___"
   ]
  },
  {
   "cell_type": "markdown",
   "id": "b6fd07f7",
   "metadata": {},
   "source": [
    "### 16. What is the procedure for making a normal expression in regax case insensitive?\n",
    "\n",
    "> To make a regular expression case insensitive in Python, you can use the re.IGNORECASE flag. <br>\n",
    "> ```\n",
    "regex = re.compile(r\"hello\", re.IGNORECASE)\n",
    "match = regex.search(\"Hello\")\n",
    "```"
   ]
  },
  {
   "cell_type": "markdown",
   "id": "1ac6b27e",
   "metadata": {},
   "source": [
    "### 17. What does the . character normally match? What does it match if re.DOTALL is passed as 2nd argument in re.compile()?\n",
    "\n",
    "> The . character normally matches any single character, except for a newline character. r\".\" will match any string, including empty strings.<br>\n",
    "> if the re.DOTALL flag is passed as the second argument to the re.compile() function, then the . character will match any character, including newline characters. "
   ]
  },
  {
   "cell_type": "markdown",
   "id": "b98d4246",
   "metadata": {},
   "source": [
    "### 18. If numReg = re.compile(r'\\d+'), what will numRegex.sub('X', '11 drummers, 10 pipers, five rings, 4 hen') return? \n",
    "\n",
    "> It will return: __X drummers, X pipers, five rings, X hen__\n",
    "> ```\n",
    "import re\n",
    "numReg = re.compile(r'\\d+')\n",
    "result = numReg.sub('X', '11 drummers, 10 pipers, five rings, 4 hen')\n",
    "print(result)\n",
    "```"
   ]
  },
  {
   "cell_type": "markdown",
   "id": "979a5672",
   "metadata": {},
   "source": [
    "### 19. What does passing re.VERBOSE as the 2nd argument to re.compile() allow to do?\n",
    "\n",
    "> The re.VERBOSE flag, when passed as the second argument to the re.compile() function, allows you to write more verbose regular expressions. This means that we can use whitespace and comments in our regular expressions without affecting their meaning.\n",
    "> ```\n",
    "import re\n",
    "regex = re.compile(r\"this(  this is a comment )?verbose\", re.VERBOSE)\n",
    "match = regex.search(\"this verbose\")\n",
    "if match:\n",
    "    print(\"The match is:\", match.group())\n",
    "else:\n",
    "    print(\"No match\")\n",
    "```"
   ]
  },
  {
   "cell_type": "markdown",
   "id": "f3c585a1",
   "metadata": {},
   "source": [
    "### 20. How would you write a regex that match a number with comma for every three digits? It must match the given following:\n",
    "\n",
    "    '42'\n",
    "    '1,234'\n",
    "    '6,368,745'\n",
    "\n",
    "> regex = re.compile(r'\\d{1,3}(?:,\\d{3})*')"
   ]
  },
  {
   "cell_type": "code",
   "execution_count": null,
   "id": "2951af7b",
   "metadata": {},
   "outputs": [],
   "source": []
  }
 ],
 "metadata": {
  "kernelspec": {
   "display_name": "Python 3 (ipykernel)",
   "language": "python",
   "name": "python3"
  },
  "language_info": {
   "codemirror_mode": {
    "name": "ipython",
    "version": 3
   },
   "file_extension": ".py",
   "mimetype": "text/x-python",
   "name": "python",
   "nbconvert_exporter": "python",
   "pygments_lexer": "ipython3",
   "version": "3.11.2"
  }
 },
 "nbformat": 4,
 "nbformat_minor": 5
}
