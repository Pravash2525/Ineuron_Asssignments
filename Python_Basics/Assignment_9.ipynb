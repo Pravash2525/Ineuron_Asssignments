{
 "cells": [
  {
   "cell_type": "markdown",
   "id": "b892d819",
   "metadata": {},
   "source": [
    "<h1> <u> <font color= green > Assignment_9 </font> </u> </h1>"
   ]
  },
  {
   "cell_type": "markdown",
   "id": "9cee7bff",
   "metadata": {},
   "source": [
    "### 1. To what does a relative path refer?\n",
    "\n",
    "> ___Relative paths___ allow us to specify the location of a file or directory without having to know the absolute path. This can be useful when you are working on a project that is being developed on multiple computers, as the relative paths will be the same on all computers.\n",
    "\n",
    "> For example, if the current working directory is /home/user/projects, then the relative path ./file.txt refers to the file file.txt in the current directory. The relative path ../file.txt refers to the file file.txt in the parent directory."
   ]
  },
  {
   "cell_type": "markdown",
   "id": "0b3aebd8",
   "metadata": {},
   "source": [
    "### 2. What does an absolute path start with your operating system?\n",
    "\n",
    "> The absolute path of a file or directory starts with the root directory, which is typically represented by a forward slash (/). \n",
    "\n",
    "> Here are some examples of absolute paths on different operating systems: <br>\n",
    ">>    * Linux: /home/user/file.txt <br>\n",
    ">>    * Windows: C:\\Users\\user\\file.txt <br>\n",
    ">>    * macOS: /Users/user/file.txt\n"
   ]
  },
  {
   "cell_type": "markdown",
   "id": "27d85573",
   "metadata": {},
   "source": [
    "### 3. What do the functions os.getcwd() and os.chdir() do?\n",
    "\n",
    ">   * The __os.getcwd()__ function returns the current working directory, \n",
    ">   * The __os.chdir()__ function changes the current working directory.\n",
    "```\n",
    "import os\n",
    "current_directory = os.getcwd()\n",
    "print(current_directory)\n",
    "os.chdir('/home/user')\n",
    "new_directory = os.getcwd()\n",
    "print(new_directory)\n",
    "```"
   ]
  },
  {
   "cell_type": "markdown",
   "id": "752ee1e3",
   "metadata": {},
   "source": [
    "### 4. What are the . and .. folders?\n",
    "\n",
    "> The __.__ folder refers to the current directory,   while the __..__ folder used to navigate back to the parent directory.\n",
    "\n",
    "> __For example__, if you are currently in the directory /home/user/projects, then the . folder would refer to the /home/user/projects directory, while the .. folder would refer to the /home/user directory."
   ]
  },
  {
   "cell_type": "markdown",
   "id": "449952a6",
   "metadata": {},
   "source": [
    "### 5. In C:\\bacon\\eggs\\spam.txt, which part is the dir name, and which part is the base name?\n",
    "\n",
    "> In the path ___C:\\bacon\\eggs\\spam.txt___, the dir name is bacon\\eggs and the base name is spam.txt. <br>\n",
    "> The __dir name__ is the part of the path that specifies the directory or directories that the file is located in. In this case, the file spam.txt is located in the bacon\\eggs directory. <br>\n",
    "> The __base name__ is the part of the path that specifies the name of the file. In this case, the file is named spam.txt. <br>\n",
    "> The dir name and base name are separated by a backslash (\\) on Windows and a forward slash (/) on Unix-based systems. <br>\n",
    "> The dir name is everything from the root directory (C:/) to the parent directory (bacon\\eggs)."
   ]
  },
  {
   "cell_type": "markdown",
   "id": "e03cecd4",
   "metadata": {},
   "source": [
    "### 6. What are the three “mode” arguments that can be passed to the open() function?\n",
    "\n",
    "> The three “mode” arguments that can be passed to the open() function in Python are:\n",
    ">>    r for reading <br>\n",
    ">>    w for writing <br>\n",
    ">>    a for appending \n"
   ]
  },
  {
   "cell_type": "markdown",
   "id": "e8c7af2c",
   "metadata": {},
   "source": [
    "### 7. What happens if an existing file is opened in write mode?\n",
    "\n",
    "> If an existing file is opened in write mode, the existing contents of the file will be overwritten. This is because the w mode opens the file for writing only, and if the file already exists, it will be overwritten."
   ]
  },
  {
   "cell_type": "markdown",
   "id": "4ab8503e",
   "metadata": {},
   "source": [
    "### 8. How do you tell the difference between read() and readlines()?\n",
    "\n",
    "> The __read()__ method reads the entire contents of the file into a single string. <br>\n",
    "> The __readlines()__ method reads the contents of the file line by line and returns a list of strings."
   ]
  },
  {
   "cell_type": "markdown",
   "id": "142676ff",
   "metadata": {},
   "source": [
    "### 9. What data structure does a shelf value resemble?\n",
    "\n",
    "> A __shelf value resembles__ a dictionary value. It has keys and values, along with keys() and values() methods that work similarly to the dictionary methods of the same names. <br>\n",
    "> In addition, a shelf value can also contain nested shelves, which means that it can be used to represent a hierarchical data structure.\n",
    "```\n",
    "shelf_value = {\n",
    "    'key1': 'value1',\n",
    "    'key2': 'value2',\n",
    "    'nested_shelf': {\n",
    "        'key1': 'value1',\n",
    "        'key2': 'value2',\n",
    "    },\n",
    "}\n",
    "```"
   ]
  },
  {
   "cell_type": "code",
   "execution_count": null,
   "id": "27c10a3d",
   "metadata": {},
   "outputs": [],
   "source": []
  }
 ],
 "metadata": {
  "kernelspec": {
   "display_name": "Python 3 (ipykernel)",
   "language": "python",
   "name": "python3"
  },
  "language_info": {
   "codemirror_mode": {
    "name": "ipython",
    "version": 3
   },
   "file_extension": ".py",
   "mimetype": "text/x-python",
   "name": "python",
   "nbconvert_exporter": "python",
   "pygments_lexer": "ipython3",
   "version": "3.11.2"
  }
 },
 "nbformat": 4,
 "nbformat_minor": 5
}
