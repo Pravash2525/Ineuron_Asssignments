{
 "cells": [
  {
   "cell_type": "markdown",
   "id": "39debf51",
   "metadata": {},
   "source": [
    "<h1> <u> <font color= green > Assignment_6 </font> </u> </h1>"
   ]
  },
  {
   "cell_type": "markdown",
   "id": "d762a1d3",
   "metadata": {},
   "source": [
    "### 1. What are escape characters, and how do you use them?\n",
    "\n",
    "> * Escape characters are special characters that are used in Python strings to represent certain non-printing characters \n",
    "> Here are some common escape characters:\n",
    "\n",
    "    \\n : Newline character\n",
    "    \\t : Tab character\n",
    "    \\r : Carriage return character\n",
    "    \\b : Backspace character\n",
    "    \\ : Backslash character\n",
    "    ' : Single quote character\n",
    "    \" : Double quote character\n",
    "> To use an escape character, use the backslash \"\\\" followed by the escape character.  eg. \"Hello,\\tworld!\\n\""
   ]
  },
  {
   "cell_type": "markdown",
   "id": "5480165b",
   "metadata": {},
   "source": [
    "### 2. What do the escape characters n and t stand for?\n",
    "\n",
    "> n stands for new line and\n",
    "t stands for tab"
   ]
  },
  {
   "cell_type": "markdown",
   "id": "af1eda9c",
   "metadata": {},
   "source": [
    "### 3. What is the way to include backslash characters in a string?\n",
    "\n",
    "> to include backslash character, we use double backslash \"\\\\\""
   ]
  },
  {
   "cell_type": "markdown",
   "id": "5f68bdcc",
   "metadata": {},
   "source": [
    "### 4. The string \"Howl's Moving Castle\" is a correct value. Why isn't the single quote character in the word Howl's not escaped a problem?\n",
    "\n",
    "> we know that strings can be enclosed in either single or double quotes. If a string is enclosed in double quotes, then single quotes do not need to be escaped. The word \"Howl's\" has single quotes does not being used to mark the end of the string. "
   ]
  },
  {
   "cell_type": "markdown",
   "id": "d673487f",
   "metadata": {},
   "source": [
    "### 5. How do you write a string of newlines if you don't want to use the n character?\n",
    "\n",
    "> if you want to write a s tring of newlines, we can use print statement with parameter: end=\" \"\n",
    "```\n",
    "print(\"This is a string of newlines.\", end=\"\")\n",
    "print(\"This is another newline.\")\n",
    "```"
   ]
  },
  {
   "cell_type": "markdown",
   "id": "cb386517",
   "metadata": {},
   "source": [
    "### 6. What are the values of the given expressions?\n",
    "> * 'Hello, world!'[1]  => 'e'\n",
    "> * 'Hello, world!'[0:5]  => 'Hello'\n",
    "> * 'Hello, world!'[:5]  => 'Hello'\n",
    "> * 'Hello, world!'[3:]   => 'lo, world!'"
   ]
  },
  {
   "cell_type": "markdown",
   "id": "c395759a",
   "metadata": {},
   "source": [
    "### 7. What are the values of the following expressions?\n",
    "> * 'Hello'.upper()   => 'HELLO'\n",
    "> * 'Hello'.upper().isupper()  => True\n",
    "> * 'Hello'.upper().lower()   => 'hello'"
   ]
  },
  {
   "cell_type": "markdown",
   "id": "5cbf6972",
   "metadata": {},
   "source": [
    "### 8. What are the values of the following expressions?\n",
    "\n",
    "> * 'Remember, remember, the fifth of July.'.split()  => ['Remember,', 'remember,', 'the', 'fifth', 'of', 'July.']\n",
    "> * '-'.join('There can only one.'.split())  =>  'There-can-only-one.'"
   ]
  },
  {
   "cell_type": "markdown",
   "id": "62f52c21",
   "metadata": {},
   "source": [
    "### 9. What are the methods for right-justifying, left-justifying, and centering a string?\n",
    "\n",
    "> The rjust(), ljust(), and center() methods all take two arguments: the string to be justified, and the width of the field\n",
    "> * rjust() : Right-justifies a string in a field of width characters.\n",
    "> * ljust() : Left-justifies a string in a field of width characters.\n",
    "> * center() : Centers a string in a field of width characters."
   ]
  },
  {
   "cell_type": "markdown",
   "id": "11bfb5d9",
   "metadata": {},
   "source": [
    "### 10. What is the best way to remove whitespace characters from the start or end?\n",
    "\n",
    "> Using the strip() method removes all leading and trailing whitespace characters from a string."
   ]
  },
  {
   "cell_type": "code",
   "execution_count": null,
   "id": "4e11e3ef",
   "metadata": {},
   "outputs": [],
   "source": []
  }
 ],
 "metadata": {
  "kernelspec": {
   "display_name": "Python 3 (ipykernel)",
   "language": "python",
   "name": "python3"
  },
  "language_info": {
   "codemirror_mode": {
    "name": "ipython",
    "version": 3
   },
   "file_extension": ".py",
   "mimetype": "text/x-python",
   "name": "python",
   "nbconvert_exporter": "python",
   "pygments_lexer": "ipython3",
   "version": "3.11.2"
  }
 },
 "nbformat": 4,
 "nbformat_minor": 5
}
