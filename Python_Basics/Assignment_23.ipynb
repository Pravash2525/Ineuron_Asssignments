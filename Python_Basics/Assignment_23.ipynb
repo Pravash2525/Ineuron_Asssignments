{
 "cells": [
  {
   "cell_type": "markdown",
   "id": "130dc62d",
   "metadata": {},
   "source": [
    "<h1> <u> <font color= green > Assignment_23 </font> </u> </h1>"
   ]
  },
  {
   "cell_type": "markdown",
   "id": "40b6ce4f",
   "metadata": {},
   "source": [
    "### 1. What is the result of the code, and why?\n",
    "```\n",
    ">>> def func(a, b=6, c=8):\n",
    "print(a, b, c)\n",
    ">>> func(1, 2)\n",
    "```\n",
    "> * The output of the code is __1 2 8__ is because the arguments 1 and 2 are passed to the function func() as the values of a and b, respectively. The default value of c is used because no third argument is passed to the function func() ."
   ]
  },
  {
   "cell_type": "markdown",
   "id": "722df67e",
   "metadata": {},
   "source": [
    "### 2. What is the result of this code, and why?\n",
    "```\n",
    ">>> def func(a, b, c=5):\n",
    "print(a, b, c)\n",
    ">>> func(1, c=3, b=2)\n",
    "```\n",
    "> * The output of the code is __1 2 3__ is because the arguments 1, 3, and 2 are passed to the function func() as the values of a, c, and b, respectively. "
   ]
  },
  {
   "cell_type": "markdown",
   "id": "41ba20f4",
   "metadata": {},
   "source": [
    "### 3. How about this code: what is its result, and why?\n",
    "```\n",
    ">>> def func(a, *pargs):\n",
    "print(a, pargs)\n",
    ">>> func(1, 2, 3)\n",
    "```\n",
    "> * The output of the code is __1 (2, 3)__ is because the arguments 2 and 3 are passed to the function func() as the elements of the tuple pargs. The print() statement then prints the values of a and pargs, which are 1 and (2, 3)."
   ]
  },
  {
   "cell_type": "markdown",
   "id": "5b8468f1",
   "metadata": {},
   "source": [
    "### 4. What does this code print, and why?\n",
    "```\n",
    ">>> def func(a, **kargs):\n",
    "print(a, kargs)\n",
    ">>> func(a=1, c=3, b=2)\n",
    "```\n",
    "> * The output of the code is __1 {'b': 2, 'c': 3}__ is because the keyword arguments c=3 and b=2 are passed to the function func() as the __key-value pairs__ of the dictionary kargs. The print() statement then prints the values of a and kargs, which are 1 and {'b': 2, 'c': 3}."
   ]
  },
  {
   "cell_type": "markdown",
   "id": "a740ec12",
   "metadata": {},
   "source": [
    "### 5. What gets printed by this, and explain?\n",
    "```\n",
    ">>> def func(a, b, c=8, d=5): \n",
    "print(a, b, c, d)\n",
    ">>> func(1, *(5, 6))\n",
    "```\n",
    "> * the output of the code is __1 5 8 6__ is because the arguments 5 and 6 are passed to the function func() as the elements of the tuple __*pargs__. "
   ]
  },
  {
   "cell_type": "markdown",
   "id": "a6079680",
   "metadata": {},
   "source": [
    "### 6. what is the result of this, and explain?\n",
    "```\n",
    ">>> def func(a, b, c): a = 2; b[0] = 'x'; c['a'] = 'y'\n",
    ">>> l=1; m=[1]; n={'a':0}\n",
    ">>> func(l, m, n)\n",
    ">>> l, m,n\n",
    "```\n",
    "> * The output of the code is __1, ['x'], {'a': 'y'}__ is because the changes made to a, b, and c in the function func() are not reflected in the global scope. The variables l, m, and n are defined in the global scope, so they are not affected by the changes made to a, b, and c in the function func()."
   ]
  },
  {
   "cell_type": "markdown",
   "id": "b6cbef7e",
   "metadata": {},
   "source": []
  }
 ],
 "metadata": {
  "kernelspec": {
   "display_name": "Python 3 (ipykernel)",
   "language": "python",
   "name": "python3"
  },
  "language_info": {
   "codemirror_mode": {
    "name": "ipython",
    "version": 3
   },
   "file_extension": ".py",
   "mimetype": "text/x-python",
   "name": "python",
   "nbconvert_exporter": "python",
   "pygments_lexer": "ipython3",
   "version": "3.11.3"
  }
 },
 "nbformat": 4,
 "nbformat_minor": 5
}
