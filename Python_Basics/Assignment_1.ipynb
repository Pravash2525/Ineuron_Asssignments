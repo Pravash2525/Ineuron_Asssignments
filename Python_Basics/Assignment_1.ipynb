{
 "cells": [
  {
   "cell_type": "markdown",
   "id": "e0ac4c6a",
   "metadata": {},
   "source": [
    "## 1. In the below elements which of them are values or an expression? \n",
    "eg:- values can be integer or string and expressions will be mathematical operators.\n",
    "\n",
    "> <b>values</b> => 'hello', -87.8, 6  <br>\n",
    "> __expression__ => *, -, /, +\n"
   ]
  },
  {
   "cell_type": "markdown",
   "id": "9661c520",
   "metadata": {},
   "source": [
    "## 2. What is the difference between string and variable?\n",
    "\n",
    "> __variable__ => it is a container that use to hold the values of different data types. <br>\n",
    "> __string__ => it is a collection of sequence of characters that can hold only textual data types\n"
   ]
  },
  {
   "cell_type": "markdown",
   "id": "09f14247",
   "metadata": {},
   "source": [
    "## 3. Describe three different data types. \n",
    "\n",
    "> Data types in Python refer to classifying or categorizing data objects based on their characteristics and behavior. <br>\n",
    "> 1. __Numeric Data Types__ => used to represent numerical values. (int, float, complex)\n",
    "    * Integer (int): Integers are whole numbers without any decimal points. eg. -707, 0, 707\n",
    "    * Floating-Point (float): Floating-point numbers represent decimal values. eg. 707.07, -0.7, 707.00\n",
    "    * Complex (complex): Complex numbers are used to represent numbers with a real and imaginary part. They are written in the form of a + bj,\n",
    "> 2. __Text Data Type (str)__ => Represents a sequence of characters enclosed in single quotes (‘ ‘) or double quotes (” “), such as “Hello, World!”, ‘Python’.\n",
    "> 3. __Boolean Data Type(bool)__ => it represents either __True__ or __False__, used for logical operations and conditions. \n",
    "> 4. __Collection Data Types:__ \n",
    "    * list: Represents an ordered and mutable collection of items, enclosed in square brackets ([]).\n",
    "    * tuple: Represents an ordered and immutable collection of items, enclosed in parentheses ().\n",
    "    * dict: Represents a collection of key-value pairs enclosed in curly braces ({}) with unique keys.\n",
    "    * set: Represents an unordered and mutable collection of unique elements, enclosed in curly braces ({}) or using the set() function.\n",
    "> 5. __Array__ => An array is a collection of items to store multiple items of the same type at contiguous memory locations. "
   ]
  },
  {
   "cell_type": "markdown",
   "id": "b532e542",
   "metadata": {},
   "source": [
    "## 4. What is an expression made up of? What do all expressions do?\n",
    "\n",
    "> An expression is a combination of operands and operators. <br>\n",
    "> Expression produces some value or result after being interpreted. <br> \n",
    "[Image link](https://media.geeksforgeeks.org/wp-content/uploads/20190801163131/What-is-an-Expression_-3.jpg)"
   ]
  },
  {
   "cell_type": "markdown",
   "id": "2cc5a33d",
   "metadata": {},
   "source": [
    "## 5. This assignment statements, like spam = 10. What is the difference between an expression and a statement?\n",
    "\n",
    "> * Expression in Python produces some result after being interpreted. It is evaluated for some results. An expression is not a statement. \n",
    "> * A statement is used for creating variables or for displaying values. It can't be evaluated. A statement can be an expression.<br>\n",
    "\n",
    "> Example <br>\n",
    "> x = 25          # a statement <br>\n",
    "> x = x + 10      # an expression <br>\n",
    "\n"
   ]
  },
  {
   "cell_type": "markdown",
   "id": "d22d89d3",
   "metadata": {},
   "source": [
    "## 6. After running the following code, what does the variable bacon contain?\n",
    "\n",
    "```\n",
    "bacon = 22\n",
    "bacon + 1\n",
    "```\n",
    "> Answer is 23"
   ]
  },
  {
   "cell_type": "markdown",
   "id": "8c6c1649",
   "metadata": {},
   "source": [
    "## 7. What should the values of the following two terms be?\n",
    "\n",
    "```\n",
    "'spam' + 'spamspam'\n",
    "'spam' * 3\n",
    "```\n",
    "> Answer is 'spamspamspam' "
   ]
  },
  {
   "cell_type": "markdown",
   "id": "3b8bee81",
   "metadata": {},
   "source": [
    "## 8. Why is eggs a valid variable name while 100 is invalid?\n",
    "\n",
    "> Because variable rule says that A variable name must start with a letter or the underscore character."
   ]
  },
  {
   "cell_type": "markdown",
   "id": "431c0f36",
   "metadata": {},
   "source": [
    "## 9. What three functions can be used to get the integer, floating-point number, or string version of a value?\n",
    "\n",
    "> The functions are \n",
    ">1. int() => to get integer\n",
    ">2. float() => to get floating-point number\n",
    ">3. str() => to get string value"
   ]
  },
  {
   "cell_type": "markdown",
   "id": "55876b60",
   "metadata": {},
   "source": [
    "## 10. Why does this expression cause an error? How can you fix it? \n",
    "'I have eaten ' + 99 + ' burritos.'\n",
    "\n",
    "> This expression causes error due to having to different data types. <br>\n",
    "> __Solution:__  =>  'I have eaten ' + str(99) + ' burritos.'\n"
   ]
  },
  {
   "cell_type": "code",
   "execution_count": null,
   "id": "803d38f6",
   "metadata": {},
   "outputs": [],
   "source": []
  },
  {
   "cell_type": "code",
   "execution_count": null,
   "id": "7fad74ea",
   "metadata": {},
   "outputs": [],
   "source": [
    "\n"
   ]
  }
 ],
 "metadata": {
  "kernelspec": {
   "display_name": "Python 3 (ipykernel)",
   "language": "python",
   "name": "python3"
  },
  "language_info": {
   "codemirror_mode": {
    "name": "ipython",
    "version": 3
   },
   "file_extension": ".py",
   "mimetype": "text/x-python",
   "name": "python",
   "nbconvert_exporter": "python",
   "pygments_lexer": "ipython3",
   "version": "3.11.2"
  }
 },
 "nbformat": 4,
 "nbformat_minor": 5
}
