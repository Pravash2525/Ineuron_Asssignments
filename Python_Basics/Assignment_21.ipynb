{
 "cells": [
  {
   "cell_type": "markdown",
   "id": "f79c2d04",
   "metadata": {},
   "source": [
    "<h1> <u> <font color= green > Assignment_21 </font> </u> </h1>"
   ]
  },
  {
   "cell_type": "markdown",
   "id": "cbb6976b",
   "metadata": {},
   "source": [
    "### 1. Add the current date to the text file today.txt as a string.\n",
    "\n",
    "```\n",
    "import datetime\n",
    "\n",
    "today = datetime.date.today()    # current date\n",
    "\n",
    "with open('today.txt', 'a') as f:\n",
    "    f.write(str(today))\n",
    "```"
   ]
  },
  {
   "cell_type": "markdown",
   "id": "651dccba",
   "metadata": {},
   "source": [
    "### 2. Read the text file today.txt into the string today_string\n",
    "\n",
    "```\n",
    "with open('today.txt', 'r') as f:\n",
    "    today_string = f.read()\n",
    "    print(today_string)\n",
    "```"
   ]
  },
  {
   "cell_type": "markdown",
   "id": "82065600",
   "metadata": {},
   "source": [
    "### 3. Parse the date from today_string.\n",
    "\n",
    "```\n",
    "import datetime\n",
    "from dateparser import parse\n",
    "\n",
    "today_date = parse(today_string)\n",
    "print(today_date)\n",
    "```"
   ]
  },
  {
   "cell_type": "markdown",
   "id": "3d28259e",
   "metadata": {},
   "source": [
    "### 4. List the files in your current directory\n",
    "\n",
    "```\n",
    "import os\n",
    "\n",
    "files = os.listdir()  # List the files in the current directory\n",
    "\n",
    "for file in files:\n",
    "    print(file)       # Print the files\n",
    "```"
   ]
  },
  {
   "cell_type": "markdown",
   "id": "1aa0ae19",
   "metadata": {},
   "source": [
    "### 5. Create a list of all of the files in your parent directory (minimum five files should be available).\n",
    "\n",
    "```\n",
    "import os\n",
    "\n",
    "parent_dir = os.path.dirname(os.getcwd())  # Get the parent directory\n",
    "files = os.listdir(parent_dir)             # List the files in the parent directory\n",
    "\n",
    "for file in files:\n",
    "    if len(files) <= 5:\n",
    "        break\n",
    "    else:\n",
    "        print(file)\n",
    "```"
   ]
  },
  {
   "cell_type": "markdown",
   "id": "a0f95144",
   "metadata": {},
   "source": [
    "### 6. Use multiprocessing to create three separate processes. Make each one wait a random number of seconds between one and five, print the current time, and then exit.\n",
    "\n",
    "```\n",
    "import random\n",
    "import time\n",
    "import multiprocessing\n",
    "\n",
    "def wait_and_print():\n",
    "    # Wait a random number of seconds between one and five\n",
    "    sleep_time = random.randint(1, 5)\n",
    "    time.sleep(sleep_time)\n",
    "\n",
    "    # Print the current time\n",
    "    print(time.ctime())\n",
    "\n",
    "# Create three processes\n",
    "processes = []\n",
    "for i in range(3):\n",
    "    process = multiprocessing.Process(target=wait_and_print)\n",
    "    processes.append(process)\n",
    "\n",
    "# Start the processes\n",
    "for process in processes:\n",
    "    process.start()\n",
    "\n",
    "# Wait for the processes to finish\n",
    "for process in processes:\n",
    "    process.join()\n",
    "```"
   ]
  },
  {
   "cell_type": "markdown",
   "id": "0bb36d01",
   "metadata": {},
   "source": [
    "### 7. Create a date object of your day of birth.\n",
    "\n",
    "```\n",
    "import datetime\n",
    "\n",
    "my_birthday = datetime.date(1998,7,14)\n",
    "print(my_birthday)\n",
    "```"
   ]
  },
  {
   "cell_type": "markdown",
   "id": "7b027b60",
   "metadata": {},
   "source": [
    "### 8. What day of the week was your day of birth?\n",
    "\n",
    "```\n",
    "import datetime\n",
    "\n",
    "my_birthday = datetime.date(1998,7,14)\n",
    "day_of_week = my_birthday.weekday()\n",
    "print(day_of_week)\n",
    "```\n",
    "> * here week-day satrt from monday with 0, tuesday with 1, ... , sunday with 6"
   ]
  },
  {
   "cell_type": "markdown",
   "id": "bf900a0e",
   "metadata": {},
   "source": [
    "### 9. When will you be (or when were you) 10,000 days old?\n",
    "\n",
    "```\n",
    "import datetime as dt\n",
    "\n",
    "my_birthday = dt.date(1998,7,14)\n",
    "will_be_10000_days_old = my_birthday + dt.timedelta(days=10000)\n",
    "\n",
    "print(\"I will be 10000 years old at:\", will_be_10000_days_old.strftime(\"%Y-%m-%d\"))\n",
    "\n",
    "```"
   ]
  },
  {
   "cell_type": "markdown",
   "id": "834c8805",
   "metadata": {},
   "source": []
  }
 ],
 "metadata": {
  "kernelspec": {
   "display_name": "Python 3 (ipykernel)",
   "language": "python",
   "name": "python3"
  },
  "language_info": {
   "codemirror_mode": {
    "name": "ipython",
    "version": 3
   },
   "file_extension": ".py",
   "mimetype": "text/x-python",
   "name": "python",
   "nbconvert_exporter": "python",
   "pygments_lexer": "ipython3",
   "version": "3.11.3"
  }
 },
 "nbformat": 4,
 "nbformat_minor": 5
}
