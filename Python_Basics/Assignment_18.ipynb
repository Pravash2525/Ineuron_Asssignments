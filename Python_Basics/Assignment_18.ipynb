{
 "cells": [
  {
   "cell_type": "markdown",
   "id": "969f761b",
   "metadata": {},
   "source": [
    "<h1> <u> <font color= green > Assignment_18 </font> </u> </h1>"
   ]
  },
  {
   "cell_type": "markdown",
   "id": "462872cc",
   "metadata": {},
   "source": [
    "### 1. Create a zoo.py file first. Define the hours() function, which prints the string 'Open 9-5 daily'. Then, use the interactive interpreter to import the zoo module and call its hours() function.\n",
    "\n",
    "> * lets create zoo.py file and creates hours() function, and then save it.\n",
    "```\n",
    "def hours():\n",
    "    print('Open 9-5 daily')\n",
    "```\n",
    "> * open the command line and run this command : __python zoo.py__\n",
    "> * now, import the __zoo__ module into the interactive interpreter and call the __hours()__ function as below:\n",
    "```\n",
    "import zoo\n",
    "zoo.hours()\n",
    "```"
   ]
  },
  {
   "cell_type": "markdown",
   "id": "4225b9b1",
   "metadata": {},
   "source": [
    "### 2. In the interactive interpreter, import the zoo module as menagerie and call its hours() function.\n",
    "\n",
    "```\n",
    "import zoo as menagerie\n",
    "\n",
    "menagerie.hours()\n",
    "```"
   ]
  },
  {
   "cell_type": "markdown",
   "id": "694e3bfd",
   "metadata": {},
   "source": [
    "### 3. Using the interpreter, explicitly import and call the hours() function from zoo.\n",
    "\n",
    "```\n",
    "import zoo\n",
    "\n",
    "hours = zoo.hours\n",
    "hours()\n",
    "```"
   ]
  },
  {
   "cell_type": "markdown",
   "id": "09e2498c",
   "metadata": {},
   "source": [
    "### 4. Import the hours() function as info and call it.\n",
    "\n",
    "```\n",
    "from zoo import hours as info\n",
    "\n",
    "info()\n",
    "```"
   ]
  },
  {
   "cell_type": "markdown",
   "id": "8869db17",
   "metadata": {},
   "source": [
    "### 5. Create a plain dictionary with the key-value pairs 'a': 1, 'b': 2, and 'c': 3, and print it out.\n",
    "\n",
    "```\n",
    "my_dict = {'a': 1, 'b': 2, 'c': 3}\n",
    "print(my_dict)\n",
    "```"
   ]
  },
  {
   "cell_type": "markdown",
   "id": "3e1c26c8",
   "metadata": {},
   "source": [
    "### 6. Make an OrderedDict called fancy from the same pairs listed in 5 and print it. Did it print in the same order as plain?\n",
    "\n",
    "> * The __fancy OrderedDict__ is a dictionary that preserves the order in which the key-value pairs were inserted. \n",
    "```\n",
    "from collections import OrderedDict\n",
    "\n",
    "fancy = OrderedDict({'a': 1, 'b': 2, 'c': 3})\n",
    "print(fancy)\n",
    "```\n",
    "> * No, the __fancy OrderedDict__ did not print in the same order as the plain dictionary. The __plain dictionary__ printed the key-value pairs in alphabetical order, while the __fancy OrderedDict__ printed the key-value pairs in the order in which they were inserted."
   ]
  },
  {
   "cell_type": "markdown",
   "id": "358d34ed",
   "metadata": {},
   "source": [
    "### 7. Make a default dictionary called dict_of_lists and pass it the argument list. Make the list dict_of_lists['a'] and append the value 'something for a' to it in one assignment. Print dict_of_lists['a'].\n",
    "\n",
    "```\n",
    "from collections import defaultdict\n",
    "\n",
    "dict_of_lists = defaultdict(list)\n",
    "dict_of_lists['a'].append('something for a')\n",
    "print(dict_of_lists['a'])\n",
    "```"
   ]
  }
 ],
 "metadata": {
  "kernelspec": {
   "display_name": "Python 3 (ipykernel)",
   "language": "python",
   "name": "python3"
  },
  "language_info": {
   "codemirror_mode": {
    "name": "ipython",
    "version": 3
   },
   "file_extension": ".py",
   "mimetype": "text/x-python",
   "name": "python",
   "nbconvert_exporter": "python",
   "pygments_lexer": "ipython3",
   "version": "3.11.3"
  }
 },
 "nbformat": 4,
 "nbformat_minor": 5
}
