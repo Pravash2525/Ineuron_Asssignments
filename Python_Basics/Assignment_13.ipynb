{
 "cells": [
  {
   "cell_type": "markdown",
   "id": "f79c2d04",
   "metadata": {},
   "source": [
    "<h1> <u> <font color= green > Assignment_13 </font> </u> </h1>"
   ]
  },
  {
   "cell_type": "markdown",
   "id": "9c38941c",
   "metadata": {},
   "source": [
    "### 1. What advantages do Excel spreadsheets have over CSV spreadsheets?\n",
    "\n",
    "> Excel spreadsheets have several advantages over CSV spreadsheets, including:\n",
    ">> * __More features__: Excel spreadsheets offer a wider range of features than CSV spreadsheets, including formulas, charts, macros, and pivot tables. These features can be used to analyze data in more complex ways.\n",
    ">> * __Ease of use__: Excel spreadsheets are generally easier to use than CSV spreadsheets. This is because Excel has a user-friendly interface and provides a number of wizards and templates that can help users create and format spreadsheets.\n",
    ">> * __Collaboration__: Excel spreadsheets are better suited for collaboration than CSV spreadsheets. This is because Excel spreadsheets can be shared and edited by multiple users simultaneously.\n",
    ">> * __Portability__: Excel spreadsheets are more portable than CSV spreadsheets. This is because Excel spreadsheets can be saved in a variety of formats, including .xlsx, .xls, and .csv.\n"
   ]
  },
  {
   "cell_type": "markdown",
   "id": "4720a40e",
   "metadata": {},
   "source": [
    "### 2. What do you pass to csv.reader() and csv.writer() to create reader and writer objects?\n",
    "\n",
    "> To create reader and writer objects, the following arguments are passed to csv.reader() and csv.writer():\n",
    "> * __csvfile__: This is a file object or a list of strings that contains the CSV data.\n",
    "> * __delimiter__: This is the character that separates the fields in the CSV data. The default delimiter is a comma (,).\n",
    "\n",
    "> __Example__\n",
    "```\n",
    "import csv\n",
    "\n",
    "with open('data.csv', 'r') as csvfile:\n",
    "    reader = csv.reader(csvfile, delimiter=',')\n",
    "    \n",
    "with open('output.csv', 'w') as csvfile:\n",
    "    writer = csv.writer(csvfile, delimiter=',')\n",
    "\n",
    "    writer.writerow(['Name', 'Age', 'Country'])\n",
    "    writer.writerow(['John Doe', 30, 'USA'])\n",
    "    writer.writerow(['Jane Doe', 25, 'Canada'])\n",
    "```\n"
   ]
  },
  {
   "cell_type": "markdown",
   "id": "15473092",
   "metadata": {},
   "source": [
    "### 3. What modes do File objects for reader and writer objects need to be opened in?\n",
    "\n",
    "> The file objects for reader and writer objects need to be opened in the following modes:\n",
    "> * __Reader object__: The file object for a reader object should be opened in read mode ('r').\n",
    "> * __Writer object__: The file object for a writer object can be opened in either read mode ('r') or write mode ('w'). If the file object is opened in read mode, the writer object will append the data to the file. If the file object is opened in write mode, the writer object will overwrite the file.\n"
   ]
  },
  {
   "cell_type": "markdown",
   "id": "98d4dbcd",
   "metadata": {},
   "source": [
    "### 4. What method takes a list argument and writes it to a CSV file?\n",
    "\n",
    "> The __csv.writer()__ method takes a list argument and writes it to a CSV file. The __writerow()__ method of the csv.writer() class takes a list as an argument and writes the list to the CSV file."
   ]
  },
  {
   "cell_type": "markdown",
   "id": "0eae60dc",
   "metadata": {},
   "source": [
    "### 5. What do the keyword arguments delimiter and line terminator do?\n",
    "\n",
    "> The delimiter and lineterminator keyword arguments are used to control the format of the CSV data that is read or written. <br>\n",
    "> * The __delimiter__ keyword argument specifies the character that is used to separate the fields in the CSV data. The default delimiter is a comma (,). <br>\n",
    "> * The __lineterminator__ keyword argument specifies the character that is used to terminate each row in the CSV data. The default line terminator is a newline (\\n).\n",
    "```\n",
    "import csv\n",
    "\n",
    "with open('data.csv', 'r') as csvfile:\n",
    "    reader = csv.reader(csvfile, delimiter=',', lineterminator='\\n')\n",
    "    for row in reader:\n",
    "        print(row)\n",
    "```"
   ]
  },
  {
   "cell_type": "markdown",
   "id": "e75b74db",
   "metadata": {},
   "source": [
    "### 6. What function takes a string of JSON data and returns a Python data structure?\n",
    "\n",
    "> The json.loads() function takes a string of JSON data and returns a Python data structure. It is used to parse JSON data and convert it into a Python data structure."
   ]
  },
  {
   "cell_type": "markdown",
   "id": "0982129d",
   "metadata": {},
   "source": [
    "## 7. What function takes a Python data structure and returns a string of JSON data?\n",
    "\n",
    "> The __son.dumps()__ function takes a Python data structure and returns a string of JSON data. It is used to serialize Python data structures into JSON format."
   ]
  }
 ],
 "metadata": {
  "kernelspec": {
   "display_name": "Python 3 (ipykernel)",
   "language": "python",
   "name": "python3"
  },
  "language_info": {
   "codemirror_mode": {
    "name": "ipython",
    "version": 3
   },
   "file_extension": ".py",
   "mimetype": "text/x-python",
   "name": "python",
   "nbconvert_exporter": "python",
   "pygments_lexer": "ipython3",
   "version": "3.11.3"
  }
 },
 "nbformat": 4,
 "nbformat_minor": 5
}
