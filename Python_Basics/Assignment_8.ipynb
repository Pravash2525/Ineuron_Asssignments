{
 "cells": [
  {
   "cell_type": "markdown",
   "id": "a93fe98e",
   "metadata": {},
   "source": [
    "<h1> <u> <font color= green > Assignment_8 </font> </u> </h1>"
   ]
  },
  {
   "cell_type": "markdown",
   "id": "15a6063b",
   "metadata": {},
   "source": [
    "### 1. Is the Python Standard Library included with PyInputPlus?\n",
    "\n",
    "> No, PyInputPlus is not included with the Python Standard Library. It is a third-party module that must be installed separately using Pip.\n",
    "> PyInputPlus is a module that provides additional features for taking user input, such as the ability to validate input and provide feedback to the user."
   ]
  },
  {
   "cell_type": "markdown",
   "id": "2de618c7",
   "metadata": {},
   "source": [
    "### 2. Why is PyInputPlus commonly imported with import pyinputplus as pypi?\n",
    "\n",
    "> Because pypi alias is a shorter and more convenient name to use."
   ]
  },
  {
   "cell_type": "markdown",
   "id": "aff84252",
   "metadata": {},
   "source": [
    "### 3. How do you distinguish between inputInt() and inputFloat()?\n",
    "\n",
    "> The inputInt() and inputFloat() functions in the PyInputPlus module are used to get user input for an integer or floating-point number, respectively.\n",
    "\n",
    ">  * __inputInt()__ will only accept an integer as input. If the user enters a non-integer value, inputInt() will keep prompting the user until they enter an integer.\n",
    ">  * __inputFloat()__ will accept an integer or a floating-point number as input. If the user enters an integer, inputFloat() will convert it to a floating-point number. \n",
    ">  * __inputInt()__ has two optional arguments, min and max, which can be used to specify the minimum and maximum values that the user can enter. \n",
    ">  * __inputFloat()__ does not have any optional arguments.\n"
   ]
  },
  {
   "cell_type": "markdown",
   "id": "eca9f3d0",
   "metadata": {},
   "source": [
    "### 4. Using PyInputPlus, how do you ensure that the user enters a whole number between 0 and 99?\n",
    "\n",
    "> We ensure that the user enters a whole number between 0 and 99 by applying the below code:\n",
    "```\n",
    "import pyinputplus as pyip\n",
    "number = pyip.inputInt(min=0, max=99, prompt='Enter a whole number between 0 and 99: ')\n",
    "print(f'You entered: {number}')\n",
    "```"
   ]
  },
  {
   "cell_type": "markdown",
   "id": "41904d27",
   "metadata": {},
   "source": [
    "### 5. What is transferred to the keyword arguments allowRegexes and blockRegexes?\n",
    "\n",
    "> The __allowRegexes__ and __blockRegexes__ keyword arguments are transferred to the PyInputPlus functions as a list of regular expression strings. \n",
    "> \n",
    "    * If the input matches any of the regular expressions in allowRegexes, then it will be accepted as valid input.\n",
    "    * If the input matches any of the regular expressions in blockRegexes, then it will be rejected as invalid input.\n"
   ]
  },
  {
   "cell_type": "markdown",
   "id": "a34b42e0",
   "metadata": {},
   "source": [
    "### 6. If a blank input is entered three times, what does inputStr(limit=3) do?\n",
    "\n",
    "> Then inputStr(limit=3) function will raise a RetryLimitException exception. This exception is raised when the user has exceeded the number of allowed tries for entering a valid input.\n",
    "```\n",
    "import pyinputplus as pyip\n",
    "try:\n",
    "    inputStr(prompt='Enter your name: ', limit=3)\n",
    "except RetryLimitException:\n",
    "    print('You have exceeded the number of allowed tries.')\n",
    "```"
   ]
  },
  {
   "cell_type": "markdown",
   "id": "f2025489",
   "metadata": {},
   "source": [
    "### 7. If blank input is entered three times, what does inputStr(limit=3, default='hello') do?\n",
    "\n",
    "> If blank input is entered three times, the inputStr(limit=3, default='hello') function will return the value 'hello'. <br>\n",
    "> The __inputStr(limit=3, default='hello')__ function takes two keyword arguments: limit and default. <br>\n",
    "> The limit keyword argument specifies the number of times the user is allowed to enter a blank input. <br>\n",
    "> The default keyword argument specifies the value that will be returned if the user enters a blank input more than limit times."
   ]
  },
  {
   "cell_type": "markdown",
   "id": "5fc243e3",
   "metadata": {},
   "source": []
  }
 ],
 "metadata": {
  "kernelspec": {
   "display_name": "Python 3 (ipykernel)",
   "language": "python",
   "name": "python3"
  },
  "language_info": {
   "codemirror_mode": {
    "name": "ipython",
    "version": 3
   },
   "file_extension": ".py",
   "mimetype": "text/x-python",
   "name": "python",
   "nbconvert_exporter": "python",
   "pygments_lexer": "ipython3",
   "version": "3.11.2"
  }
 },
 "nbformat": 4,
 "nbformat_minor": 5
}
