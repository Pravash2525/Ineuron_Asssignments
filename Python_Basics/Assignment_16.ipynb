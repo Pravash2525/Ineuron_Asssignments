{
 "cells": [
  {
   "cell_type": "markdown",
   "id": "8279765f",
   "metadata": {},
   "source": [
    "<h1> <u> <font color= green > Assignment_16 </font> </u> </h1>"
   ]
  },
  {
   "cell_type": "markdown",
   "id": "ed6919b6",
   "metadata": {},
   "source": [
    "### 1. Create a list called years_list, starting with the year of your birth, and each year thereafter until the year of your fifth birthday. \n",
    "For example, if you were born in 1980. the list would be years_list = [1980, 1981, 1982, 1983, 1984, 1985].\n",
    "\n",
    "```\n",
    "try:\n",
    "    birth_year = int(input(\"Enter your birth year: \"))\n",
    "except Exception as e:\n",
    "    print(e)\n",
    "else:\n",
    "    years_list = []\n",
    "    for i in range(birth_year, birth_year + 5):\n",
    "        years_list.append(i)\n",
    "\n",
    "    print(years_list)\n",
    "    \n",
    "```"
   ]
  },
  {
   "cell_type": "markdown",
   "id": "a8e30d9a",
   "metadata": {},
   "source": [
    "### 2. In which year in years_list was your third birthday? Remember, you were 0 years of age for your first year.\n",
    "\n",
    "> To calculate my third birthday, then code would be like this:\n",
    "```\n",
    "birth_year = int(input(\"Enter your birth year: \"))\n",
    "third_birthday = birth_year + 2\n",
    "print(f\"My third birthday is {third_birthday}\")\n",
    "```"
   ]
  },
  {
   "cell_type": "markdown",
   "id": "cab61b2e",
   "metadata": {},
   "source": [
    "### 3. In the years list, which year were you the oldest?\n",
    "\n",
    "> My oldest year is the __last element__ in the years list ."
   ]
  },
  {
   "cell_type": "markdown",
   "id": "bf0fdb57",
   "metadata": {},
   "source": [
    "### 4. Make a list called things with these three strings as elements: \"mozzarella\", \"cinderella\",\"salmonella\".\n",
    "  \n",
    "```\n",
    "things = [\"mozzarella\", \"cinderella\", \"salmonella\"]\n",
    "print(things)\n",
    "```"
   ]
  },
  {
   "cell_type": "markdown",
   "id": "d59a573b",
   "metadata": {},
   "source": [
    "### 5. Capitalize the element in things that refers to a person and then print the list. Did it change the element in the list?\n",
    "\n",
    "> Here, According to me \"cindrella\" only refers to a person.\n",
    "```\n",
    "things = [\"mozzarella\", \"cinderella\", \"salmonella\"]\n",
    "for i in things:\n",
    "    if \"cinderella\" in things:\n",
    "        remove = things.pop(1)\n",
    "        things.insert(1, remove.capitalize())\n",
    "            \n",
    "print(things)\n",
    "```"
   ]
  },
  {
   "cell_type": "markdown",
   "id": "9b3d0530",
   "metadata": {},
   "source": [
    "### 6. Make a surprise list with the elements \"Groucho,\" \"Chico,\" and \"Harpo.\"\n",
    "\n",
    "> ``` surprise = [\"Groucho\",\"Chico\",\"Harpo\"] ```"
   ]
  },
  {
   "cell_type": "markdown",
   "id": "92990f16",
   "metadata": {},
   "source": [
    "### 7. Lowercase the last element of the surprise list, reverse it, and then capitalize it.\n",
    "\n",
    "```\n",
    "surprise = [\"Groucho\",\"Chico\",\"Harpo\"]\n",
    "\n",
    "last_element = surprise[-1].lower()\n",
    "print(last_element)\n",
    "\n",
    "reversed_last_element = last_element[::-1]\n",
    "print(reversed_last_element)\n",
    "        \n",
    "capitalized_reversed_last_element = reversed_last_element.capitalize()\n",
    "print(capitalized_reversed_last_element)\n",
    "```"
   ]
  },
  {
   "cell_type": "markdown",
   "id": "7ead5491",
   "metadata": {},
   "source": [
    "### 8. Make an English-to-French dictionary called e2f and print it. Here are your starter words: dog is chien, cat is chat, and walrus is morse.\n",
    "> \n",
    "```\n",
    "e2f = {\"dog\" : \"chien\",\n",
    "       \"cat\" : \"chat\",\n",
    "       \"walrus\" : \"morse\"\n",
    "                }\n",
    "```\n"
   ]
  },
  {
   "cell_type": "markdown",
   "id": "251982fe",
   "metadata": {},
   "source": [
    "### 9. Write the French word for walrus in your three-word dictionary e2f.\n",
    "\n",
    "> lets add French word for walrus:  ___``` e2f[\"walrus\"] = \"morse\" ```___\n"
   ]
  },
  {
   "cell_type": "markdown",
   "id": "8646e88e",
   "metadata": {},
   "source": [
    "### 10. Make a French-to-English dictionary called f2e from e2f. Use the items method.\n",
    "\n",
    "```\n",
    "e2f = {   \"dog\": \"chien\",\n",
    "          \"cat\": \"chat\",\n",
    "          \"walrus\": \"morse\",\n",
    "        }\n",
    "\n",
    "f2e = {}\n",
    "for french, english in e2f.items():\n",
    "    f2e[english] = french\n",
    "\n",
    "print(f2e)\n",
    "```"
   ]
  },
  {
   "cell_type": "markdown",
   "id": "9b6b4d33",
   "metadata": {},
   "source": [
    "### 11. Print the English version of the French word chien using f2e.\n",
    "\n",
    "> ___``` print(f2e[\"chien\"]) ```___"
   ]
  },
  {
   "cell_type": "markdown",
   "id": "8676d944",
   "metadata": {},
   "source": [
    "### 12. Make and print a set of English words from the keys in e2f.\n",
    "\n",
    "```\n",
    "e2f = {\n",
    "     \"dog\": \"chien\",\n",
    "     \"cat\": \"chat\",\n",
    "     \"walrus\": \"morse\",\n",
    "    }\n",
    "\n",
    "english_words = set()\n",
    "for key in e2f.keys():\n",
    "    english_words.add(key)\n",
    "\n",
    "print(english_words)\n",
    "```\n"
   ]
  },
  {
   "cell_type": "markdown",
   "id": "d183c1a0",
   "metadata": {},
   "source": [
    "### 13. Make a multilevel dictionary called life. Use these strings for the topmost keys: 'animals', 'plants', and 'other'. Make the 'animals' key refer to another dictionary with the keys 'cats', 'octopi', and 'emus'. Make the 'cats' key refer to a list of strings with the values 'Henri', 'Grumpy', and 'Lucy'.\n",
    "Make all the other keys refer to empty dictionaries.\n",
    "\n",
    "```\n",
    "life = {\n",
    "      \"animals\": {\n",
    "               \"cats\": [\"Henri\", \"Grumpy\", \"Lucy\"],\n",
    "               \"octopi\": {},\n",
    "              \"emus\": {},\n",
    "                     },\n",
    "      \"plants\": {},\n",
    "      \"other\": {},\n",
    "        }\n",
    "```"
   ]
  },
  {
   "cell_type": "markdown",
   "id": "5d32043d",
   "metadata": {},
   "source": [
    "### 14. Print the top-level keys of life.\n",
    "\n",
    "```\n",
    "for key in life.keys():\n",
    "    print(key)\n",
    "```"
   ]
  },
  {
   "cell_type": "markdown",
   "id": "f180ad70",
   "metadata": {},
   "source": [
    "### 15. Print the keys for life['animals'].\n",
    "\n",
    "```\n",
    "for key in life['animals'].keys():\n",
    "    print(key)\n",
    "```"
   ]
  },
  {
   "cell_type": "markdown",
   "id": "c7daaada",
   "metadata": {},
   "source": [
    "### 16. Print the values for life['animals']['cats']\n",
    "\n",
    "```\n",
    "cat_values = life['animals']['cats']\n",
    "for value in cat_values:\n",
    "    print(value)\n",
    "```"
   ]
  }
 ],
 "metadata": {
  "kernelspec": {
   "display_name": "Python 3 (ipykernel)",
   "language": "python",
   "name": "python3"
  },
  "language_info": {
   "codemirror_mode": {
    "name": "ipython",
    "version": 3
   },
   "file_extension": ".py",
   "mimetype": "text/x-python",
   "name": "python",
   "nbconvert_exporter": "python",
   "pygments_lexer": "ipython3",
   "version": "3.11.3"
  }
 },
 "nbformat": 4,
 "nbformat_minor": 5
}
