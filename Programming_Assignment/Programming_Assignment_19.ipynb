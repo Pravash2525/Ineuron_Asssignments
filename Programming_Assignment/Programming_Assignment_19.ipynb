{
 "cells": [
  {
   "cell_type": "markdown",
   "id": "130dc62d",
   "metadata": {},
   "source": [
    "<h1> <u> <font color= green > Programming_Assignment_19 </font> </u> </h1>"
   ]
  },
  {
   "cell_type": "markdown",
   "id": "4ef1e8b7",
   "metadata": {},
   "source": [
    "## Question1. Create a function that takes a string and returns a string in which each character is repeated once.\n",
    "            Examples\n",
    "            double_char(\"String\") ➞ \"SSttrriinngg\"\n",
    "            double_char(\"Hello World!\") ➞ \"HHeelllloo WWoorrlldd!!\"\n",
    "            double_char(\"1234!_ \") ➞ \"11223344!!__ \""
   ]
  },
  {
   "cell_type": "code",
   "execution_count": null,
   "id": "46d20d21",
   "metadata": {},
   "outputs": [],
   "source": [
    "def double_char(string):\n",
    "    new_string = \"\"\n",
    "    for char in string:\n",
    "        new_string += char * 2\n",
    "    return new_string\n",
    "\n",
    "print('double_char(\"String\") ==>', double_char(\"String\"))\n",
    "print('double_char(\"Hello World!\") ==>', double_char(\"Hello World!\"))\n",
    "print('double_char(\"1234!_ \") ==>', double_char(\"1234!_ \"))"
   ]
  },
  {
   "cell_type": "markdown",
   "id": "3abd0ceb",
   "metadata": {},
   "source": [
    "## Question2. Create a function that reverses a boolean value and returns the string \"boolean expected\" if another variable type is given.\n",
    "            Examples\n",
    "            reverse(True) ➞ False\n",
    "            reverse(False) ➞ True\n",
    "            reverse(0) ➞ \"boolean expected\"\n",
    "            reverse(None) ➞ \"boolean expected\""
   ]
  },
  {
   "cell_type": "code",
   "execution_count": null,
   "id": "9a58519c",
   "metadata": {},
   "outputs": [],
   "source": [
    "def reverse(value):\n",
    "    if not isinstance(value, bool):\n",
    "        return \"boolean expected\"\n",
    "    else:\n",
    "        return not value\n",
    "\n",
    "print('reverse(True) ==>', reverse(True))\n",
    "print('reverse(False) ==>', reverse(False))\n",
    "print('reverse(0) ==>', reverse(0))\n",
    "print('reverse(None) ==>', reverse(None))\n"
   ]
  },
  {
   "cell_type": "markdown",
   "id": "af4ecf4f",
   "metadata": {},
   "source": [
    "## Question3. Create a function that returns the thickness (in meters) of a piece of paper after folding it n number of times. The paper starts off with a thickness of 0.5mm.\n",
    "            Examples\n",
    "            num_layers(1) ➞ \"0.001m\"\n",
    "            # Paper folded once is 1mm (equal to 0.001m)\n",
    "            num_layers(4) ➞ \"0.008m\"\n",
    "            # Paper folded 4 times is 8mm (equal to 0.008m)\n",
    "            num_layers(21) ➞ \"1048.576m\"\n",
    "            # Paper folded 21 times is 1048576mm (equal to 1048.576m)"
   ]
  },
  {
   "cell_type": "code",
   "execution_count": null,
   "id": "cb7e27e1",
   "metadata": {},
   "outputs": [],
   "source": [
    "def num_layers(n):\n",
    "    thickness = 0.5\n",
    "    for i in range(n):\n",
    "        thickness *= 2\n",
    "    \n",
    "    return thickness\n",
    "\n",
    "paper_fold = [1,4,21]\n",
    "\n",
    "for i in paper_fold:\n",
    "    print(f'num_layers(i) ==> \"{num_layers(i)/1000}m\"' )\n",
    "    print(f'Paper folded {i} times is {num_layers(i)}mm (equal to {num_layers(i)/1000}m)')\n"
   ]
  },
  {
   "cell_type": "markdown",
   "id": "94f1e2a5",
   "metadata": {},
   "source": [
    "## Question4. Create a function that takes a single string as argument and returns an ordered list containing the indices of all capital letters in the string.\n",
    "            Examples\n",
    "            index_of_caps(\"eDaBiT\") ➞ [1, 3, 5]\n",
    "            index_of_caps(\"eQuINoX\") ➞ [1, 3, 4, 6]\n",
    "            index_of_caps(\"determine\") ➞ []\n",
    "            index_of_caps(\"STRIKE\") ➞ [0, 1, 2, 3, 4, 5]\n",
    "            index_of_caps(\"sUn\") ➞ [1]"
   ]
  },
  {
   "cell_type": "code",
   "execution_count": null,
   "id": "e9b93abb",
   "metadata": {},
   "outputs": [],
   "source": [
    "def index_of_caps(string):\n",
    "    indices = []\n",
    "    for index, letter in enumerate(string):\n",
    "        if letter.isupper():\n",
    "            indices.append(index)\n",
    "    return indices\n",
    "\n",
    "print('index_of_caps(\"eDaBiT\") ==>', index_of_caps(\"eDaBiT\"))\n",
    "print('index_of_caps(\"eQuINoX\") ==>', index_of_caps(\"eQuINoX\"))\n",
    "print('index_of_caps(\"determine\") ==>', index_of_caps(\"determine\"))\n",
    "print('index_of_caps(\"STRIKE\") ==>', index_of_caps(\"STRIKE\"))\n",
    "print('index_of_caps(\"sUn\") ==>', index_of_caps(\"sUn\"))\n"
   ]
  },
  {
   "cell_type": "markdown",
   "id": "5d1bf2d7",
   "metadata": {},
   "source": [
    "## Question5. Using list comprehensions, create a function that finds all even numbers from 1 to the given number.\n",
    "            Examples\n",
    "            find_even_nums(8) ➞ [2, 4, 6, 8]\n",
    "            find_even_nums(4) ➞ [2, 4]\n",
    "            find_even_nums(2) ➞ [2]"
   ]
  },
  {
   "cell_type": "code",
   "execution_count": null,
   "id": "24b27f13",
   "metadata": {},
   "outputs": [],
   "source": [
    "def find_even_nums(number):\n",
    "    all_evens = [number for number in range(1, number + 1) if number % 2 == 0]\n",
    "    return all_evens\n",
    "\n",
    "print('find_even_nums(8) ==>', find_even_nums(8))\n",
    "print('find_even_nums(4) ==>', find_even_nums(4))\n",
    "print('find_even_nums(2) ==>', find_even_nums(2))\n"
   ]
  },
  {
   "cell_type": "code",
   "execution_count": null,
   "id": "d83123b3",
   "metadata": {},
   "outputs": [],
   "source": []
  },
  {
   "cell_type": "code",
   "execution_count": null,
   "id": "0d73b783",
   "metadata": {},
   "outputs": [],
   "source": []
  }
 ],
 "metadata": {
  "kernelspec": {
   "display_name": "Python 3 (ipykernel)",
   "language": "python",
   "name": "python3"
  },
  "language_info": {
   "codemirror_mode": {
    "name": "ipython",
    "version": 3
   },
   "file_extension": ".py",
   "mimetype": "text/x-python",
   "name": "python",
   "nbconvert_exporter": "python",
   "pygments_lexer": "ipython3",
   "version": "3.11.3"
  }
 },
 "nbformat": 4,
 "nbformat_minor": 5
}
