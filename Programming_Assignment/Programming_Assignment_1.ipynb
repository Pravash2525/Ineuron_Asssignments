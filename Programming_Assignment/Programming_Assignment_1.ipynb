{
 "cells": [
  {
   "cell_type": "markdown",
   "id": "e0ac4c6a",
   "metadata": {},
   "source": [
    "<h1> <u> <font color= green > Programming_Assignment_1 </font> </u> </h1>"
   ]
  },
  {
   "cell_type": "markdown",
   "id": "a5f3eca3",
   "metadata": {},
   "source": [
    "## 1. Write a Python program to print \"Hello Python\"?\n",
    "\n",
    "> ``` print(\"Hello Python\") ```\n"
   ]
  },
  {
   "cell_type": "markdown",
   "id": "4e240a4a",
   "metadata": {},
   "source": [
    "## 2. Write a Python program to do arithmetical operations addition and division.?\n",
    "\n"
   ]
  },
  {
   "cell_type": "code",
   "execution_count": null,
   "id": "d364c2e0",
   "metadata": {},
   "outputs": [],
   "source": [
    "try:\n",
    "    x = int(input(\"Enter first number: \"))\n",
    "    y = int(input(\"Enter second number: \"))\n",
    "    \n",
    "except Exception  as e:\n",
    "    print(e)\n",
    "else:    \n",
    "    if y == 0:\n",
    "        print(\"zero is not divisible\")\n",
    "    else:\n",
    "        addition = x + y\n",
    "        division = x / y\n",
    "        print(\"The sum of two number is:\", addition)\n",
    "        print(\"The division first by second is:\", division)\n"
   ]
  },
  {
   "cell_type": "markdown",
   "id": "50a7c5ad",
   "metadata": {},
   "source": [
    "## 3. Write a Python program to find the area of a triangle?\n",
    "\n"
   ]
  },
  {
   "cell_type": "code",
   "execution_count": null,
   "id": "2f1e855f",
   "metadata": {},
   "outputs": [],
   "source": [
    "try:\n",
    "    x = int(input(\"Enter first number: \"))\n",
    "    y = int(input(\"Enter second number: \"))\n",
    "    \n",
    "except Exception  as e:\n",
    "    print(e)\n",
    "else:    \n",
    "    if x <= 0 or y <= 0  :\n",
    "        print(\"invalid input\")\n",
    "    else:\n",
    "        base = x\n",
    "        height = y\n",
    "        area = (base * height) / 2\n",
    "        print(\"The area of the triangle is:\", area)"
   ]
  },
  {
   "cell_type": "markdown",
   "id": "75efe85c",
   "metadata": {},
   "source": [
    "## 4. Write a Python program to swap two variables?\n",
    "\n"
   ]
  },
  {
   "cell_type": "code",
   "execution_count": null,
   "id": "a986398e",
   "metadata": {},
   "outputs": [],
   "source": [
    "x = int(input(\"Enter first number: \"))\n",
    "y = int(input(\"Enter second number: \"))\n",
    "print(f\"Before swap: {x}, {y}\")\n",
    "x,y = y,x\n",
    "print(f\"After swap: {x}, {y}\")"
   ]
  },
  {
   "cell_type": "markdown",
   "id": "5a5cbd25",
   "metadata": {},
   "source": [
    "## 5. Write a Python program to generate a random number?\n"
   ]
  },
  {
   "cell_type": "code",
   "execution_count": null,
   "id": "29ea3684",
   "metadata": {},
   "outputs": [],
   "source": [
    "import random\n",
    "\n",
    "min_value = int(input(\"Enter first number: \"))\n",
    "max_value = int(input(\"Enter second number: \"))\n",
    "random_number = random.randint(min_value, max_value)\n",
    "\n",
    "print(\"The random number is:\", random_number)"
   ]
  },
  {
   "cell_type": "code",
   "execution_count": null,
   "id": "591d0b38",
   "metadata": {},
   "outputs": [],
   "source": []
  }
 ],
 "metadata": {
  "kernelspec": {
   "display_name": "Python 3 (ipykernel)",
   "language": "python",
   "name": "python3"
  },
  "language_info": {
   "codemirror_mode": {
    "name": "ipython",
    "version": 3
   },
   "file_extension": ".py",
   "mimetype": "text/x-python",
   "name": "python",
   "nbconvert_exporter": "python",
   "pygments_lexer": "ipython3",
   "version": "3.11.3"
  }
 },
 "nbformat": 4,
 "nbformat_minor": 5
}
