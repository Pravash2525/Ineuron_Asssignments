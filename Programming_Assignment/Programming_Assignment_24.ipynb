{
 "cells": [
  {
   "cell_type": "markdown",
   "id": "969f761b",
   "metadata": {},
   "source": [
    "<h1> <u> <font color= green > Programming_Assignment_24 </font> </u> </h1>"
   ]
  },
  {
   "cell_type": "markdown",
   "id": "9897feda",
   "metadata": {},
   "source": [
    "## Question1. Create a function that takes an integer and returns a list from 1 to the given number, where:\n",
    "        1. If the number can be divided evenly by 4, amplify it by 10 (i.e. return 10 times the\n",
    "        number).\n",
    "        2. If the number cannot be divided evenly by 4, simply return the number.\n",
    "            Examples\n",
    "            amplify(4) ➞ [1, 2, 3, 40]\n",
    "            amplify(3) ➞ [1, 2, 3]\n",
    "            amplify(25) ➞ [1, 2, 3, 40, 5, 6, 7, 80, 9, 10, 11, 120, 13, 14, 15, 160, 17, 18, 19, 200, 21, 22, 23, 240, 25]\n",
    "> <b><u> Notes </u></b>\n",
    ">> • The given integer will always be equal to or greater than 1. <br>\n",
    ">> • Include the number (see example above). <br>\n",
    ">> • To perform this problem with its intended purpose, try doing it with list comprehensions. If that's too difficult, just solve the challenge any way you can."
   ]
  },
  {
   "cell_type": "code",
   "execution_count": null,
   "id": "71aff784",
   "metadata": {},
   "outputs": [],
   "source": [
    "def amplify(num):\n",
    "    amplified_numbers = []\n",
    "    for i in range(1, num + 1):\n",
    "        if i % 4 == 0:\n",
    "            amplified_numbers.append(i * 10)\n",
    "        else:\n",
    "            amplified_numbers.append(i)\n",
    "    return amplified_numbers\n",
    "\n",
    "my_list = [4, 3, 25]\n",
    "\n",
    "for i in my_list:\n",
    "    print(f\"amplify({i}) ==>\", amplify(i))\n"
   ]
  },
  {
   "cell_type": "markdown",
   "id": "42a6f415",
   "metadata": {},
   "source": [
    "## Question2. Create a function that takes a list of numbers and return the number that's unique.\n",
    "            Examples\n",
    "            unique([3, 3, 3, 7, 3, 3]) ➞ 7\n",
    "            unique([0, 0, 0.77, 0, 0]) ➞ 0.77\n",
    "            unique([0, 1, 1, 1, 1, 1, 1, 1]) ➞ 0\n",
    "> <b><u> Notes </u></b>\n",
    ">> Test cases will always have exactly one unique number while all others are the same."
   ]
  },
  {
   "cell_type": "code",
   "execution_count": null,
   "id": "a11b97c3",
   "metadata": {},
   "outputs": [],
   "source": [
    "def unique(num):\n",
    "    seen_numbers = set()\n",
    "    unique_number = None\n",
    "    for i in num:\n",
    "        if i in seen_numbers:\n",
    "            continue\n",
    "        else:\n",
    "            unique_number = i\n",
    "            seen_numbers.add(i)\n",
    "    return unique_number\n",
    "\n",
    "print('unique([3, 3, 3, 7, 3, 3]) ==>', unique([3, 3, 3, 7, 3, 3]))\n",
    "print('unique([0, 0, 0.77, 0, 0]) ==>', unique([0, 0, 0.77, 0, 0]))\n",
    "print('unique([0, 1, 1, 1, 1, 1, 1, 1]) ==>', unique([0, 1, 1, 1, 1, 1, 1, 1]))\n"
   ]
  },
  {
   "cell_type": "markdown",
   "id": "79c1cac5",
   "metadata": {},
   "source": [
    "## Question3. Your task is to create a Circle constructor that creates a circle with a radius provided by an argument. The circles constructed must have two getters getArea() (PIr^2) and getPerimeter() (2PI*r) which give both respective areas and perimeter (circumference).\n",
    "### For help with this class, I have provided you with a Rectangle constructor which you can use as a base example.\n",
    "            Examples\n",
    "            circy = Circle(11)\n",
    "            circy.getArea()\n",
    "            # Should return 380.132711084365\n",
    "            circy = Circle(4.44)\n",
    "            circy.getPerimeter()\n",
    "            # Should return 27.897342763877365\n",
    "> <b><u> Notes </u></b>\n",
    ">> Round results up to the nearest integer."
   ]
  },
  {
   "cell_type": "code",
   "execution_count": null,
   "id": "18b60b14",
   "metadata": {},
   "outputs": [],
   "source": [
    "import math\n",
    "\n",
    "class Circle:\n",
    "    def __init__(self, radius):\n",
    "        self.radius = radius\n",
    "\n",
    "    def getArea(self):\n",
    "        area = math.pi * self.radius ** 2\n",
    "        return area\n",
    "\n",
    "    def getPerimeter(self):\n",
    "        perimeter = 2 * math.pi * self.radius\n",
    "        return perimeter\n",
    "\n",
    "radius = 11\n",
    "circy = Circle(radius)\n",
    "print(f\"Circle area with radius: {radius} =\", circy.getArea())\n",
    "\n",
    "radius = 4.44\n",
    "circy = Circle(radius)\n",
    "print(f\"Circle perimeter with radius: {radius} =\", circy.getPerimeter())\n",
    "\n"
   ]
  },
  {
   "cell_type": "markdown",
   "id": "43599e7f",
   "metadata": {},
   "source": [
    "## Question4. Create a function that takes a list of strings and return a list, sorted from shortest to longest.\n",
    "            Examples\n",
    "            sort_by_length([\"Google\", \"Apple\", \"Microsoft\"])\n",
    "            ➞ [\"Apple\", \"Google\", \"Microsoft\"]\n",
    "            sort_by_length([\"Leonardo\", \"Michelangelo\", \"Raphael\", \"Donatello\"])\n",
    "            ➞ [\"Raphael\", \"Leonardo\", \"Donatello\", \"Michelangelo\"]\n",
    "            sort_by_length([\"Turing\", \"Einstein\", \"Jung\"])\n",
    "            ➞ [\"Jung\", \"Turing\", \"Einstein\"]\n",
    "> <b><u> Notes </u></b>\n",
    ">> All test cases contain lists with strings of different lengths, so you won't have to deal with multiple strings of the same length."
   ]
  },
  {
   "cell_type": "code",
   "execution_count": null,
   "id": "4708f2ab",
   "metadata": {},
   "outputs": [],
   "source": [
    "def sort_by_length(strings):\n",
    "    sorted_strings = []\n",
    "    for i in strings:\n",
    "        sorted_strings.append((len(i), i))\n",
    "    sorted_strings.sort()\n",
    "    sorted_strings = [string for length, string in sorted_strings]\n",
    "    return sorted_strings\n",
    "\n",
    "\n",
    "print(sort_by_length([\"Google\", \"Apple\", \"Microsoft\"]))\n",
    "\n",
    "print(sort_by_length([\"Leonardo\", \"Michelangelo\", \"Raphael\", \"Donatello\"]))\n",
    "\n",
    "print(sort_by_length([\"Turing\", \"Einstein\", \"Jung\"]))"
   ]
  },
  {
   "cell_type": "markdown",
   "id": "2e58f2a5",
   "metadata": {},
   "source": [
    "## Question5. Create a function that validates whether three given integers form a Pythagorean triplet. The sum of the squares of the two smallest integers must equal the square of the largest number to be validated.\n",
    "            Examples\n",
    "            is_triplet(3, 4, 5) ➞ True\n",
    "            # 3² + 4² = 25\n",
    "            # 5² = 25\n",
    "            is_triplet(13, 5, 12) ➞ True\n",
    "            # 5² + 12² = 169\n",
    "            # 13² = 169\n",
    "            is_triplet(1, 2, 3) ➞ False\n",
    "            # 1² + 2² = 5\n",
    "            # 3² = 9\n",
    "> <b><u> Notes </u></b>\n",
    ">> Numbers may not be given in a sorted order."
   ]
  },
  {
   "cell_type": "code",
   "execution_count": null,
   "id": "48578896",
   "metadata": {},
   "outputs": [],
   "source": [
    "def is_triplet(a, b, c):\n",
    "    square_a = a**2\n",
    "    square_b = b**2\n",
    "    square_c = c**2\n",
    "\n",
    "    if (square_a + square_b == square_c) or (square_b + square_c == square_a) or (square_a + square_c == square_b):\n",
    "        return True\n",
    "    else:\n",
    "        return False\n",
    "    \n",
    "print('is_triplet(3, 4, 5) ==>', is_triplet(3, 4, 5))\n",
    "print('is_triplet(13, 5, 12) ==>', is_triplet(13, 5, 12))\n",
    "print('is_triplet(1, 2, 3) ==>', is_triplet(1, 2, 3))\n"
   ]
  },
  {
   "cell_type": "code",
   "execution_count": null,
   "id": "18664d10",
   "metadata": {},
   "outputs": [],
   "source": []
  }
 ],
 "metadata": {
  "kernelspec": {
   "display_name": "Python 3 (ipykernel)",
   "language": "python",
   "name": "python3"
  },
  "language_info": {
   "codemirror_mode": {
    "name": "ipython",
    "version": 3
   },
   "file_extension": ".py",
   "mimetype": "text/x-python",
   "name": "python",
   "nbconvert_exporter": "python",
   "pygments_lexer": "ipython3",
   "version": "3.11.3"
  }
 },
 "nbformat": 4,
 "nbformat_minor": 5
}
