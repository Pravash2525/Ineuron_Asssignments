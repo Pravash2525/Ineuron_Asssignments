{
 "cells": [
  {
   "cell_type": "markdown",
   "id": "f79c2d04",
   "metadata": {},
   "source": [
    "<h1> <u> <font color= green > Programming_Assignment_21 </font> </u> </h1>"
   ]
  },
  {
   "cell_type": "markdown",
   "id": "38ff1df8",
   "metadata": {},
   "source": [
    "## Question1. Write a function that takes a list and a number as arguments. Add the number to the end of the list, then remove the first element of the list. The function should then return the updated list.\n",
    "            Examples\n",
    "            next_in_line([5, 6, 7, 8, 9], 1) ➞ [6, 7, 8, 9, 1]\n",
    "            next_in_line([7, 6, 3, 23, 17], 10) ➞ [6, 3, 23, 17, 10]\n",
    "            next_in_line([1, 10, 20, 42 ], 6) ➞ [10, 20, 42, 6]\n",
    "            next_in_line([], 6) ➞ \"No list has been selected\""
   ]
  },
  {
   "cell_type": "code",
   "execution_count": null,
   "id": "1cecaec7",
   "metadata": {},
   "outputs": [],
   "source": [
    "def next_in_line(list_numbers, number):\n",
    "    if not list_numbers:\n",
    "        return \"No list has been selected\"\n",
    "\n",
    "    list_numbers.append(number)\n",
    "    list_numbers.pop(0)\n",
    "    return list_numbers\n",
    "\n",
    "\n",
    "print('next_in_line([5, 6, 7, 8, 9], 1) ==>', next_in_line([5, 6, 7, 8, 9], 1))\n",
    "print('next_in_line([7, 6, 3, 23, 17], 10) ==>', next_in_line([7, 6, 3, 23, 17], 10))\n",
    "print('next_in_line([1, 10, 20, 42 ], 6) ==>', next_in_line([1, 10, 20, 42 ], 6))\n",
    "print('next_in_line([], 6) ==>', next_in_line([], 6))\n"
   ]
  },
  {
   "cell_type": "markdown",
   "id": "b485f6b8",
   "metadata": {},
   "source": [
    "## Question2. Create the function that takes a list of dictionaries and returns the sum of people's budgets.\n",
    "            Examples\n",
    "            get_budgets([\n",
    "            { \"name\": \"John\", \"age\": 21, \"budget\": 23000 },\n",
    "            { \"name\": \"Steve\", \"age\": 32, \"budget\": 40000 },\n",
    "            { \"name\": \"Martin\", \"age\": 16, \"budget\": 2700 }\n",
    "            ]) ➞ 65700\n",
    "            \n",
    "            get_budgets([\n",
    "            { \"name\": \"John\", \"age\": 21, \"budget\": 29000 },\n",
    "            { \"name\": \"Steve\", \"age\": 32, \"budget\": 32000 },\n",
    "            { \"name\": \"Martin\", \"age\": 16, \"budget\": 1600 }\n",
    "            ]) ➞ 62600"
   ]
  },
  {
   "cell_type": "code",
   "execution_count": null,
   "id": "33cc2cb2",
   "metadata": {},
   "outputs": [],
   "source": [
    "def get_budgets(list_of_dicts):\n",
    "    total_budget = 0\n",
    "    for i in list_of_dicts:\n",
    "        budget = i[\"budget\"]\n",
    "        total_budget += budget\n",
    "    return total_budget\n",
    "\n",
    "print(get_budgets([\n",
    "        { \"name\": \"John\", \"age\": 21, \"budget\": 23000 },\n",
    "        { \"name\": \"Steve\", \"age\": 32, \"budget\": 40000 },\n",
    "        { \"name\": \"Martin\", \"age\": 16, \"budget\": 2700 } ]))\n",
    "\n",
    "print(get_budgets([\n",
    "        { \"name\": \"John\", \"age\": 21, \"budget\": 29000 },\n",
    "        { \"name\": \"Steve\", \"age\": 32, \"budget\": 32000 },\n",
    "        { \"name\": \"Martin\", \"age\": 16, \"budget\": 1600 } ]))\n"
   ]
  },
  {
   "cell_type": "markdown",
   "id": "ce4c877a",
   "metadata": {},
   "source": [
    "## Question3. Create a function that takes a string and returns a string with its letters in alphabetical order.\n",
    "        Examples\n",
    "        alphabet_soup(\"hello\") ➞ \"ehllo\"\n",
    "        alphabet_soup(\"edabit\") ➞ \"abdeit\"\n",
    "        alphabet_soup(\"hacker\") ➞ \"acehkr\"\n",
    "        alphabet_soup(\"geek\") ➞ \"eegk\"\n",
    "        alphabet_soup(\"javascript\") ➞ \"aacijprstv\""
   ]
  },
  {
   "cell_type": "code",
   "execution_count": null,
   "id": "a69d5e70",
   "metadata": {},
   "outputs": [],
   "source": [
    "def alphabet_soup(string):\n",
    "    sorted_character = sorted(string)\n",
    "    character_order = \"\".join(sorted_character)\n",
    "    return character_order\n",
    "\n",
    "\n",
    "print(f'alphabet_soup(\"hello\") ==> \"{alphabet_soup(\"hello\")}\"')\n",
    "print(f'alphabet_soup(\"edabit\") ==> \"{alphabet_soup(\"edabit\")}\"')\n",
    "print(f'alphabet_soup(\"hacker\") ==> \"{alphabet_soup(\"hacker\")}\"')\n",
    "print(f'alphabet_soup(\"geek\") ==> \"{alphabet_soup(\"geek\")}\"')\n",
    "print(f'alphabet_soup(\"javascript\") ==> \"{alphabet_soup(\"javascript\")}\"')\n"
   ]
  },
  {
   "cell_type": "markdown",
   "id": "fd46e413",
   "metadata": {},
   "source": [
    "## Question4. Suppose that you invest 10,000 for 10 years at an interest rate of 6% compounded monthly. What will be the value of your investment at the end of the 10 year period?\n",
    "### Create a function that accepts the principal p, the term in years t, the interest rate r, and the number of compounding periods per year n. The function returns the value at the end of term rounded to the nearest cent.\n",
    "        For the example above:\n",
    "        compound_interest(10000, 10, 0.06, 12) ➞ 18193.97\n",
    "        Note that the interest rate is given as a decimal and n=12 because with monthly compounding\n",
    "        there are 12 periods per year. Compounding can also be done annually, quarterly, weekly, or\n",
    "        daily.\n",
    "                Examples\n",
    "                compound_interest(100, 1, 0.05, 1) ➞ 105.0\n",
    "                compound_interest(3500, 15, 0.1, 4) ➞ 15399.26\n",
    "                compound_interest(100000, 20, 0.15, 365) ➞ 2007316.26"
   ]
  },
  {
   "cell_type": "code",
   "execution_count": null,
   "id": "8836622b",
   "metadata": {},
   "outputs": [],
   "source": [
    "import math\n",
    "\n",
    "def compound_interest(p, t, r, periods_per_year):\n",
    "    interest_rate = r / 100\n",
    "    compound_factor = 1 + r / periods_per_year\n",
    "    number_of_periods = t * periods_per_year\n",
    "    value = p * (compound_factor ** number_of_periods)\n",
    "    rounded_value = round(value, 2)\n",
    "    return rounded_value\n",
    "\n",
    "print('compound_interest(100, 1, 0.05, 1) ==>', compound_interest(100, 1, 0.05, 1))\n",
    "print('compound_interest(3500, 15, 0.1, 4) ==>', compound_interest(3500, 15, 0.1, 4))\n",
    "print('compound_interest(100000, 20, 0.15, 365) ==>', compound_interest(100000, 20, 0.15, 365))\n",
    "\n"
   ]
  },
  {
   "cell_type": "markdown",
   "id": "4ae0fb9c",
   "metadata": {},
   "source": [
    "## Question5. Write a function that takes a list of elements and returns only the integers.\n",
    "            Examples\n",
    "            return_only_integer([9, 2, \"space\", \"car\", \"lion\", 16]) ➞ [9, 2, 16]\n",
    "            return_only_integer([\"hello\", 81, \"basketball\", 123, \"fox\"]) ➞ [81, 123]\n",
    "            return_only_integer([10, \"121\", 56, 20, \"car\", 3, \"lion\"]) ➞ [10, 56, 20, 3]\n",
    "            return_only_integer([\"String\", True, 3.3, 1]) ➞ [1]"
   ]
  },
  {
   "cell_type": "code",
   "execution_count": null,
   "id": "a6f83b8e",
   "metadata": {},
   "outputs": [],
   "source": [
    "def return_only_integer(list_elements):\n",
    "    my_list = []\n",
    "    for i in list_elements:\n",
    "        if isinstance(i, int):\n",
    "            my_list.append(i)\n",
    "    return my_list\n",
    "\n",
    "print('return_only_integer([9, 2, \"space\", \"car\", \"lion\", 16]) ==>', return_only_integer([9, 2, \"space\", \"car\", \"lion\", 16]))\n",
    "print('return_only_integer([\"hello\", 81, \"basketball\", 123, \"fox\"]) ==>', return_only_integer([\"hello\", 81, \"basketball\", 123, \"fox\"]))\n",
    "print('return_only_integer([10, \"121\", 56, 20, \"car\", 3, \"lion\"]) ==>', return_only_integer([10, \"121\", 56, 20, \"car\", 3, \"lion\"]))\n",
    "print('return_only_integer([\"String\", True, 3.3, 1]) ==>', return_only_integer([\"String\", True, 3.3, 1]))\n",
    "\n"
   ]
  },
  {
   "cell_type": "code",
   "execution_count": null,
   "id": "17e2f7cc",
   "metadata": {},
   "outputs": [],
   "source": []
  },
  {
   "cell_type": "code",
   "execution_count": null,
   "id": "942d6386",
   "metadata": {},
   "outputs": [],
   "source": []
  }
 ],
 "metadata": {
  "kernelspec": {
   "display_name": "Python 3 (ipykernel)",
   "language": "python",
   "name": "python3"
  },
  "language_info": {
   "codemirror_mode": {
    "name": "ipython",
    "version": 3
   },
   "file_extension": ".py",
   "mimetype": "text/x-python",
   "name": "python",
   "nbconvert_exporter": "python",
   "pygments_lexer": "ipython3",
   "version": "3.11.3"
  }
 },
 "nbformat": 4,
 "nbformat_minor": 5
}
