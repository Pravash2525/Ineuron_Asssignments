{
 "cells": [
  {
   "cell_type": "markdown",
   "id": "f79c2d04",
   "metadata": {},
   "source": [
    "<h1> <u> <font color= green > Programming_Assignment_25 </font> </u> </h1>"
   ]
  },
  {
   "cell_type": "markdown",
   "id": "58cb93eb",
   "metadata": {},
   "source": [
    "## Question1. Create a function that takes three integer arguments (a, b, c) and returns the amount of integers which are of equal value.\n",
    "            Examples\n",
    "            equal(3, 4, 3) ➞ 2\n",
    "            equal(1, 1, 1) ➞ 3\n",
    "            equal(3, 4, 1) ➞ 0\n",
    "> <b><u> Notes </u></b>\n",
    ">> Your function must return 0, 2 or 3."
   ]
  },
  {
   "cell_type": "code",
   "execution_count": null,
   "id": "54ece820",
   "metadata": {},
   "outputs": [],
   "source": [
    "def equal(a, b, c):\n",
    "    count = 0\n",
    "    if a == b or a == c:\n",
    "        count += 1\n",
    "    if a == c:\n",
    "        count += 1\n",
    "    if b == c:\n",
    "        count += 1\n",
    "        \n",
    "    return count\n",
    "\n",
    "print('equal(3, 4, 3) ==>', equal(3, 4, 3))\n",
    "print('equal(1, 1, 1) ==>', equal(1, 1, 1))\n",
    "print('equal(3, 4, 1) ==>', equal(3, 4, 1))\n",
    "\n"
   ]
  },
  {
   "cell_type": "markdown",
   "id": "4fa81cac",
   "metadata": {},
   "source": [
    "## Question2. Write a function that converts a dictionary into a list of keys-values tuples.\n",
    "        Examples\n",
    "        dict_to_list({  \n",
    "                    \"D\": 1,\n",
    "                    \"B\": 2,\n",
    "                    \"C\": 3 })   ➞ [(\"B\", 2), (\"C\", 3), (\"D\", 1)]\n",
    "        dict_to_list({\n",
    "                   \"likes\": 2,\n",
    "                   \"dislikes\": 3,\n",
    "                   \"followers\": 10 }) ➞ [(\"dislikes\", 3), (\"followers\", 10), (\"likes\", 2)]\n",
    "> <b><u> Notes </u></b>\n",
    ">> Return the elements in the list in alphabetical order."
   ]
  },
  {
   "cell_type": "code",
   "execution_count": null,
   "id": "0ccc9d77",
   "metadata": {},
   "outputs": [],
   "source": [
    "def dict_to_list(dictionary):\n",
    "    list_of_tuples = []\n",
    "    for key, value in dictionary.items():\n",
    "        tuples = (key, value)\n",
    "        list_of_tuples.append(tuples)\n",
    "    list_of_tuples.sort()\n",
    "    return list_of_tuples\n",
    "\n",
    "\n",
    "print(dict_to_list({\n",
    "                \"D\": 1,\n",
    "                \"B\": 2,\n",
    "                \"C\": 3\n",
    "                }))\n",
    "\n",
    "print(dict_to_list({\n",
    "                \"likes\": 2,\n",
    "                \"dislikes\": 3,\n",
    "                \"followers\": 10\n",
    "                }))\n"
   ]
  },
  {
   "cell_type": "markdown",
   "id": "dff6c775",
   "metadata": {},
   "source": [
    "## Question3. Write a function that creates a dictionary with each (key, value) pair being the (lower case, upper case) versions of a letter, respectively.\n",
    "        Examples\n",
    "        mapping([\"p\", \"s\"]) ➞ { \"p\": \"P\", \"s\": \"S\" }\n",
    "        mapping([\"a\", \"b\", \"c\"]) ➞ { \"a\": \"A\", \"b\": \"B\", \"c\": \"C\" }\n",
    "        mapping([\"a\", \"v\", \"y\", \"z\"]) ➞ { \"a\": \"A\", \"v\": \"V\", \"y\": \"Y\", \"z\": \"Z\" }\n",
    "> <b><u> Notes </u></b>\n",
    ">> All of the letters in the input list will always be lowercase."
   ]
  },
  {
   "cell_type": "code",
   "execution_count": null,
   "id": "e40ac878",
   "metadata": {},
   "outputs": [],
   "source": [
    "def mapping(lst):\n",
    "    dictionary = {}\n",
    "    for char in lst:\n",
    "        lowercase = char\n",
    "        uppercase = char.upper()\n",
    "        dictionary[lowercase] = uppercase\n",
    "    return dictionary\n",
    "\n",
    "print('mapping([\"p\", \"s\"]) ==>', mapping([\"p\", \"s\"]))\n",
    "print('mapping([\"a\", \"b\", \"c\"]) ==>', mapping([\"a\", \"b\", \"c\"]))\n",
    "print('mapping([\"a\", \"v\", \"y\", \"z\"]) ==>', mapping([\"a\", \"v\", \"y\", \"z\"]))\n",
    "\n"
   ]
  },
  {
   "cell_type": "markdown",
   "id": "41ce8fa4",
   "metadata": {},
   "source": [
    "## Question4. Write a function, that replaces all vowels in a string with a specified vowel.\n",
    "            Examples\n",
    "            vow_replace(\"apples and bananas\", \"u\") ➞ \"upplus und bununus\"\n",
    "            vow_replace(\"cheese casserole\", \"o\") ➞ \"chooso cossorolo\"\n",
    "            vow_replace(\"stuffed jalapeno poppers\", \"e\") ➞ \"steffed jelepene peppers\"\n",
    "> <b><u> Notes </u></b>\n",
    ">> All words will be lowercase. Y is not considered a vowel."
   ]
  },
  {
   "cell_type": "code",
   "execution_count": null,
   "id": "c8c94522",
   "metadata": {},
   "outputs": [],
   "source": [
    "def vow_replace(words, vowel):\n",
    "    vowels = \"aeiou\"\n",
    "    new_string = \"\"\n",
    "    for i in words:\n",
    "        if i in vowels:\n",
    "            new_string += vowel\n",
    "        else:\n",
    "            new_string += i\n",
    "    return new_string\n",
    "\n",
    "print(f'vow_replace(\"apples and bananas\", \"u\") ==> \"{vow_replace(\"apples and bananas\", \"u\")}\"')\n",
    "print(f'vow_replace(\"cheese casserole\", \"o\") ==> \"{vow_replace(\"cheese casserole\", \"o\")}\"')\n",
    "print(f'vow_replace(\"stuffed jalapeno poppers\", \"e\") ==> \"{vow_replace(\"stuffed jalapeno poppers\", \"e\")}\"')\n",
    "\n"
   ]
  },
  {
   "cell_type": "markdown",
   "id": "d9d7594e",
   "metadata": {},
   "source": [
    "## Question5. Create a function that takes a string as input and capitalizes a letter if its ASCII code is even and returns its lower case version if its ASCII code is odd.\n",
    "            Examples\n",
    "            ascii_capitalize(\"to be or not to be!\") ➞ \"To Be oR NoT To Be!\"\n",
    "            ascii_capitalize(\"THE LITTLE MERMAID\") ➞ \"THe LiTTLe meRmaiD\"\n",
    "            ascii_capitalize(\"Oh what a beautiful morning.\") ➞ \"oH wHaT a BeauTiFuL moRNiNg.\""
   ]
  },
  {
   "cell_type": "code",
   "execution_count": null,
   "id": "8b0965ef",
   "metadata": {},
   "outputs": [],
   "source": [
    "def ascii_capitalize(string):\n",
    "    new_string = \"\"\n",
    "    for letter in string:\n",
    "        ascii_code = ord(letter)\n",
    "        if ascii_code % 2 == 0:\n",
    "            new_string += letter.upper()\n",
    "        else:\n",
    "            new_string += letter.lower()\n",
    "    return new_string\n",
    "\n",
    "print(f'ascii_capitalize(\"to be or not to be!\") ==> \"{ascii_capitalize(\"to be or not to be!\")}\"')\n",
    "print(f'ascii_capitalize(\"THE LITTLE MERMAID\") ==> \"{ascii_capitalize(\"THE LITTLE MERMAID\")}\"')\n",
    "print(f'ascii_capitalize(\"Oh what a beautiful morning.\") ==> \"{ascii_capitalize(\"Oh what a beautiful morning.\")}\"')\n",
    "\n"
   ]
  },
  {
   "cell_type": "code",
   "execution_count": null,
   "id": "568e024d",
   "metadata": {},
   "outputs": [],
   "source": []
  },
  {
   "cell_type": "code",
   "execution_count": null,
   "id": "46edf673",
   "metadata": {},
   "outputs": [],
   "source": []
  }
 ],
 "metadata": {
  "kernelspec": {
   "display_name": "Python 3 (ipykernel)",
   "language": "python",
   "name": "python3"
  },
  "language_info": {
   "codemirror_mode": {
    "name": "ipython",
    "version": 3
   },
   "file_extension": ".py",
   "mimetype": "text/x-python",
   "name": "python",
   "nbconvert_exporter": "python",
   "pygments_lexer": "ipython3",
   "version": "3.11.3"
  }
 },
 "nbformat": 4,
 "nbformat_minor": 5
}
