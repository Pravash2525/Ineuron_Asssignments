{
 "cells": [
  {
   "cell_type": "markdown",
   "id": "b4d3801d",
   "metadata": {},
   "source": [
    " <h1> <u> <font color= green > Programming_Assignment_4 </font> </u> </h1>"
   ]
  },
  {
   "cell_type": "markdown",
   "id": "c2c64563",
   "metadata": {},
   "source": [
    "## 1. Write a Python Program to Find the Factorial of a Number?\n"
   ]
  },
  {
   "cell_type": "code",
   "execution_count": null,
   "id": "20ebcaa5",
   "metadata": {},
   "outputs": [],
   "source": [
    "number = int(input(\"Enter the number: \"))\n",
    "\n",
    "factorial_of_number = 1\n",
    "for i in range(1, number + 1):\n",
    "    factorial_of_number *= i\n",
    "  \n",
    "print(f\"The factorial of {number} is : {factorial_of_number}\")"
   ]
  },
  {
   "cell_type": "markdown",
   "id": "ed971614",
   "metadata": {},
   "source": [
    "## 2. Write a Python Program to Display the multiplication Table?\n",
    "\n"
   ]
  },
  {
   "cell_type": "code",
   "execution_count": null,
   "id": "1c19ff43",
   "metadata": {},
   "outputs": [],
   "source": [
    "number = int(input(\"Display Multiplication Table of : \"))\n",
    "\n",
    "for i in range(1, 11):\n",
    "    print(f\"{number} x {i} = {number * i}\")"
   ]
  },
  {
   "cell_type": "markdown",
   "id": "45bdd5fb",
   "metadata": {},
   "source": [
    "## 3. Write a Python Program to Print the Fibonacci sequence?\n",
    "\n",
    "> * ___Fibonacci Series Without using Recursion___\n",
    "\n"
   ]
  },
  {
   "cell_type": "code",
   "execution_count": null,
   "id": "28424e69",
   "metadata": {},
   "outputs": [],
   "source": [
    "terms = int(input(\"Enter the number of terms in the Fibonacci sequence: \"))\n",
    "a = 0  # first term\n",
    "b = 1  # second term\n",
    "print(a,b,end=\" \")\n",
    "while(terms - 2):  # two terms already printed, so (terms - 2)\n",
    "    c = a+b\n",
    "    a,b = b,c  \n",
    "    print(c,end=\" \")\n",
    "    terms -= 1"
   ]
  },
  {
   "cell_type": "markdown",
   "id": "04395721",
   "metadata": {},
   "source": [
    "> * ___Fibonacci Series With using Recursion___"
   ]
  },
  {
   "cell_type": "code",
   "execution_count": null,
   "id": "5bc1b8d1",
   "metadata": {},
   "outputs": [],
   "source": [
    "def fibonacci(n):\n",
    "    if(n <= 1):\n",
    "        return n\n",
    "    else:\n",
    "        return(fibonacci(n-1) + fibonacci(n-2))\n",
    "    \n",
    "terms = int(input(\"Enter the number of terms in the Fibonacci sequence: \"))\n",
    "for i in range(terms):\n",
    "    print(fibonacci(i), end = \" \")"
   ]
  },
  {
   "cell_type": "markdown",
   "id": "3e83fea5",
   "metadata": {},
   "source": [
    "## 4. Write a Python Program to Check Armstrong Number?\n",
    "\n",
    "> __Armstrong Number__ is an integer such that the sum of the cubes of its digits is equal to the number itself. <br>\n",
    "> for example:   1^3 + 5^3 + 3^3 = 153\n"
   ]
  },
  {
   "cell_type": "code",
   "execution_count": null,
   "id": "6bbe5af7",
   "metadata": {},
   "outputs": [],
   "source": [
    "number = int(input(\"Enter any number: \"))\n",
    "a = list(map(int,str(number)))\n",
    "b = list(map(lambda x:x**3,a))\n",
    "if (sum(b)==number):\n",
    "    print(f\"{number} is an Armstrong number.\")\n",
    "else:\n",
    "    print(f\"{number} is not an Armstrong number.\")"
   ]
  },
  {
   "cell_type": "markdown",
   "id": "f0c87918",
   "metadata": {},
   "source": [
    "## 5. Write a Python Program to Find Armstrong Number in an Interval?\n"
   ]
  },
  {
   "cell_type": "code",
   "execution_count": null,
   "id": "fa8daf0c",
   "metadata": {},
   "outputs": [],
   "source": [
    "def is_armstrong_number(number):\n",
    "    sum_of_digits = 0\n",
    "    for digit in str(number):\n",
    "        sum_of_digits += int(digit) ** len(str(number))\n",
    "    return number == sum_of_digits\n",
    "\n",
    "\n",
    "start = int(input(\"Enter starting point: \"))\n",
    "end = int(input(\"Enter ending point: \"))\n",
    "for i in range(start,end+1):\n",
    "    if is_armstrong_number(i):\n",
    "        print(f\"{i} is an Armstrong number.\")"
   ]
  },
  {
   "cell_type": "markdown",
   "id": "e9457697",
   "metadata": {},
   "source": [
    "## 6. Write a Python Program to Find the Sum of Natural Numbers?\n",
    "\n"
   ]
  },
  {
   "cell_type": "code",
   "execution_count": null,
   "id": "e4b6a1a0",
   "metadata": {},
   "outputs": [],
   "source": [
    "number = int(input(\"Enter the number of natural numbers: \"))\n",
    "\n",
    "sum_of_numbers = 0\n",
    "for i in range(1, number + 1):\n",
    "    sum_of_numbers += i\n",
    "    \n",
    "print(f\"The sum of the first {number} natural numbers is: {sum_of_numbers}\")"
   ]
  },
  {
   "cell_type": "code",
   "execution_count": null,
   "id": "c3f6553d",
   "metadata": {},
   "outputs": [],
   "source": []
  }
 ],
 "metadata": {
  "kernelspec": {
   "display_name": "Python 3 (ipykernel)",
   "language": "python",
   "name": "python3"
  },
  "language_info": {
   "codemirror_mode": {
    "name": "ipython",
    "version": 3
   },
   "file_extension": ".py",
   "mimetype": "text/x-python",
   "name": "python",
   "nbconvert_exporter": "python",
   "pygments_lexer": "ipython3",
   "version": "3.11.3"
  }
 },
 "nbformat": 4,
 "nbformat_minor": 5
}
