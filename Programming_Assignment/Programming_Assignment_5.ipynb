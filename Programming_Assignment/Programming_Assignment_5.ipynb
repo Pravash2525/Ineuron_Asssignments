{
 "cells": [
  {
   "cell_type": "markdown",
   "id": "8cbf60da",
   "metadata": {},
   "source": [
    " <h1> <u> <font color= green > Programming_Assignment_5 </font> </u> </h1>"
   ]
  },
  {
   "cell_type": "markdown",
   "id": "cfd1bd08",
   "metadata": {},
   "source": [
    "## 1. Write a Python Program to Find LCM?\n"
   ]
  },
  {
   "cell_type": "code",
   "execution_count": null,
   "id": "ecbed5a9",
   "metadata": {},
   "outputs": [],
   "source": [
    "num1 = int(input(\"Enter the first number: \"))\n",
    "num2 = int(input(\"Enter the second number: \"))\n",
    "max_num = max(num1,num2)\n",
    "\n",
    "while True:    \n",
    "    if max_num % num1 == 0 and max_num % num2 == 0:\n",
    "        lcm = max_num\n",
    "        break\n",
    "    max_num += 1\n",
    "    \n",
    "print(f\"The LCM of {num1} and {num2} is: {lcm}\")"
   ]
  },
  {
   "cell_type": "markdown",
   "id": "8a42676b",
   "metadata": {},
   "source": [
    "## 2. Write a Python Program to Find HCF?\n"
   ]
  },
  {
   "cell_type": "code",
   "execution_count": null,
   "id": "761a18c3",
   "metadata": {},
   "outputs": [],
   "source": [
    "num1 = int(input(\"Enter the first number: \"))\n",
    "num2 = int(input(\"Enter the second number: \"))\n",
    "hcf = 1\n",
    "for i in range(1, num1 + 1):\n",
    "    if num1 % i == 0 and num2 % i == 0:\n",
    "        hcf = i\n",
    "\n",
    "print(f\"The HCF of {num1} and {num2} is: {hcf}\")"
   ]
  },
  {
   "cell_type": "markdown",
   "id": "e8286626",
   "metadata": {},
   "source": [
    "## 3. Write a Python Program to Convert Decimal to Binary, Octal and Hexadecimal?\n",
    "\n"
   ]
  },
  {
   "cell_type": "code",
   "execution_count": null,
   "id": "a9915973",
   "metadata": {},
   "outputs": [],
   "source": [
    "decimal = int(input(\"Enter a decimal number: \"))\n",
    "\n",
    "decimal_to_binary = bin(decimal)[2:]  # Remove the '0b' prefix from the binary string\n",
    "decimal_to_octal = oct(decimal)[2:]  # Remove the '0o' prefix from the octal string\n",
    "decimal_to_hexadecimal = hex(decimal)[2:]  # Remove the '0x' prefix from the hexadecimal string\n",
    "\n",
    "print(f\"Binary representation: {decimal_to_binary}\")\n",
    "print(f\"Octal representation: {decimal_to_octal}\")\n",
    "print(f\"Hexadecimal representation: {decimal_to_hexadecimal}\")"
   ]
  },
  {
   "cell_type": "markdown",
   "id": "6a605541",
   "metadata": {},
   "source": [
    "## 4. Write a Python Program To Find ASCII value of a character?\n",
    "\n"
   ]
  },
  {
   "cell_type": "code",
   "execution_count": null,
   "id": "d8154b10",
   "metadata": {},
   "outputs": [],
   "source": [
    "character = input(\"Enter a character: \")\n",
    "ascii_value = ord(character)\n",
    "print(f\"The ASCII value of '{character}' is {ascii_value}.\")"
   ]
  },
  {
   "cell_type": "markdown",
   "id": "3d178ade",
   "metadata": {},
   "source": [
    "## 5. Write a Python Program to Make a Simple Calculator with 4 basic mathematical operations?\n",
    "\n"
   ]
  },
  {
   "cell_type": "code",
   "execution_count": null,
   "id": "bf787f7c",
   "metadata": {},
   "outputs": [],
   "source": [
    "def add(number1, number2):\n",
    "    return number1 + number2\n",
    "\n",
    "def subtract(number1, number2):\n",
    "    return number1 - number2\n",
    "\n",
    "def multiply(number1, number2):\n",
    "    return number1 * number2\n",
    "\n",
    "def divide(number1, number2):\n",
    "    return round(number1 / number2, 2)\n",
    "\n",
    "\n",
    "operation = input(\"Select an operation (add = 1, subtract = 2, multiply = 3, divide = 4): \")\n",
    "number1 = float(input(\"Enter the first number: \"))\n",
    "number2 = float(input(\"Enter the second number: \"))\n",
    "\n",
    "if operation == \"add\" or operation == str(1):\n",
    "    print(f\"{number1} + {number2} = {add(number1, number2)}\")\n",
    "elif operation == \"subtract\" or operation == str(2):\n",
    "    print(f\"{number1} - {number2} = {subtract(number1, number2)}\")\n",
    "elif operation == \"multiply\" or operation == str(3):\n",
    "    print(f\"{number1} * {number2} = {multiply(number1, number2)}\")\n",
    "elif operation == \"divide\" or operation == str(4):\n",
    "    if number2 != 0:\n",
    "        print(f\"{number1} / {number2} = {divide(number1, number2)}\")\n",
    "    else:\n",
    "        print(\"Error: Division by zero is not allowed.\") \n",
    "else:\n",
    "    print(\"Invalid Operator Selection.\")\n"
   ]
  },
  {
   "cell_type": "code",
   "execution_count": null,
   "id": "5d74ebd7",
   "metadata": {},
   "outputs": [],
   "source": []
  }
 ],
 "metadata": {
  "kernelspec": {
   "display_name": "Python 3 (ipykernel)",
   "language": "python",
   "name": "python3"
  },
  "language_info": {
   "codemirror_mode": {
    "name": "ipython",
    "version": 3
   },
   "file_extension": ".py",
   "mimetype": "text/x-python",
   "name": "python",
   "nbconvert_exporter": "python",
   "pygments_lexer": "ipython3",
   "version": "3.11.3"
  }
 },
 "nbformat": 4,
 "nbformat_minor": 5
}
