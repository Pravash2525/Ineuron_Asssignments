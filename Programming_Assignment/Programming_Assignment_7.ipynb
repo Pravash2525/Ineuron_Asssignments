{
 "cells": [
  {
   "cell_type": "markdown",
   "id": "3dc465e5",
   "metadata": {},
   "source": [
    "<h1> <u> <font color= green > Programming_Assignment_7 </font> </u> </h1>"
   ]
  },
  {
   "cell_type": "markdown",
   "id": "c7d2c957",
   "metadata": {},
   "source": [
    "## 1. Write a Python Program to find sum of array?\n"
   ]
  },
  {
   "cell_type": "code",
   "execution_count": null,
   "id": "29578cb9",
   "metadata": {},
   "outputs": [],
   "source": [
    "def sum_of_array(array):\n",
    "    sum = 0\n",
    "    for element in array:\n",
    "        sum += element\n",
    "    return sum\n",
    "\n",
    "\n",
    "array = [1, 2, 3, 4, 5]\n",
    "sum_of_array = sum_of_array(array)\n",
    "print(f\"The sum of the elements in the array is: {sum_of_array}\")\n"
   ]
  },
  {
   "cell_type": "markdown",
   "id": "1dfdf5be",
   "metadata": {},
   "source": [
    "## 2. Write a Python Program to find largest element in an array?"
   ]
  },
  {
   "cell_type": "code",
   "execution_count": null,
   "id": "19f1c180",
   "metadata": {},
   "outputs": [],
   "source": [
    "array = [1, 2, 3, 4, 5]\n",
    "largest_element = max(array)\n",
    "print(f\"The largest element in the array is: {largest_element}\")\n"
   ]
  },
  {
   "cell_type": "markdown",
   "id": "2c1ce952",
   "metadata": {},
   "source": [
    "## 3. Write a Python Program for array rotation?"
   ]
  },
  {
   "cell_type": "code",
   "execution_count": null,
   "id": "e1790365",
   "metadata": {},
   "outputs": [],
   "source": [
    "def rotate_array(arr, rotations): # Perform rotations by shifting elements to the left    \n",
    "    for _ in range(rotations):\n",
    "        temp = arr[0]\n",
    "        for i in range(len(arr) - 1):\n",
    "            arr[i] = arr[i + 1]\n",
    "        arr[-1] = temp\n",
    "\n",
    "array = [1, 2, 3, 4, 5]\n",
    "num_rotations = int(input(\"Enter the number of rotations: \"))\n",
    "\n",
    "print(\"Original Array:\", array)\n",
    "rotate_array(array, num_rotations)\n",
    "print(\"Rotated Array:\", array)\n"
   ]
  },
  {
   "cell_type": "markdown",
   "id": "2443c3db",
   "metadata": {},
   "source": [
    "## 4. Write a Python Program to Split the array and add the first part to the end?"
   ]
  },
  {
   "cell_type": "code",
   "execution_count": null,
   "id": "f601bf79",
   "metadata": {},
   "outputs": [],
   "source": [
    "def split_and_add(arr, split_index):\n",
    "    if split_index >= len(arr):\n",
    "        return arr          # Return the array as it is if split_index is out of range\n",
    "\n",
    "    return arr[split_index:] + arr[:split_index]    # Split the array into two parts and add the first part to the end\n",
    "\n",
    "array = [1, 2, 3, 4, 5]\n",
    "split_index = int(input(\"Enter the split index: \"))\n",
    "\n",
    "print(\"Original Array:\", array)\n",
    "result = split_and_add(array, split_index)\n",
    "print(\"Modified Array:\", result)\n"
   ]
  },
  {
   "cell_type": "markdown",
   "id": "e2e4754e",
   "metadata": {},
   "source": [
    "## 5. Write a Python Program to check if given array is Monotonic?"
   ]
  },
  {
   "cell_type": "code",
   "execution_count": null,
   "id": "29e7c100",
   "metadata": {},
   "outputs": [],
   "source": [
    "def is_monotonic(array):\n",
    "    increasing = True\n",
    "    decreasing = True\n",
    "    for i in range(1, len(array)):\n",
    "        if array[i] > array[i - 1]:\n",
    "            increasing = False\n",
    "        elif array[i] < array[i - 1]:\n",
    "            decreasing = False\n",
    "    return increasing or decreasing\n",
    "\n",
    "\n",
    "array = [1, 2, 3, 4, 5]\n",
    "is_monotonic_array = is_monotonic(array)\n",
    "print(f\"The array is monotonic: {is_monotonic_array}\")\n",
    "\n",
    "\n"
   ]
  },
  {
   "cell_type": "code",
   "execution_count": null,
   "id": "b7ed3628",
   "metadata": {},
   "outputs": [],
   "source": []
  }
 ],
 "metadata": {
  "kernelspec": {
   "display_name": "Python 3 (ipykernel)",
   "language": "python",
   "name": "python3"
  },
  "language_info": {
   "codemirror_mode": {
    "name": "ipython",
    "version": 3
   },
   "file_extension": ".py",
   "mimetype": "text/x-python",
   "name": "python",
   "nbconvert_exporter": "python",
   "pygments_lexer": "ipython3",
   "version": "3.11.3"
  }
 },
 "nbformat": 4,
 "nbformat_minor": 5
}
