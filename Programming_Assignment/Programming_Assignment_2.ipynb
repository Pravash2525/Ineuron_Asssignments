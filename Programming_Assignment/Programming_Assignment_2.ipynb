{
 "cells": [
  {
   "cell_type": "markdown",
   "id": "0c6d4823",
   "metadata": {},
   "source": [
    "<h1> <u> <font color= green > Programming_Assignment_2 </font> </u> </h1>"
   ]
  },
  {
   "cell_type": "markdown",
   "id": "6f9b12be",
   "metadata": {},
   "source": [
    "## 1. Write a Python program to convert kilometers to miles?\n",
    "\n"
   ]
  },
  {
   "cell_type": "code",
   "execution_count": null,
   "id": "2d2ba2b4",
   "metadata": {},
   "outputs": [],
   "source": [
    "kilometers = int(input(\"Write kilometers: \"))\n",
    "miles = kilometers * 0.621371\n",
    "print(f\"{kilometers} kilometers is equal to {miles} miles.\")"
   ]
  },
  {
   "cell_type": "markdown",
   "id": "e90d6213",
   "metadata": {},
   "source": [
    "## 2. Write a Python program to convert Celsius to Fahrenheit?\n"
   ]
  },
  {
   "cell_type": "code",
   "execution_count": null,
   "id": "8eea07ef",
   "metadata": {},
   "outputs": [],
   "source": [
    "celsius = int(input(\"Write temperature in degree celsius: \"))\n",
    "fahrenheit = round(celsius * 1.8 + 32, 2)\n",
    "print(f\"{celsius}°C is equal to {fahrenheit}°F.\")"
   ]
  },
  {
   "cell_type": "markdown",
   "id": "e53bc2f5",
   "metadata": {},
   "source": [
    "## 3. Write a Python program to display calendar?\n"
   ]
  },
  {
   "cell_type": "code",
   "execution_count": null,
   "id": "80c5b2fa",
   "metadata": {},
   "outputs": [],
   "source": [
    "import calendar\n",
    "\n",
    "year = int(input(\"Write year \"))\n",
    "month = int(input(\"Write month \"))\n",
    "print(calendar.month(year, month))"
   ]
  },
  {
   "cell_type": "markdown",
   "id": "c857259d",
   "metadata": {},
   "source": [
    "## 4. Write a Python program to solve quadratic equation?\n",
    "\n"
   ]
  },
  {
   "cell_type": "code",
   "execution_count": null,
   "id": "806752ec",
   "metadata": {},
   "outputs": [],
   "source": [
    "import math\n",
    "\n",
    "a = float(input(\"Enter the coefficient of x^2 (a): \"))\n",
    "b = float(input(\"Enter the coefficient of x (b): \"))\n",
    "c = float(input(\"Enter the constant term (c): \"))\n",
    "\n",
    "discriminant = b**2 - 4*a*c     # Calculate the discriminant\n",
    "\n",
    "if discriminant > 0:            # Two real and distinct solutions    \n",
    "    x1 = (-b + math.sqrt(discriminant)) / (2*a)\n",
    "    x2 = (-b - math.sqrt(discriminant)) / (2*a)\n",
    "    print(f\"Solution are: {x1}, {x2}\")\n",
    "elif discriminant == 0:          # One real solution (both roots are the same)    \n",
    "    x = -b / (2*a)\n",
    "    print(f\"Solution are: {x}, {x}\")\n",
    "else:                            # Complex solutions (no real roots)         \n",
    "    real_part = -b / (2*a)\n",
    "    imaginary_part = math.sqrt(abs(discriminant)) / (2*a)\n",
    "    x1 = complex(real_part, imaginary_part)\n",
    "    x2 = complex(real_part, -imaginary_part)\n",
    "    print(f\"Solution are: {x1}, {x2}\")"
   ]
  },
  {
   "cell_type": "markdown",
   "id": "55649b70",
   "metadata": {},
   "source": [
    "## 5. Write a Python program to swap two variables without temp variable?\n"
   ]
  },
  {
   "cell_type": "code",
   "execution_count": null,
   "id": "0f7a0989",
   "metadata": {},
   "outputs": [],
   "source": [
    "x = int(input(\"Enter first number: \"))\n",
    "y = int(input(\"Enter second number: \"))\n",
    "print(f\"Before swap: {x}, {y}\")\n",
    "x = x + y\n",
    "y = x - y\n",
    "x = x - y\n",
    "print(f\"After swap: {x}, {y}\")"
   ]
  },
  {
   "cell_type": "code",
   "execution_count": null,
   "id": "4186b1fc",
   "metadata": {},
   "outputs": [],
   "source": []
  }
 ],
 "metadata": {
  "kernelspec": {
   "display_name": "Python 3 (ipykernel)",
   "language": "python",
   "name": "python3"
  },
  "language_info": {
   "codemirror_mode": {
    "name": "ipython",
    "version": 3
   },
   "file_extension": ".py",
   "mimetype": "text/x-python",
   "name": "python",
   "nbconvert_exporter": "python",
   "pygments_lexer": "ipython3",
   "version": "3.11.3"
  }
 },
 "nbformat": 4,
 "nbformat_minor": 5
}
