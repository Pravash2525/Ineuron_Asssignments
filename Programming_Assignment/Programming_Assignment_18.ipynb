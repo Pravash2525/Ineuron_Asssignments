{
 "cells": [
  {
   "cell_type": "markdown",
   "id": "969f761b",
   "metadata": {},
   "source": [
    "<h1> <u> <font color= green > Programming_Assignment_18 </font> </u> </h1>"
   ]
  },
  {
   "cell_type": "markdown",
   "id": "9acd5af9",
   "metadata": {},
   "source": [
    "## Question 1. Create a function that takes a list of non-negative integers and strings and return a new list without the strings.\n",
    "            Examples\n",
    "            filter_list([1, 2, \"a\", \"b\"]) ➞ [1, 2]\n",
    "            filter_list([1, \"a\", \"b\", 0, 15]) ➞ [1, 0, 15]\n",
    "            filter_list([1, 2, \"aasf\", \"1\", \"123\", 123]) ➞ [1, 2, 123]"
   ]
  },
  {
   "cell_type": "code",
   "execution_count": null,
   "id": "76168850",
   "metadata": {},
   "outputs": [],
   "source": [
    "def filter_list(list_items):\n",
    "    new_list = []\n",
    "    for item in list_items:\n",
    "        if isinstance(item, int) and item >= 0:\n",
    "            new_list.append(item)\n",
    "    return new_list\n",
    "\n",
    "print('filter_list([1, 2, \"a\", \"b\"]) ==>', filter_list([1, 2, \"a\", \"b\"]))\n",
    "print('filter_list([1, \"a\", \"b\", 0, 15]) ==>', filter_list([1, \"a\", \"b\", 0, 15]))\n",
    "print('filter_list([1, 2, \"aasf\", \"1\", \"123\", 123]) ==>', filter_list([1, 2, \"aasf\", \"1\", \"123\", 123]))\n"
   ]
  },
  {
   "cell_type": "markdown",
   "id": "c2e713c1",
   "metadata": {},
   "source": [
    "## Question 2. The \"Reverser\" takes a string as input and returns that string in reverse order, with the opposite case.\n",
    "            Examples\n",
    "            reverse(\"Hello World\") ➞ \"DLROw OLLEh\"\n",
    "            reverse(\"ReVeRsE\") ➞ \"eSrEvEr\"\n",
    "            reverse(\"Radar\") ➞ \"RADAr\""
   ]
  },
  {
   "cell_type": "code",
   "execution_count": null,
   "id": "6a4dd51c",
   "metadata": {},
   "outputs": [],
   "source": [
    "def reverse(string):\n",
    "    new_string = \"\"\n",
    "    for char in string:\n",
    "        if char.isupper():\n",
    "            new_char = char.lower()\n",
    "        else:\n",
    "            new_char = char.upper()\n",
    "        new_string += new_char\n",
    "    return new_string[::-1]\n",
    "\n",
    "print(f'reverse(\"Hello World\") ==> \"{reverse(\"Hello World\")}\"')\n",
    "print(f'reverse(\"ReVeRsE\") ==> \"{reverse(\"ReVeRsE\")}\"')\n",
    "print(f'reverse(\"Radar\") ==> \"{reverse(\"Radar\")}\"')"
   ]
  },
  {
   "cell_type": "markdown",
   "id": "4e235967",
   "metadata": {},
   "source": [
    "## Question 3. You can assign variables from lists like this:\n",
    "            lst = [1, 2, 3, 4, 5, 6]\n",
    "            first = lst[0]\n",
    "            middle = lst[1:-1]\n",
    "            last = lst[-1]\n",
    "                print(first) ➞ outputs 1\n",
    "                print(middle) ➞ outputs [2, 3, 4, 5]\n",
    "                print(last) ➞ outputs 6\n",
    "### With Python 3, you can assign variables from lists in a much more succinct way. Create variables first, middle and last from the given list using destructuring assignment\n",
    "            (check the Resources tab for some examples), where:\n",
    "            first ➞ 1\n",
    "            middle ➞ [2, 3, 4, 5]\n",
    "            last ➞ 6\n",
    "### Your task is to unpack the list writeyourcodehere into three variables, being first, middle, and last, with middle being everything in between the first and last element. Then print all three variables."
   ]
  },
  {
   "cell_type": "code",
   "execution_count": null,
   "id": "7287d5c2",
   "metadata": {},
   "outputs": [],
   "source": [
    "def unpack_list(list_items):\n",
    "    first, *middle, last = list_items\n",
    "    return first, middle, last\n",
    "\n",
    "my_list = [1, 2, 3, 4, 5, 6]\n",
    "first, middle, last = unpack_list(my_list)\n",
    "\n",
    "print('first ==>', first)\n",
    "print('middle ==>', middle)\n",
    "print('last ==>', last)\n"
   ]
  },
  {
   "cell_type": "markdown",
   "id": "12932a3d",
   "metadata": {},
   "source": [
    "## Question 4. Write a function that calculates the factorial of a number recursively.\n",
    "            Examples\n",
    "            factorial(5) ➞ 120\n",
    "            factorial(3) ➞ 6\n",
    "            factorial(1) ➞ 1\n",
    "            factorial(0) ➞ 1"
   ]
  },
  {
   "cell_type": "code",
   "execution_count": null,
   "id": "eece290f",
   "metadata": {},
   "outputs": [],
   "source": [
    "def factorial(num):\n",
    "    if num == 0:\n",
    "        return 1\n",
    "    else:\n",
    "        return num * factorial(num - 1)\n",
    "\n",
    "print(\"factorial(5) ==>\",factorial(5))\n",
    "print(\"factorial(3) ==>\",factorial(3))\n",
    "print(\"factorial(1) ==>\",factorial(1))\n",
    "print(\"factorial(0) ==>\",factorial(0))\n"
   ]
  },
  {
   "cell_type": "markdown",
   "id": "02b0ae09",
   "metadata": {},
   "source": [
    "## Question 5. Write a function that moves all elements of one type to the end of the list.\n",
    "            Examples\n",
    "            move_to_end([1, 3, 2, 4, 4, 1], 1) ➞ [3, 2, 4, 4, 1, 1]\n",
    "            \n",
    "            # Move all the 1s to the end of the array.\n",
    "            move_to_end([7, 8, 9, 1, 2, 3, 4], 9) ➞ [7, 8, 1, 2, 3, 4, 9]\n",
    "            move_to_end([\"a\", \"a\", \"a\", \"b\"], \"a\") ➞ [\"b\", \"a\", \"a\", \"a\"]"
   ]
  },
  {
   "cell_type": "code",
   "execution_count": null,
   "id": "7abd2f0c",
   "metadata": {},
   "outputs": [],
   "source": [
    "def move_to_end(lst, element):    \n",
    "    count = lst.count(element)              \n",
    "    lst = [x for x in lst if x != element]      \n",
    "    lst.extend([element] * count)           \n",
    "    \n",
    "    return lst\n",
    "\n",
    "print('move_to_end([1, 3, 2, 4, 4, 1], 1) ==>', move_to_end([1, 3, 2, 4, 4, 1], 1))\n",
    "print('move_to_end([7, 8, 9, 1, 2, 3, 4], 9) ==>', move_to_end([7, 8, 9, 1, 2, 3, 4], 9))\n",
    "print('move_to_end([\"a\", \"a\", \"a\", \"b\"], \"a\") ==>', move_to_end([\"a\", \"a\", \"a\", \"b\"], \"a\"))\n"
   ]
  },
  {
   "cell_type": "code",
   "execution_count": null,
   "id": "7b97d894",
   "metadata": {},
   "outputs": [],
   "source": []
  }
 ],
 "metadata": {
  "kernelspec": {
   "display_name": "Python 3 (ipykernel)",
   "language": "python",
   "name": "python3"
  },
  "language_info": {
   "codemirror_mode": {
    "name": "ipython",
    "version": 3
   },
   "file_extension": ".py",
   "mimetype": "text/x-python",
   "name": "python",
   "nbconvert_exporter": "python",
   "pygments_lexer": "ipython3",
   "version": "3.11.3"
  }
 },
 "nbformat": 4,
 "nbformat_minor": 5
}
