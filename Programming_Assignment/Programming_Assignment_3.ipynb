{
 "cells": [
  {
   "cell_type": "markdown",
   "id": "8114fa2b",
   "metadata": {},
   "source": [
    "<h1> <u> <font color= green > Programming_Assignment_3 </font> </u> </h1>"
   ]
  },
  {
   "cell_type": "markdown",
   "id": "200f9121",
   "metadata": {},
   "source": [
    "## 1. Write a Python Program to Check if a Number is Positive, Negative or Zero?\n"
   ]
  },
  {
   "cell_type": "code",
   "execution_count": null,
   "id": "8012b4ef",
   "metadata": {},
   "outputs": [],
   "source": [
    "number = int(input(\"Enter a number: \"))\n",
    "\n",
    "if number > 0:\n",
    "    print(\"Positive\")\n",
    "elif number < 0:\n",
    "    print(\"Negative\")\n",
    "else:\n",
    "    print(\"Zero\")"
   ]
  },
  {
   "cell_type": "markdown",
   "id": "90cbce37",
   "metadata": {},
   "source": [
    "## 2. Write a Python Program to Check if a Number is Odd or Even?\n",
    "\n"
   ]
  },
  {
   "cell_type": "code",
   "execution_count": null,
   "id": "8a974b74",
   "metadata": {},
   "outputs": [],
   "source": [
    "number = int(input(\"Enter a number: \"))\n",
    "\n",
    "if number%2 == 0:\n",
    "    print(\"Even\")\n",
    "else:\n",
    "    print(\"Odd\")"
   ]
  },
  {
   "cell_type": "markdown",
   "id": "cb335252",
   "metadata": {},
   "source": [
    "## 3. Write a Python Program to Check Leap Year?\n",
    "\n",
    "> + The year should be divisible by 4.\n",
    "> + If the year is divisible by 100, then it should also be divisible by 400.\n",
    "> + The year should be divisible by 400. \n",
    "> * ___Method-1:___\n"
   ]
  },
  {
   "cell_type": "code",
   "execution_count": null,
   "id": "ec102cd9",
   "metadata": {},
   "outputs": [],
   "source": [
    "year = int(input(\"Enter the year: \"))\n",
    "\n",
    "if year % 400 == 0:\n",
    "    print(\"Leap Year\")\n",
    "elif year % 100 == 0:\n",
    "    print(\"Not a Leap Year\")\n",
    "else:\n",
    "    if year % 4 == 0:\n",
    "        print(\"Leap Year\")\n",
    "    else:\n",
    "        print(\"Not a Leap Year\")"
   ]
  },
  {
   "cell_type": "markdown",
   "id": "bbe4a973",
   "metadata": {},
   "source": [
    "> * ___Method-2:___ "
   ]
  },
  {
   "cell_type": "code",
   "execution_count": null,
   "id": "c56f00aa",
   "metadata": {},
   "outputs": [],
   "source": [
    "year = int(input('Enter year : '))\n",
    " \n",
    "if (year%4 == 0 and year%100 != 0) or (year%400 == 0) :\n",
    "    print(year, \"is a leap year.\")\n",
    "else :\n",
    "    print(year, \"is not a leap year.\")"
   ]
  },
  {
   "cell_type": "markdown",
   "id": "f7062265",
   "metadata": {},
   "source": [
    "## 4. Write a Python Program to Check Prime Number?\n"
   ]
  },
  {
   "cell_type": "code",
   "execution_count": null,
   "id": "a6b7ee28",
   "metadata": {},
   "outputs": [],
   "source": [
    "num = int(input(\"Enter a number: \"))\n",
    "\n",
    "flag = False\n",
    "if num == 1:\n",
    "    print(num, \"is not a prime number\")\n",
    "elif num > 1:    \n",
    "    for i in range(2, num): # check for factors\n",
    "        if (num % i) == 0:            \n",
    "            flag = True     # if factor is found, set flag to True             \n",
    "            break           # and break out of loop\n",
    "\n",
    "    \n",
    "if flag:    # check if flag is True\n",
    "    print(num, \"is not a prime number\")\n",
    "else:\n",
    "    print(num, \"is a prime number\")"
   ]
  },
  {
   "cell_type": "markdown",
   "id": "0e27c803",
   "metadata": {},
   "source": [
    "## 5. Write a Python Program to Print all Prime Numbers in an Interval of 1-10000?\n",
    "\n"
   ]
  },
  {
   "cell_type": "code",
   "execution_count": null,
   "id": "3ef2aee1",
   "metadata": {},
   "outputs": [],
   "source": [
    "def is_prime(number):  \n",
    "    if number <= 1:\n",
    "        return False\n",
    "    for i in range(2, number):\n",
    "        if number % i == 0:\n",
    "            return False\n",
    "    return True\n",
    "\n",
    "start = 1\n",
    "end = 10000\n",
    "for i in range(start, end+1):\n",
    "    if is_prime(i):\n",
    "        print(f\"{i} is a prime number.\")"
   ]
  },
  {
   "cell_type": "code",
   "execution_count": null,
   "id": "c220879b",
   "metadata": {},
   "outputs": [],
   "source": []
  }
 ],
 "metadata": {
  "kernelspec": {
   "display_name": "Python 3 (ipykernel)",
   "language": "python",
   "name": "python3"
  },
  "language_info": {
   "codemirror_mode": {
    "name": "ipython",
    "version": 3
   },
   "file_extension": ".py",
   "mimetype": "text/x-python",
   "name": "python",
   "nbconvert_exporter": "python",
   "pygments_lexer": "ipython3",
   "version": "3.11.3"
  }
 },
 "nbformat": 4,
 "nbformat_minor": 5
}
