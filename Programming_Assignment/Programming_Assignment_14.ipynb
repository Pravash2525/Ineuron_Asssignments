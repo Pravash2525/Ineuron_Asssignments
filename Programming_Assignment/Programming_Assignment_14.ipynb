{
 "cells": [
  {
   "cell_type": "markdown",
   "id": "8279765f",
   "metadata": {},
   "source": [
    "<h1> <u> <font color= green > Programming_Assignment_14 </font> </u> </h1>"
   ]
  },
  {
   "cell_type": "markdown",
   "id": "d49e4ec8",
   "metadata": {},
   "source": [
    "## Question 1: Define a class with a generator which can iterate the numbers, which are divisible by 7, between a given range 0 and n."
   ]
  },
  {
   "cell_type": "code",
   "execution_count": null,
   "id": "0a9c960d",
   "metadata": {},
   "outputs": [],
   "source": [
    "class DivisbleGenerator:\n",
    "    def __init__(self, n):\n",
    "        self.n = n\n",
    "\n",
    "    def __iter__(self):\n",
    "        for i in range(self.n):\n",
    "            if i % 7 == 0:\n",
    "                yield i\n",
    "\n",
    "\n",
    "n = 100\n",
    "generator = DivisbleGenerator(n)\n",
    "for i in generator:\n",
    "    print(i)\n",
    "\n"
   ]
  },
  {
   "cell_type": "markdown",
   "id": "46c436e9",
   "metadata": {},
   "source": [
    "## Question 2: Write a program to compute the frequency of the words from the input. The output should output after sorting the key alphanumerically.\n",
    "            Suppose the following input is supplied to the program:\n",
    "                New to Python or choosing between Python 2 and Python 3? Read Python 2 or\n",
    "                Python 3.\n",
    "                Then, the output should be:\n",
    "                        2:2\n",
    "                        3.:1\n",
    "                        3?:1\n",
    "                        New:1\n",
    "                        Python:5\n",
    "                        Read:1\n",
    "                        and:1\n",
    "                        between:1\n",
    "                        choosing:1\n",
    "                        or:2\n",
    "                        to:1"
   ]
  },
  {
   "cell_type": "code",
   "execution_count": null,
   "id": "128f2ff3",
   "metadata": {},
   "outputs": [],
   "source": [
    "import collections\n",
    "\n",
    "def word_frequency(text):\n",
    "    word_counts = collections.defaultdict(int)\n",
    "    for word in text.split():\n",
    "        word_counts[word] += 1\n",
    "    return word_counts\n",
    "\n",
    "\n",
    "text = \"New to Python or choosing between Python 2 and Python 3? Read Python 2 or Python 3.\"\n",
    "word_counts = word_frequency(text)\n",
    "for word, count in sorted(word_counts.items()):\n",
    "    print(f\"{word}: {count}\")\n",
    "\n"
   ]
  },
  {
   "cell_type": "markdown",
   "id": "b83db7d9",
   "metadata": {},
   "source": [
    "## Question 3: Define a class Person and its two child classes: Male and Female. All classes have a method \"getGender\" which can print \"Male\" for Male class and \"Female\" for Female class."
   ]
  },
  {
   "cell_type": "code",
   "execution_count": null,
   "id": "18489d7a",
   "metadata": {},
   "outputs": [],
   "source": [
    "class Person:\n",
    "    def __init__(self, name, gender):\n",
    "        self.name = name\n",
    "        self.gender = gender\n",
    "\n",
    "    def getGender(self):\n",
    "        return self.gender\n",
    "\n",
    "class Male(Person):\n",
    "      pass\n",
    "    \n",
    "class Female(Person):\n",
    "      pass\n",
    "\n",
    "\n",
    "male = Male(\"John Doe\", \"Male\")\n",
    "print(male.getGender())\n",
    "\n",
    "female = Female(\"Jane Doe\", \"Female\")\n",
    "print(female.getGender())\n"
   ]
  },
  {
   "cell_type": "markdown",
   "id": "6acaf63e",
   "metadata": {},
   "source": [
    "## Question 4: Please write a program to generate all sentences where subject is in [\"I\", \"You\"] and verb is in [\"Play\", \"Love\"] and the object is in [\"Hockey\",\"Football\"]."
   ]
  },
  {
   "cell_type": "code",
   "execution_count": null,
   "id": "8aeb3666",
   "metadata": {},
   "outputs": [],
   "source": [
    "\n",
    "subjects = [\"I\", \"You\"]\n",
    "verbs = [\"Play\", \"Love\"]\n",
    "objects = [\"Hockey\", \"Football\"]\n",
    "\n",
    "for subject in subjects:\n",
    "    for verb in verbs:\n",
    "        for object in objects:\n",
    "            sentence = \"{} {} {}\".format(subject, verb, object)\n",
    "            print(sentence)\n"
   ]
  },
  {
   "cell_type": "markdown",
   "id": "43b54ffc",
   "metadata": {},
   "source": [
    "## Question 5: Please write a program to compress and decompress the string \"hello world!hello world!hello world!hello world!\"."
   ]
  },
  {
   "cell_type": "code",
   "execution_count": null,
   "id": "abc98761",
   "metadata": {},
   "outputs": [],
   "source": [
    "import zlib\n",
    "\n",
    "def compress(string):\n",
    "    compressed = zlib.compress(string.encode(\"utf-8\"))\n",
    "    return compressed\n",
    "\n",
    "def decompress(compressed):\n",
    "    decompressed = zlib.decompress(compressed)\n",
    "    return decompressed.decode(\"utf-8\")\n",
    "\n",
    "\n",
    "string = \"hello world!hello world!hello world!hello world!\"\n",
    "compressed = compress(string)\n",
    "decompressed = decompress(compressed)\n",
    "print(\"Original string:\", string)\n",
    "print(\"Compressed string:\", compressed)\n",
    "print(\"Decompressed string:\", decompressed)\n"
   ]
  },
  {
   "cell_type": "markdown",
   "id": "b9f14358",
   "metadata": {},
   "source": [
    "## Question 6: Please write a binary search function which searches an item in a sorted list. The function should return the index of element to be searched in the list."
   ]
  },
  {
   "cell_type": "code",
   "execution_count": null,
   "id": "bda78b92",
   "metadata": {},
   "outputs": [],
   "source": [
    "def binary_search(list, item):\n",
    "    low = 0\n",
    "    high = len(list) - 1\n",
    "    while low <= high:\n",
    "        mid = (low + high) // 2\n",
    "        if list[mid] == item:\n",
    "            return mid\n",
    "        elif list[mid] < item:\n",
    "            low = mid + 1\n",
    "        else:\n",
    "            high = mid - 1\n",
    "    return -1\n",
    "\n",
    "\n",
    "my_list = [1, 3, 5, 7, 9]\n",
    "search_item = 5\n",
    "\n",
    "index = binary_search(my_list, search_item)\n",
    "\n",
    "if index == -1:\n",
    "    print(\"The item is not found.\")\n",
    "else:\n",
    "    print(\"The item is found at index:\", index)\n"
   ]
  },
  {
   "cell_type": "code",
   "execution_count": null,
   "id": "38193056",
   "metadata": {},
   "outputs": [],
   "source": []
  }
 ],
 "metadata": {
  "kernelspec": {
   "display_name": "Python 3 (ipykernel)",
   "language": "python",
   "name": "python3"
  },
  "language_info": {
   "codemirror_mode": {
    "name": "ipython",
    "version": 3
   },
   "file_extension": ".py",
   "mimetype": "text/x-python",
   "name": "python",
   "nbconvert_exporter": "python",
   "pygments_lexer": "ipython3",
   "version": "3.11.2"
  }
 },
 "nbformat": 4,
 "nbformat_minor": 5
}
