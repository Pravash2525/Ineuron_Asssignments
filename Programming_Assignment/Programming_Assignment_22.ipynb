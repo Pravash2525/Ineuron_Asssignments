{
 "cells": [
  {
   "cell_type": "markdown",
   "id": "8279765f",
   "metadata": {},
   "source": [
    "<h1> <u> <font color= green > Programming_Assignment_22 </font> </u> </h1>"
   ]
  },
  {
   "cell_type": "markdown",
   "id": "421d5510",
   "metadata": {},
   "source": [
    "## Question1. Create a function that takes three parameters where:\n",
    "        • x is the start of the range (inclusive).\n",
    "        • y is the end of the range (inclusive).\n",
    "        • n is the divisor to be checked against.\n",
    "### Return an ordered list with numbers in the range that are divisible by the third parameter n. Return an empty list if there are no numbers that are divisible by n.\n",
    "            Examples\n",
    "            list_operation(1, 10, 3) ➞ [3, 6, 9]\n",
    "            list_operation(7, 9, 2) ➞ [8]\n",
    "            list_operation(15, 20, 7) ➞ []"
   ]
  },
  {
   "cell_type": "code",
   "execution_count": null,
   "id": "ceb0b609",
   "metadata": {},
   "outputs": [],
   "source": [
    "def list_operation(x, y, n):\n",
    "    my_list = []\n",
    "    for number in range(x, y + 1):\n",
    "        if number % n == 0:\n",
    "            my_list.append(number)\n",
    "    return my_list\n",
    "\n",
    "print('list_operation(1, 10, 3) ==>', list_operation(1, 10, 3))\n",
    "print('list_operation(7, 9, 2) ==>', list_operation(7, 9, 2))\n",
    "print('list_operation(15, 20, 7) ==>', list_operation(15, 20, 7))\n",
    "\n"
   ]
  },
  {
   "cell_type": "markdown",
   "id": "28d0807e",
   "metadata": {},
   "source": [
    "## Question2. Create a function that takes in two lists and returns True if the second list follows the first list by one element, and False otherwise. In other words, determine if the second list is the first list shifted to the right by 1.\n",
    "            Examples\n",
    "            simon_says([1, 2], [5, 1]) ➞ True\n",
    "            simon_says([1, 2], [5, 5]) ➞ False\n",
    "            simon_says([1, 2, 3, 4, 5], [0, 1, 2, 3, 4]) ➞ True\n",
    "            simon_says([1, 2, 3, 4, 5], [5, 5, 1, 2, 3]) ➞ False\n",
    "> <b><u> Notes </u></b>\n",
    ">> • Both input lists will be of the same length, and will have a minimum length of 2. <br>\n",
    ">> • The values of the 0-indexed element in the second list and the n-1th indexed element\n",
    "in the first list do not matter."
   ]
  },
  {
   "cell_type": "code",
   "execution_count": null,
   "id": "73efc4e9",
   "metadata": {},
   "outputs": [],
   "source": [
    "def simon_says(list1, list2):\n",
    "    return list1[:-1] == list2[1:]\n",
    "\n",
    "print('simon_says([1, 2], [5, 1]) ==>', simon_says([1, 2], [5, 1]))\n",
    "print('simon_says([1, 2], [5, 5]) ==>', simon_says([1, 2], [5, 5]))\n",
    "print('simon_says([1, 2, 3, 4, 5], [0, 1, 2, 3, 4]) ==>', simon_says([1, 2, 3, 4, 5], [0, 1, 2, 3, 4]))\n",
    "print('simon_says([1, 2, 3, 4, 5], [5, 5, 1, 2, 3]) ==>', simon_says([1, 2, 3, 4, 5], [5, 5, 1, 2, 3]))\n",
    "\n"
   ]
  },
  {
   "cell_type": "markdown",
   "id": "ab4ab2ba",
   "metadata": {},
   "source": [
    "## Question3. A group of friends have decided to start a secret society. The name will be the first letter of each of their names, sorted in alphabetical order.\n",
    "### Create a function that takes in a list of names and returns the name of the secret society.\n",
    "            Examples\n",
    "            society_name([\"Adam\", \"Sarah\", \"Malcolm\"]) ➞ \"AMS\"\n",
    "            society_name([\"Harry\", \"Newt\", \"Luna\", \"Cho\"]) ➞ \"CHLN\"\n",
    "            society_name([\"Phoebe\", \"Chandler\", \"Rachel\", \"Ross\", \"Monica\", \"Joey\"])"
   ]
  },
  {
   "cell_type": "code",
   "execution_count": null,
   "id": "4d4b3cdb",
   "metadata": {},
   "outputs": [],
   "source": [
    "def society_name(list_of_names):\n",
    "    first_letters = []\n",
    "    for name in list_of_names:\n",
    "        first_letter = name[0]\n",
    "        first_letters.append(first_letter)\n",
    "\n",
    "    first_letters.sort()\n",
    "    society_name = \"\".join(first_letters)\n",
    "    return society_name\n",
    "\n",
    "print(f'society_name([\"Adam\", \"Sarah\", \"Malcolm\"]) ==> \"{society_name([\"Adam\", \"Sarah\", \"Malcolm\"])}\"')\n",
    "print(f'society_name([\"Harry\", \"Newt\", \"Luna\", \"Cho\"]) ==> \"{society_name([\"Harry\", \"Newt\", \"Luna\", \"Cho\"])}\"')\n",
    "print(f'society_name([\"Phoebe\", \"Chandler\", \"Rachel\", \"Ross\", \"Monica\", \"Joey\"]) ==> \"{society_name([\"Phoebe\", \"Chandler\", \"Rachel\", \"Ross\", \"Monica\", \"Joey\"])}\"')\n"
   ]
  },
  {
   "cell_type": "markdown",
   "id": "dfdb7f42",
   "metadata": {},
   "source": [
    "## Question4. An isogram is a word that has no duplicate letters. Create a function that takes a string and returns either True or False depending on whether or not it's an \"isogram\".\n",
    "        Examples\n",
    "        is_isogram(\"Algorism\") ➞ True\n",
    "        is_isogram(\"PasSword\") ➞ False\n",
    "### Not case sensitive.\n",
    "        is_isogram(\"Consecutive\") ➞ False\n",
    "> <b><u> Notes </u></b>\n",
    ">> • Ignore letter case (should not be case sensitive). <br>\n",
    ">> • All test cases contain valid one word strings."
   ]
  },
  {
   "cell_type": "code",
   "execution_count": null,
   "id": "73722cf3",
   "metadata": {},
   "outputs": [],
   "source": [
    "def is_isogram(string):\n",
    "    string = string.lower()\n",
    "    seen_letters = set()\n",
    "    for i in string:\n",
    "        if i in seen_letters:\n",
    "            return False\n",
    "        else:\n",
    "            seen_letters.add(i)\n",
    "\n",
    "    return True\n",
    "\n",
    "print('is_isogram(\"Algorism\") ==>', is_isogram(\"Algorism\"))\n",
    "print('is_isogram(\"PasSword\") ==>', is_isogram(\"PasSword\"))\n",
    "print('is_isogram(\"Consecutive\") ==>', is_isogram(\"Consecutive\"))\n"
   ]
  },
  {
   "cell_type": "markdown",
   "id": "827bbed9",
   "metadata": {},
   "source": [
    "## Question5. Create a function that takes a string and returns True or False, depending on whether the characters are in order or not.\n",
    "            Examples\n",
    "            is_in_order(\"abc\") ➞ True\n",
    "            is_in_order(\"edabit\") ➞ False\n",
    "            is_in_order(\"123\") ➞ True\n",
    "            is_in_order(\"xyzz\") ➞ True\n",
    "> <b><u> Notes </u></b>\n",
    ">> You don't have to handle empty strings."
   ]
  },
  {
   "cell_type": "code",
   "execution_count": null,
   "id": "2a0aa6db",
   "metadata": {},
   "outputs": [],
   "source": [
    "def is_in_order(string):\n",
    "    for i in range(len(string) - 1):\n",
    "        if string[i] > string[i + 1]:\n",
    "            return False\n",
    "    return True\n",
    "\n",
    "print('is_in_order(\"abc\") ==>', is_in_order(\"abc\"))\n",
    "print('is_in_order(\"edabit\") ==>', is_in_order(\"edabit\"))\n",
    "print('is_in_order(\"123\") ==>', is_in_order(\"123\"))\n",
    "print('is_in_order(\"xyzz\") ==>', is_in_order(\"xyzz\"))\n"
   ]
  },
  {
   "cell_type": "code",
   "execution_count": null,
   "id": "a70dbc8c",
   "metadata": {},
   "outputs": [],
   "source": []
  },
  {
   "cell_type": "code",
   "execution_count": null,
   "id": "407a3ab0",
   "metadata": {},
   "outputs": [],
   "source": []
  }
 ],
 "metadata": {
  "kernelspec": {
   "display_name": "Python 3 (ipykernel)",
   "language": "python",
   "name": "python3"
  },
  "language_info": {
   "codemirror_mode": {
    "name": "ipython",
    "version": 3
   },
   "file_extension": ".py",
   "mimetype": "text/x-python",
   "name": "python",
   "nbconvert_exporter": "python",
   "pygments_lexer": "ipython3",
   "version": "3.11.3"
  }
 },
 "nbformat": 4,
 "nbformat_minor": 5
}
