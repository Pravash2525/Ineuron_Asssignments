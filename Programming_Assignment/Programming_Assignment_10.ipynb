{
 "cells": [
  {
   "cell_type": "markdown",
   "id": "bd847ba3",
   "metadata": {},
   "source": [
    "<h1> <u> <font color= green > Programming_Assignment_10 </font> </u> </h1>"
   ]
  },
  {
   "cell_type": "markdown",
   "id": "ca4a329e",
   "metadata": {},
   "source": [
    "## 1. Write a Python program to find sum of elements in list?\n"
   ]
  },
  {
   "cell_type": "code",
   "execution_count": null,
   "id": "5a6c8d30",
   "metadata": {},
   "outputs": [],
   "source": [
    "my_list = [1, 2, 3, 4, 5]\n",
    "\n",
    "sum_of_numbers = 0\n",
    "for i in my_list:\n",
    "    sum_of_numbers += i\n",
    "\n",
    "print(f\"The sum of the elements in the list is: {sum_of_numbers}\")"
   ]
  },
  {
   "cell_type": "markdown",
   "id": "45cc3f1a",
   "metadata": {},
   "source": [
    "## 2. Write a Python program to Multiply all numbers in the list?"
   ]
  },
  {
   "cell_type": "code",
   "execution_count": null,
   "id": "9fbf75eb",
   "metadata": {},
   "outputs": [],
   "source": [
    "my_list = [ 3, 3, 4, 5]\n",
    "\n",
    "product_of_numbers = 1\n",
    "for i in my_list:\n",
    "    product_of_numbers *= i\n",
    "\n",
    "print(f\"The product of the elements in the list is: {product_of_numbers}\")"
   ]
  },
  {
   "cell_type": "markdown",
   "id": "cfa1d5ee",
   "metadata": {},
   "source": [
    "## 3. Write a Python program to find smallest number in a list?"
   ]
  },
  {
   "cell_type": "code",
   "execution_count": null,
   "id": "c52ed042",
   "metadata": {},
   "outputs": [],
   "source": [
    "my_list = [7, 4, 3, 4, 5]\n",
    "\n",
    "smallest_number = my_list[0]\n",
    "for i in my_list:\n",
    "    if i < smallest_number:\n",
    "        smallest_number = i\n",
    "        \n",
    "print(f\"The smallest number in the list is: {smallest_number}\")"
   ]
  },
  {
   "cell_type": "markdown",
   "id": "a417fa91",
   "metadata": {},
   "source": [
    "## 4. Write a Python program to find largest number in a list?"
   ]
  },
  {
   "cell_type": "code",
   "execution_count": null,
   "id": "4e4c2f5e",
   "metadata": {},
   "outputs": [],
   "source": [
    "my_list = [7, 4, 3, 9, 5]\n",
    "\n",
    "largest_number = my_list[0]\n",
    "for i in my_list:\n",
    "    if i > largest_number:\n",
    "        largest_number = i\n",
    "        \n",
    "print(f\"The largest number in the list is: {largest_number}\")"
   ]
  },
  {
   "cell_type": "markdown",
   "id": "a51c8d0d",
   "metadata": {},
   "source": [
    "## 5. Write a Python program to find second largest number in a list?"
   ]
  },
  {
   "cell_type": "code",
   "execution_count": null,
   "id": "b92ae8ed",
   "metadata": {},
   "outputs": [],
   "source": [
    "my_list = [7, 14, 3, 19, 5, 9]\n",
    "\n",
    "largest_number = my_list[0]\n",
    "second_largest_number = 0\n",
    "\n",
    "for i in my_list:\n",
    "    if i > largest_number:\n",
    "        second_largest_number = largest_number\n",
    "        largest_number = i\n",
    "    elif i > second_largest_number:\n",
    "        second_largest_number = i\n",
    "\n",
    "\n",
    "print(f\"The second largest number in the list is: {second_largest_number}\")\n"
   ]
  },
  {
   "cell_type": "markdown",
   "id": "cb183169",
   "metadata": {},
   "source": [
    "## 6. Write a Python program to find N largest elements from a list?"
   ]
  },
  {
   "cell_type": "code",
   "execution_count": null,
   "id": "d4681d4c",
   "metadata": {},
   "outputs": [],
   "source": [
    "def find_n_largest(numbers, n):   \n",
    "    if len(numbers) < n:             # Check if the list has enough elements\n",
    "        print(\"Error: The list does not have enough elements.\")\n",
    "        return None\n",
    "\n",
    "    sorted_numbers = sorted(numbers, reverse=True)     # Sort the list in descending order    \n",
    "    largest_elements = sorted_numbers[:n]              # Extract the N largest elements\n",
    "    return largest_elements\n",
    "\n",
    "my_list = [10, 5, 8, 20, 15, 3]\n",
    "n = 3\n",
    "\n",
    "print(\"Original list:\", my_list)\n",
    "print(\"Number of largest elements to find:\", n)\n",
    "\n",
    "largest_elements = find_n_largest(my_list, n)\n",
    "\n",
    "if largest_elements is not None:\n",
    "    print(f\"{n} largest elements:\", largest_elements)\n"
   ]
  },
  {
   "cell_type": "markdown",
   "id": "8d539b1d",
   "metadata": {},
   "source": [
    "## 7. Write a Python program to print even numbers in a list?"
   ]
  },
  {
   "cell_type": "code",
   "execution_count": null,
   "id": "de2a3e5e",
   "metadata": {},
   "outputs": [],
   "source": [
    "my_list = [6, 7, 3, 14, 2, 6, 5, 8, 9, 10]\n",
    "\n",
    "for i in my_list:\n",
    "    if i%2 == 0:\n",
    "        print(i, end = \" \")"
   ]
  },
  {
   "cell_type": "markdown",
   "id": "af024bdf",
   "metadata": {},
   "source": [
    "## 8. Write a Python program to print odd numbers in a List?"
   ]
  },
  {
   "cell_type": "code",
   "execution_count": null,
   "id": "d33558af",
   "metadata": {},
   "outputs": [],
   "source": [
    "my_list = [6, 7, 3, 14, 2, 6, 5, 8, 9, 10]\n",
    "\n",
    "for i in my_list:\n",
    "    if i%2 != 0:\n",
    "        print(i, end = \" \")"
   ]
  },
  {
   "cell_type": "markdown",
   "id": "cf56c663",
   "metadata": {},
   "source": [
    "## 9. Write a Python program to Remove empty List from List?\n"
   ]
  },
  {
   "cell_type": "code",
   "execution_count": null,
   "id": "9981ca01",
   "metadata": {},
   "outputs": [],
   "source": [
    "my_list = [[1, 2, 3], [], [4, 5, 6], [], []]\n",
    "\n",
    "new_list = []\n",
    "for i in list_of_lists:\n",
    "    if len(i) != 0:\n",
    "        new_list.append(i)\n",
    "\n",
    "print(f\"The list of lists without empty lists is: {new_list}\")\n"
   ]
  },
  {
   "cell_type": "markdown",
   "id": "db2921a0",
   "metadata": {},
   "source": [
    "## 10. Write a Python program to Cloning or Copying a list?"
   ]
  },
  {
   "cell_type": "code",
   "execution_count": null,
   "id": "b5bd9479",
   "metadata": {},
   "outputs": [],
   "source": [
    "my_list = [1, 2, 3, 4, 5]\n",
    "clone_list = list(my_list)\n",
    "print(clone_list)"
   ]
  },
  {
   "cell_type": "markdown",
   "id": "af0b47b5",
   "metadata": {},
   "source": [
    "## 11. Write a Python program to Count occurrences of an element in a list?"
   ]
  },
  {
   "cell_type": "code",
   "execution_count": null,
   "id": "58cdf01f",
   "metadata": {},
   "outputs": [],
   "source": [
    "my_list = [1, 2, 3, 1, 2, 3, 4, 2, 5]\n",
    "\n",
    "element_to_count = 22\n",
    "count = 0\n",
    "if element_to_count in my_list:\n",
    "    for i in my_list:\n",
    "        if element_to_count == i:\n",
    "            count += 1    \n",
    "    print(f\"The number of occurrences of {element_to_count} in the list is: {count}\")\n",
    "    \n",
    "else:\n",
    "    print(\"Element to count is not availabe in the list.\")\n",
    "    \n"
   ]
  },
  {
   "cell_type": "code",
   "execution_count": null,
   "id": "1d4726fa",
   "metadata": {},
   "outputs": [],
   "source": []
  }
 ],
 "metadata": {
  "kernelspec": {
   "display_name": "Python 3 (ipykernel)",
   "language": "python",
   "name": "python3"
  },
  "language_info": {
   "codemirror_mode": {
    "name": "ipython",
    "version": 3
   },
   "file_extension": ".py",
   "mimetype": "text/x-python",
   "name": "python",
   "nbconvert_exporter": "python",
   "pygments_lexer": "ipython3",
   "version": "3.11.3"
  }
 },
 "nbformat": 4,
 "nbformat_minor": 5
}
