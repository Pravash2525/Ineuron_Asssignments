{
 "cells": [
  {
   "cell_type": "markdown",
   "id": "f79c2d04",
   "metadata": {},
   "source": [
    "<h1> <u> <font color= green > Programming_Assignment_17 </font> </u> </h1>"
   ]
  },
  {
   "cell_type": "markdown",
   "id": "8354009a",
   "metadata": {},
   "source": [
    "## Question1. Create a function that takes three arguments a, b, c and returns the sum of the numbers that are evenly divided by c from the range a, b inclusive.\n",
    "                Examples\n",
    "                evenly_divisible(1, 10, 20) ➞ 0\n",
    "                # No number between 1 and 10 can be evenly divided by 20.\n",
    "                evenly_divisible(1, 10, 2) ➞ 30\n",
    "                # 2 + 4 + 6 + 8 + 10 = 30\n",
    "                evenly_divisible(1, 10, 3) ➞ 18\n",
    "                # 3 + 6 + 9 = 18"
   ]
  },
  {
   "cell_type": "code",
   "execution_count": null,
   "id": "188b5288",
   "metadata": {},
   "outputs": [],
   "source": [
    "def evenly_divisible(a, b, c):\n",
    "    sum_of_numbers = 0\n",
    "    for number in range(a, b + 1):\n",
    "        if number % c == 0:\n",
    "            sum_of_numbers += number\n",
    "    return sum_of_numbers\n",
    "\n",
    "\n",
    "print(\"evenly_divisible(1, 10, 20) --> \",evenly_divisible(1, 10, 20))\n",
    "print(\"evenly_divisible(1, 10, 2) --> \",evenly_divisible(1, 10, 2))\n",
    "print(\"evenly_divisible(1, 10, 3) --> \",evenly_divisible(1, 10, 3))\n"
   ]
  },
  {
   "cell_type": "markdown",
   "id": "d3b9143c",
   "metadata": {},
   "source": [
    "## Question2. Create a function that returns True if a given inequality expression is correct and False otherwise.\n",
    "            Examples\n",
    "            correct_signs(\"3 < 7 < 11\") ➞ True\n",
    "            correct_signs(\"13 > 44 > 33 > 1\") ➞ False\n",
    "            correct_signs(\"1 < 2 < 6 < 9 > 3\") ➞ True"
   ]
  },
  {
   "cell_type": "code",
   "execution_count": null,
   "id": "ade2420e",
   "metadata": {},
   "outputs": [],
   "source": [
    "def correct_signs(expression):\n",
    "    tokens = expression.split()\n",
    "    for i in range(1, len(tokens), 2):\n",
    "        operator = tokens[i]\n",
    "        num1 = int(tokens[i - 1])\n",
    "        num2 = int(tokens[i + 1])\n",
    "        \n",
    "        if (operator == \"<\" and num1 >= num2) or (operator == \">\" and num1 <= num2):  # Check if the inequality is not satisfied\n",
    "            return False\n",
    "        \n",
    "    return True\n",
    "\n",
    "print('correct_signs(\"3 < 7 < 11\") ==>', correct_signs(\"3 < 7 < 11\"))\n",
    "print('correct_signs(\"13 > 44 > 33 > 1\") ==>', correct_signs(\"13 > 44 > 33 > 1\"))\n",
    "print('correct_signs(\"1 < 2 < 6 < 9 > 3\") ==>' , correct_signs(\"1 < 2 < 6 < 9 > 3\"))\n"
   ]
  },
  {
   "cell_type": "markdown",
   "id": "126ce182",
   "metadata": {},
   "source": [
    "## Question3. Create a function that replaces all the vowels in a string with a specified character.\n",
    "            Examples\n",
    "            replace_vowels(\"the aardvark\", \"#\") ➞ \"th# ##rdv#rk\"\n",
    "            replace_vowels(\"minnie mouse\", \"?\") ➞ \"m?nn?? m??s?\"\n",
    "            replace_vowels(\"shakespeare\", \"*\") ➞ \"sh*k*sp**r*\""
   ]
  },
  {
   "cell_type": "code",
   "execution_count": null,
   "id": "deff8325",
   "metadata": {},
   "outputs": [],
   "source": [
    "def replace_vowels(string, character):\n",
    "    vowels = \"aeiouAEIOU\"\n",
    "    new_string = \"\"\n",
    "    for char in string:\n",
    "        if char in vowels:\n",
    "            new_string += character\n",
    "        else:\n",
    "            new_string += char\n",
    "    return new_string\n",
    "\n",
    "\n",
    "print('replace_vowels(\"the aardvark\", \"#\") ==>', replace_vowels(\"the aardvark\", \"#\"))\n",
    "print('replace_vowels(\"minnie mouse\", \"?\") ==>', replace_vowels(\"minnie mouse\", \"?\"))\n",
    "print('replace_vowels(\"shakespeare\", \"*\") ==>' , replace_vowels(\"shakespeare\", \"*\"))\n"
   ]
  },
  {
   "cell_type": "markdown",
   "id": "dfca4e29",
   "metadata": {},
   "source": [
    "## Question4. Write a function that calculates the factorial of a number recursively.\n",
    "            Examples\n",
    "            factorial(5) ➞ 120\n",
    "            factorial(3) ➞ 6\n",
    "            factorial(1) ➞ 1\n",
    "            factorial(0) ➞ 1"
   ]
  },
  {
   "cell_type": "code",
   "execution_count": null,
   "id": "7b03c9c7",
   "metadata": {},
   "outputs": [],
   "source": [
    "def factorial(num):\n",
    "    if num == 0:\n",
    "        return 1\n",
    "    else:\n",
    "        return num * factorial(num - 1)\n",
    "\n",
    "print(\"factorial(5) ==>\",factorial(5))\n",
    "print(\"factorial(3) ==>\",factorial(3))\n",
    "print(\"factorial(1) ==>\",factorial(1))\n",
    "print(\"factorial(0) ==>\",factorial(0))\n"
   ]
  },
  {
   "cell_type": "markdown",
   "id": "8befc86b",
   "metadata": {},
   "source": [
    "## Question 5. Hamming distance is the number of characters that differ between two strings.\n",
    "            To illustrate:\n",
    "            String1: \"abcbba\"\n",
    "            String2: \"abcbda\"\n",
    "            Hamming Distance: 1 - \"b\" vs. \"d\" is the only difference.\n",
    "### Create a function that computes the hamming distance between two strings.\n",
    "            Examples\n",
    "            hamming_distance(\"abcde\", \"bcdef\") ➞ 5\n",
    "            hamming_distance(\"abcde\", \"abcde\") ➞ 0\n",
    "            hamming_distance(\"strong\", \"strung\") ➞ 1"
   ]
  },
  {
   "cell_type": "code",
   "execution_count": null,
   "id": "268d0597",
   "metadata": {},
   "outputs": [],
   "source": [
    "def hamming_distance(string1, string2):\n",
    "    if len(string1) != len(string2):\n",
    "        raise ValueError(\"Strings must be of equal length\")\n",
    "    distance = 0\n",
    "    for i in range(len(string1)):\n",
    "        if string1[i] != string2[i]:\n",
    "            distance += 1\n",
    "    return distance\n",
    "\n",
    "print('hamming_distance(\"abcde\", \"bcdef\") ==>', hamming_distance(\"abcde\", \"bcdef\"))\n",
    "print('hamming_distance(\"abcde\", \"abcde\") ==>', hamming_distance(\"abcde\", \"abcde\"))\n",
    "print('hamming_distance(\"strong\", \"strung\") ==>', hamming_distance(\"strong\", \"strung\"))\n"
   ]
  },
  {
   "cell_type": "code",
   "execution_count": null,
   "id": "cced47c0",
   "metadata": {},
   "outputs": [],
   "source": [
    "\n"
   ]
  }
 ],
 "metadata": {
  "kernelspec": {
   "display_name": "Python 3 (ipykernel)",
   "language": "python",
   "name": "python3"
  },
  "language_info": {
   "codemirror_mode": {
    "name": "ipython",
    "version": 3
   },
   "file_extension": ".py",
   "mimetype": "text/x-python",
   "name": "python",
   "nbconvert_exporter": "python",
   "pygments_lexer": "ipython3",
   "version": "3.11.3"
  }
 },
 "nbformat": 4,
 "nbformat_minor": 5
}
