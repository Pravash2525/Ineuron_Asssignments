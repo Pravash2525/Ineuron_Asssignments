{
 "cells": [
  {
   "cell_type": "markdown",
   "id": "969f761b",
   "metadata": {},
   "source": [
    "<h1> <u> <font color= green > Programming_Assignment_20 </font> </u> </h1>"
   ]
  },
  {
   "cell_type": "markdown",
   "id": "80416b27",
   "metadata": {},
   "source": [
    "## Question1. Create a function that takes a list of strings and integers, and filters out the list so that it returns a list of integers only.\n",
    "            Examples\n",
    "            filter_list([1, 2, 3, \"a\", \"b\", 4]) ➞ [1, 2, 3, 4]\n",
    "            filter_list([\"A\", 0, \"Edabit\", 1729, \"Python\", \"1729\"]) ➞ [0, 1729]\n",
    "            filter_list([\"Nothing\", \"here\"]) ➞ []"
   ]
  },
  {
   "cell_type": "code",
   "execution_count": null,
   "id": "436ca8f7",
   "metadata": {},
   "outputs": [],
   "source": [
    "def filter_list(list_items):\n",
    "    filtered_list = []\n",
    "    for item in list_items:\n",
    "        if isinstance(item, int):\n",
    "            filtered_list.append(item)\n",
    "    return filtered_list\n",
    "\n",
    "print('filter_list([1, 2, 3, \"a\", \"b\", 4]) ==>', filter_list([1, 2, 3, \"a\", \"b\", 4]))\n",
    "print('filter_list([\"A\", 0, \"Edabit\", 1729, \"Python\", \"1729\"]) ==>', filter_list([\"A\", 0, \"Edabit\", 1729, \"Python\", \"1729\"]))\n",
    "print('filter_list([\"Nothing\", \"here\"]) ==>', filter_list([\"Nothing\", \"here\"]))\n"
   ]
  },
  {
   "cell_type": "markdown",
   "id": "837391fc",
   "metadata": {},
   "source": [
    "## Question2. Given a list of numbers, create a function which returns the list but with each element's index in the list added to itself. This means you add 0 to the number at index 0, add 1 to the number at index 1, etc...\n",
    "            Examples\n",
    "            add_indexes([0, 0, 0, 0, 0]) ➞ [0, 1, 2, 3, 4]\n",
    "            add_indexes([1, 2, 3, 4, 5]) ➞ [1, 3, 5, 7, 9]\n",
    "            add_indexes([5, 4, 3, 2, 1]) ➞ [5, 5, 5, 5, 5]"
   ]
  },
  {
   "cell_type": "code",
   "execution_count": null,
   "id": "a30e9756",
   "metadata": {},
   "outputs": [],
   "source": [
    "def add_indexes(list_numbers):\n",
    "    new_list = []\n",
    "    for index, number in enumerate(list_numbers):\n",
    "        new_number = number + index\n",
    "        new_list.append(new_number)\n",
    "    return new_list\n",
    "\n",
    "print('add_indexes([0, 0, 0, 0, 0]) ==>', add_indexes([0, 0, 0, 0, 0]))\n",
    "print('add_indexes([1, 2, 3, 4, 5]) ==>', add_indexes([1, 2, 3, 4, 5]))\n",
    "print('add_indexes([5, 4, 3, 2, 1]) ==>', add_indexes([5, 4, 3, 2, 1]))\n"
   ]
  },
  {
   "cell_type": "markdown",
   "id": "2202e596",
   "metadata": {},
   "source": [
    "## Question3. Create a function that takes the height and radius of a cone as arguments and returns the volume of the cone rounded to the nearest hundredth. See the resources tab for the formula.\n",
    "            Examples\n",
    "            cone_volume(3, 2) ➞ 12.57\n",
    "            cone_volume(15, 6) ➞ 565.49\n",
    "            cone_volume(18, 0) ➞ 0"
   ]
  },
  {
   "cell_type": "code",
   "execution_count": null,
   "id": "4b940f68",
   "metadata": {},
   "outputs": [],
   "source": [
    "import math\n",
    "\n",
    "def cone_volume(height, radius):\n",
    "    if radius == 0:\n",
    "        return 0\n",
    "\n",
    "    volume = (1.0 / 3) * math.pi * radius ** 2 * height\n",
    "    rounded_volume = round(volume, 2)\n",
    "    return rounded_volume\n",
    "\n",
    "print('cone_volume(3, 2) ==>', cone_volume(3, 2))\n",
    "print('cone_volume(15, 6) ==>', cone_volume(15, 6))\n",
    "print('cone_volume(18, 0) ==>', cone_volume(18, 0))\n"
   ]
  },
  {
   "cell_type": "markdown",
   "id": "9b984995",
   "metadata": {},
   "source": [
    "## Question4. This Triangular Number Sequence is generated from a pattern of dots that form a triangle. \n",
    "            The first 5 numbers of the sequence, or dots, are: 1, 3, 6, 10, 15\n",
    "            This means that the first triangle has just one dot, the second one has three dots, the third one\n",
    "            has 6 dots and so on.\n",
    "### Write a function that gives the number of dots with its corresponding triangle number of the sequence.\n",
    "            Examples\n",
    "            triangle(1) ➞ 1\n",
    "            triangle(6) ➞ 21\n",
    "            triangle(215) ➞ 23220"
   ]
  },
  {
   "cell_type": "code",
   "execution_count": null,
   "id": "b8c425a3",
   "metadata": {},
   "outputs": [],
   "source": [
    "def triangle(n):\n",
    "    if n <= 0:\n",
    "        return 0\n",
    "\n",
    "    triangle_number = 0\n",
    "    for i in range(1, n + 1):\n",
    "        triangle_number += i\n",
    "\n",
    "    return triangle_number\n",
    "\n",
    "print('triangle(1) ==>', triangle(1))\n",
    "print('triangle(6) ==>', triangle(6))\n",
    "print('triangle(215) ==>', triangle(215))\n"
   ]
  },
  {
   "cell_type": "markdown",
   "id": "cbc0bf35",
   "metadata": {},
   "source": [
    "## Question5. Create a function that takes a list of numbers between 1 and 10 (excluding one number) and returns the missing number.\n",
    "            Examples\n",
    "            missing_num([1, 2, 3, 4, 6, 7, 8, 9, 10]) ➞ 5\n",
    "            missing_num([7, 2, 3, 6, 5, 9, 1, 4, 8]) ➞ 10\n",
    "            missing_num([10, 5, 1, 2, 4, 6, 8, 3, 9]) ➞ 7"
   ]
  },
  {
   "cell_type": "code",
   "execution_count": null,
   "id": "2cb5cd6e",
   "metadata": {},
   "outputs": [],
   "source": [
    "def missing_num(list_numbers):\n",
    "    if len(list_numbers) != 9:\n",
    "        return None\n",
    "\n",
    "    for i in range(1, 11):\n",
    "        if i not in list_numbers:\n",
    "            return i\n",
    "\n",
    "print('missing_num([1, 2, 3, 4, 6, 7, 8, 9, 10]) ==>', missing_num([1, 2, 3, 4, 6, 7, 8, 9, 10]))\n",
    "print('missing_num([7, 2, 3, 6, 5, 9, 1, 4, 8]) ==>', missing_num([7, 2, 3, 6, 5, 9, 1, 4, 8]))\n",
    "print('missing_num([10, 5, 1, 2, 4, 6, 8, 3, 9]) ==>', missing_num([10, 5, 1, 2, 4, 6, 8, 3, 9]))\n"
   ]
  },
  {
   "cell_type": "code",
   "execution_count": null,
   "id": "18a57adc",
   "metadata": {},
   "outputs": [],
   "source": []
  }
 ],
 "metadata": {
  "kernelspec": {
   "display_name": "Python 3 (ipykernel)",
   "language": "python",
   "name": "python3"
  },
  "language_info": {
   "codemirror_mode": {
    "name": "ipython",
    "version": 3
   },
   "file_extension": ".py",
   "mimetype": "text/x-python",
   "name": "python",
   "nbconvert_exporter": "python",
   "pygments_lexer": "ipython3",
   "version": "3.11.3"
  }
 },
 "nbformat": 4,
 "nbformat_minor": 5
}
