{
 "cells": [
  {
   "cell_type": "markdown",
   "id": "39debf51",
   "metadata": {},
   "source": [
    "<h1> <u> <font color= green > Programming_Assignment_6 </font> </u> </h1>"
   ]
  },
  {
   "cell_type": "markdown",
   "id": "e9065896",
   "metadata": {},
   "source": [
    "## 1. Write a Python Program to Display Fibonacci Sequence Using Recursion?\n",
    "\n"
   ]
  },
  {
   "cell_type": "code",
   "execution_count": null,
   "id": "ebbfffe6",
   "metadata": {},
   "outputs": [],
   "source": [
    "def fibonacci(n):\n",
    "    if n == 0:\n",
    "        return 0\n",
    "    elif n == 1:\n",
    "        return 1\n",
    "    else:\n",
    "        return fibonacci(n - 1) + fibonacci(n - 2)\n",
    "\n",
    "terms = int(input(\"Enter the number of terms for finobacci series: \"))\n",
    "for i in range(terms):\n",
    "    print(fibonacci(i), end = \" \")\n"
   ]
  },
  {
   "cell_type": "markdown",
   "id": "5404c232",
   "metadata": {},
   "source": [
    "## 2. Write a Python Program to Find Factorial of Number Using Recursion?\n"
   ]
  },
  {
   "cell_type": "code",
   "execution_count": null,
   "id": "56784d34",
   "metadata": {},
   "outputs": [],
   "source": [
    "def factorial(n):\n",
    "    if n == 0:\n",
    "        return 1\n",
    "    else:\n",
    "        return n * factorial(n - 1)\n",
    "\n",
    "number = int(input(\"Enter a number: \"))\n",
    "factorial_of_number = factorial(number)\n",
    "print(f\"The factorial of {number} is: {factorial_of_number}\")"
   ]
  },
  {
   "cell_type": "markdown",
   "id": "cd87be4c",
   "metadata": {},
   "source": [
    "## 3. Write a Python Program to calculate your Body Mass Index?\n"
   ]
  },
  {
   "cell_type": "code",
   "execution_count": null,
   "id": "7a919bce",
   "metadata": {},
   "outputs": [],
   "source": [
    "def calculate_bmi(height, weight):\n",
    "    bmi = weight / (height ** 2)\n",
    "    return bmi\n",
    "\n",
    "height = float(input(\"Enter your height in meters: \"))\n",
    "weight = float(input(\"Enter your weight in kilograms: \"))\n",
    "bmi = calculate_bmi(height, weight)\n",
    "print(f\"Your BMI is: {bmi}\")\n",
    "\n"
   ]
  },
  {
   "cell_type": "markdown",
   "id": "187eaa27",
   "metadata": {},
   "source": [
    "## 4. Write a Python Program to calculate the natural logarithm of any number?\n"
   ]
  },
  {
   "cell_type": "code",
   "execution_count": null,
   "id": "8a80333b",
   "metadata": {},
   "outputs": [],
   "source": [
    "import math\n",
    "\n",
    "def natural_log(number):\n",
    "    return round(math.log(number), 2)\n",
    "\n",
    "number = float(input(\"Enter a number: \"))\n",
    "natural_logarithm = natural_log(number)\n",
    "print(f\"The natural logarithm of {number} is: {natural_logarithm}\")\n"
   ]
  },
  {
   "cell_type": "markdown",
   "id": "d55d70b6",
   "metadata": {},
   "source": [
    "## 5. Write a Python Program for cube sum of first n natural numbers?"
   ]
  },
  {
   "cell_type": "code",
   "execution_count": null,
   "id": "3bbb7c79",
   "metadata": {},
   "outputs": [],
   "source": [
    "def cube_sum(n):\n",
    "    sum = 0\n",
    "    for i in range(1, n + 1):\n",
    "        sum += i ** 3\n",
    "    return sum\n",
    "\n",
    "n = int(input(\"Enter the number of natural numbers: \"))\n",
    "cube_sum = cube_sum(n)\n",
    "print(f\"The cube sum of the first {n} natural numbers is: {cube_sum}\")\n"
   ]
  },
  {
   "cell_type": "code",
   "execution_count": null,
   "id": "469ee7d5",
   "metadata": {},
   "outputs": [],
   "source": []
  }
 ],
 "metadata": {
  "kernelspec": {
   "display_name": "Python 3 (ipykernel)",
   "language": "python",
   "name": "python3"
  },
  "language_info": {
   "codemirror_mode": {
    "name": "ipython",
    "version": 3
   },
   "file_extension": ".py",
   "mimetype": "text/x-python",
   "name": "python",
   "nbconvert_exporter": "python",
   "pygments_lexer": "ipython3",
   "version": "3.11.3"
  }
 },
 "nbformat": 4,
 "nbformat_minor": 5
}
