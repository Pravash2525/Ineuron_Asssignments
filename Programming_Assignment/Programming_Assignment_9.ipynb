{
 "cells": [
  {
   "cell_type": "markdown",
   "id": "b892d819",
   "metadata": {},
   "source": [
    "<h1> <u> <font color= green > Programming_Assignment_9 </font> </u> </h1>"
   ]
  },
  {
   "cell_type": "markdown",
   "id": "10015940",
   "metadata": {},
   "source": [
    "## 1. Write a Python program to check if the given number is a Disarium Number?\n",
    "\n",
    "> A __Disarium number__ is a number that is equal to the sum of its digits raised to the power of their respective positions. <br> \n",
    "> Disarium value of digits \"d1 d2 d3 ... dn\" is calculated as d1^1 + d2^2 + d3^3 + ... + dn^n.\n",
    ">> for example:  175 = 1^1 + 7^2 + 5^3"
   ]
  },
  {
   "cell_type": "code",
   "execution_count": null,
   "id": "09bdcbcc",
   "metadata": {},
   "outputs": [],
   "source": [
    "def is_disarium(number):\n",
    "    sum_of_digits = 0\n",
    "    for i in range(len(str(number))):\n",
    "        digit = int(str(number)[i])\n",
    "        sum_of_digits += digit ** (i + 1)\n",
    "    return number == sum_of_digits\n",
    "\n",
    "\n",
    "number = 175\n",
    "\n",
    "if is_disarium(number):\n",
    "    print(f\"{number} is a Disarium number.\")\n",
    "else:\n",
    "    print(f\"{number} is not a Disarium number.\")\n"
   ]
  },
  {
   "cell_type": "markdown",
   "id": "0c0518b3",
   "metadata": {},
   "source": [
    "## 2. Write a Python program to print all disarium numbers between 1 to 100?\n"
   ]
  },
  {
   "cell_type": "code",
   "execution_count": null,
   "id": "bca28d86",
   "metadata": {},
   "outputs": [],
   "source": [
    "def is_disarium(number):\n",
    "    sum_of_digits = 0\n",
    "    for i in range(len(str(number))):\n",
    "        digit = int(str(number)[i])\n",
    "        sum_of_digits += digit ** (i + 1)\n",
    "    return number == sum_of_digits\n",
    "\n",
    "\n",
    "for i in range(1,101):\n",
    "    if is_disarium(i):\n",
    "        print(f\"{i} is a Disarium number.\")\n",
    "\n"
   ]
  },
  {
   "cell_type": "markdown",
   "id": "7632a6b4",
   "metadata": {},
   "source": [
    "## 3. Write a Python program to check if the given number is Happy Number?\n",
    "\n",
    "> A __happy number__ is a number that, when repeatedly replaced by the sum of the squares of its digits, eventually reaches 1. <br>\n",
    "> In other words, a happy number is a number that never reaches a loop of repeating numbers other than 1. <br>\n",
    "> For example, 19 is a happy number because 19 → 82 → 65 → 91 → 82 → 65 → 91 → ...\n",
    "\n",
    "> Here are some other examples of happy numbers:\n",
    "\n",
    "                7 → 49 → 64 → 4 → 16 → 37 → 1 → 1\n",
    "                13 → 16 → 37 → 1 → 1\n",
    "                20 → 4 → 16 → 37 → 1 → 1\n"
   ]
  },
  {
   "cell_type": "code",
   "execution_count": null,
   "id": "5344f1d8",
   "metadata": {},
   "outputs": [],
   "source": [
    "def is_happy_number(number):\n",
    "    seen_numbers = set()\n",
    "    while number != 1:\n",
    "        next_number = 0\n",
    "        for digit in str(number):\n",
    "            next_number += int(digit) ** 2\n",
    "        number = next_number\n",
    "        if number in seen_numbers:\n",
    "            return False\n",
    "        seen_numbers.add(number)\n",
    "    return True\n",
    "\n",
    "\n",
    "number = 19\n",
    "\n",
    "if is_happy_number(number):\n",
    "    print(f\"{number} is a Happy number.\")\n",
    "else:\n",
    "    print(f\"{number} is not a Happy number.\")\n"
   ]
  },
  {
   "cell_type": "markdown",
   "id": "b32ca16b",
   "metadata": {},
   "source": [
    "## 4. Write a Python program to print all happy numbers between 1 and 100?"
   ]
  },
  {
   "cell_type": "code",
   "execution_count": null,
   "id": "a2549c94",
   "metadata": {},
   "outputs": [],
   "source": [
    "def is_happy_number(number):\n",
    "    seen_numbers = set()\n",
    "    while number != 1:\n",
    "        next_number = 0\n",
    "        for digit in str(number):\n",
    "            next_number += int(digit) ** 2\n",
    "        number = next_number\n",
    "        if number in seen_numbers:\n",
    "            return False\n",
    "        seen_numbers.add(number)\n",
    "    return True\n",
    "\n",
    "\n",
    "for i in range(1,101):\n",
    "    if is_happy_number(i):\n",
    "        print(f\"{i} is a Happy number.\")\n",
    "        \n"
   ]
  },
  {
   "cell_type": "markdown",
   "id": "3bf113bf",
   "metadata": {},
   "source": [
    "## 5. Write a Python program to determine whether the given number is a Harshad Number?\n",
    "\n",
    "> A __harshad number__ is a number that is divisible by the sum of its digits. Harshad numbers are also known as __Niven numbers__. <br>\n",
    "\n",
    "> Here are some examples of harshad numbers:\n",
    "\n",
    "            10 = 1 + 0 = 1\n",
    "            17 = 1 + 7 = 8\n",
    "            28 = 2 + 8 = 10\n",
    "            36 = 3 + 6 = 9\n",
    "            55 = 5 + 5 = 10\n"
   ]
  },
  {
   "cell_type": "code",
   "execution_count": null,
   "id": "094b31ee",
   "metadata": {},
   "outputs": [],
   "source": [
    "def is_harshad_number(number):\n",
    "    sum_of_digits = 0\n",
    "    for digit in str(number):\n",
    "        sum_of_digits += int(digit)\n",
    "    return number % sum_of_digits == 0\n",
    "\n",
    "number = 89\n",
    "\n",
    "if is_harshad_number(number):\n",
    "    print(f\"{number} is a Harshed number.\")\n",
    "else:\n",
    "    print(f\"{number} is not a Harshed number.\")\n",
    "\n"
   ]
  },
  {
   "cell_type": "markdown",
   "id": "13324311",
   "metadata": {},
   "source": [
    "## 6. Write a Python program to print all pronic numbers between 1 and 100?\n",
    "\n"
   ]
  },
  {
   "cell_type": "code",
   "execution_count": null,
   "id": "b8db010f",
   "metadata": {},
   "outputs": [],
   "source": [
    "def is_harshad_number(number):\n",
    "    # Convert the number to a string for digit extraction\n",
    "    number_str = str(number)\n",
    "    \n",
    "    # Calculate the sum of digits\n",
    "    digit_sum = sum(int(digit) for digit in number_str)\n",
    "    \n",
    "    return number % digit_sum == 0\n",
    "\n",
    "\n",
    "for i in range(1, 101):\n",
    "    if is_harshad_number(i):\n",
    "        print(f\"{i} is a Harshed number.\")\n",
    "        \n"
   ]
  },
  {
   "cell_type": "code",
   "execution_count": null,
   "id": "61a8b429",
   "metadata": {},
   "outputs": [],
   "source": []
  }
 ],
 "metadata": {
  "kernelspec": {
   "display_name": "Python 3 (ipykernel)",
   "language": "python",
   "name": "python3"
  },
  "language_info": {
   "codemirror_mode": {
    "name": "ipython",
    "version": 3
   },
   "file_extension": ".py",
   "mimetype": "text/x-python",
   "name": "python",
   "nbconvert_exporter": "python",
   "pygments_lexer": "ipython3",
   "version": "3.11.3"
  }
 },
 "nbformat": 4,
 "nbformat_minor": 5
}
