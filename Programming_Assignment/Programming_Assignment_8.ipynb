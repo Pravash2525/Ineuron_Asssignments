{
 "cells": [
  {
   "cell_type": "markdown",
   "id": "a93fe98e",
   "metadata": {},
   "source": [
    "<h1> <u> <font color= green > Programming_Assignment_8 </font> </u> </h1>"
   ]
  },
  {
   "cell_type": "markdown",
   "id": "15a6063b",
   "metadata": {},
   "source": [
    "## 1. Write a Python Program to Add Two Matrices?\n",
    "\n",
    "> * rows = len(matrix) \n",
    "> * columns = len(matrix[0])"
   ]
  },
  {
   "cell_type": "code",
   "execution_count": null,
   "id": "6a8ce498",
   "metadata": {},
   "outputs": [],
   "source": [
    "\n",
    "matrix1 = [[1, 2, 3], [4, 5, 6]]\n",
    "matrix2 = [[7, 8, 9], [10, 11, 12]]\n",
    "\n",
    "if len(matrix1) != len(matrix2) or len(matrix1[0]) != len(matrix2[0]):\n",
    "    raise ValueError(\"The two matrices must have the same dimensions.\")\n",
    "\n",
    "sum_matrix = []\n",
    "for i in range(len(matrix1)):\n",
    "    row = []\n",
    "    for j in range(len(matrix1[0])):\n",
    "        sum = matrix1[i][j] + matrix2[i][j]\n",
    "        row.append(sum)\n",
    "    sum_matrix.append(row)\n",
    "\n",
    "print(f\"The sum of the two matrices is: {sum_matrix}\")\n"
   ]
  },
  {
   "cell_type": "markdown",
   "id": "3e87227d",
   "metadata": {},
   "source": [
    "## 2. Write a Python Program to Multiply Two Matrices?\n"
   ]
  },
  {
   "cell_type": "code",
   "execution_count": null,
   "id": "44cdb818",
   "metadata": {},
   "outputs": [],
   "source": [
    "matrix1 = [[1, 2, 3],\n",
    "           [4, 5, 6],\n",
    "           [7, 8, 9]]\n",
    "\n",
    "matrix2 = [[10, 11],\n",
    "           [12, 13],\n",
    "           [14, 15]]\n",
    "\n",
    "print(\"Matrix 1:\")\n",
    "for row in matrix1:\n",
    "    print(row)\n",
    "\n",
    "print(\"\\nMatrix 2:\")\n",
    "for row in matrix2:\n",
    "    print(row)\n",
    "    \n",
    "    \n",
    "if len(matrix1[0]) != len(matrix2):\n",
    "    print(\"Error: The number of columns in matrix1 must match the number of rows in matrix2.\")\n",
    "       \n",
    "result = [[0] * len(matrix2[0]) for _ in range(len(matrix1))]    # Create the result matrix filled with zeros\n",
    "\n",
    "# Perform matrix multiplication \n",
    "for i in range(len(matrix1)):\n",
    "    for j in range(len(matrix2[0])):\n",
    "        for k in range(len(matrix2)):\n",
    "            result[i][j] += matrix1[i][k] * matrix2[k][j]\n",
    "\n",
    "\n",
    "\n",
    "if result is not None:\n",
    "    print(\"\\nMatrix multiplication result:\")\n",
    "    for row in result:\n",
    "        print(row)\n"
   ]
  },
  {
   "cell_type": "markdown",
   "id": "3554d44b",
   "metadata": {},
   "source": [
    "## 3. Write a Python Program to Transpose a Matrix?\n"
   ]
  },
  {
   "cell_type": "code",
   "execution_count": null,
   "id": "7c102d72",
   "metadata": {},
   "outputs": [],
   "source": [
    "matrix = [[1, 2, 3], \n",
    "          [4, 5, 6], \n",
    "          [7, 8, 9]]\n",
    "\n",
    "print(\"The original matrix is: \")\n",
    "for i in matrix:\n",
    "    print(i)\n",
    "    \n",
    "transposed_matrix = []\n",
    "for i in range(len(matrix[0])):\n",
    "    row = []\n",
    "    for j in range(len(matrix)):\n",
    "        row.append(matrix[j][i])\n",
    "    transposed_matrix.append(row)\n",
    " \n",
    "\n",
    " \n",
    "print(\"\\nThe transposed matrix is: \")\n",
    "for i in transposed_matrix:\n",
    "    print(i)\n",
    "\n"
   ]
  },
  {
   "cell_type": "markdown",
   "id": "b7c637fb",
   "metadata": {},
   "source": [
    "## 4. Write a Python Program to Sort Words in Alphabetic Order?"
   ]
  },
  {
   "cell_type": "code",
   "execution_count": null,
   "id": "9419add2",
   "metadata": {},
   "outputs": [],
   "source": [
    "words = [\"hello\", \"world\", \"python\", \"programming\"]\n",
    "\n",
    "sorted_words = []\n",
    "for word in words:\n",
    "    sorted_words.append(word.lower())\n",
    "sorted_words.sort()\n",
    "\n",
    "print(f\"The sorted words are: {sorted_words}\")"
   ]
  },
  {
   "cell_type": "markdown",
   "id": "f04aa2af",
   "metadata": {},
   "source": [
    "## 5. Write a Python Program to Remove Punctuation From a String?"
   ]
  },
  {
   "cell_type": "code",
   "execution_count": null,
   "id": "839a1740",
   "metadata": {},
   "outputs": [],
   "source": [
    "import re\n",
    "\n",
    "string = input(\"Write a sentence: \")\n",
    "\n",
    "punctuation_regex = re.compile(r\"[^\\w\\s]\")\n",
    "cleaned_string = punctuation_regex.sub(\"\", string)\n",
    "\n",
    "print(f\"The cleaned string is: {cleaned_string}\")"
   ]
  },
  {
   "cell_type": "markdown",
   "id": "d1cc26da",
   "metadata": {},
   "source": []
  },
  {
   "cell_type": "code",
   "execution_count": null,
   "id": "d256ea0d",
   "metadata": {},
   "outputs": [],
   "source": []
  }
 ],
 "metadata": {
  "kernelspec": {
   "display_name": "Python 3 (ipykernel)",
   "language": "python",
   "name": "python3"
  },
  "language_info": {
   "codemirror_mode": {
    "name": "ipython",
    "version": 3
   },
   "file_extension": ".py",
   "mimetype": "text/x-python",
   "name": "python",
   "nbconvert_exporter": "python",
   "pygments_lexer": "ipython3",
   "version": "3.11.3"
  }
 },
 "nbformat": 4,
 "nbformat_minor": 5
}
