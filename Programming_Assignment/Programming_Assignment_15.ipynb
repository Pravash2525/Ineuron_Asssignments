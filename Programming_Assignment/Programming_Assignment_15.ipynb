{
 "cells": [
  {
   "cell_type": "markdown",
   "id": "130dc62d",
   "metadata": {},
   "source": [
    "<h1> <u> <font color= green > Programming_Assignment_15 </font> </u> </h1>"
   ]
  },
  {
   "cell_type": "markdown",
   "id": "524c6e9a",
   "metadata": {},
   "source": [
    "## Question 1: Please write a program using generator to print the numbers which can be divisible by 5 and 7 between 0 and n in comma separated form while n is input by console.\n",
    "            Example:\n",
    "            If the following n is given as input to the program:\n",
    "            100\n",
    "            Then, the output of the program should be:\n",
    "            0,35,70"
   ]
  },
  {
   "cell_type": "code",
   "execution_count": null,
   "id": "730ccb43",
   "metadata": {},
   "outputs": [],
   "source": [
    "def divisible_by_5_and_7(n):\n",
    "    for i in range(n + 1):\n",
    "        if i % 5 == 0 and i % 7 == 0:\n",
    "            yield i\n",
    "\n",
    "num = int(input(\"Enter a number: \"))\n",
    "for i in divisible_by_5_and_7(num):\n",
    "    print(i, end=\", \")\n"
   ]
  },
  {
   "cell_type": "markdown",
   "id": "a3bab155",
   "metadata": {},
   "source": [
    "## Question 2: Please write a program using generator to print the even numbers between 0 and n in comma separated form while n is input by console.\n",
    "            Example:\n",
    "            If the following n is given as input to the program:\n",
    "            10\n",
    "            Then, the output of the program should be:\n",
    "            0,2,4,6,8,10"
   ]
  },
  {
   "cell_type": "code",
   "execution_count": null,
   "id": "7fcf7231",
   "metadata": {},
   "outputs": [],
   "source": [
    "def even_numbers(n):\n",
    "    for i in range(n + 1):\n",
    "        if i % 2 == 0:\n",
    "            yield i\n",
    "            \n",
    "num = int(input(\"Enter a number: \"))\n",
    "for i in even_numbers(num):\n",
    "    print(i, end=\", \")\n"
   ]
  },
  {
   "cell_type": "markdown",
   "id": "f615716e",
   "metadata": {},
   "source": [
    "## Question 3: The Fibonacci Sequence is computed based on the following formula:\n",
    "            f(n)=0 if n=0\n",
    "            f(n)=1 if n=1\n",
    "            f(n)=f(n-1)+f(n-2) if n>1\n",
    "            \n",
    "### Please write a program using list comprehension to print the Fibonacci Sequence in comma separated form with a given n input by console.\n",
    "            Example:\n",
    "            If the following n is given as input to the program:\n",
    "            7\n",
    "            Then, the output of the program should be:\n",
    "            0,1,1,2,3,5,8,13"
   ]
  },
  {
   "cell_type": "code",
   "execution_count": null,
   "id": "6b6525c8",
   "metadata": {},
   "outputs": [],
   "source": [
    "def fibonacci(n):\n",
    "    if n == 0:\n",
    "        return [0]\n",
    "    elif n == 1:\n",
    "        return [0, 1]\n",
    "    else:\n",
    "        fibs = [0, 1]\n",
    "    for i in range(2, n + 1):\n",
    "        fibs.append(fibs[i - 1] + fibs[i - 2])\n",
    "    return fibs\n",
    "\n",
    "num = int(input(\"Enter the terms for fibonacci series: \"))\n",
    "\n",
    "print(\",\".join([str(f) for f in fibonacci(num)]))\n",
    "\n"
   ]
  },
  {
   "cell_type": "markdown",
   "id": "b35986b9",
   "metadata": {},
   "source": [
    "## Question 4: Assuming that we have some email addresses in the \"username@companyname.com\"  format, please write program to print the user name of a given email address. Both user names and company names are composed of letters only.\n",
    "            Example:\n",
    "            If the following email address is given as input to the program:\n",
    "            john@google.com\n",
    "            Then, the output of the program should be:\n",
    "            john"
   ]
  },
  {
   "cell_type": "code",
   "execution_count": null,
   "id": "1c33e20a",
   "metadata": {},
   "outputs": [],
   "source": [
    "\n",
    "email = input(\"Enter your email address: \")\n",
    "username = email.split(\"@\")[0]\n",
    "print(username)\n"
   ]
  },
  {
   "cell_type": "markdown",
   "id": "024939e5",
   "metadata": {},
   "source": [
    "## Question 5: Define a class named Shape and its subclass Square. The Square class has an init function which takes a length as argument. Both classes have a area function which can print the area of the shape where Shape's area is 0 by default."
   ]
  },
  {
   "cell_type": "code",
   "execution_count": null,
   "id": "9c623fb1",
   "metadata": {},
   "outputs": [],
   "source": [
    "class Shape:  \n",
    "    def __init__(self):\n",
    "        self.area = 0\n",
    "\n",
    "    def calculate_area(self):\n",
    "        print(\"Area of the shape:\", self.area)\n",
    "\n",
    "class Square(Shape): \n",
    "    def __init__(self, length):\n",
    "        super().__init__()\n",
    "        self.length = length\n",
    "\n",
    "    def calculate_area(self):        \n",
    "        self.area = self.length ** 2\n",
    "        print(\"Area of the square:\", self.area)\n",
    "\n",
    "        \n",
    "length = 5\n",
    "\n",
    "shape = Shape()\n",
    "shape.calculate_area()\n",
    "\n",
    "square = Square(length)\n",
    "square.calculate_area()\n"
   ]
  },
  {
   "cell_type": "code",
   "execution_count": null,
   "id": "07c4235c",
   "metadata": {},
   "outputs": [],
   "source": []
  }
 ],
 "metadata": {
  "kernelspec": {
   "display_name": "Python 3 (ipykernel)",
   "language": "python",
   "name": "python3"
  },
  "language_info": {
   "codemirror_mode": {
    "name": "ipython",
    "version": 3
   },
   "file_extension": ".py",
   "mimetype": "text/x-python",
   "name": "python",
   "nbconvert_exporter": "python",
   "pygments_lexer": "ipython3",
   "version": "3.11.3"
  }
 },
 "nbformat": 4,
 "nbformat_minor": 5
}
