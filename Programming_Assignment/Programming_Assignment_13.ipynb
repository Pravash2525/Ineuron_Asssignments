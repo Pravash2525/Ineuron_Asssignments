{
 "cells": [
  {
   "cell_type": "markdown",
   "id": "f79c2d04",
   "metadata": {},
   "source": [
    "<h1> <u> <font color= green > Programming_Assignment_13 </font> </u> </h1>"
   ]
  },
  {
   "cell_type": "markdown",
   "id": "cc94eb0e",
   "metadata": {},
   "source": [
    "## Question 1: Write a program that calculates and prints the value according to the given formula:\n",
    "            Q = Square root of [(2 * C * D)/H]\n",
    "            Following are the fixed values of C and H:\n",
    "            C is 50. H is 30.\n",
    "            D is the variable whose values should be input to your program in a comma-separated\n",
    "            sequence.\n",
    "            Example\n",
    "            Let us assume the following comma separated input sequence is given to the program:\n",
    "            100,150,180\n",
    "            The output of the program should be:\n",
    "            18,22,24"
   ]
  },
  {
   "cell_type": "code",
   "execution_count": null,
   "id": "f43e9851",
   "metadata": {},
   "outputs": [],
   "source": [
    "import math\n",
    "\n",
    "def calculate_q(d):\n",
    "    c = 50\n",
    "    h = 30\n",
    "    q = math.sqrt((2 * c * d) / h)\n",
    "    return round(q)\n",
    "\n",
    "d_list = input(\"Write comma separated input sequence:  \").split(\",\")\n",
    "q_list = []\n",
    "for d in d_list:\n",
    "    q = calculate_q(int(d))\n",
    "    q_list.append(q)\n",
    "print(f\"The values of Q are: {q_list}\")\n",
    "\n"
   ]
  },
  {
   "cell_type": "markdown",
   "id": "a3ea3e78",
   "metadata": {},
   "source": [
    "## Question 2: Write a program which takes 2 digits, X,Y as input and generates a 2-dimensional array. \n",
    "            The element value in the i-th row and j-th column of the array should be i*j.\n",
    "            Note: i=0,1.., X-1; j=0,1,¡Y-1.\n",
    "            Example\n",
    "            Suppose the following inputs are given to the program:\n",
    "            3,5\n",
    "            Then, the output of the program should be:\n",
    "            [[0, 0, 0, 0, 0], [0, 1, 2, 3, 4], [0, 2, 4, 6, 8]]"
   ]
  },
  {
   "cell_type": "code",
   "execution_count": null,
   "id": "643c9a68",
   "metadata": {},
   "outputs": [],
   "source": [
    "def generate_2d_array(x, y):\n",
    "    array_2d = []\n",
    "    for i in range(x):\n",
    "        row = []\n",
    "        for j in range(y):\n",
    "            row.append(i * j)\n",
    "        array_2d.append(row)\n",
    "    return array_2d\n",
    "\n",
    "\n",
    "x,y = map(int, input(\"Enter two digits (X and Y) seperated by comma: \").split(','))\n",
    "array_2d = generate_2d_array(x, y)\n",
    "print(array_2d)\n",
    "\n"
   ]
  },
  {
   "cell_type": "markdown",
   "id": "a07db214",
   "metadata": {},
   "source": [
    "## Question 3: Write a program that accepts a comma separated sequence of words as input and prints the words in a comma-separated sequence after sorting them alphabetically.\n",
    "            Suppose the following input is supplied to the program:\n",
    "            without,hello,bag,world\n",
    "            Then, the output should be:\n",
    "            bag,hello,without,world"
   ]
  },
  {
   "cell_type": "code",
   "execution_count": null,
   "id": "930cd7fa",
   "metadata": {},
   "outputs": [],
   "source": [
    "def sort_words(words):\n",
    "    sorted_words = sorted(words)\n",
    "    return sorted_words\n",
    "\n",
    "words = input(\"Enter a comma-separated sequence of words: \").split(\",\")\n",
    "sorted_words = sorted(words)\n",
    "print(\"The sorted words are: \", \",\".join(sorted_words))\n"
   ]
  },
  {
   "cell_type": "markdown",
   "id": "6af0ddf5",
   "metadata": {},
   "source": [
    "## Question 4: Write a program that accepts a sequence of whitespace separated words as input and prints the words after removing all duplicate words and sorting them alphanumerically.\n",
    "            Suppose the following input is supplied to the program:\n",
    "            hello world and practice makes perfect and hello world again\n",
    "            Then, the output should be:\n",
    "            again and hello makes perfect practice world"
   ]
  },
  {
   "cell_type": "code",
   "execution_count": null,
   "id": "6baf0c92",
   "metadata": {},
   "outputs": [],
   "source": [
    "words = input(\"Enter a sequence of whitespace separated words: \").split(\" \")\n",
    "unique_words = set(words)\n",
    "sorted_words = sorted(unique_words)\n",
    "print(\"The sorted words are: \", \" \".join(sorted_words))\n"
   ]
  },
  {
   "cell_type": "markdown",
   "id": "a43069ba",
   "metadata": {},
   "source": [
    "## Question 5: Write a program that accepts a sentence and calculate the number of letters and digits.\n",
    "            Suppose the following input is supplied to the program:\n",
    "            hello world! 123\n",
    "            Then, the output should be:\n",
    "            LETTERS 10\n",
    "            DIGITS 3"
   ]
  },
  {
   "cell_type": "code",
   "execution_count": null,
   "id": "3a266a7b",
   "metadata": {},
   "outputs": [],
   "source": [
    "import re\n",
    "\n",
    "def count_letters_and_digits(sentence):\n",
    "    letters = 0\n",
    "    digits = 0\n",
    "    for char in sentence:\n",
    "        if char.isalpha():\n",
    "            letters += 1\n",
    "        elif char.isdigit():\n",
    "            digits += 1\n",
    "    return letters, digits\n",
    "\n",
    "\n",
    "sentence = input(\"Enter a sentence: \")\n",
    "letters, digits = count_letters_and_digits(sentence)\n",
    "print(\"LETTERS:\", letters)\n",
    "print(\"DIGITS:\", digits)\n"
   ]
  },
  {
   "cell_type": "markdown",
   "id": "fc5fd832",
   "metadata": {},
   "source": [
    "## Question 6: A website requires the users to input username and password to register. Write a program to check the validity of password input by users.\n",
    "        Following are the criteria for checking the password:\n",
    "            1. At least 1 letter between [a-z]\n",
    "            2. At least 1 number between [0-9]\n",
    "            1. At least 1 letter between [A-Z]\n",
    "            3. At least 1 character from [$#@]\n",
    "            4. Minimum length of transaction password: 6\n",
    "            5. Maximum length of transaction password: 12\n",
    "            \n",
    "                    Your program should accept a sequence of comma separated passwords and will check them\n",
    "                    according to the above criteria. Passwords that match the criteria are to be printed, each\n",
    "                    separated by a comma.\n",
    "                    Example\n",
    "                    If the following passwords are given as input to the program:\n",
    "                    ABd1234@1,a F1#,2w3E*,2We3345\n",
    "                    Then, the output of the program should be:\n",
    "                    ABd1234@1"
   ]
  },
  {
   "cell_type": "code",
   "execution_count": null,
   "id": "df1ee449",
   "metadata": {},
   "outputs": [],
   "source": [
    "import re\n",
    "\n",
    "\n",
    "def is_valid_password(password):\n",
    "    criteria = [\n",
    "          re.compile(\"[a-z]\").search(password),\n",
    "          re.compile(\"[0-9]\").search(password),\n",
    "          re.compile(\"[A-Z]\").search(password),\n",
    "          re.compile(\"[$#@]\").search(password),  ]\n",
    "    \n",
    "    if len(password) < 6 or len(password) > 12:\n",
    "        return False\n",
    "    for c in criteria:\n",
    "        if not c:\n",
    "            return False\n",
    "    return True\n",
    "\n",
    "\n",
    "passwords =  [\"ABd1234@1\",\"aghhhhhhkkhhhhgggggg\", \"F1#\",\"2nw3E*\",\"2We3345\"]\n",
    "\n",
    "valid_passwords = []\n",
    "for i in passwords:\n",
    "    if is_valid_password(i):\n",
    "        valid_passwords.append(i)\n",
    "print(\"Valid passwords: \", \",\".join(valid_passwords))\n",
    "\n"
   ]
  },
  {
   "cell_type": "code",
   "execution_count": null,
   "id": "30c1c6d9",
   "metadata": {},
   "outputs": [],
   "source": []
  }
 ],
 "metadata": {
  "kernelspec": {
   "display_name": "Python 3 (ipykernel)",
   "language": "python",
   "name": "python3"
  },
  "language_info": {
   "codemirror_mode": {
    "name": "ipython",
    "version": 3
   },
   "file_extension": ".py",
   "mimetype": "text/x-python",
   "name": "python",
   "nbconvert_exporter": "python",
   "pygments_lexer": "ipython3",
   "version": "3.11.3"
  }
 },
 "nbformat": 4,
 "nbformat_minor": 5
}
