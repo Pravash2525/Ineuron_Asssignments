{
 "cells": [
  {
   "cell_type": "markdown",
   "id": "130dc62d",
   "metadata": {},
   "source": [
    "<h1> <u> <font color= green > Programming_Assignment_23 </font> </u> </h1>"
   ]
  },
  {
   "cell_type": "markdown",
   "id": "c2ca05d0",
   "metadata": {},
   "source": [
    "## Question 1. Create a function that takes a number as an argument and returns True or False depending on whether the number is symmetrical or not. A number is symmetrical when it is the same as its reverse.\n",
    "            Examples\n",
    "            is_symmetrical(7227) ➞ True\n",
    "            is_symmetrical(12567) ➞ False\n",
    "            is_symmetrical(44444444) ➞ True\n",
    "            is_symmetrical(9939) ➞ False\n",
    "            is_symmetrical(1112111) ➞ True"
   ]
  },
  {
   "cell_type": "code",
   "execution_count": null,
   "id": "0b9e00a8",
   "metadata": {},
   "outputs": [],
   "source": [
    "def is_symmetrical(num):\n",
    "    original_number = num\n",
    "    reversed_number = 0\n",
    "    while num > 0:\n",
    "        reversed_number = reversed_number * 10 + num % 10\n",
    "        num //= 10\n",
    "\n",
    "    return original_number == reversed_number\n",
    "\n",
    "print('is_symmetrical(7227) ==>', is_symmetrical(7227))\n",
    "print('is_symmetrical(12567) ==>', is_symmetrical(12567))\n",
    "print('is_symmetrical(44444444) ==>', is_symmetrical(44444444))\n",
    "print('is_symmetrical(9939) ==>', is_symmetrical(9939))\n",
    "print('is_symmetrical(1112111) ==>', is_symmetrical(1112111))\n"
   ]
  },
  {
   "cell_type": "markdown",
   "id": "be7dc49a",
   "metadata": {},
   "source": [
    "## Question 2. Given a string of numbers separated by a comma and space, return the product of the numbers.\n",
    "            Examples\n",
    "            multiply_nums(\"2, 3\") ➞ 6\n",
    "            multiply_nums(\"1, 2, 3, 4\") ➞ 24\n",
    "            multiply_nums(\"54, 75, 453, 0\") ➞ 0\n",
    "            multiply_nums(\"10, -2\") ➞ -20"
   ]
  },
  {
   "cell_type": "code",
   "execution_count": null,
   "id": "ce30f57e",
   "metadata": {},
   "outputs": [],
   "source": [
    "def multiply_nums(lst):\n",
    "    numbers_list = lst.replace(\" \", \"\").split(\",\")\n",
    "    product = 1\n",
    "    for i in numbers_list:\n",
    "        number = int(i)\n",
    "        product *= number\n",
    "    return product\n",
    "\n",
    "print('multiply_nums(\"2, 3\") ==>', multiply_nums(\"2, 3\"))\n",
    "print('multiply_nums(\"1, 2, 3, 4\") ==>', multiply_nums(\"1, 2, 3, 4\"))\n",
    "print('multiply_nums(\"54, 75, 453, 0\") ==>', multiply_nums(\"54, 75, 453, 0\"))\n",
    "print('multiply_nums(\"10, -2\") ==>', multiply_nums(\"10, -2\"))\n"
   ]
  },
  {
   "cell_type": "markdown",
   "id": "865acdf2",
   "metadata": {},
   "source": [
    "## Question 3. Create a function that squares every digit of a number.\n",
    "            Examples\n",
    "            square_digits(9119) ➞ 811181\n",
    "            square_digits(2483) ➞ 416649\n",
    "            square_digits(3212) ➞ 9414\n",
    "> <b><u> Notes </u></b>\n",
    ">>The function receives an integer and must return an integer."
   ]
  },
  {
   "cell_type": "code",
   "execution_count": null,
   "id": "bc2ce2c0",
   "metadata": {},
   "outputs": [],
   "source": [
    "def square_digits(number):\n",
    "    squared_digits = \"\"\n",
    "    for i in str(number):\n",
    "        squared = int(i) ** 2\n",
    "        squared_digits += str(squared)\n",
    "    return int(squared_digits)\n",
    "\n",
    "print('square_digits(9119) ==>', square_digits(9119))\n",
    "print('square_digits(2483) ==>', square_digits(2483))\n",
    "print('square_digits(3212) ==>', square_digits(3212))\n"
   ]
  },
  {
   "cell_type": "markdown",
   "id": "0c7e4687",
   "metadata": {},
   "source": [
    "## Question 4. Create a function that sorts a list and removes all duplicate items from it.\n",
    "            Examples\n",
    "            setify([1, 3, 3, 5, 5]) ➞ [1, 3, 5]\n",
    "            setify([4, 4, 4, 4]) ➞ [4]\n",
    "            setify([5, 7, 8, 9, 10, 15]) ➞ [5, 7, 8, 9, 10, 15]\n",
    "            setify([3, 3, 3, 2, 1]) ➞ [1, 2, 3]"
   ]
  },
  {
   "cell_type": "code",
   "execution_count": null,
   "id": "85367675",
   "metadata": {},
   "outputs": [],
   "source": [
    "def setify(list1):\n",
    "    list1.sort()\n",
    "    unique_list = []\n",
    "    for item in list1:\n",
    "        if item not in unique_list:\n",
    "            unique_list.append(item)\n",
    "    return unique_list\n",
    "\n",
    "print('setify([1, 3, 3, 5, 5]) ==>', setify([1, 3, 3, 5, 5]))\n",
    "print('setify([4, 4, 4, 4]) ==>', setify([4, 4, 4, 4]))\n",
    "print('setify([5, 7, 8, 9, 10, 15]) ==>', setify([5, 7, 8, 9, 10, 15]))\n",
    "print('setify([3, 3, 3, 2, 1]) ==>', setify([3, 3, 3, 2, 1]))\n"
   ]
  },
  {
   "cell_type": "markdown",
   "id": "5007ca10",
   "metadata": {},
   "source": [
    "## Question 5. Create a function that returns the mean of all digits.\n",
    "            Examples\n",
    "            mean(42) ➞ 3\n",
    "            mean(12345) ➞ 3\n",
    "            mean(666) ➞ 6\n",
    "> <b><u> Notes </u></b>\n",
    ">> • The mean of all digits is the sum of digits / how many digits there are (e.g. mean of digits in 512 is (5+1+2)/3(number of digits) = 8/3=2). <br>\n",
    ">> • The mean will always be an integer."
   ]
  },
  {
   "cell_type": "code",
   "execution_count": null,
   "id": "8ba0f616",
   "metadata": {},
   "outputs": [],
   "source": [
    "def mean(number):\n",
    "    digits = list(str(number))\n",
    "    number_of_digits = len(digits)\n",
    "    sum_of_digits = 0\n",
    "    for i in digits:\n",
    "        sum_of_digits += int(i)\n",
    "    return sum_of_digits // number_of_digits\n",
    "\n",
    "my_list = [42, 12345, 666]\n",
    "\n",
    "for i in my_list:\n",
    "    print(f\"mean({i}) ==>\", mean(i))\n"
   ]
  },
  {
   "cell_type": "code",
   "execution_count": null,
   "id": "70c10c31",
   "metadata": {},
   "outputs": [],
   "source": []
  }
 ],
 "metadata": {
  "kernelspec": {
   "display_name": "Python 3 (ipykernel)",
   "language": "python",
   "name": "python3"
  },
  "language_info": {
   "codemirror_mode": {
    "name": "ipython",
    "version": 3
   },
   "file_extension": ".py",
   "mimetype": "text/x-python",
   "name": "python",
   "nbconvert_exporter": "python",
   "pygments_lexer": "ipython3",
   "version": "3.11.3"
  }
 },
 "nbformat": 4,
 "nbformat_minor": 5
}
