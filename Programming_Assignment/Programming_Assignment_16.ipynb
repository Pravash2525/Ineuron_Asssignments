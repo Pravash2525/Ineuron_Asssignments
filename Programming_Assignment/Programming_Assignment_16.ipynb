{
 "cells": [
  {
   "cell_type": "markdown",
   "id": "8279765f",
   "metadata": {},
   "source": [
    "<h1> <u> <font color= green > Programming_Assignment_16 </font> </u> </h1>"
   ]
  },
  {
   "cell_type": "markdown",
   "id": "01007f51",
   "metadata": {},
   "source": [
    "## Question1. Write a function that stutters a word as if someone is struggling to read it. The first two letters are repeated twice with an ellipsis ... and space after each, and then the word is pronounced with a question mark ?.\n",
    "            Examples\n",
    "            stutter(\"incredible\") ➞ \"in... in... incredible?\"\n",
    "            stutter(\"enthusiastic\") ➞ \"en... en... enthusiastic?\"\n",
    "            stutter(\"outstanding\") ➞ \"ou... ou... outstanding?\"\n",
    "            Hint :- Assume all input is in lower case and at least two characters long."
   ]
  },
  {
   "cell_type": "code",
   "execution_count": null,
   "id": "d84f0b91",
   "metadata": {},
   "outputs": [],
   "source": [
    "def stutter(word):\n",
    "    first_two_letters = word[:2]\n",
    "    return \"{}... {}... {}?\".format(first_two_letters, first_two_letters, word[2:])\n",
    "\n",
    "print(stutter(\"incredible\"))\n",
    "print(stutter(\"enthusiastic\"))\n",
    "print(stutter(\"outstanding\"))\n"
   ]
  },
  {
   "cell_type": "markdown",
   "id": "3cffa86f",
   "metadata": {},
   "source": [
    "## Question 2.Create a function that takes an angle in radians and returns the corresponding angle in degrees rounded to one decimal place.\n",
    "            Examples\n",
    "            radians_to_degrees(1) ➞ 57.3\n",
    "            radians_to_degrees(20) ➞ 1145.9\n",
    "            radians_to_degrees(50) ➞ 2864.8"
   ]
  },
  {
   "cell_type": "code",
   "execution_count": null,
   "id": "77aa6a42",
   "metadata": {},
   "outputs": [],
   "source": [
    "import math\n",
    "\n",
    "def radians_to_degrees(radians):\n",
    "    degrees = round(math.degrees(radians), 1)\n",
    "    return degrees\n",
    "\n",
    "my_radians = [1, 20, 50]\n",
    "\n",
    "for i in my_radians:\n",
    "    print(f\"radians_to_degrees({i}) -> {radians_to_degrees(i)}\")\n"
   ]
  },
  {
   "cell_type": "markdown",
   "id": "7ed5588d",
   "metadata": {},
   "source": [
    "## Question 3. In this challenge, establish if a given integer num is a Curzon number. If 1 plus 2 elevated to num is exactly divisible by 1 plus 2 multiplied by num, then num is a Curzon number. Given a non-negative integer num, implement a function that returns True if num is a Curzon number, or False otherwise.\n",
    "            Examples\n",
    "            is_curzon(5) ➞ True\n",
    "                # 2 ** 5 + 1 = 33\n",
    "                # 2 * 5 + 1 = 11\n",
    "                # 33 is a multiple of 11\n",
    "            is_curzon(10) ➞ False\n",
    "                # 2 ** 10 + 1 = 1025\n",
    "                # 2 * 10 + 1 = 21\n",
    "                # 1025 is not a multiple of 21\n",
    "            is_curzon(14) ➞ True\n",
    "                # 2 ** 14 + 1 = 16385\n",
    "                # 2 * 14 + 1 = 29\n",
    "                # 16385 is a multiple of 29\n"
   ]
  },
  {
   "cell_type": "code",
   "execution_count": null,
   "id": "f2996031",
   "metadata": {},
   "outputs": [],
   "source": [
    "def is_curzon(num):\n",
    "    curzon_number = 2 ** num + 1\n",
    "    multiple_of_num = 2 * num + 1\n",
    "    return curzon_number % multiple_of_num == 0\n",
    "\n",
    "curzon_number = [5, 10, 14]\n",
    "\n",
    "for i in curzon_number:\n",
    "    print(f\"is_curzon({i}) --> {is_curzon(i)}\")\n",
    " "
   ]
  },
  {
   "cell_type": "markdown",
   "id": "061d75db",
   "metadata": {},
   "source": [
    "## Question 4. Given the side length x find the area of a hexagon.\n",
    "            Examples\n",
    "            area_of_hexagon(1) ➞ 2.6\n",
    "            area_of_hexagon(2) ➞ 10.4\n",
    "            area_of_hexagon(3) ➞ 23.4"
   ]
  },
  {
   "cell_type": "code",
   "execution_count": null,
   "id": "18ddb1c1",
   "metadata": {},
   "outputs": [],
   "source": [
    "import math\n",
    "\n",
    "def area_of_hexagon(x):\n",
    "    area = (3 * math.sqrt(3) * (x**2)) / 2\n",
    "    return round(area, 1)\n",
    "\n",
    "hexagon_sides = [1, 2, 3]\n",
    "\n",
    "for i in hexagon_sides:\n",
    "    print(f\"area_of_hexagon({i}) --> {area_of_hexagon(i)}\")\n",
    "\n"
   ]
  },
  {
   "cell_type": "markdown",
   "id": "9d9278b1",
   "metadata": {},
   "source": [
    "## Question 5. Create a function that returns a base-2 (binary) representation of a base-10 (decimal) string number. To convert is simple: ((2) means base-2 and (10) means base-10) 010101001(2) = 1 + 8 + 32 + 128. \n",
    "### Going from right to left, the value of the most right bit is 1, now from that every bit to the left will be x2 the value, value of an 8 bit binary numbers are (256, 128, 64, 32, 16, 8, 4, 2, 1).\n",
    "\n",
    "                Examples\n",
    "                binary(1) ➞ \"1\"\n",
    "                # 1*1 = 1\n",
    "                binary(5) ➞ \"101\"\n",
    "                # 1*1 + 1*4 = 5\n",
    "                binary(10) ➞ \"1010\"\n",
    "                # 1*2 + 1*8 = 10"
   ]
  },
  {
   "cell_type": "code",
   "execution_count": null,
   "id": "b0338493",
   "metadata": {},
   "outputs": [],
   "source": [
    "def binary(decimal):\n",
    "    if decimal == 0:\n",
    "        return \"0\"\n",
    "\n",
    "    binary_string = \"\"\n",
    "    while decimal > 0:\n",
    "        remainder = decimal % 2\n",
    "        binary_string = str(remainder) + binary_string\n",
    "        decimal = decimal // 2\n",
    "\n",
    "    return binary_string\n",
    "\n",
    "print(binary(1))  \n",
    "print(binary(5))   \n",
    "print(binary(710))  \n"
   ]
  },
  {
   "cell_type": "code",
   "execution_count": null,
   "id": "63c52b8a",
   "metadata": {},
   "outputs": [],
   "source": []
  }
 ],
 "metadata": {
  "kernelspec": {
   "display_name": "Python 3 (ipykernel)",
   "language": "python",
   "name": "python3"
  },
  "language_info": {
   "codemirror_mode": {
    "name": "ipython",
    "version": 3
   },
   "file_extension": ".py",
   "mimetype": "text/x-python",
   "name": "python",
   "nbconvert_exporter": "python",
   "pygments_lexer": "ipython3",
   "version": "3.11.3"
  }
 },
 "nbformat": 4,
 "nbformat_minor": 5
}
