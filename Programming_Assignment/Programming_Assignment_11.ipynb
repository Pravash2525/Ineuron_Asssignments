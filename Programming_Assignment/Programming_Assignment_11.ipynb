{
 "cells": [
  {
   "cell_type": "markdown",
   "id": "fac2f702",
   "metadata": {},
   "source": [
    "<h1> <u> <font color= green > Programming_Assignment_11 </font> </u> </h1>"
   ]
  },
  {
   "cell_type": "markdown",
   "id": "dec8880d",
   "metadata": {},
   "source": [
    "## 1. Write a Python program to find words which are greater than given length k?\n"
   ]
  },
  {
   "cell_type": "code",
   "execution_count": null,
   "id": "3f31fed9",
   "metadata": {},
   "outputs": [],
   "source": [
    "list_of_words = [\"hello\", \"world\", \"this\", \"is\", \"a\", \"list\"]\n",
    "k = 3\n",
    "\n",
    "list_of_words_greater_than_k = []\n",
    "for word in list_of_words:\n",
    "    if len(word) > k:\n",
    "          list_of_words_greater_than_k.append(word)\n",
    "            \n",
    "print(f\"The list of words greater than {k} characters long is/are: {list_of_words_greater_than_k}\")\n",
    "         "
   ]
  },
  {
   "cell_type": "markdown",
   "id": "8c6b5e76",
   "metadata": {},
   "source": [
    "## 2. Write a Python program for removing i-th character from a string?\n"
   ]
  },
  {
   "cell_type": "code",
   "execution_count": null,
   "id": "c1fc3e1c",
   "metadata": {},
   "outputs": [],
   "source": [
    "string = \"Pravash Chaudhary\"\n",
    "i = 15\n",
    "new_string = \"\"\n",
    "if i < len(string):\n",
    "    for index, character in enumerate(string):\n",
    "        if index != i:\n",
    "            new_string += character\n",
    "            \n",
    "    print(f\"The string without the {i}-th character is: {new_string}\")\n",
    "    print(f\"The removed character is:\",string[i])\n",
    "        \n",
    "else:\n",
    "    print(\"string index out of range\")\n",
    "    \n",
    "    \n"
   ]
  },
  {
   "cell_type": "markdown",
   "id": "12778de9",
   "metadata": {},
   "source": [
    "## 3. Write a Python program to split and join a string?"
   ]
  },
  {
   "cell_type": "code",
   "execution_count": null,
   "id": "7c8c2b2b",
   "metadata": {},
   "outputs": [],
   "source": [
    "string = input(\"Write a sentence: \")\n",
    "splitted_string = string.split(\" \")\n",
    "joined_string = \" \".join(splitted_string)\n",
    "\n",
    "print(f\"splitted_string: {splitted_string}\")\n",
    "print(f\"joined_string: {joined_string}\")"
   ]
  },
  {
   "cell_type": "markdown",
   "id": "1dd49493",
   "metadata": {},
   "source": [
    "## 4. Write a Python to check if a given string is binary string or not?"
   ]
  },
  {
   "cell_type": "code",
   "execution_count": null,
   "id": "f4829622",
   "metadata": {},
   "outputs": [],
   "source": [
    "string = \"110110\"\n",
    "\n",
    "binary_string = [True for character in string if character in \"01\"]\n",
    "  \n",
    "if len(binary_string) == len(string):\n",
    "    print(f\"The string '{string}' is a binary string.\")\n",
    "else:\n",
    "    print(f\"The string '{string}' is not a binary string.\")\n"
   ]
  },
  {
   "cell_type": "markdown",
   "id": "8798bc2d",
   "metadata": {},
   "source": [
    "## 5. Write a Python program to find uncommon words from two Strings?"
   ]
  },
  {
   "cell_type": "code",
   "execution_count": null,
   "id": "35a67b6b",
   "metadata": {},
   "outputs": [],
   "source": [
    "string1 = \"hello test world\"\n",
    "string2 = \"this is a test of string\"\n",
    "    \n",
    "list_of_uncommon_words = []\n",
    "set_of_words1 = set(string1.split())\n",
    "set_of_words2 = set(string2.split())\n",
    "for word in set_of_words1:\n",
    "    if word not in set_of_words2:\n",
    "        list_of_uncommon_words.append(word)\n",
    "for word in set_of_words2:\n",
    "    if word not in set_of_words1:\n",
    "        list_of_uncommon_words.append(word)        \n",
    "        \n",
    "print(f\"The list of uncommon words is/are: {list_of_uncommon_words}\")"
   ]
  },
  {
   "cell_type": "markdown",
   "id": "dc4bd271",
   "metadata": {},
   "source": [
    "## 6. Write a Python to find all duplicate characters in string?"
   ]
  },
  {
   "cell_type": "code",
   "execution_count": null,
   "id": "08c7f14b",
   "metadata": {},
   "outputs": [],
   "source": [
    "string = \"hello world\"\n",
    "\n",
    "list_of_duplicate_characters = []\n",
    "set_of_characters = set()\n",
    "for character in string:\n",
    "    if character in set_of_characters:\n",
    "        list_of_duplicate_characters.append(character)\n",
    "    else:\n",
    "        set_of_characters.add(character)\n",
    "\n",
    "print(f\"The list of duplicate characters is: {list_of_duplicate_characters}\")\n"
   ]
  },
  {
   "cell_type": "markdown",
   "id": "372141e9",
   "metadata": {},
   "source": [
    "## 7. Write a Python Program to check if a string contains any special character?"
   ]
  },
  {
   "cell_type": "code",
   "execution_count": null,
   "id": "a1443e4d",
   "metadata": {},
   "outputs": [],
   "source": [
    "import re\n",
    "\n",
    "def contains_special_characters(string):    \n",
    "    special_characters = re.compile(r\"[^a-zA-Z0-9., ]\")\n",
    "    \n",
    "    if special_characters.search(string):\n",
    "        return True\n",
    "    else:\n",
    "        return False\n",
    "\n",
    "text = \"Hello, Python Developers\"\n",
    "\n",
    "if contains_special_characters(text):\n",
    "    print(\"The string contains special characters.\")\n",
    "else:\n",
    "    print(\"The string does not contain any special characters.\")\n"
   ]
  },
  {
   "cell_type": "code",
   "execution_count": null,
   "id": "1428ced4",
   "metadata": {},
   "outputs": [],
   "source": []
  }
 ],
 "metadata": {
  "kernelspec": {
   "display_name": "Python 3 (ipykernel)",
   "language": "python",
   "name": "python3"
  },
  "language_info": {
   "codemirror_mode": {
    "name": "ipython",
    "version": 3
   },
   "file_extension": ".py",
   "mimetype": "text/x-python",
   "name": "python",
   "nbconvert_exporter": "python",
   "pygments_lexer": "ipython3",
   "version": "3.11.3"
  }
 },
 "nbformat": 4,
 "nbformat_minor": 5
}
