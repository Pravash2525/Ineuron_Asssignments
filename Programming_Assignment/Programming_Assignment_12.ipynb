{
 "cells": [
  {
   "cell_type": "markdown",
   "id": "969f761b",
   "metadata": {},
   "source": [
    "<h1> <u> <font color= green > Programming_Assignment_12 </font> </u> </h1>"
   ]
  },
  {
   "cell_type": "markdown",
   "id": "86884de1",
   "metadata": {},
   "source": [
    "## 1. Write a Python program to Extract Unique values dictionary values?"
   ]
  },
  {
   "cell_type": "code",
   "execution_count": null,
   "id": "82452cef",
   "metadata": {},
   "outputs": [],
   "source": [
    "my_dict = {\n",
    "      \"key1\": \"value1\",\n",
    "      \"key2\": \"value2\",\n",
    "      \"key3\": \"value3\",\n",
    "      \"key4\": \"value3\",\n",
    "      \"key5\": \"value1\" }\n",
    "\n",
    "unique_dictionary_values = set(list(my_dict.values()))\n",
    "print(unique_dictionary_values)"
   ]
  },
  {
   "cell_type": "markdown",
   "id": "7d57c8aa",
   "metadata": {},
   "source": [
    "## 2. Write a Python program to find the sum of all items in a dictionary?"
   ]
  },
  {
   "cell_type": "code",
   "execution_count": null,
   "id": "c48c4960",
   "metadata": {},
   "outputs": [],
   "source": [
    "my_dict = {\n",
    "      \"key1\": 10,\n",
    "      \"key2\": 20,\n",
    "      \"key3\": 30,\n",
    "      \"key4\": 40,\n",
    "      \"key5\": 50,  }\n",
    "    \n",
    "list_of_dict_values = list(my_dict.values())\n",
    "sum_of_all_values = sum(list_of_dict_values)\n",
    "print(sum_of_all_values)"
   ]
  },
  {
   "cell_type": "markdown",
   "id": "87c308ed",
   "metadata": {},
   "source": [
    "## 3. Write a Python program to Merging two Dictionaries?"
   ]
  },
  {
   "cell_type": "code",
   "execution_count": null,
   "id": "63b951ac",
   "metadata": {},
   "outputs": [],
   "source": [
    "dict1 = {\n",
    "      \"key1\": \"value1\",\n",
    "      \"key2\": \"value2\"  }\n",
    "dict2 = {\n",
    "      \"key3\": \"value3\",\n",
    "      \"key4\": \"value4\"  }\n",
    "\n",
    "merged_dict = dict1.copy()\n",
    "merged_dict.update(dict2)\n",
    "print(merged_dict)"
   ]
  },
  {
   "cell_type": "markdown",
   "id": "f969fbd0",
   "metadata": {},
   "source": [
    "## 4. Write a Python program to convert key-values list to flat dictionary?"
   ]
  },
  {
   "cell_type": "code",
   "execution_count": null,
   "id": "d8697c2f",
   "metadata": {},
   "outputs": [],
   "source": [
    "key_values_pair_list = [(\"key1\", 1), (\"key2\", [\"value1\", \"value2\"]), (\"key3\", 3)  ]    \n",
    "    \n",
    "dict1 = dict(key_values_pair_list)\n",
    "print(dict1)"
   ]
  },
  {
   "cell_type": "markdown",
   "id": "bb3f9334",
   "metadata": {},
   "source": [
    "## 5. Write a Python program to insertion at the beginning in OrderedDict?"
   ]
  },
  {
   "cell_type": "code",
   "execution_count": null,
   "id": "ceff5ac3",
   "metadata": {},
   "outputs": [],
   "source": [
    "from collections import OrderedDict\n",
    "\n",
    "my_dict = {\n",
    "          \"key1\": \"value1\",\n",
    "          \"key2\": \"value2\"  }\n",
    "\n",
    "ordered_dict = OrderedDict(my_dict)\n",
    "\n",
    "key = 'x'\n",
    "value = 10\n",
    "\n",
    "insert_at_beginning_in_ordered_dict = OrderedDict([(key, value)])\n",
    "insert_at_beginning_in_ordered_dict.update(ordered_dict)\n",
    "\n",
    "print(insert_at_beginning_in_ordered_dict)"
   ]
  },
  {
   "cell_type": "markdown",
   "id": "c4078e56",
   "metadata": {},
   "source": [
    "## 6. Write a Python program to check order of character in string using OrderedDict()?"
   ]
  },
  {
   "cell_type": "code",
   "execution_count": null,
   "id": "bb56224b",
   "metadata": {},
   "outputs": [],
   "source": [
    "from collections import OrderedDict\n",
    "\n",
    "def check_order_of_character_in_string(string):\n",
    "    ordered_dict = OrderedDict()\n",
    "    for character in string:\n",
    "        ordered_dict[character] = None\n",
    "    for character in string:\n",
    "        if character not in ordered_dict:\n",
    "            return False\n",
    "        else:\n",
    "            del ordered_dict[character]\n",
    "    return True\n",
    "\n",
    "string = \"qwerty\"\n",
    "is_order_correct = check_order_of_character_in_string(string)\n",
    "print(f\"The order of characters in the string is correct: {is_order_correct}\")\n"
   ]
  },
  {
   "cell_type": "markdown",
   "id": "9c18b9a3",
   "metadata": {},
   "source": [
    "## 7. Write a Python program to sort Python Dictionaries by Key or Value?\n"
   ]
  },
  {
   "cell_type": "code",
   "execution_count": null,
   "id": "f12fe13d",
   "metadata": {},
   "outputs": [],
   "source": [
    "def sort_dictionary_by_key(dictionary):\n",
    "    sorted_dict = dict(sorted(dictionary.items()))\n",
    "    return sorted_dict\n",
    "\n",
    "def sort_dictionary_by_value(dictionary):\n",
    "    sorted_dict = dict(sorted(dictionary.items(), key=lambda x: x[1]))\n",
    "    return sorted_dict\n",
    "\n",
    "dictionary = {'c': 3, 'a': 1, 'b': 2}\n",
    "\n",
    "sorted_dictionary_by_key = sort_dictionary_by_key(dictionary)\n",
    "sorted_dictionary_by_value = sort_dictionary_by_value(dictionary)\n",
    "print(f\"The sorted dictionary by key is: {sorted_dictionary_by_key}\")\n",
    "print(f\"The sorted dictionary by value is: {sorted_dictionary_by_value}\")\n"
   ]
  },
  {
   "cell_type": "code",
   "execution_count": null,
   "id": "55f3958e",
   "metadata": {},
   "outputs": [],
   "source": []
  }
 ],
 "metadata": {
  "kernelspec": {
   "display_name": "Python 3 (ipykernel)",
   "language": "python",
   "name": "python3"
  },
  "language_info": {
   "codemirror_mode": {
    "name": "ipython",
    "version": 3
   },
   "file_extension": ".py",
   "mimetype": "text/x-python",
   "name": "python",
   "nbconvert_exporter": "python",
   "pygments_lexer": "ipython3",
   "version": "3.11.3"
  }
 },
 "nbformat": 4,
 "nbformat_minor": 5
}
