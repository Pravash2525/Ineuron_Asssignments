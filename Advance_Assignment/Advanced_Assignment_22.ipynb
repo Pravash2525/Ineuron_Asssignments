{
 "cells": [
  {
   "cell_type": "markdown",
   "id": "130dc62d",
   "metadata": {},
   "source": [
    "<h1> <u> <font color= green > Advanced_Assignment_22 </font> </u> </h1>"
   ]
  },
  {
   "cell_type": "markdown",
   "id": "6f575e38",
   "metadata": {},
   "source": [
    "## Q1. What are the benefits of the built-in array package, if any?"
   ]
  },
  {
   "cell_type": "markdown",
   "id": "ee08ee32",
   "metadata": {},
   "source": [
    ">  The built-in array package in Python provides a number of benefits, including:\n",
    "> * **Speed**: The array package is typically faster than using lists for operations on large data sets.\n",
    "> * **Memory efficiency**: The array package is more memory-efficient than using lists for large data sets.\n",
    "> * **Ease of use**: The array package is easy to use, and it provides a number of built-in functions for working with arrays.\n",
    "> * **Portability**: The array package is portable, and it can be used on a variety of platforms.\n"
   ]
  },
  {
   "cell_type": "markdown",
   "id": "2eb7a422",
   "metadata": {},
   "source": [
    "## Q2. What are some of the array package's limitations?"
   ]
  },
  {
   "cell_type": "markdown",
   "id": "887646d8",
   "metadata": {},
   "source": [
    "> The built-in array package in Python has a few limitations, including:\n",
    "> * **Limited data types**: The array package only supports a limited number of data types, including integers, floats, and characters. This means that you cannot use the array package to store more complex data types, such as lists or dictionaries.\n",
    "> * **Fixed size**: Arrays are fixed-size data structures. This means that you cannot resize an array after it has been created. If you need to store a variable amount of data, you will need to use a different data structure, such as a list.\n",
    "> * **Not thread-safe**: The array package is not thread-safe. This means that you cannot safely access an array from multiple threads at the same time. If you need to access an array from multiple threads, you will need to use a different data structure, such as a lock or a mutex.\n"
   ]
  },
  {
   "cell_type": "markdown",
   "id": "63302b7e",
   "metadata": {},
   "source": [
    "## Q3. Describe the main differences between the array and numpy packages."
   ]
  },
  {
   "cell_type": "markdown",
   "id": "f304705f",
   "metadata": {},
   "source": [
    "> The main differences between the array and NumPy packages in Python are:\n",
    "> * **Data types**: The array package only supports a limited number of data types, including integers, floats, and characters. NumPy supports a wider range of data types, including complex numbers, strings, and even user-defined data types.\n",
    "> * **Size**: Arrays are fixed-size data structures. NumPy arrays can be resized dynamically.\n",
    "> * **Speed**: The array package is typically slower than NumPy for operations on large data sets. NumPy is optimized for speed and efficiency.\n",
    "> * **Portability**: The array package is portable, and it can be used on a variety of platforms. NumPy is not as portable as the array package, but it is still supported on a wide range of platforms.\n",
    "> * **Thread-safety**: The array package is not thread-safe. NumPy arrays are thread-safe.\n"
   ]
  },
  {
   "cell_type": "markdown",
   "id": "d19993b8",
   "metadata": {},
   "source": [
    "## Q4. Explain the distinctions between the empty, ones, and zeros functions.\n"
   ]
  },
  {
   "cell_type": "markdown",
   "id": "0e152518",
   "metadata": {},
   "source": [
    "> The ***empty***, ***ones***, and ***zeros*** functions in the array package are used to create new arrays. The main difference between these functions is the value that is used to initialize the array.\n",
    "> * The ***empty function*** creates a new array that is filled with uninitialized values. This means that the values in the array are not guaranteed to be zero or any other value.\n",
    "> * The ***ones function*** creates a new array that is filled with ones. This means that all of the values in the array will be 1.\n",
    "> * The ***zeros function*** creates a new array that is filled with zeros. This means that all of the values in the array will be 0."
   ]
  },
  {
   "cell_type": "markdown",
   "id": "0a4bb4da",
   "metadata": {},
   "source": [
    "## Q5. In the fromfunction function, which is used to construct new arrays, what is the role of the callable argument?"
   ]
  },
  {
   "cell_type": "markdown",
   "id": "cee63746",
   "metadata": {},
   "source": [
    "> In the **numpy.fromfunction()** function, which is used to construct new arrays, the role of the **callable argument** is to provide a callable object (such as a function or lambda expression) that defines the values of the elements in the array.\n"
   ]
  },
  {
   "cell_type": "markdown",
   "id": "d64fc6a3",
   "metadata": {},
   "source": [
    "## Q6. What happens when a numpy array is combined with a single-value operand (a scalar, such as an int or a floating-point value) through addition, as in the expression A + n?"
   ]
  },
  {
   "cell_type": "markdown",
   "id": "9ba06d7d",
   "metadata": {},
   "source": [
    "> When a **NumPy array** is combined with a single-value operand (a scalar, such as an int or a floating-point value) through addition, as in the expression A + n, the scalar is broadcasted to the shape of the array and then added element-wise."
   ]
  },
  {
   "cell_type": "markdown",
   "id": "cf71a1a8",
   "metadata": {},
   "source": [
    "## Q7. Can array-to-scalar operations use combined operation-assign operators (such as += or *=)? What is the outcome?"
   ]
  },
  {
   "cell_type": "markdown",
   "id": "2f6a9231",
   "metadata": {},
   "source": [
    "> Yes, **array-to-scalar** operations can use combined operation-assign operators (such as += or *=). The outcome is that the scalar is broadcasted to the shape of the array and then the operation is performed element-wise"
   ]
  },
  {
   "cell_type": "markdown",
   "id": "14e4d5d3",
   "metadata": {},
   "source": [
    "## Q8. Does a numpy array contain fixed-length strings? What happens if you allocate a longer string to one of these arrays?"
   ]
  },
  {
   "cell_type": "markdown",
   "id": "8ee76fa5",
   "metadata": {},
   "source": [
    "> No, a **NumPy array** does not contain fixed-length strings. **NumPy arrays** are dynamic, which means that they can grow and shrink as needed. <br>\n",
    "> If we allocate a longer string to a **NumPy array**, the array will automatically grow to accommodate the string."
   ]
  },
  {
   "cell_type": "markdown",
   "id": "c317d966",
   "metadata": {},
   "source": [
    "## Q9. What happens when you combine two numpy arrays using an operation like addition (+) or multiplication (*)? What are the conditions for combining two numpy arrays?"
   ]
  },
  {
   "cell_type": "markdown",
   "id": "804c8886",
   "metadata": {},
   "source": [
    "> When we combine two **NumPy arrays** using an operation like addition (+) or multiplication (*), the arrays must have the same shape. If the arrays do not have the same shape, the operation will be performed element-wise, and the result will be an array with the same shape as the smaller of the two arrays.\n",
    "\n",
    "> The conditions for **combining two NumPy arrays** are as follows:\n",
    "> * The arrays must have the same data type.\n",
    "> * The arrays must have the same shape, or one of the arrays must be a scalar.\n",
    "\n",
    "> If the arrays do not meet these conditions, an error will be raised. <br>\n",
    "> **Combining NumPy arrays** is a powerful way to perform operations on data. It can be used to add, subtract, multiply, and divide arrays, and it can also be used to perform other operations."
   ]
  },
  {
   "cell_type": "markdown",
   "id": "7443d123",
   "metadata": {},
   "source": [
    "## Q10. What is the best way to use a Boolean array to mask another array?"
   ]
  },
  {
   "cell_type": "markdown",
   "id": "a396b2c0",
   "metadata": {},
   "source": [
    "> The best way to use a Boolean array to mask another array is to use the ***numpy.ma.masked_where()*** function. This function takes a Boolean array and an array as input, and it returns a new array that is masked according to the Boolean array."
   ]
  },
  {
   "cell_type": "markdown",
   "id": "e08cd8ea",
   "metadata": {},
   "source": [
    "## Q11. What are three different ways to get the standard deviation of a wide collection of data using both standard Python and its packages? Sort the three of them by how quickly they execute."
   ]
  },
  {
   "cell_type": "markdown",
   "id": "0c41e658",
   "metadata": {},
   "source": [
    "> Three different ways to get the standard deviation of a wide collection of data using both standard Python and its packages, sorted by how quickly they execute:\n",
    "---\n",
    "> 1. **Using the statistics module**: The statistics module in the standard Python library provides a function called stdev() that can be used to calculate the standard deviation of a collection of data. This is the slowest of the three methods, but it is also the most portable.\n",
    "```\n",
    "                import statistics\n",
    "                data = [1, 2, 3, 4, 5]\n",
    "                standard_deviation = statistics.stdev(data)\n",
    "                print(standard_deviation)\n",
    "```\n",
    "---\n",
    "> 2. **Using the numpy package**: The numpy package provides a function called std() that can be used to calculate the standard deviation of a collection of data. This is the fastest of the three methods, but it is not as portable as the statistics module.\n",
    "```\n",
    "                import numpy as np\n",
    "                data = [1, 2, 3, 4, 5]\n",
    "                standard_deviation = np.std(data)\n",
    "                print(standard_deviation)\n",
    "```\n",
    "---\n",
    "> 3. **Using the scipy.stats package**: The scipy.stats package provides a function called norm.std() that can be used to calculate the standard deviation of a collection of data. This is a middle-of-the-road option in terms of speed and portability.\n",
    "```\n",
    "                import scipy.stats as stats\n",
    "                data = [1, 2, 3, 4, 5]\n",
    "                standard_deviation = stats.norm.std(data)\n",
    "                print(standard_deviation)\n",
    "```\n",
    "\n"
   ]
  },
  {
   "cell_type": "markdown",
   "id": "605e40b9",
   "metadata": {},
   "source": [
    "## 12. What is the dimensionality of a Boolean mask-generated array?"
   ]
  },
  {
   "cell_type": "markdown",
   "id": "a57335bb",
   "metadata": {},
   "source": [
    "> The dimensionality of a **Boolean mask-generated array** is the same as the dimensionality of the array that is being masked. This is because the **Boolean mask** is applied element-wise to the array, and the resulting array has the same shape as the original array."
   ]
  },
  {
   "cell_type": "code",
   "execution_count": null,
   "id": "73f28fda",
   "metadata": {},
   "outputs": [],
   "source": []
  },
  {
   "cell_type": "code",
   "execution_count": null,
   "id": "401e2748",
   "metadata": {},
   "outputs": [],
   "source": []
  }
 ],
 "metadata": {
  "kernelspec": {
   "display_name": "Python 3 (ipykernel)",
   "language": "python",
   "name": "python3"
  },
  "language_info": {
   "codemirror_mode": {
    "name": "ipython",
    "version": 3
   },
   "file_extension": ".py",
   "mimetype": "text/x-python",
   "name": "python",
   "nbconvert_exporter": "python",
   "pygments_lexer": "ipython3",
   "version": "3.11.3"
  }
 },
 "nbformat": 4,
 "nbformat_minor": 5
}
