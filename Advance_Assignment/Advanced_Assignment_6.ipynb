{
 "cells": [
  {
   "cell_type": "markdown",
   "id": "969f761b",
   "metadata": {},
   "source": [
    "<h1> <u> <font color= green > Advanced_Assignment_6 </font> </u> </h1>"
   ]
  },
  {
   "cell_type": "markdown",
   "id": "4bd0d6af",
   "metadata": {},
   "source": [
    "## Q1. Describe three applications for exception processing."
   ]
  },
  {
   "cell_type": "markdown",
   "id": "3109464d",
   "metadata": {},
   "source": [
    "> Here are three applications for exception processing:\n",
    "> * <b>To handle errors gracefully:</b> Exception processing can be used to catch errors and take appropriate action, such as printing an error message or logging the error.\n",
    "> * <b>To provide a user-friendly interface:</b> it used to provide a user-friendly interface by catching errors help to prevent users from getting frustrated and quitting the program.\n",
    "> * <b>To improve the maintainability of code:</b> improve the maintainability of code by making it easier to identify and fix errors. When an error occurs, the exception message can provide information about the error, which can help to track down the source of the error.\n"
   ]
  },
  {
   "cell_type": "markdown",
   "id": "83e338bb",
   "metadata": {},
   "source": [
    "## Q2. What happens if you don't do something extra to treat an exception?"
   ]
  },
  {
   "cell_type": "markdown",
   "id": "7c0a7b7f",
   "metadata": {},
   "source": [
    "> * If we don't do something extra to treat an exception, then default behavior is to halt the program's execution and display an error message known as a traceback.\n",
    "> * When an unhandled exception occurs, the program execution stops at the point where the exception was raised, and Python prints a traceback that includes the type of the exception, the line number where the exception occurred, and the sequence of calls that led to the exception. The traceback helps identify the location and cause of the exception.\n",
    "> * Additionally, the Python interpreter will display an error message related to the unhandled exception. The error message typically includes information about the exception type and an error message specific to the encountered exception."
   ]
  },
  {
   "cell_type": "markdown",
   "id": "4261afd0",
   "metadata": {},
   "source": [
    "## Q3. What are your options for recovering from an exception in your script?"
   ]
  },
  {
   "cell_type": "markdown",
   "id": "15b4377b",
   "metadata": {},
   "source": [
    "> There are several options for recovering from an exception in Python:\n",
    "> * __Print an error message to the user__: This is the simplest option, but it is not very informative.\n",
    "> * __Log the error__: This is a more informative option, as it will store the error message in a file. This can be helpful for debugging the error later.\n",
    "> * __Take some other action, such as retrying the operation or displaying a different message to the user__: This option is the most flexible, but it also requires the most work.\n"
   ]
  },
  {
   "cell_type": "markdown",
   "id": "d976e4cf",
   "metadata": {},
   "source": [
    "## Q4. Describe two methods for triggering exceptions in your script."
   ]
  },
  {
   "cell_type": "markdown",
   "id": "e4aa3ad4",
   "metadata": {},
   "source": [
    "> Two methods for triggering exceptions in your script:\n",
    "---\n",
    "> 1. **Using the raise keyword**: The raise keyword is used to explicitly raise an exception. The raise keyword can be used to raise any exception, including built-in exceptions and custom exceptions.\n",
    "```\n",
    "            def divide_numbers(x, y):\n",
    "                if y == 0:\n",
    "                    raise ZeroDivisionError\n",
    "                return x / y\n",
    "\n",
    "            try:\n",
    "                print(divide_numbers(10, 0))\n",
    "            except ZeroDivisionError:\n",
    "                print(\"Division by zero\")\n",
    "```\n",
    "---\n",
    "> 2. **Using the assert statement**: The assert statement is used to check for a condition. If the condition is False, the assert statement will raise an AssertionError exception.\n",
    "```\n",
    "            def divide_numbers(x, y):\n",
    "                assert y != 0, \"Division by zero\"\n",
    "                return x / y\n",
    "\n",
    "            print(divide_numbers(10, 0))\n",
    "```"
   ]
  },
  {
   "cell_type": "markdown",
   "id": "236f75cf",
   "metadata": {},
   "source": [
    "## Q5. Identify two methods for specifying actions to be executed at termination time, regardless of whether or not an exception exists."
   ]
  },
  {
   "cell_type": "markdown",
   "id": "9752c858",
   "metadata": {},
   "source": [
    "> Here are two methods for specifying actions to be executed at termination time, regardless of whether or not an exception exists:\n",
    "\n",
    "> 1. **Using the try-finally block**: The finally block is executed at the end of the try...except block, regardless of whether or not an exception is raised. The finally block is often used to close files or resources that were opened in the try block.\n",
    "\n",
    "> 2. **Using the atexit module**: The atexit module provides a way to register functions that will be executed at termination time, regardless of whether or not an exception is raised. The atexit module is often used to perform cleanup tasks, such as closing files or releasing resources."
   ]
  },
  {
   "cell_type": "code",
   "execution_count": null,
   "id": "afccb436",
   "metadata": {},
   "outputs": [],
   "source": []
  },
  {
   "cell_type": "code",
   "execution_count": null,
   "id": "f470276b",
   "metadata": {},
   "outputs": [],
   "source": []
  }
 ],
 "metadata": {
  "kernelspec": {
   "display_name": "Python 3 (ipykernel)",
   "language": "python",
   "name": "python3"
  },
  "language_info": {
   "codemirror_mode": {
    "name": "ipython",
    "version": 3
   },
   "file_extension": ".py",
   "mimetype": "text/x-python",
   "name": "python",
   "nbconvert_exporter": "python",
   "pygments_lexer": "ipython3",
   "version": "3.11.3"
  }
 },
 "nbformat": 4,
 "nbformat_minor": 5
}
