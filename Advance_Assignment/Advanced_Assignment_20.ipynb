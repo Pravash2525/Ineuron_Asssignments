{
 "cells": [
  {
   "cell_type": "markdown",
   "id": "8279765f",
   "metadata": {},
   "source": [
    "<h1> <u> <font color= green > Advanced_Assignment_20 </font> </u> </h1>"
   ]
  },
  {
   "cell_type": "markdown",
   "id": "01007f51",
   "metadata": {},
   "source": [
    "## 1. Compare and contrast the float and Decimal classes' benefits and drawbacks."
   ]
  },
  {
   "cell_type": "markdown",
   "id": "0cb4910c",
   "metadata": {},
   "source": [
    "> Benefits of float:\n",
    "> * **Faster**: float objects are faster than Decimal objects. This is because float objects are stored in binary format, while Decimal objects are stored in decimal format.\n",
    "> * **Less memory-intensive**: float objects are less memory-intensive than Decimal objects. This is because float objects use less space to store their values.\n",
    "> * **Suitable for general-purpose use**: float objects are suitable for general-purpose use. This is because they can represent a wide range of values and are relatively fast.\n",
    "\n",
    "> Drawbacks of float:\n",
    "> * **Less precise**: float objects are less precise than Decimal objects. This means that they can lose precision when performing calculations.\n",
    "> * **Limited range**: float objects can only represent a limited range of values. This means that they may not be suitable for financial applications where precision is critical.\n",
    "---\n",
    "> Benefits of Decimal:\n",
    "> * **More precise**: Decimal objects are more precise than float objects. This means that they do not lose precision when performing calculations.\n",
    "> * **Wider range**: Decimal objects can represent a wider range of values than float objects. This means that they are suitable for financial applications where precision is critical.\n",
    "\n",
    "> Drawbacks of Decimal:\n",
    "> * **Slower**: Decimal objects are slower than float objects. This is because Decimal objects are stored in decimal format, which is slower to process than binary format.\n",
    "> * **More memory-intensive**: Decimal objects are more memory-intensive than float objects. This is because Decimal objects use more space to store their values.\n",
    "> * **Not suitable for general-purpose use**: Decimal objects are not suitable for general-purpose use. This is because they are slower and more memory-intensive than float objects.\n"
   ]
  },
  {
   "cell_type": "markdown",
   "id": "a470939c",
   "metadata": {},
   "source": [
    "## 2. Decimal('1.200') and Decimal('1.2') are two objects to consider. In what sense are these the same object? Are these just two ways of representing the exact same value, or do they correspond to different internal states?"
   ]
  },
  {
   "cell_type": "markdown",
   "id": "5550bf4c",
   "metadata": {},
   "source": [
    "> Decimal('1.200') and Decimal('1.2') are two different objects, but they represent the same value. The difference between the two objects is the precision of the value they represent. The first object, Decimal('1.200'), has a precision of 3 decimal places, while the second object, Decimal('1.2'), has a precision of 2 decimal places.\n",
    "\n",
    "> The internal states of the two objects are also different. The first object, Decimal('1.200'), stores the value as a 3-digit decimal number. The second object, Decimal('1.2'), stores the value as a 2-digit decimal number.\n",
    "\n",
    "> However, despite the differences in their precision and internal states, the two objects represent the same value. This is because the decimal point in both objects is in the same place, and the digits to the right of the decimal point are the same."
   ]
  },
  {
   "cell_type": "markdown",
   "id": "6fbf73ad",
   "metadata": {},
   "source": [
    "## 3. What happens if the equality of Decimal('1.200') and Decimal('1.2') is checked?"
   ]
  },
  {
   "cell_type": "markdown",
   "id": "59b4432f",
   "metadata": {},
   "source": [
    "> The equality of Decimal('1.200') and Decimal('1.2') will be True. This is because the two decimals represent the same value, even though they have different precisions.\n",
    "\n",
    "> The ***Decimal class*** uses a technique called round-tripping to compare decimals. Round-tripping involves converting the decimals to strings, comparing the strings, and then converting the strings back to decimals. This ensures that the equality of decimals is always correct, regardless of their precision"
   ]
  },
  {
   "cell_type": "markdown",
   "id": "b29f64fb",
   "metadata": {},
   "source": [
    "## 4. Why is it preferable to start a Decimal object with a string rather than a floating-point value?"
   ]
  },
  {
   "cell_type": "markdown",
   "id": "e984c4b2",
   "metadata": {},
   "source": [
    "> It is preferable to start a **Decimal object** with a string rather than a floating-point value because floating-point values can be imprecise. This is because floating-point values are stored in binary format, which can only represent a limited number of decimal places.\n",
    "\n",
    "> When you create a **Decimal object** from a string, the string is first converted to a decimal number with the maximum possible precision. This ensures that the Decimal object will always represent the value of the string accurately."
   ]
  },
  {
   "cell_type": "markdown",
   "id": "fb5781b5",
   "metadata": {},
   "source": [
    "## 5. In an arithmetic phrase, how simple is it to combine Decimal objects with integers?"
   ]
  },
  {
   "cell_type": "markdown",
   "id": "21b80b23",
   "metadata": {},
   "source": [
    "> It is very simple to combine Decimal objects with integers in an arithmetic phrase. When we combine a **Decimal object** with an integer, the integer is automatically converted to a Decimal object with the same precision as the Decimal object."
   ]
  },
  {
   "cell_type": "markdown",
   "id": "b8dd9d19",
   "metadata": {},
   "source": [
    "## 6. Can Decimal objects and floating-point values be combined easily?"
   ]
  },
  {
   "cell_type": "markdown",
   "id": "f527ad75",
   "metadata": {},
   "source": [
    "> Yes, Decimal objects and floating-point values can be combined easily in Python. When you combine a Decimal object and a floating-point value, the floating-point value is automatically converted to a Decimal object with the same precision as the Decimal object."
   ]
  },
  {
   "cell_type": "markdown",
   "id": "07a55b8f",
   "metadata": {},
   "source": [
    "## 7. Using the Fraction class but not the Decimal class, give an example of a quantity that can be expressed with absolute precision."
   ]
  },
  {
   "cell_type": "markdown",
   "id": "3d061151",
   "metadata": {},
   "source": [
    "> Here is an example of a quantity that can be expressed with absolute precision using the **Fraction class**:"
   ]
  },
  {
   "cell_type": "code",
   "execution_count": null,
   "id": "f100fafa",
   "metadata": {},
   "outputs": [],
   "source": [
    "from fractions import Fraction\n",
    "\n",
    "quantity = Fraction(2, 5)\n",
    "print(quantity)\n"
   ]
  },
  {
   "cell_type": "markdown",
   "id": "98e42cd0",
   "metadata": {},
   "source": [
    "## 8. Describe a quantity that can be accurately expressed by the Decimal or Fraction classes but not by a floating-point value."
   ]
  },
  {
   "cell_type": "markdown",
   "id": "fcf07fef",
   "metadata": {},
   "source": [
    "> A **quantit**y that can be accurately expressed by the Decimal or Fraction classes but not by a floating-point value is a number with a very large magnitude or a very small magnitude. <br>\n",
    "> **Floating-point numbers** have a limited precision due to their binary representation, which can result in rounding errors or loss of accuracy when dealing with extremely large or small values. On the other hand, the Decimal and Fraction classes provide arbitrary precision and can accurately represent numbers with a high degree of precision."
   ]
  },
  {
   "cell_type": "code",
   "execution_count": null,
   "id": "9d57a414",
   "metadata": {},
   "outputs": [],
   "source": [
    "import decimal\n",
    "from fractions import Fraction\n",
    "\n",
    "# Using floating-point\n",
    "fp_quantity = 0.0000000001\n",
    "print(fp_quantity)  # Output: 1e-10 (approximated)\n",
    "\n",
    "# Using Decimal\n",
    "decimal_quantity = decimal.Decimal('0.0000000001')\n",
    "print(decimal_quantity)  # Output: 0.0000000001 (exact)\n",
    "\n",
    "# Using Fraction\n",
    "fraction_quantity = Fraction(1, 10**10)\n",
    "print(fraction_quantity)  # Output: 1/10000000000 (exact)\n",
    "\n"
   ]
  },
  {
   "cell_type": "markdown",
   "id": "6d5bcbbb",
   "metadata": {},
   "source": [
    "## Q9.Consider the following two fraction objects: Fraction(1, 2) and Fraction(1, 2). (5, 10). Is the internal state of these two objects the same? Why do you think that is?"
   ]
  },
  {
   "cell_type": "markdown",
   "id": "07a90fc5",
   "metadata": {},
   "source": [
    "> No, the internal state of the two Fraction objects **Fraction(1, 2)** and **Fraction(1, 2). (5, 10)** is not the same.\n",
    "\n",
    "> The internal state of the two Fraction objects is not the same. The first Fraction object **Fraction(1, 2)** stores the simplified fraction 1/2, while the second Fraction object **Fraction(1, 2). (5, 10)** stores the original fraction 1/2."
   ]
  },
  {
   "cell_type": "markdown",
   "id": "6bf0f183",
   "metadata": {},
   "source": [
    "## Q10. How do the Fraction class and the integer type (int) relate to each other? Containment or inheritance?"
   ]
  },
  {
   "cell_type": "markdown",
   "id": "3b529f57",
   "metadata": {},
   "source": [
    "> The **Fraction class** does not inherit from the **int** type. This means that **Fraction objects** are not subtypes of **int objects**. <br>\n",
    "> In other words, we cannot assign a **Fraction objec**t to a variable of type int. However, we can convert a Fraction object to an int object using the **__ int__() method**."
   ]
  },
  {
   "cell_type": "code",
   "execution_count": null,
   "id": "ca729aec",
   "metadata": {},
   "outputs": [],
   "source": [
    "from fractions import Fraction\n",
    "\n",
    "fraction = Fraction(5, 2)\n",
    "integer = fraction.__int__()\n",
    "\n",
    "print(integer)\n"
   ]
  },
  {
   "cell_type": "code",
   "execution_count": null,
   "id": "edc41182",
   "metadata": {},
   "outputs": [],
   "source": []
  },
  {
   "cell_type": "code",
   "execution_count": null,
   "id": "2f632477",
   "metadata": {},
   "outputs": [],
   "source": [
    "\n"
   ]
  }
 ],
 "metadata": {
  "kernelspec": {
   "display_name": "Python 3 (ipykernel)",
   "language": "python",
   "name": "python3"
  },
  "language_info": {
   "codemirror_mode": {
    "name": "ipython",
    "version": 3
   },
   "file_extension": ".py",
   "mimetype": "text/x-python",
   "name": "python",
   "nbconvert_exporter": "python",
   "pygments_lexer": "ipython3",
   "version": "3.11.3"
  }
 },
 "nbformat": 4,
 "nbformat_minor": 5
}
