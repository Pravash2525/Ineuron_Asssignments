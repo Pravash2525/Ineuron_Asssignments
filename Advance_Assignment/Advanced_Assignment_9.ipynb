{
 "cells": [
  {
   "cell_type": "markdown",
   "id": "8279765f",
   "metadata": {},
   "source": [
    "<h1> <u> <font color= green > Advanced_Assignment_9 </font> </u> </h1>"
   ]
  },
  {
   "cell_type": "markdown",
   "id": "f89a52d5",
   "metadata": {},
   "source": [
    "## Q1. In Python 3.X, what are the names and functions of string object types?"
   ]
  },
  {
   "cell_type": "markdown",
   "id": "dfbc3a6e",
   "metadata": {},
   "source": [
    "> In Python 3.X, there are four string object types:\n",
    "\n",
    "> * **str** - This is the most common string type. It represents a sequence of Unicode code points.\n",
    "> * **bytes** - This type represents a sequence of bytes. It is used to store binary data, such as images or audio files.\n",
    "> * **bytearray** - This type is similar to bytes, but it is mutable. This means that you can change the contents of a bytearray object after it has been created.\n",
    "> * **ascii** - This type is a deprecated alias for str. It is not recommended to use this type in new code.\n"
   ]
  },
  {
   "cell_type": "markdown",
   "id": "91259c6c",
   "metadata": {},
   "source": [
    "## Q2. How do the string forms in Python 3.X vary in terms of operations?"
   ]
  },
  {
   "cell_type": "markdown",
   "id": "c64f2447",
   "metadata": {},
   "source": [
    "> There are two main string forms: <b>str</b> and <b>bytes</b>. The main difference between these two forms is that <b>str</b> represents a sequence of Unicode code points, while <b>bytes</b> represents a sequence of bytes.\n",
    "\n",
    "> In terms of operations, str and bytes vary in the following ways:\n",
    "> * <b>str</b> operations are generally more efficient than <b>bytes</b> operations. This is because <b>str</b> objects are stored in memory as a single, contiguous block of data, while <b>bytes</b> objects are stored as a sequence of individual bytes.\n",
    "> * <b>str</b> operations are generally more portable than <b>bytes</b> operations. This is because <b>str</b> objects are encoded using Unicode, which is a universal character encoding. <b>bytes</b> objects, on the other hand, are encoded using a specific byte encoding, which may not be supported on all platforms.\n",
    "> * <b>str</b> operations are generally more secure than <b>bytes</b> operations. This is because <b>str</b> objects are not subject to the same buffer overflow vulnerabilities that bytes objects are.\n"
   ]
  },
  {
   "cell_type": "markdown",
   "id": "5dc4750f",
   "metadata": {},
   "source": [
    "## Q3. In 3.X, how do you put non-ASCII Unicode characters in a string?"
   ]
  },
  {
   "cell_type": "markdown",
   "id": "ffc63e8c",
   "metadata": {},
   "source": [
    "> There are two ways to put non-ASCII Unicode characters in a string:\n",
    "\n",
    "> **Using Unicode literals**: Unicode literals are strings that are enclosed in double quotes (\") and contain non-ASCII Unicode characters. For example, the following string contains the non-ASCII Unicode character for the umlauted letter \"ä\": <br>\n",
    "```string = \"This is a string with the non-ASCII Unicode character for ä.\"```\n",
    "\n",
    "> **Using escape sequences**: Escape sequences are a way to represent non-ASCII Unicode characters in strings. Escape sequences start with a backslash (\\) and are followed by a character that represents the non-ASCII Unicode character. For example, the following string contains the non-ASCII Unicode character for the umlauted letter \"ä\" using an escape sequence: <br>\n",
    "```string = \"This is a string with the non-ASCII Unicode character for ä: \\\\u00E4.\"```\n"
   ]
  },
  {
   "cell_type": "markdown",
   "id": "99cf039c",
   "metadata": {},
   "source": [
    "## Q4. In Python 3.X, what are the key differences between text-mode and binary-mode files?"
   ]
  },
  {
   "cell_type": "markdown",
   "id": "dcc936c1",
   "metadata": {},
   "source": [
    "> There are two main modes for opening files: <b>text mode</b> and <b>binary mode</b>. The main difference between these two modes is how they handle newline characters.\n",
    "\n",
    "> * In <b>text mode</b>, newline characters are converted to the platform's default newline sequence. For example, on Windows, newline characters are converted to \\r\\n, while on Unix, they are converted to \\n. This means that if you write a file in text mode and then read it back, the newline characters will be different depending on the platform.\n",
    "\n",
    "> * In <b>binary mode</b>, newline characters are not converted. This means that if you write a file in binary mode and then read it back, the newline characters will be the same as they were when you wrote them."
   ]
  },
  {
   "cell_type": "markdown",
   "id": "d8c50d03",
   "metadata": {},
   "source": [
    "## Q5. How can you interpret a Unicode text file containing text encoded in a different encoding than your platform's default?"
   ]
  },
  {
   "cell_type": "markdown",
   "id": "a723a214",
   "metadata": {},
   "source": [
    "> To interpret a Unicode text file containing text encoded in a different encoding than our platform's default, then we can use the encoding parameter when opening the file. For example, "
   ]
  },
  {
   "cell_type": "code",
   "execution_count": null,
   "id": "e063f013",
   "metadata": {},
   "outputs": [],
   "source": [
    "with open(\"text_file.txt\", \"rt\", encoding=\"utf-8\") as f:\n",
    "    contents = f.read()"
   ]
  },
  {
   "cell_type": "markdown",
   "id": "ea7c3bf1",
   "metadata": {},
   "source": [
    "## Q6. What is the best way to make a Unicode text file in a particular encoding format?"
   ]
  },
  {
   "cell_type": "markdown",
   "id": "2491eeb1",
   "metadata": {},
   "source": [
    "> The best way to make a Unicode text file in a particular encoding format is to use the **open() function** with the encoding parameter. For example, the following code will create a new file and write the string \"This is a Unicode text file\" to the file, encoded using the utf-8 encoding:"
   ]
  },
  {
   "cell_type": "code",
   "execution_count": null,
   "id": "4a42b224",
   "metadata": {},
   "outputs": [],
   "source": [
    "with open(\"unicode_text_file.txt\", \"w\", encoding=\"utf-8\") as f:\n",
    "    f.write(\"This is a Unicode text file\")"
   ]
  },
  {
   "cell_type": "markdown",
   "id": "0b49be92",
   "metadata": {},
   "source": [
    "## Q7. What qualifies ASCII text as a form of Unicode text?"
   ]
  },
  {
   "cell_type": "markdown",
   "id": "2c3c559e",
   "metadata": {},
   "source": [
    "> ASCII text qualifies as a form of Unicode text because it is a subset of Unicode. Unicode is a character encoding standard that can represent a wide range of characters from different languages and scripts. ASCII is a subset of Unicode that can represent the characters used in the English language."
   ]
  },
  {
   "cell_type": "markdown",
   "id": "15026ad9",
   "metadata": {},
   "source": [
    "## Q8. How much of an effect does the change in string types in Python 3.X have on your code?"
   ]
  },
  {
   "cell_type": "markdown",
   "id": "e6824feb",
   "metadata": {},
   "source": [
    "> The change in string types in Python 3.X has a significant effect on code that was written for Python 2.X. <br>\n",
    "In Python 2.X, there were two types of strings: <b>str and unicode</b>. str represented a sequence of bytes, while unicode represented a sequence of Unicode code points.\n",
    "\n",
    "> * In Python 3.X, there is only one type of string: str.str now represents a sequence of Unicode code points. This means that all strings in Python 3.X are Unicode strings.\n",
    "> * Another implication of the change is that you will need to be more careful about how you handle binary data in Python 3.X. In Python 2.X, you could use str objects to store binary data. However, in Python 3.X, you will need to use bytes objects to store binary data.\n",
    "\n",
    ">  Overall, the change in string types in Python 3.X has a significant impact on code that was written for Python 2.X. "
   ]
  },
  {
   "cell_type": "code",
   "execution_count": null,
   "id": "946f3dde",
   "metadata": {},
   "outputs": [],
   "source": []
  }
 ],
 "metadata": {
  "kernelspec": {
   "display_name": "Python 3 (ipykernel)",
   "language": "python",
   "name": "python3"
  },
  "language_info": {
   "codemirror_mode": {
    "name": "ipython",
    "version": 3
   },
   "file_extension": ".py",
   "mimetype": "text/x-python",
   "name": "python",
   "nbconvert_exporter": "python",
   "pygments_lexer": "ipython3",
   "version": "3.11.3"
  }
 },
 "nbformat": 4,
 "nbformat_minor": 5
}
