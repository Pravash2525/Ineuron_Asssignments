{
 "cells": [
  {
   "cell_type": "markdown",
   "id": "130dc62d",
   "metadata": {},
   "source": [
    "<h1> <u> <font color= green > Advanced_Assignment_23 </font> </u> </h1>"
   ]
  },
  {
   "cell_type": "markdown",
   "id": "2625b85d",
   "metadata": {},
   "source": [
    "## Q1. If you have any, what are your choices for increasing the comparison between different figures on the same graph?"
   ]
  },
  {
   "cell_type": "markdown",
   "id": "4add4e99",
   "metadata": {},
   "source": [
    "> For increasing the comparison between different figures on the same graph:\n",
    "> * **Use different colors for different figures**: This is a simple but effective way to make it easy to distinguish between different figures.\n",
    "> * **Use different line styles for different figures**: This is another simple way to make it easy to distinguish between different figures.\n",
    "> * **Use different markers for different figures**: This is a more subtle way to distinguish between different figures, but it can be helpful if you have a lot of figures on the same graph.\n",
    "> * **Use different axes ranges for different figures**: This can be helpful if you want to focus on different aspects of the data in different figures.\n",
    "> * **Use legends to identify the different figures**: This is a must-have if you have more than a few figures on the same graph.\n",
    "> * **Use annotations to highlight specific points on the graph**: This can be helpful if you want to draw attention to particular aspects of the data.\n"
   ]
  },
  {
   "cell_type": "markdown",
   "id": "bb9a2f51",
   "metadata": {},
   "source": [
    "## Q2. Can you explain the benefit of compound interest over a higher rate of interest that does not compound after reading this chapter?"
   ]
  },
  {
   "cell_type": "markdown",
   "id": "b1a0d9f4",
   "metadata": {},
   "source": [
    "> The benefit of **compound interest** over a higher rate of interest that does not compound is that **compound interest** earns interest on interest. This means that your money is not only earning interest on the principal amount, but it is also earning interest on the interest that it has already earned. This can lead to significant growth over time."
   ]
  },
  {
   "cell_type": "markdown",
   "id": "4985b4c4",
   "metadata": {},
   "source": [
    "## Q3. What is a histogram, exactly? Name a numpy method for creating such a graph."
   ]
  },
  {
   "cell_type": "markdown",
   "id": "751f7e5a",
   "metadata": {},
   "source": [
    "> A **histogram** is a graphical representation of the distribution of data. It is a **bar graph** that shows the number of data points that fall within each range of values. Histograms are a useful way to visualize the distribution of data and to identify patterns in the data.\n",
    "\n",
    "> The **NumPy method** for creating a histogram is ***numpy.histogram()***. This function takes two arguments: the data and the number of bins. The data is the array of data that you want to create a histogram for. The number of bins is the number of bars that you want in the histogram."
   ]
  },
  {
   "cell_type": "markdown",
   "id": "f82a6ac9",
   "metadata": {},
   "source": [
    "## Q4. If necessary, how do you change the aspect ratios between the X and Y axes?"
   ]
  },
  {
   "cell_type": "markdown",
   "id": "a51e1d40",
   "metadata": {},
   "source": [
    "> The **aspect ratio** of a graph is the ratio of the width to the height of the graph. It is important to set the aspect ratio correctly so that the graph is not distorted.\n",
    "\n",
    "> To change the aspect ratio between the X and Y axes in Matplotlib, you can use the **aspect parameter** in the ***plt.plot()*** function."
   ]
  },
  {
   "cell_type": "markdown",
   "id": "895af4ef",
   "metadata": {},
   "source": [
    "## Q5. Compare and contrast the three types of array multiplication between two numpy arrays: dot product, outer product, and regular multiplication of two numpy arrays."
   ]
  },
  {
   "cell_type": "markdown",
   "id": "1fe6b49b",
   "metadata": {},
   "source": [
    "\n",
    "<h4>Here is a comparison of the three types of array multiplication between two NumPy arrays:</h4>\n",
    "\n",
    "<table >\n",
    "  <tr>\n",
    "    <th>Type of Multiplication</th>\n",
    "    <th>Description</th>\n",
    "    <th>Example</th>\n",
    "  </tr>\n",
    "  <tr>\n",
    "    <td>Dot product</td>\n",
    "    <td>The dot product of two arrays is the sum of the products of the corresponding elements in the arrays. It is calculated using the following formula: dot_product = np.dot(array_1, array_2)</td>\n",
    "    <td>dot_product = np.dot([1, 2, 3], [4, 5, 6]) = 32</td>\n",
    "  </tr>\n",
    "  <tr>\n",
    "    <td>Outer product</td>\n",
    "    <td>The outer product of two arrays is a new array that is the product of each element in the first array and each element in the second array. It is calculated using the following formula: outer_product = np.outer(array_1, array_2).</td>\n",
    "    <td>outer_product = np.outer([1, 2, 3], [4, 5, 6]) = [[4, 8, 12], [10, 15, 20], [16, 20, 24]]</td>\n",
    "  </tr>\n",
    "  <tr>\n",
    "    <td>Regular multiplication</td>\n",
    "    <td>The regular multiplication of two arrays is the element-wise multiplication of the arrays. It is calculated using the following formula: regular_multiplication = array_1 * array_2.</td>\n",
    "    <td>regular_multiplication = [1, 2, 3] * [4, 5, 6] = [4, 10, 18]</td>\n",
    "  </tr>\n",
    "</table>\n"
   ]
  },
  {
   "cell_type": "markdown",
   "id": "ff200910",
   "metadata": {},
   "source": [
    "## Q6. Before you buy a home, which numpy function will you use to measure your monthly mortgage payment?"
   ]
  },
  {
   "cell_type": "markdown",
   "id": "1f768a3c",
   "metadata": {},
   "source": [
    "> The **NumPy function** that you would use to measure your monthly mortgage payment is the ***numpy.pmt()*** function. This function takes the following arguments:\n",
    "> * **principal**: The amount of the mortgage loan.\n",
    "> * **interest**: The annual interest rate.\n",
    "> * **term**: The number of years of the mortgage loan.\n",
    "> * **payment_frequency**: The number of payments per year.\n"
   ]
  },
  {
   "cell_type": "markdown",
   "id": "c32c3b50",
   "metadata": {},
   "source": [
    "## Q7. Can string data be stored in numpy arrays? If so, list at least one restriction that applies to this data."
   ]
  },
  {
   "cell_type": "markdown",
   "id": "5423fb1d",
   "metadata": {},
   "source": [
    "> Yes, string data can be stored in NumPy arrays. However, there are some restrictions that apply to this data.\n",
    "> * Strings in NumPy arrays must be homogeneous, meaning that all of the strings in the array must be of the same length.\n",
    "> * Strings in NumPy arrays are stored as byte arrays, meaning that each character in the string is stored as a single byte.\n",
    "> * The maximum length of a string in a NumPy array is limited by the size of the byte array.\n"
   ]
  },
  {
   "cell_type": "code",
   "execution_count": null,
   "id": "3686579e",
   "metadata": {},
   "outputs": [],
   "source": []
  },
  {
   "cell_type": "code",
   "execution_count": null,
   "id": "95e6c6e9",
   "metadata": {},
   "outputs": [],
   "source": []
  }
 ],
 "metadata": {
  "kernelspec": {
   "display_name": "Python 3 (ipykernel)",
   "language": "python",
   "name": "python3"
  },
  "language_info": {
   "codemirror_mode": {
    "name": "ipython",
    "version": 3
   },
   "file_extension": ".py",
   "mimetype": "text/x-python",
   "name": "python",
   "nbconvert_exporter": "python",
   "pygments_lexer": "ipython3",
   "version": "3.11.3"
  }
 },
 "nbformat": 4,
 "nbformat_minor": 5
}
