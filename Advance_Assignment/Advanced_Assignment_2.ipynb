{
 "cells": [
  {
   "cell_type": "markdown",
   "id": "969f761b",
   "metadata": {},
   "source": [
    "<h1> <u> <font color= green > Advanced_Assignment_2 </font> </u> </h1>"
   ]
  },
  {
   "cell_type": "markdown",
   "id": "1c840c3e",
   "metadata": {},
   "source": [
    "## Q1. What is the relationship between classes and modules?"
   ]
  },
  {
   "cell_type": "markdown",
   "id": "6643523d",
   "metadata": {},
   "source": [
    "> Classes and modules are two different concepts in Python, but they are closely related.\n",
    "\n",
    "> * <b> Classes</b> are blueprints for creating objects. They define the attributes and methods that the objects will have.\n",
    "> * <b>Modules </b> are files that contain Python code. They can contain classes, functions, variables, and other code.\n",
    "\n",
    ">The relationship between classes and modules is that classes can be defined in modules. This means that you can create a module that contains a class, and then you can import the module into another program and create instances of the class."
   ]
  },
  {
   "cell_type": "markdown",
   "id": "5ba08214",
   "metadata": {},
   "source": [
    "## Q2. How do you make instances and classes?"
   ]
  },
  {
   "cell_type": "markdown",
   "id": "86c79e77",
   "metadata": {},
   "source": [
    "> In Python, to make instances and classes use the class keyword.\n",
    "\n",
    "> To make an instance of a class, use the __ init __() method. The __ init __() method is a special method that is called when an object is created. It is used to initialize the object's attributes."
   ]
  },
  {
   "cell_type": "markdown",
   "id": "40f61520",
   "metadata": {},
   "source": [
    "## Q3. Where and how should be class attributes created?"
   ]
  },
  {
   "cell_type": "markdown",
   "id": "c5033780",
   "metadata": {},
   "source": [
    "> Class attributes are created inside the class definition and outside of any methods. They are shared by all instances of the class. They are accessed using the class name itself or through instances of the class. Class attributes can be accessed and modified by both the class and its instances.\n"
   ]
  },
  {
   "cell_type": "code",
   "execution_count": null,
   "id": "931d102f",
   "metadata": {},
   "outputs": [],
   "source": [
    "class MyClass:\n",
    "    class_attribute = \"I am a class attribute\"\n",
    "\n",
    "    def instance_method(self):\n",
    "        print(self.class_attribute)     # Accessing class attribute through instance\n",
    "        print(MyClass.class_attribute)  # Accessing class attribute through class\n",
    "\n",
    "print(MyClass.class_attribute)      # Accessing class attribute without creating an instance\n",
    "\n",
    "instance1 = MyClass()    # Creating instances\n",
    "instance2 = MyClass()\n",
    "\n",
    "print(instance1.class_attribute)  # Accessing class attribute through instances\n",
    "print(instance2.class_attribute)  \n",
    "\n",
    "\n",
    "MyClass.class_attribute = \"Modified class attribute\"   # Modifying class attribute through class\n",
    "\n",
    "print(instance1.class_attribute)  # Accessing modified class attribute through instances\n",
    "print(instance2.class_attribute)  "
   ]
  },
  {
   "cell_type": "markdown",
   "id": "36a9335f",
   "metadata": {},
   "source": [
    "## Q4. Where and how are instance attributes created?"
   ]
  },
  {
   "cell_type": "markdown",
   "id": "dab901e7",
   "metadata": {},
   "source": [
    "> Instance attributes are created inside the <b> __ init__() method</b>, and they are unique to each instance of the class."
   ]
  },
  {
   "cell_type": "markdown",
   "id": "3d910256",
   "metadata": {},
   "source": [
    "## Q5. What does the term \"self\" in a Python class mean?"
   ]
  },
  {
   "cell_type": "markdown",
   "id": "7b7ba1e8",
   "metadata": {},
   "source": [
    "> The term \"self\" is a convention used to refer to the instance object within a class. It is the first parameter of instance methods in a class and is automatically passed when calling those methods. \n",
    "\n",
    "> The purpose of \"self\" is to refer to the specific instance of the class on which the method is called. It allows access to the instance's attributes and methods within the class definition."
   ]
  },
  {
   "cell_type": "markdown",
   "id": "7f5a0d86",
   "metadata": {},
   "source": [
    "## Q6. How does a Python class handle operator overloading?"
   ]
  },
  {
   "cell_type": "markdown",
   "id": "e83c1a07",
   "metadata": {},
   "source": [
    "> **Operator overloading** is a way to redefine the meaning of operators (such as +, -, *, /, ==, !=,) for user-defined classes. This can be useful for making code more concise and readable, or for providing new functionality.  <br>\n",
    "> To implement operator overloading in a class, you can define special methods (also called magic methods or dunder methods) that correspond to specific operators. \n"
   ]
  },
  {
   "cell_type": "code",
   "execution_count": null,
   "id": "a4239a4e",
   "metadata": {},
   "outputs": [],
   "source": [
    "class Point:\n",
    "    def __init__(self, x, y):\n",
    "        self.x = x\n",
    "        self.y = y\n",
    "\n",
    "    def __add__(self, other):\n",
    "        return Point(self.x + other.x, self.y + other.y)\n",
    "\n",
    "p1 = Point(1, 2)\n",
    "p2 = Point(3, 4)\n",
    "\n",
    "p3 = p1 + p2\n",
    "print(p3.x, p3.y) # Prints Point(4, 6)"
   ]
  },
  {
   "cell_type": "markdown",
   "id": "f039c4ba",
   "metadata": {},
   "source": [
    "## Q7. When do you consider allowing operator overloading of your classes?"
   ]
  },
  {
   "cell_type": "markdown",
   "id": "147f37b9",
   "metadata": {},
   "source": [
    "> Here are some situations where allowing operator overloading in your classes can be beneficial:\n",
    "> * makes code more concise and readable\n",
    "> * provides new functionality \n",
    "> * Code readability and maintainability and ,ore efficient. \n"
   ]
  },
  {
   "cell_type": "markdown",
   "id": "04cc37f6",
   "metadata": {},
   "source": [
    "## Q8. What is the most popular form of operator overloading?"
   ]
  },
  {
   "cell_type": "markdown",
   "id": "497e543c",
   "metadata": {},
   "source": [
    "> The most popular form of operator overloading in Python is <b>binary operator overloading </b>. Binary operator overloading is when you overload an operator that takes two operands. For example, the + operator is a binary operator, and it takes two operands."
   ]
  },
  {
   "cell_type": "markdown",
   "id": "5eb8d2df",
   "metadata": {},
   "source": [
    "## Q9. What are the two most important concepts to grasp in order to comprehend Python OOP code?"
   ]
  },
  {
   "cell_type": "markdown",
   "id": "e71c6642",
   "metadata": {},
   "source": [
    "> The two most important concepts to grasp in order to comprehend Python OOP code:\n",
    "\n",
    "            * Classes and objects\n",
    "            * Inheritance\n",
    "\n",
    "> **Classes** and **objects** are the two building blocks of object-oriented programming (OOP). A class is a blueprint for creating objects. It defines the attributes and methods that the objects will have. An object is an instance of a class. It is a concrete representation of the class.\n",
    "\n",
    "> **Inheritance** is a mechanism that allows one class to inherit the attributes and methods of another class. This allows you to reuse code and create more complex and powerful classes."
   ]
  },
  {
   "cell_type": "code",
   "execution_count": null,
   "id": "f539bf80",
   "metadata": {},
   "outputs": [],
   "source": []
  },
  {
   "cell_type": "code",
   "execution_count": null,
   "id": "8644d496",
   "metadata": {},
   "outputs": [],
   "source": []
  }
 ],
 "metadata": {
  "kernelspec": {
   "display_name": "Python 3 (ipykernel)",
   "language": "python",
   "name": "python3"
  },
  "language_info": {
   "codemirror_mode": {
    "name": "ipython",
    "version": 3
   },
   "file_extension": ".py",
   "mimetype": "text/x-python",
   "name": "python",
   "nbconvert_exporter": "python",
   "pygments_lexer": "ipython3",
   "version": "3.11.3"
  }
 },
 "nbformat": 4,
 "nbformat_minor": 5
}
