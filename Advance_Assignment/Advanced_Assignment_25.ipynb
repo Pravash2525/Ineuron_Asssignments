{
 "cells": [
  {
   "cell_type": "markdown",
   "id": "f79c2d04",
   "metadata": {},
   "source": [
    "<h1> <u> <font color= green > Advanced_Assignment_25 </font> </u> </h1>"
   ]
  },
  {
   "cell_type": "markdown",
   "id": "ab688d23",
   "metadata": {},
   "source": [
    "\n",
    "## Q1. What is the distinction between a numpy array and a pandas data frame? Is there a way to convert between the two if there is?"
   ]
  },
  {
   "cell_type": "markdown",
   "id": "8f4ee796",
   "metadata": {},
   "source": [
    "> **NumPy arrays** and **Pandas DataFrames** are both popular data structures in Python for storing and manipulating data. However, they have different strengths and weaknesses, and they are not always interchangeable.\n",
    "\n",
    "> **NumPy arrays** are homogeneous, meaning that all of the elements in an array must be of the same data type. This makes them efficient for storing and manipulating numerical data. However, NumPy arrays are not as well-suited for storing and manipulating tabular data, such as data with rows and columns.\n",
    "\n",
    "> **Pandas DataFrames** are heterogeneous, meaning that the elements in a DataFrame can be of different data types. This makes them well-suited for storing and manipulating tabular data. However, Pandas DataFrames are not as efficient for storing and manipulating numerical data as NumPy arrays.\n",
    "\n",
    ">  One way is to convert NumPy arrays use the ***to_numpy()*** method on a Pandas DataFrame. This will return a NumPy array with the same data as the DataFrame. Another way to convert between the two data structures is to use the ***DataFrame()*** constructor on a NumPy array. This will create a Pandas DataFrame with the same data as the NumPy array."
   ]
  },
  {
   "cell_type": "markdown",
   "id": "36bbbf17",
   "metadata": {},
   "source": [
    "## Q2. What can go wrong when an user enters in a stock-ticker symbol, and how do you handle it?"
   ]
  },
  {
   "cell_type": "markdown",
   "id": "4e4c4146",
   "metadata": {},
   "source": [
    "> Here are some ways to handle these errors:\n",
    "> * **Validate the ticker symbol before processing it**: This can be done by using a library that provides a list of valid ticker symbols.\n",
    "> * **Provide feedback to the user if the ticker symbol is invalid**: This feedback should be clear and concise, so that the user can easily understand what went wrong.\n",
    "> * **Allow the user to retry entering the ticker symbol**: This is a good option if the user is likely to enter the correct ticker symbol on the second try.\n"
   ]
  },
  {
   "cell_type": "markdown",
   "id": "cb06764b",
   "metadata": {},
   "source": [
    "## Q3. Identify some of the plotting techniques that are used to produce a stock-market chart."
   ]
  },
  {
   "cell_type": "markdown",
   "id": "9a08f0f6",
   "metadata": {},
   "source": [
    "> Plotting techniques that are used to produce a stock-market chart are:\n",
    "> * **Line charts**: Line charts are the most common type of stock chart. They show the closing price of a stock over time. Line charts can be used to track the overall trend of a stock, as well as to identify specific price levels.\n",
    "    Line chart stock market\n",
    "> * **Bar charts**: Bar charts show the opening, closing, high, and low prices of a stock over time. Bar charts can be used to track the volatility of a stock, as well as to identify specific price levels. \n",
    "> * **Candlestick charts**: Candlestick charts are a type of bar chart that uses candles to represent the opening, closing, high, and low prices of a stock. Candlestick charts can be used to track the volatility of a stock, as well as to identify specific price levels. \n",
    "> * **Volume charts**: Volume charts show the volume of trading activity for a stock over time. Volume charts can be used to identify periods of high and low trading activity, as well as to track the overall trend of a stock. \n",
    "> * **Moving average charts**: Moving average charts show the average closing price of a stock over a specified period of time. Moving average charts can be used to identify trends and to smooth out price fluctuations. "
   ]
  },
  {
   "cell_type": "markdown",
   "id": "cdbcfccc",
   "metadata": {},
   "source": [
    "## Q4. Why is it essential to print a legend on a stock market chart?"
   ]
  },
  {
   "cell_type": "markdown",
   "id": "d857daea",
   "metadata": {},
   "source": [
    "> A legend on a stock market chart is a key component that helps users understand what the different lines and colors on the chart represent. Without a legend, it would be difficult to interpret the chart and make informed trading decisions.\n",
    "\n",
    "> It is essential to print a legend on a stock market chart because:\n",
    "> * **To identify the different data series**: A legend helps users identify the different data series that are plotted on the chart. This is important because it allows users to see how different factors, such as price, volume, and moving averages, are affecting the stock's performance.\n",
    "> * **To understand the meaning of the different colors**: A legend also helps users understand the meaning of the different colors that are used on the chart. This is important because it allows users to quickly identify which data series is represented by each color.\n",
    "> * **To make the chart more readable**: A legend can make a chart more readable by providing a clear and concise explanation of the different data series and colors. This can be especially helpful for users who are new to technical analysis or who are not familiar with the specific chart that they are viewing.\n"
   ]
  },
  {
   "cell_type": "markdown",
   "id": "65af039c",
   "metadata": {},
   "source": [
    "## Q5. What is the best way to limit the length of a pandas data frame to less than a year?"
   ]
  },
  {
   "cell_type": "markdown",
   "id": "412730a5",
   "metadata": {},
   "source": [
    "> To limit the length of a Pandas DataFrame to less than a year, then here are two ways to do it:\n",
    "> <h3> Method 1 </h3>\n",
    "```\n",
    "            import pandas as pd\n",
    "            df = pd.DataFrame({\n",
    "                    \"Date\": pd.to_datetime([\"2022-01-01\", \"2022-02-01\", \"2022-03-01\", \"2023-01-01\", \"2023-02-01\", \"2023-03-01\"]),\n",
    "                    \"Price\": [100, 110, 120, 130, 140, 150] })\n",
    "            # Get the last year of data\n",
    "            df = df[df['Date'] >= pd.to_datetime('2022-01-01')]\n",
    "            print(df)\n",
    "    ```\n",
    "\n",
    "> <h3> Method 2 </h3>\n",
    "```\n",
    "            import pandas as pd\n",
    "            df = pd.DataFrame({\n",
    "                \"Date\": pd.to_datetime([\"2022-01-01\", \"2022-02-01\", \"2022-03-01\", \"2023-01-01\", \"2023-02-01\", \"2023-03-01\"]),\n",
    "                \"Price\": [100, 110, 120, 130, 140, 150]})\n",
    "\n",
    "            # Get the last year of data\n",
    "            today = pd.to_datetime('today')\n",
    "            df = df[df['Date'] <= today - pd.Timedelta('365 days')]\n",
    "            print(df)\n",
    "```"
   ]
  },
  {
   "cell_type": "markdown",
   "id": "1f82cca9",
   "metadata": {},
   "source": [
    "## Q6. What is the definition of a 180-day moving average?"
   ]
  },
  {
   "cell_type": "markdown",
   "id": "0f355c2a",
   "metadata": {},
   "source": [
    "> A **180-day moving average** is a technical indicator that is used to smooth out price data by calculating the average closing price of a security over a period of 180 days. This can be helpful to identify trends and to smooth out price fluctuations.\n",
    "\n",
    "> To calculate a **180-day moving average**, you would add up the closing prices of a security over the past 180 days and then divide by 180. This will give you the average closing price of the security over the past 180 days."
   ]
  },
  {
   "cell_type": "markdown",
   "id": "d2f17d9a",
   "metadata": {},
   "source": [
    "## Q7. Did the chapter's final example use \"indirect\" importing? If so, how exactly do you do it?"
   ]
  },
  {
   "cell_type": "markdown",
   "id": "5ae6898d",
   "metadata": {},
   "source": [
    "> Yes, the chapter's final example used indirect importing. Indirect importing is a way to import a module or package without explicitly specifying its name. This can be useful if we are not sure of the name of the module or package, or if we want to import a module or package from a different directory.\n",
    "\n",
    "> To use indirect importing, we use the importlib module. The importlib module provides a function called ***import_module()***, which can be used to import a module or package by its name.\n",
    "\n",
    "```\n",
    "            import importlib\n",
    "\n",
    "            module_name = 'my_module'\n",
    "\n",
    "            # Import the module by its name\n",
    "            module = importlib.import_module(module_name)\n",
    "\n",
    "            # Use the module\n",
    "            print(module.name)\n",
    "```\n",
    "> This code will import the module my_module and print its name."
   ]
  },
  {
   "cell_type": "code",
   "execution_count": null,
   "id": "d69a7b0c",
   "metadata": {},
   "outputs": [],
   "source": []
  },
  {
   "cell_type": "code",
   "execution_count": null,
   "id": "a1d49e76",
   "metadata": {},
   "outputs": [],
   "source": []
  }
 ],
 "metadata": {
  "kernelspec": {
   "display_name": "Python 3 (ipykernel)",
   "language": "python",
   "name": "python3"
  },
  "language_info": {
   "codemirror_mode": {
    "name": "ipython",
    "version": 3
   },
   "file_extension": ".py",
   "mimetype": "text/x-python",
   "name": "python",
   "nbconvert_exporter": "python",
   "pygments_lexer": "ipython3",
   "version": "3.11.3"
  }
 },
 "nbformat": 4,
 "nbformat_minor": 5
}
