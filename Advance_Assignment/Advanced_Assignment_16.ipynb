{
 "cells": [
  {
   "cell_type": "markdown",
   "id": "130dc62d",
   "metadata": {},
   "source": [
    "<h1> <u> <font color= green > Advanced_Assignment_16 </font> </u> </h1>"
   ]
  },
  {
   "cell_type": "markdown",
   "id": "57ad1b97",
   "metadata": {},
   "source": [
    "## Q1. What is the benefit of regular expressions?"
   ]
  },
  {
   "cell_type": "markdown",
   "id": "22951287",
   "metadata": {},
   "source": [
    "> Benefits of regular expressions are:\n",
    "> * **Powerful**: used to match complex patterns in text.\n",
    "> * **Flexible**: used to match a wide variety of patterns.\n",
    "> * **Efficient**: used to match patterns quickly and efficiently.\n",
    "> * **Portable**: are portable across different programming languages.\n"
   ]
  },
  {
   "cell_type": "markdown",
   "id": "3a098429",
   "metadata": {},
   "source": [
    "## Q2. Describe the difference between the effects of \"(ab)c+\" and \"a(bc)+.\" Which of these, if any, is the unqualified pattern \"abc+\"?"
   ]
  },
  {
   "cell_type": "markdown",
   "id": "539e6059",
   "metadata": {},
   "source": [
    "> * **(ab)c+**: This pattern matches a string that starts with ab, followed by any number of c characters, and then ends with c. For example, the string abc would match this pattern, but the string abcc would not.\n",
    "> * **a(bc)+**: This pattern matches a string that starts with a, followed by zero or more occurrences of the bc pattern, and then ends with c. For example, the string abc would match this pattern, but the string abcc would also match this pattern.\n",
    "> * **abc+**: The unqualified pattern abc+ is equivalent to (ab)c+. This is because the + character in a regular expression matches any number of occurrences of the preceding character."
   ]
  },
  {
   "cell_type": "markdown",
   "id": "32ec7090",
   "metadata": {},
   "source": [
    "## Q3. How much do you need to use the following sentence while using regular expressions?\n",
    "#### import re"
   ]
  },
  {
   "cell_type": "markdown",
   "id": "a5adb065",
   "metadata": {},
   "source": [
    "> We use the following sentence ***import re*** at the beginning of your Python code if you want to use regular expressions:\n",
    "> This contains the regular expression functions and classes. Without importing the re module, we will not be able to use regular expressions in our Python code."
   ]
  },
  {
   "cell_type": "markdown",
   "id": "c004806e",
   "metadata": {},
   "source": [
    "## Q4. Which characters have special significance in square brackets when expressing a range, and under what circumstances?"
   ]
  },
  {
   "cell_type": "markdown",
   "id": "4c5959b9",
   "metadata": {},
   "source": [
    "> Here are the characters and their special significance when used in square brackets for range expressions:\n",
    "> * **Dash (-)**: The dash character is used to indicate a range of values between two endpoints. It specifies a sequence that includes all values from the starting point to the ending point, inclusive.    **Example**: [1-5] represents a range from 1 to 5, including both endpoints. It is equivalent to [1, 2, 3, 4, 5].\n",
    "> * **Caret (^)**: When used as the first character inside square brackets, the caret character negates the character class. It specifies a range of characters that are not allowed in the expression.    **Example**: [^0-9] represents any character that is not a digit. It matches any character other than 0 to 9.\n",
    "> * **Backslash (\\)**: The backslash character is used as an escape character to treat the following character literally. It allows you to include characters that have special significance in the range expression.   **Example**: \"[ \\ [ \\ ] ]\" represents a character class containing only square brackets. It matches either \"[\" or \"]\"."
   ]
  },
  {
   "cell_type": "markdown",
   "id": "70adddfe",
   "metadata": {},
   "source": [
    "## Q5. How does compiling a regular-expression object benefit you?"
   ]
  },
  {
   "cell_type": "markdown",
   "id": "1b6a2942",
   "metadata": {},
   "source": [
    "> Compiling a regular expression object in Python has several benefits, including:\n",
    "> * **Speed**: Compiling a regular expression object creates a pattern object that can be used more efficiently than a regular expression string. This is because the pattern object is pre-parsed and stored in memory, so it does not need to be parsed every time it is used.\n",
    "> * **Memory**: Compiling a regular expression object can also reduce memory usage. This is because the pattern object is stored in memory, so it does not need to be created every time it is used.\n",
    "> * **Accuracy**: Compiling a regular expression object can also improve accuracy. This is because the pattern object is pre-parsed, so it can be used to match patterns more accurately.\n"
   ]
  },
  {
   "cell_type": "markdown",
   "id": "3e897348",
   "metadata": {},
   "source": [
    "## Q6. What are some examples of how to use the match object returned by re.match and re.search?"
   ]
  },
  {
   "cell_type": "markdown",
   "id": "85f61661",
   "metadata": {},
   "source": [
    ">The ***match object*** returned by **re.match() and re.search()** methods provides access to information about the matching operation and the matched text.\n",
    "---\n",
    "> **Getting the matched text**: The match object has a group() method that returns the matched text.\n",
    "```\n",
    "            import re\n",
    "\n",
    "            pattern = 'abc+'\n",
    "            match = re.match(pattern, 'abccc')\n",
    "            search = re.search(pattern, 'abccc')\n",
    "            print(match.group())   # result:  abccc\n",
    "            print(search.group())   # result:  abccc\n",
    "```\n",
    "---\n",
    "> **Getting the start and end positions**: The match object has a start() and end() method that return the start and end positions of the matched text, respectively. \n",
    "```\n",
    "            import re\n",
    "\n",
    "            pattern = 'abc+'\n",
    "            match = re.match(pattern, 'abccc')\n",
    "\n",
    "            print(match.start())    # result: 0\n",
    "            print(match.end())      # result: 5\n",
    "```\n",
    "---\n",
    "> **Getting the captured groups**: The match object can also capture groups of text and prints them. \n",
    "```\n",
    "            import re\n",
    "\n",
    "            pattern = '(abc)+'\n",
    "            match = re.match(pattern, 'abccc')\n",
    "\n",
    "            print(match.groups())   # result: ('abc',)\n",
    "```"
   ]
  },
  {
   "cell_type": "markdown",
   "id": "03bf36c5",
   "metadata": {},
   "source": [
    "## Q7. What is the difference between using a vertical bar (|) as an alteration and using square brackets as a character set?"
   ]
  },
  {
   "cell_type": "markdown",
   "id": "13971a96",
   "metadata": {},
   "source": [
    "> **Vertical bar (|)**: The vertical bar character is used to represent an alteration. An alteration is a choice between two or more patterns. For example, the regular expression a|b matches the string a or the string b.\n",
    "\n",
    "> **Square brackets**: Square brackets are used to represent a character set. A character set is a group of characters that can be matched. For example, the regular expression [a-z] matches any lowercase letter.\n"
   ]
  },
  {
   "cell_type": "markdown",
   "id": "de7480ec",
   "metadata": {},
   "source": [
    "## Q8. In regular-expression search patterns, why is it necessary to use the raw-string indicator (r)? In replacement strings?"
   ]
  },
  {
   "cell_type": "markdown",
   "id": "9583c960",
   "metadata": {},
   "source": [
    "> **In search patterns**: The raw-string indicator (r) tells Python that the regular expression string is a raw string. A raw string is a string that is not interpreted by Python. This means that the special characters in a raw string are not interpreted as special characters. <br>\n",
    "*For example*, the regular expression string r'\\n' matches the newline character. If the raw-string indicator is not used, the regular expression string '\\n' would match the backslash character and the letter n.\n",
    "\n",
    "> **In replacement strings**: The raw-string indicator (r) is also used in replacement strings. A replacement string is a string that is used to replace the matched text in a regular expression search. The raw-string indicator ensures that the special characters in the replacement string are not interpreted as special characters.<br>\n",
    "*For example*, the replacement string r'\\1\\n' would replace the matched text with the matched text followed by a newline character. If the raw-string indicator is not used, the replacement string '\\1\\n' would replace the matched text with the matched text followed by the backslash character and the letter n."
   ]
  },
  {
   "cell_type": "code",
   "execution_count": null,
   "id": "14eca7e8",
   "metadata": {},
   "outputs": [],
   "source": []
  },
  {
   "cell_type": "code",
   "execution_count": null,
   "id": "a26ad149",
   "metadata": {},
   "outputs": [],
   "source": []
  }
 ],
 "metadata": {
  "kernelspec": {
   "display_name": "Python 3 (ipykernel)",
   "language": "python",
   "name": "python3"
  },
  "language_info": {
   "codemirror_mode": {
    "name": "ipython",
    "version": 3
   },
   "file_extension": ".py",
   "mimetype": "text/x-python",
   "name": "python",
   "nbconvert_exporter": "python",
   "pygments_lexer": "ipython3",
   "version": "3.11.3"
  }
 },
 "nbformat": 4,
 "nbformat_minor": 5
}
