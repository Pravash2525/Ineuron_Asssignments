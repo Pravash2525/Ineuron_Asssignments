{
 "cells": [
  {
   "cell_type": "markdown",
   "id": "130dc62d",
   "metadata": {},
   "source": [
    "<h1> <u> <font color= green > Advanced_Assignment_8 </font> </u> </h1>"
   ]
  },
  {
   "cell_type": "markdown",
   "id": "593d1a9c",
   "metadata": {},
   "source": [
    "## Q1. What are the two latest user-defined exception constraints in Python 3.X?"
   ]
  },
  {
   "cell_type": "markdown",
   "id": "f47764fa",
   "metadata": {},
   "source": [
    "> **Exception Chaining:** Exception chaining is a feature that allows you to chain multiple exceptions together. This can be useful for debugging errors, as it allows you to see the chain of events that led to the exception being raised. \n",
    "```\n",
    "            def divide_numbers(x, y):\n",
    "                try:\n",
    "                    return x / y\n",
    "                except ZeroDivisionError:\n",
    "                    raise ValueError(\"Division by zero\")\n",
    "\n",
    "            try:\n",
    "                print(divide_numbers(10, 0))\n",
    "            except ValueError as e:\n",
    "                print(e)\n",
    "\n",
    "```\n",
    "---\n",
    "> **Multiple Exception Handlers:** Multiple exception handlers is a feature that allows you to handle multiple exceptions in the same except clause. This can be useful for handling different types of exceptions or for handling exceptions that occur in different parts of your code.\n",
    "```\n",
    "            def divide_numbers(x, y):\n",
    "                try:\n",
    "                    return x / y\n",
    "                except ZeroDivisionError:\n",
    "                    print(\"Division by zero\")\n",
    "                except TypeError:\n",
    "                    print(\"Type error\")\n",
    "                except Exception:\n",
    "                    print(\"Unknown error\")\n",
    "\n",
    "            try:\n",
    "                print(divide_numbers(10, 0))\n",
    "            except Exception as e:\n",
    "                print(e)\n",
    "```\n"
   ]
  },
  {
   "cell_type": "markdown",
   "id": "64525bb9",
   "metadata": {},
   "source": [
    "## Q2. How are class-based exceptions that have been raised matched to handlers?"
   ]
  },
  {
   "cell_type": "markdown",
   "id": "193fc462",
   "metadata": {},
   "source": [
    "> **Class-based exceptions** are matched to handlers by checking the type of the exception. The *except clause* can specify a specific class of exception, or it can specify a parent class of exception. If the exception that is raised is a subclass of the class that is specified in the except clause, then the handler will be executed.\n"
   ]
  },
  {
   "cell_type": "code",
   "execution_count": null,
   "id": "c4ae0526",
   "metadata": {},
   "outputs": [],
   "source": [
    "def divide_numbers(x, y):\n",
    "    try:\n",
    "        return x / y\n",
    "    except (MyException, TypeError):\n",
    "        print(\"My exception or type error\")\n",
    "    except Exception:\n",
    "        print(\"Unknown exception\")\n",
    "\n",
    "\n",
    "try:\n",
    "    print(divide_numbers(10, 0))\n",
    "except MyException:\n",
    "    print(\"My exception\")\n"
   ]
  },
  {
   "cell_type": "markdown",
   "id": "b958504b",
   "metadata": {},
   "source": [
    "## Q3. Describe two methods for attaching context information to exception artefacts."
   ]
  },
  {
   "cell_type": "markdown",
   "id": "3ad73954",
   "metadata": {},
   "source": [
    "> **Using the sys.exc_info() function**: The sys.exc_info() function returns a tuple containing the exception type, the exception value, and the exception traceback. We can use this tuple to attach context information to the exception.\n",
    "\n",
    "> **Using the contextlib.contextmanager() function**: The contextlib.contextmanager() function allows you to define a context manager that can be used to attach context information to an exception."
   ]
  },
  {
   "cell_type": "markdown",
   "id": "8d81d350",
   "metadata": {},
   "source": [
    "## Q4. Describe two methods for specifying the text of an exception object's error message."
   ]
  },
  {
   "cell_type": "markdown",
   "id": "4fefd068",
   "metadata": {},
   "source": [
    "> <b>Using the __ str__() method</b>: The __ str__() method is a special method that is called when an object is converted to a string. We can override the __ str__() method to specify the text of the exception object's error message.\n",
    "```\n",
    "            class MyException(Exception):\n",
    "                def __str__(self):\n",
    "                    return \"This is my custom error message\"\n",
    "\n",
    "            try:\n",
    "                raise MyException()\n",
    "            except MyException as e:\n",
    "                print(e)\n",
    "```\n",
    "---\n",
    "> **Using the message attribute**: The message attribute is a property of the exception object that can be used to specify the text of the error message.\n",
    "```\n",
    "            class MyException(Exception):\n",
    "                def __init__(self, message):\n",
    "                    self.message = message\n",
    "\n",
    "            try:\n",
    "                raise MyException(\"This is my custom error message\")\n",
    "            except MyException as e:\n",
    "                print(e.message)\n",
    "```"
   ]
  },
  {
   "cell_type": "markdown",
   "id": "7b965235",
   "metadata": {},
   "source": [
    "## Q5. Why do you no longer use string-based exceptions?"
   ]
  },
  {
   "cell_type": "markdown",
   "id": "b670bc3e",
   "metadata": {},
   "source": [
    "> <b><u><i>Because</i></u></b>\n",
    "> * They are not as expressive as class-based exceptions: String-based exceptions can only contain a simple string message. Class-based exceptions can contain a more complex object that can include additional information, such as the line number where the exception was raised.\n",
    "> * They are not as easy to debug: It can be difficult to debug a program that uses string-based exceptions. The string message may not be very helpful, and it can be difficult to track down the source of the error.\n",
    "> * They are not as portable: String-based exceptions are not as portable as class-based exceptions. The string message may not be interpreted the same way on different platforms.\n",
    "\n",
    "> For these reasons, it is recommended to use class-based exceptions instead of string-based exceptions in Python. Class-based exceptions are more expressive, easier to debug, and more portable."
   ]
  },
  {
   "cell_type": "code",
   "execution_count": null,
   "id": "0ff25afb",
   "metadata": {},
   "outputs": [],
   "source": []
  },
  {
   "cell_type": "code",
   "execution_count": null,
   "id": "07cd04f6",
   "metadata": {},
   "outputs": [],
   "source": []
  }
 ],
 "metadata": {
  "kernelspec": {
   "display_name": "Python 3 (ipykernel)",
   "language": "python",
   "name": "python3"
  },
  "language_info": {
   "codemirror_mode": {
    "name": "ipython",
    "version": 3
   },
   "file_extension": ".py",
   "mimetype": "text/x-python",
   "name": "python",
   "nbconvert_exporter": "python",
   "pygments_lexer": "ipython3",
   "version": "3.11.3"
  }
 },
 "nbformat": 4,
 "nbformat_minor": 5
}
