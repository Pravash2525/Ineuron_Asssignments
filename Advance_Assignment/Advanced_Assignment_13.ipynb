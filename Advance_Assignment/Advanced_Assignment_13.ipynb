{
 "cells": [
  {
   "cell_type": "markdown",
   "id": "969f761b",
   "metadata": {},
   "source": [
    "<h1> <u> <font color= green > Advanced_Assignment_13 </font> </u> </h1>"
   ]
  },
  {
   "cell_type": "markdown",
   "id": "a0e2773e",
   "metadata": {},
   "source": [
    "## Q1. Can you create a programme or function that employs both positive and negative indexing? Is there any repercussion if you do so?"
   ]
  },
  {
   "cell_type": "markdown",
   "id": "eb9a5e58",
   "metadata": {},
   "source": [
    "> Yes, it is possible to create a program or function that employs both positive and negative indexing. There are no repercussions. "
   ]
  },
  {
   "cell_type": "code",
   "execution_count": null,
   "id": "4e859978",
   "metadata": {},
   "outputs": [],
   "source": [
    "def index_string(string, substring):\n",
    "    \"\"\"Returns the index of the substring in the string, or -1 if the substring is not found.\"\"\"\n",
    "    index = string.find(substring)\n",
    "    if index == -1:\n",
    "        index = string.rfind(substring)\n",
    "\n",
    "    return index\n",
    "\n",
    "string = \"Hello, world!\"\n",
    "substring = \"world\"\n",
    "\n",
    "index = index_string(string, substring)\n",
    "print(index)\n"
   ]
  },
  {
   "cell_type": "markdown",
   "id": "8cb0cda0",
   "metadata": {},
   "source": [
    "## Q2. What is the most effective way of starting with 1,000 elements in a Python list? Assume that all elements should be set to the same value."
   ]
  },
  {
   "cell_type": "markdown",
   "id": "89459fb6",
   "metadata": {},
   "source": [
    "> The most effective way of starting with 1,000 elements in a Python list is to \n",
    "> * **use the list comprehension syntax**: ```list_of_1000_elements = [1 for _ in range(1000)]```\n",
    "> * **Using the range() function**:  ```list_of_1000_elements = list(range(1000))```\n",
    "> * **Using the list() constructor**: ```list_of_1000_elements = list([1] * 1000)```\n",
    "> * **Using the append() method**:\n"
   ]
  },
  {
   "cell_type": "code",
   "execution_count": null,
   "id": "af27bd61",
   "metadata": {},
   "outputs": [],
   "source": [
    "list_of_1000_elements = []\n",
    "for i in range(1000):\n",
    "    list_of_1000_elements.append(1)\n",
    "\n",
    "print(list_of_1000_elements)"
   ]
  },
  {
   "cell_type": "markdown",
   "id": "a1fbc32c",
   "metadata": {},
   "source": [
    "### Q3. How do you slice a list to get any other part while missing the rest? (For example, suppose you want to make a new list with the elements first, third, fifth, seventh, and so on.)"
   ]
  },
  {
   "cell_type": "markdown",
   "id": "71713167",
   "metadata": {},
   "source": [
    "> Here's how we can slice a list to get any other part while missing the rest:\n",
    "> * **Using the range() function**: ```new_list = [list_of_elements[i] for i in range(0, len(list_of_elements), 2)]```\n",
    "> * **Using the enumerate() function**: ```new_list = [list_of_elements[i] for i, _ in enumerate(list_of_elements, 1)]```\n",
    "> * **Using the filter() function**: ```new_list = list(filter(lambda x: x % 2 == 1, list_of_elements))```\n",
    "> * **::2 slicing syntax**: It is the most concise way to slice a list to get any other part while missing the rest.\n"
   ]
  },
  {
   "cell_type": "code",
   "execution_count": null,
   "id": "229dabbd",
   "metadata": {},
   "outputs": [],
   "source": [
    "list_of_elements = [1, 2, 3, 4, 5, 6, 7, 8, 9, 10]\n",
    "\n",
    "new_list = list_of_elements[::2]\n",
    "print(new_list)"
   ]
  },
  {
   "cell_type": "markdown",
   "id": "16809946",
   "metadata": {},
   "source": [
    "## Q4. Explain the distinctions between indexing and slicing.\n"
   ]
  },
  {
   "cell_type": "markdown",
   "id": "8e35f9f6",
   "metadata": {},
   "source": [
    "> **Indexing** is used to access a single element in a sequence. The index of an element is its position in the sequence. <br>\n",
    "> **Slicing** is used to access a range of elements in a sequence. Slicing syntax is a colon (:) separating two indices. The first index is the start of the slice, and the second index is the end of the slice. The end index is exclusive, so if you want to include the last element in the slice, you need to specify it explicitly.\n"
   ]
  },
  {
   "cell_type": "markdown",
   "id": "081b5190",
   "metadata": {},
   "source": [
    "## Q5. What happens if one of the slicing expression's indexes is out of range?"
   ]
  },
  {
   "cell_type": "markdown",
   "id": "a9dc7507",
   "metadata": {},
   "source": [
    "> If one of the slicing expression's indexes is out of range, Python handles it gracefully and does not raise an exception. Instead, it adjusts the index to the nearest valid value and performs the slice operation using the adjusted index."
   ]
  },
  {
   "cell_type": "markdown",
   "id": "2650ab09",
   "metadata": {},
   "source": [
    "## Q6. If you pass a list to a function, and if you want the function to be able to change the values of the list—so that the list is different after the function returns—what action should you avoid?"
   ]
  },
  {
   "cell_type": "markdown",
   "id": "7f850f9d",
   "metadata": {},
   "source": [
    "> If we pass a list to a function, and if we want the function to be able to change the values of the list—so that the list is different after the function returns—what action should you avoid?\n",
    "\n",
    "> * ***passing the list by value***: When you pass a list by value, the function gets a copy of the list, and any changes the function makes to the copy will not be reflected in the original list.\n",
    "> * ***passing the list by reference***: When you pass a list by reference, the function gets a pointer to the list, and any changes the function makes to the list will be reflected in the original list."
   ]
  },
  {
   "cell_type": "markdown",
   "id": "cbff398f",
   "metadata": {},
   "source": [
    "## Q7. What is the concept of an unbalanced matrix?"
   ]
  },
  {
   "cell_type": "markdown",
   "id": "a9595d50",
   "metadata": {},
   "source": [
    "> **An unbalanced matrix** is a matrix in which the number of rows is not equal to the number of columns. This can happen for a number of reasons, such as if the matrix was created from a data set that did not have the same number of rows and columns, or if the matrix was modified after it was created."
   ]
  },
  {
   "cell_type": "markdown",
   "id": "d030e74b",
   "metadata": {},
   "source": [
    "## Q8. Why is it necessary to use either list comprehension or a loop to create arbitrarily large matrices?"
   ]
  },
  {
   "cell_type": "markdown",
   "id": "5c3b96a8",
   "metadata": {},
   "source": [
    "> The reason that why it is necessary to use either list comprehension or a loop to create arbitrarily large matrices:\n",
    "\n",
    "> * ***List comprehension and loops are the most efficient way to create large matrices***: They allow us to create the matrix one element at a time, which is the most efficient way to do it.\n",
    "> * ***List comprehension and loops are the most flexible way to create large matrices***: We can use them to create matrices with any size and any number of elements.\n",
    "> * ***List comprehension and loops are the most readable way to create large matrices***: The code is easy to understand and maintain.\n"
   ]
  },
  {
   "cell_type": "code",
   "execution_count": null,
   "id": "a692b20a",
   "metadata": {},
   "outputs": [],
   "source": [
    "# how to create a large matrix using list comprehension:\n",
    "def create_matrix(rows, columns):\n",
    "    matrix = []\n",
    "    for i in range(rows):\n",
    "        row = []\n",
    "        for j in range(columns):\n",
    "            row.append(i * j)\n",
    "        matrix.append(row)\n",
    "    return matrix\n",
    "\n",
    "matrix = create_matrix(3, 3)\n",
    "print(matrix)"
   ]
  },
  {
   "cell_type": "code",
   "execution_count": null,
   "id": "1c96ed5e",
   "metadata": {},
   "outputs": [],
   "source": []
  },
  {
   "cell_type": "code",
   "execution_count": null,
   "id": "524973e0",
   "metadata": {},
   "outputs": [],
   "source": []
  }
 ],
 "metadata": {
  "kernelspec": {
   "display_name": "Python 3 (ipykernel)",
   "language": "python",
   "name": "python3"
  },
  "language_info": {
   "codemirror_mode": {
    "name": "ipython",
    "version": 3
   },
   "file_extension": ".py",
   "mimetype": "text/x-python",
   "name": "python",
   "nbconvert_exporter": "python",
   "pygments_lexer": "ipython3",
   "version": "3.11.3"
  }
 },
 "nbformat": 4,
 "nbformat_minor": 5
}
