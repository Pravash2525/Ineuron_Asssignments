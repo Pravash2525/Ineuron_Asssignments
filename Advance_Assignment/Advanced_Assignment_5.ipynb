{
 "cells": [
  {
   "cell_type": "markdown",
   "id": "130dc62d",
   "metadata": {},
   "source": [
    "<h1> <u> <font color= green > Advanced_Assignment_5 </font> </u> </h1>"
   ]
  },
  {
   "cell_type": "markdown",
   "id": "daab67b8",
   "metadata": {},
   "source": [
    "## Q1. What is the meaning of multiple inheritance?"
   ]
  },
  {
   "cell_type": "markdown",
   "id": "89de1863",
   "metadata": {},
   "source": [
    "> **Multiple inheritance** is a feature in object-oriented programming (OOP) that allows a class to inherit from multiple parent classes. This means that a class can have the attributes and methods of all of its parent classes."
   ]
  },
  {
   "cell_type": "markdown",
   "id": "d17fe941",
   "metadata": {},
   "source": [
    "## Q2. What is the concept of delegation?"
   ]
  },
  {
   "cell_type": "markdown",
   "id": "c646387e",
   "metadata": {},
   "source": [
    "> **Delegation** is a concept in object-oriented programming (OOP) that allows one object to request that another object perform a task on its behalf. This can be useful for delegating tasks to objects that are more specialized in performing that task.<br>\n",
    "\n",
    "> Delegation can be a powerful tool for decoupling code and making code more reusable. By delegating tasks to specialized objects, we can make our code more modular and easier to maintain."
   ]
  },
  {
   "cell_type": "markdown",
   "id": "9b3d236d",
   "metadata": {},
   "source": [
    "## Q3. What is the concept of composition?"
   ]
  },
  {
   "cell_type": "markdown",
   "id": "2348175e",
   "metadata": {},
   "source": [
    "> **Composition** is a concept in object-oriented programming (OOP) that allows an object to be composed of other objects. This means that an object can have the properties and methods of the objects that it is composed of.\n",
    "\n",
    "> Composition can be a powerful tool for creating complex objects that are made up of smaller, more manageable objects. By composing objects, you can make your code more modular and easier to maintain."
   ]
  },
  {
   "cell_type": "markdown",
   "id": "05839721",
   "metadata": {},
   "source": [
    "## Q4. What are bound methods and how do we use them?"
   ]
  },
  {
   "cell_type": "markdown",
   "id": "db7c621e",
   "metadata": {},
   "source": [
    "> **A bound method** is a method that is bound to an object. This means that the method has access to the object's attributes and methods. Bound methods are created when you call a method on an object.\n",
    "```\n",
    "            class Person:\n",
    "                def __init__(self, name):\n",
    "                    self.name = name\n",
    "\n",
    "                def greet(self):\n",
    "                    print(f\"Hello, my name is {self.name}\")\n",
    "\n",
    "                def get_greeter(self):\n",
    "                    return self.greet\n",
    "\n",
    "            my_person = Person(\"Bard\")\n",
    "            my_person.greet()       # Accessing greet() method\n",
    "            greeter = my_person.get_greeter()    \n",
    "            greeter()               # The greeter() function calls the bound method,\n",
    "```\n",
    "\n",
    "> The ***greet()*** method is a bound method because it is bound to the my_person object. <br>\n",
    "> The ***get_greeter()*** method returns a bound method. The bound method is bound to the my_person object. "
   ]
  },
  {
   "cell_type": "markdown",
   "id": "39497931",
   "metadata": {},
   "source": [
    "##  Q5. What is the purpose of pseudoprivate attributes?"
   ]
  },
  {
   "cell_type": "markdown",
   "id": "8ef96037",
   "metadata": {},
   "source": [
    "> **pseudoprivate attributes** are attributes that are prefixed with an underscore (_). These attributes are not truly private, but they are not intended to be accessed by outside code. Pseudoprivate attributes are often used to store implementation details that are not relevant to the public interface of a class. "
   ]
  },
  {
   "cell_type": "code",
   "execution_count": null,
   "id": "74aa491e",
   "metadata": {},
   "outputs": [],
   "source": []
  },
  {
   "cell_type": "code",
   "execution_count": null,
   "id": "4a0927a8",
   "metadata": {},
   "outputs": [],
   "source": []
  }
 ],
 "metadata": {
  "kernelspec": {
   "display_name": "Python 3 (ipykernel)",
   "language": "python",
   "name": "python3"
  },
  "language_info": {
   "codemirror_mode": {
    "name": "ipython",
    "version": 3
   },
   "file_extension": ".py",
   "mimetype": "text/x-python",
   "name": "python",
   "nbconvert_exporter": "python",
   "pygments_lexer": "ipython3",
   "version": "3.11.3"
  }
 },
 "nbformat": 4,
 "nbformat_minor": 5
}
