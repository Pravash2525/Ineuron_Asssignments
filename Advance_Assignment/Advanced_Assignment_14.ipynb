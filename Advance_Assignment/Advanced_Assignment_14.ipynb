{
 "cells": [
  {
   "cell_type": "markdown",
   "id": "f79c2d04",
   "metadata": {},
   "source": [
    "<h1> <u> <font color= green > Advanced_Assignment_14 </font> </u> </h1>"
   ]
  },
  {
   "cell_type": "markdown",
   "id": "2c79c18d",
   "metadata": {},
   "source": [
    "## Q1. Is an assignment operator like += only for show? Is it possible that it would lead to faster results at the runtime?"
   ]
  },
  {
   "cell_type": "markdown",
   "id": "4fd89972",
   "metadata": {},
   "source": [
    "> No, an assignment operator like += is not only for show. It can actually lead to faster results at runtime.<br>\n",
    "> The += operator is more efficient because it does not need to create a temporary variable to store the value of the variable before adding the value."
   ]
  },
  {
   "cell_type": "markdown",
   "id": "4451b100",
   "metadata": {},
   "source": [
    "## Q2. What is the smallest number of statements you'd have to write in most programming languages to replace the Python expression a, b = a + b, a?\n"
   ]
  },
  {
   "cell_type": "markdown",
   "id": "268603a2",
   "metadata": {},
   "source": [
    "> The Python expression ```a, b = a + b, a``` can be replaced with the following code in most programming languages:\n",
    "```\n",
    "            temp = a\n",
    "            a = a + b\n",
    "            b = temp\n",
    "```"
   ]
  },
  {
   "cell_type": "markdown",
   "id": "b8e7a0b6",
   "metadata": {},
   "source": [
    "## Q3. In Python, what is the most effective way to set a list of 100 integers to 0?"
   ]
  },
  {
   "cell_type": "markdown",
   "id": "ee886d5a",
   "metadata": {},
   "source": [
    "> The most effective way to creates a list of 100 integers and sets each element to 0 is by using list comprehension. <br>\n",
    "> ```list_of_integers = [0 for i in range(100)]```"
   ]
  },
  {
   "cell_type": "markdown",
   "id": "3c306bf3",
   "metadata": {},
   "source": [
    "## Q4. What is the most effective way to initialise a list of 99 integers that repeats the sequence 1, 2, 3? S If necessary, show step-by-step instructions on how to accomplish this."
   ]
  },
  {
   "cell_type": "markdown",
   "id": "875e2ced",
   "metadata": {},
   "source": [
    "> To initialize a list of 99 integers that repeats the sequence 1, 2, 3, then apply following steps:\n",
    "> * Initialize the first three elements of the list to 1, 2, and 3.\n",
    "> * Use a list comprehension to generate the list by iterating over a range of 99 elements\n",
    "> * Within the list comprehension, use the modulo operator % to cycle through the sequence 1, 2, 3 repeatedly.\n"
   ]
  },
  {
   "cell_type": "code",
   "execution_count": null,
   "id": "58f1753c",
   "metadata": {},
   "outputs": [],
   "source": [
    "list_of_integers = [1, 2, 3]\n",
    "result = [sequence[i % len(sequence)] for i in range(99)]\n",
    "print(result)"
   ]
  },
  {
   "cell_type": "markdown",
   "id": "583113be",
   "metadata": {},
   "source": [
    "## Q5. If you're using IDLE to run a Python application, explain how to print a multidimensional list as efficiently?\n"
   ]
  },
  {
   "cell_type": "markdown",
   "id": "ddcfde27",
   "metadata": {},
   "source": [
    "> Here's how you can print a multidimensional list efficiently using the pprint module in IDLE:\n",
    "> * Import the ***pprint*** module at the beginning of your Python script:\n",
    "> * Create your multidimensional list \n",
    "> * Use the pprint.pprint() function to print the multidimensional list:\n",
    "    "
   ]
  },
  {
   "cell_type": "code",
   "execution_count": null,
   "id": "8d0c725c",
   "metadata": {},
   "outputs": [],
   "source": [
    "import pprint\n",
    "\n",
    "my_list = [[1, 2, 3], [4, 5, 6], [7, 8, 9]]\n",
    "pprint.pprint(my_list)\n"
   ]
  },
  {
   "cell_type": "markdown",
   "id": "25cd1a7c",
   "metadata": {},
   "source": [
    "## Q6. Is it possible to use list comprehension with a string? If so, how can you go about doing it?"
   ]
  },
  {
   "cell_type": "markdown",
   "id": "4457777d",
   "metadata": {},
   "source": [
    "> Yes, it is possible to use list comprehension with a string. List comprehension is a concise way to create a list from an iterable object. In the case of a string, the iterable object is the characters in the string."
   ]
  },
  {
   "cell_type": "code",
   "execution_count": null,
   "id": "092bb51e",
   "metadata": {},
   "outputs": [],
   "source": [
    "string = \"My name is Pravash Chadhary.\"\n",
    "list_of_characters = [char for char in string]\n",
    "\n",
    "print(list_of_characters)\n"
   ]
  },
  {
   "cell_type": "markdown",
   "id": "e0bc65a2",
   "metadata": {},
   "source": [
    "## Q7. From the command line, how do you get support with a user-written Python programme? Is this possible from inside IDLE?"
   ]
  },
  {
   "cell_type": "markdown",
   "id": "4d7e4465",
   "metadata": {},
   "source": [
    "> From the command line, we can get support with a user-written Python program by accessing the Python interactive shell or by using external resources such as documentation, forums, or online communities. \n",
    "> 1. **Python Interactive Shell**: Save the program as a ***.py file***. Open a command prompt and navigate to the directory where the program is saved. Type the following command into the command prompt: ```python -m pydoc program_name``` <br>\n",
    "> 2. **from inside IDLE**: The ***help() & dir() function*** will open the Python documentation for the function or module that we specify. <br>\n",
    "> 3. **External Resources**: We can leverage external resources such as Python documentation, online forums, and communities to get support for your Python program. Python has an extensive official documentation website (docs.python.org) that provides comprehensive guides, tutorials, and references. "
   ]
  },
  {
   "cell_type": "markdown",
   "id": "a33d3488",
   "metadata": {},
   "source": [
    "## Q8. Functions are said to be “first-class objects” in Python but not in most other languages, such as C++ or Java. What can you do in Python with a function (callable object) that you can't do in C or C++?"
   ]
  },
  {
   "cell_type": "markdown",
   "id": "0679e9d6",
   "metadata": {},
   "source": [
    "> We can do in Python with a function (callable object) that you can't do in C or C++:\n",
    "> * **Assign a function to a variable**: In C or C++, a function is a named entity, but it is not an object. This means that you cannot assign a function to a variable. In Python, a function is an object, so you can assign it to a variable.\n",
    "> * **Pass a function as an argument to another function**: In C or C++, you can pass a pointer to a function as an argument to another function. However, you cannot pass the function itself. In Python, you can pass a function as an argument to another function.\n",
    "> * **Return a function from a function**: In C or C++, you cannot return a function from a function. In Python, you can return a function from a function.\n",
    "> * **Use a function as a dictionary key**: In C or C++, a function cannot be used as a dictionary key. In Python, a function can be used as a dictionary key.\n"
   ]
  },
  {
   "cell_type": "markdown",
   "id": "601de5eb",
   "metadata": {},
   "source": [
    "## Q9. How do you distinguish between a wrapper, a wrapped feature, and a decorator?"
   ]
  },
  {
   "cell_type": "markdown",
   "id": "ba8fd6e0",
   "metadata": {},
   "source": [
    "> The differences between a wrapper, a wrapped feature, and a decorator:\n",
    "> * **Wrapper**: A wrapper is a function that takes another function as input and returns a new function. The new function has the same functionality as the original function, but it may also add some additional functionality.\n",
    "> * **Wrapped feature**: A wrapped feature is a function or object that is wrapped by a wrapper.\n",
    "> * **Decorator**: A decorator is a special type of wrapper that is used to modify the functionality of another function. Decorators are often used to add logging, timing, or other functionality to functions.\n"
   ]
  },
  {
   "cell_type": "markdown",
   "id": "a73b973c",
   "metadata": {},
   "source": [
    "## Q10. If a function is a generator function, what does it return?"
   ]
  },
  {
   "cell_type": "markdown",
   "id": "3242772e",
   "metadata": {},
   "source": [
    "> * If a function is a generator function, it returns a ***generator object***. A generator object is an iterable object that can be used to iterate over a sequence of values.\n",
    "> * Generator functions are created using the ***yield keyword***. The yield keyword tells the Python interpreter to suspend execution of the function and return the next value in the sequence. When the generator function is resumed, it will continue execution from where it left off."
   ]
  },
  {
   "cell_type": "markdown",
   "id": "7e65d696",
   "metadata": {},
   "source": [
    "## Q11. What is the one improvement that must be made to a function in order for it to become a generator function in the Python language?"
   ]
  },
  {
   "cell_type": "markdown",
   "id": "37f12a35",
   "metadata": {},
   "source": [
    "> To make a function into a generator function in Python, you must replace all return statements with ***yield statements***."
   ]
  },
  {
   "cell_type": "markdown",
   "id": "9144a76f",
   "metadata": {},
   "source": [
    "## Q12. Identify at least one benefit of generators."
   ]
  },
  {
   "cell_type": "markdown",
   "id": "ac78e215",
   "metadata": {},
   "source": [
    "> Benefits of generators are:\n",
    "> * **Memory efficiency**: Generators are more memory efficient than regular functions because they do not need to store the entire sequence in memory.\n",
    "> * **Concurrency**: Generators can be used to implement concurrent code because they can be paused and resumed at any time.\n",
    "> * **Ease of use**: Generators are easy to use because they can be used like regular functions.\n"
   ]
  },
  {
   "cell_type": "code",
   "execution_count": null,
   "id": "4a2dd825",
   "metadata": {},
   "outputs": [],
   "source": []
  },
  {
   "cell_type": "code",
   "execution_count": null,
   "id": "d1d89799",
   "metadata": {},
   "outputs": [],
   "source": []
  }
 ],
 "metadata": {
  "kernelspec": {
   "display_name": "Python 3 (ipykernel)",
   "language": "python",
   "name": "python3"
  },
  "language_info": {
   "codemirror_mode": {
    "name": "ipython",
    "version": 3
   },
   "file_extension": ".py",
   "mimetype": "text/x-python",
   "name": "python",
   "nbconvert_exporter": "python",
   "pygments_lexer": "ipython3",
   "version": "3.11.3"
  }
 },
 "nbformat": 4,
 "nbformat_minor": 5
}
