{
 "cells": [
  {
   "cell_type": "markdown",
   "id": "f79c2d04",
   "metadata": {},
   "source": [
    "<h1> <u> <font color= green > Advanced_Assignment_3 </font> </u> </h1>"
   ]
  },
  {
   "cell_type": "markdown",
   "id": "e93ec598",
   "metadata": {},
   "source": [
    "## 1. What is the concept of an abstract superclass?"
   ]
  },
  {
   "cell_type": "markdown",
   "id": "c10dc2ce",
   "metadata": {},
   "source": [
    "> An **abstract superclass** is used to define common functionality that can be inherited by other classes.\n",
    "\n",
    "> Abstract classes are often used to enforce polymorphism. <b> Polymorphism</b> is the ability of an object to behave differently depending on the context. In the case of abstract classes, this means that the methods of an abstract class can be implemented differently in different subclasses."
   ]
  },
  {
   "cell_type": "markdown",
   "id": "f20323fb",
   "metadata": {},
   "source": [
    "## 2. What happens when a class statement's top level contains a basic assignment statement?"
   ]
  },
  {
   "cell_type": "markdown",
   "id": "2200960c",
   "metadata": {},
   "source": [
    "> When a class statement's top level contains a basic assignment statement, the assignment statement is executed, but the variable that is assigned to is not defined as a class attribute. This means that the variable is not accessible from within the class."
   ]
  },
  {
   "cell_type": "markdown",
   "id": "0c0f52bd",
   "metadata": {},
   "source": [
    "## 3. Why does a class need to manually call a superclass's __init__ method?"
   ]
  },
  {
   "cell_type": "markdown",
   "id": "d38a1ff3",
   "metadata": {},
   "source": [
    "> A class needs to manually call a superclass's __ init __() method because the __ init __() method is responsible for initializing the attributes of the class. When you create an instance of a class, the __ init __() method is called automatically. However, if subclassing from another class, we need to manually call the __ init __() method of the superclass in order to initialize the attributes of the superclass. "
   ]
  },
  {
   "cell_type": "markdown",
   "id": "48d8a43a",
   "metadata": {},
   "source": [
    "## 4. How can you augment, instead of completely replacing, an inherited method?"
   ]
  },
  {
   "cell_type": "markdown",
   "id": "e57fe886",
   "metadata": {},
   "source": [
    "> You can augment, instead of completely replacing, an inherited method by using the <b> super() keyword</b>. The super() keyword allows you to access the methods and attributes of the superclass."
   ]
  },
  {
   "cell_type": "markdown",
   "id": "281d8649",
   "metadata": {},
   "source": [
    "## 5. How is the local scope of a class different from that of a function?"
   ]
  },
  {
   "cell_type": "markdown",
   "id": "3919dcfc",
   "metadata": {},
   "source": [
    "> * The local scope of a function is confined to the function body and its parameters, while the local scope of a class encompasses the class attributes, methods, and instance attributes. \n",
    "> * Functions provide a self-contained environment for executing code, while classes define a blueprint for creating objects with shared attributes and methods."
   ]
  },
  {
   "cell_type": "code",
   "execution_count": null,
   "id": "d8b67332",
   "metadata": {},
   "outputs": [],
   "source": []
  }
 ],
 "metadata": {
  "kernelspec": {
   "display_name": "Python 3 (ipykernel)",
   "language": "python",
   "name": "python3"
  },
  "language_info": {
   "codemirror_mode": {
    "name": "ipython",
    "version": 3
   },
   "file_extension": ".py",
   "mimetype": "text/x-python",
   "name": "python",
   "nbconvert_exporter": "python",
   "pygments_lexer": "ipython3",
   "version": "3.11.3"
  }
 },
 "nbformat": 4,
 "nbformat_minor": 5
}
