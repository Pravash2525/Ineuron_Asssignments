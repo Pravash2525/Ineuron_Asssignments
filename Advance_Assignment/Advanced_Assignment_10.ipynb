{
 "cells": [
  {
   "cell_type": "markdown",
   "id": "f79c2d04",
   "metadata": {},
   "source": [
    "<h1> <u> <font color= green > Advanced_Assignment_10 </font> </u> </h1>"
   ]
  },
  {
   "cell_type": "markdown",
   "id": "8354009a",
   "metadata": {},
   "source": [
    "## Q1. What is the difference between __getattr__ and __getattribute__?"
   ]
  },
  {
   "cell_type": "markdown",
   "id": "21308c61",
   "metadata": {},
   "source": [
    "> The main difference between <b>__ getattr__</b> and <b>__ getattribute__</b> is that <b>__ getattr__</b> is only called when an attribute is not found, while <b>__ getattribute__</b> is called for every attribute access.\n",
    "\n",
    "> * <b>__ getattr__</b> is a special method that is called when an attribute is not found on an object. The <b>__ getattr__</b> method can be used to provide a default value for the attribute, or to raise an exception.\n",
    "> * <b>__ getattribute__</b> is a special method that is called for every attribute access on an object. The <b>__ getattribute__</b> method can be used to intercept attribute accesses and modify the behavior of the object."
   ]
  },
  {
   "cell_type": "code",
   "execution_count": null,
   "id": "d6687520",
   "metadata": {},
   "outputs": [],
   "source": [
    "class MyClass:\n",
    "\n",
    "    def __init__(self):\n",
    "        self.name = \"Bard\"\n",
    "\n",
    "    def __getattr__(self, name):\n",
    "        if name == \"age\":\n",
    "            return 100\n",
    "        else:\n",
    "            raise AttributeError(f\"'MyClass' object has no attribute '{name}'\")\n",
    "\n",
    "\n",
    "my_object = MyClass()\n",
    "\n",
    "print(my_object.name)  # Bard\n",
    "print(my_object.age)  # 100\n"
   ]
  },
  {
   "cell_type": "code",
   "execution_count": null,
   "id": "48b91799",
   "metadata": {},
   "outputs": [],
   "source": [
    "class MyClass:\n",
    "\n",
    "    def __init__(self):\n",
    "        self.name = \"Bard\"\n",
    "\n",
    "    def __getattribute__(self, name):\n",
    "        print(f\"Attempting to access attribute '{name}'\")\n",
    "        return object.__getattribute__(self, name)\n",
    "\n",
    "\n",
    "my_object = MyClass()\n",
    "\n",
    "print(my_object.name)  # Attempting to access attribute 'name'  Bard\n",
    "\n"
   ]
  },
  {
   "cell_type": "markdown",
   "id": "7a4abfb0",
   "metadata": {},
   "source": [
    "## Q2. What is the difference between properties and descriptors?"
   ]
  },
  {
   "cell_type": "markdown",
   "id": "9c04f514",
   "metadata": {},
   "source": [
    "> <b>Descriptors</b> and <b>properties</b> are both mechanisms for managing attributes in Python. <br>\n",
    "> * <b>Descriptors</b> are a low-level mechanism that allows you to intercept attribute accesses and modify the behavior of the object. \n",
    "> * <b>Descriptors</b> are implemented using special methods, such as *__ getattribute__, __ setattribute__, and __ deleteattribute__ .* These methods are called when the corresponding attribute is accessed, set, or deleted.\n",
    "> * <b>Descriptors</b> are a more powerful way to manage attributes because they allow you to intercept attribute accesses and modify the behavior of the object. This can be useful for advanced features, such as providing validation for attributes or intercepting attribute accesses for logging purposes.\n",
    "---\n",
    "> * <b>properties</b> are a higher-level mechanism that provides a more convenient way to manage attributes.\n",
    "> * <b>properties</b> are implemented using the _property() decorator_. The property() decorator takes a number of arguments, such as the getter, setter, and deleter functions. The getter function is called when the property is accessed, the setter function is called when the property is set, and the deleter function is called when the property is deleted.\n",
    "> * <b>properties</b> are a more convenient way to manage attributes because they provide a way to encapsulate the getter, setter, and deleter functions in a single object. This makes it easier to maintain and extend code that uses properties.\n",
    "---\n",
    "> In general, we should use properties for most cases where you need to manage attributes. However, we should use descriptors if you need to intercept attribute accesses or modify the behavior of the object."
   ]
  },
  {
   "cell_type": "markdown",
   "id": "5dbc5bd7",
   "metadata": {},
   "source": [
    "## Q3. What are the key differences in functionality between __getattr__ and __getattribute__, as well as properties and descriptors?"
   ]
  },
  {
   "cell_type": "markdown",
   "id": "a6a74333",
   "metadata": {},
   "source": [
    "> The key differences in functionality between <b>__ getattr__</b> and <b>__ getattribute__</b> are:\n",
    "> *   <b>__ getattr__</b> is only called when an attribute is not found, while <b>__ getattribute__</b> is called for every attribute access.\n",
    "> *   <b>__ getattr__</b> can be used to provide a default value for an attribute, or to raise an exception. <b>__ getattribute__</b> can be used to intercept attribute accesses and modify the behavior of the object.\n",
    "---\n",
    "> The key differences in functionality between <b>Properties</b> and <b>Descriptors</b> are:\n",
    "> * <b>Properties</b> are a higher-level mechanism that provides a more convenient way to manage attributes. <b>Descriptors</b> are a lower-level mechanism that allows you to intercept attribute accesses and modify the behavior of the object.\n",
    "> * <b>Properties</b> are only accessible from outside the class, while <b>Descriptors</b> are accessible from within the class and from outside the class.\n",
    "> * <b>Properties</b> are implemented using the property() decorator, while <b>Descriptors</b> are implemented using special methods, such as *__ getattribute__, __ setattribute__, and __ deleteattribute__.*\n"
   ]
  },
  {
   "cell_type": "markdown",
   "id": "5ac4a703",
   "metadata": {},
   "source": [
    " <table>\n",
    "  <tr>\n",
    "    <th>Feature</th>\n",
    "    <th>__getattr__</th>\n",
    "    <th>__getattribute__</th>\n",
    "    <th>Property</th>\n",
    "    <th>Descriptor</th>      \n",
    "  </tr>\n",
    "  <tr>\n",
    "    <td>Visibility</td>\n",
    "    <td>Only from outside the class</td>\n",
    "    <td>From within the class and from outside the class</td>\n",
    "    <td>Germany</td>\n",
    "    <td>From within the class and from outside the class</td>      \n",
    "  </tr>\n",
    "  <tr>\n",
    "    <td>Implementation</td>\n",
    "    <td>Special method</td>\n",
    "    <td>Special method</td>\n",
    "    <td>property() decorator</td>\n",
    "    <td>Special method</td>      \n",
    "  </tr>\n",
    "  <tr>\n",
    "    <td>Use cases</td>\n",
    "    <td>Providing a default value for an attribute</td>\n",
    "    <td>Intercepting attribute accesses and modifying the behavior of the object</td>\n",
    "    <td>Providing accessors and mutators for attributes</td>\n",
    "    <td>Intercepting attribute accesses and modifying the behavior of the object</td>      \n",
    "  </tr>\n",
    "</table> \n",
    "\n"
   ]
  },
  {
   "cell_type": "code",
   "execution_count": null,
   "id": "b190d179",
   "metadata": {},
   "outputs": [],
   "source": []
  },
  {
   "cell_type": "code",
   "execution_count": null,
   "id": "6fac16c8",
   "metadata": {},
   "outputs": [],
   "source": []
  }
 ],
 "metadata": {
  "kernelspec": {
   "display_name": "Python 3 (ipykernel)",
   "language": "python",
   "name": "python3"
  },
  "language_info": {
   "codemirror_mode": {
    "name": "ipython",
    "version": 3
   },
   "file_extension": ".py",
   "mimetype": "text/x-python",
   "name": "python",
   "nbconvert_exporter": "python",
   "pygments_lexer": "ipython3",
   "version": "3.11.3"
  }
 },
 "nbformat": 4,
 "nbformat_minor": 5
}
