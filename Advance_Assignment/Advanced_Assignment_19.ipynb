{
 "cells": [
  {
   "cell_type": "markdown",
   "id": "130dc62d",
   "metadata": {},
   "source": [
    "<h1> <u> <font color= green > Advanced_Assignment_19 </font> </u> </h1>"
   ]
  },
  {
   "cell_type": "markdown",
   "id": "bfab4331",
   "metadata": {},
   "source": [
    "## Q1. Define the relationship between a class and its instances. Is it a one-to-one or a one-to-many partnership, for example?"
   ]
  },
  {
   "cell_type": "markdown",
   "id": "a86c3c4e",
   "metadata": {},
   "source": [
    "> The relationship between a class and its instances is a ***one-to-many relationship***. This means that one class can have many instances, but each instance can only belong to one class."
   ]
  },
  {
   "cell_type": "markdown",
   "id": "2e6b4ed6",
   "metadata": {},
   "source": [
    "## Q2. What kind of data is held only in an instance?"
   ]
  },
  {
   "cell_type": "markdown",
   "id": "bedeca7b",
   "metadata": {},
   "source": [
    "> Data that is held only in an instance is called ***instance data***. Instance data is specific to each instance of a class, and it is not shared with other instances of the same class.\n",
    "\n",
    "> Instance data is typically stored in the ***__ init__() method*** of the class. The __ init__() method is called when an instance of the class is created, and it is used to initialize the instance data."
   ]
  },
  {
   "cell_type": "markdown",
   "id": "3bad872b",
   "metadata": {},
   "source": [
    "## Q3. What kind of knowledge is stored in a class? "
   ]
  },
  {
   "cell_type": "markdown",
   "id": "d309f9e7",
   "metadata": {},
   "source": [
    "> Clsss stored the attributes and methods of all objects. When an object is created from a class, it is said to be an instance of that class."
   ]
  },
  {
   "cell_type": "markdown",
   "id": "8ecc7bcd",
   "metadata": {},
   "source": [
    "## Q4. What exactly is a method, and how is it different from a regular function?"
   ]
  },
  {
   "cell_type": "markdown",
   "id": "6e3fd053",
   "metadata": {},
   "source": [
    "> * A **method** is a function that is defined within a class. Methods are used to perform actions on objects of that class.\n",
    "> * A **regular function** is a function that is not defined within a class. Regular functions can be called from anywhere in the program, but they cannot be called on objects."
   ]
  },
  {
   "cell_type": "markdown",
   "id": "82b87ed7",
   "metadata": {},
   "source": [
    "## Q5. Is inheritance supported in Python, and if so, what is the syntax?"
   ]
  },
  {
   "cell_type": "markdown",
   "id": "2659f7db",
   "metadata": {},
   "source": [
    "> Yes, inheritance is supported in Python. Inheritance is a way of reusing code by allowing a new class to inherit the attributes and methods of an existing class.\n",
    "\n",
    "> The syntax for inheritance in Python:\n",
    "```\n",
    "            class DerivedClass(BaseClass):\n",
    "              # Methods and attributes\n",
    "```\n",
    "> The ***DerivedClass*** inherits all of the attributes and methods of the ***BaseClass***."
   ]
  },
  {
   "cell_type": "markdown",
   "id": "68f429b7",
   "metadata": {},
   "source": [
    "## Q6. How much encapsulation (making instance or class variables private) does Python support?"
   ]
  },
  {
   "cell_type": "markdown",
   "id": "13cb713f",
   "metadata": {},
   "source": [
    "> Python supports **limited encapsulation**. This means that we can't completely hide instance or class variables from other parts of your code. However, you can use ***naming conventions*** and ***access modifiers*** to control who can access your variables.\n",
    "\n",
    "> Here are some of the ***naming conventions*** that are used to indicate that a variable is private:\n",
    "> * **Single leading underscore**: This indicates that the variable is ***protected***. Protected variables can only be accessed by the class that defines them and by subclasses of that class.\n",
    "> * **Double leading underscore**: This indicates that the variable is ***private***. Private variables can only be accessed by the class that defines them.\n",
    "\n",
    "> Here are some of the ***access modifiers*** that are used to control who can access a variable:\n",
    "> * **public**: This is the default access modifier. Public variables can be accessed by any part of your code.\n",
    "> * **protected**: This modifier indicates that the variable is protected. Protected variables can only be accessed by the class that defines them and by subclasses of that class.\n",
    "> * **private**: This modifier indicates that the variable is private. Private variables can only be accessed by the class that defines them.\n",
    "\n",
    "> It is important to note that these naming conventions and access modifiers are not enforced by the Python interpreter. They are simply conventions that are followed by most Python developers."
   ]
  },
  {
   "cell_type": "code",
   "execution_count": null,
   "id": "091f305a",
   "metadata": {},
   "outputs": [],
   "source": [
    "class Dog:\n",
    "    name = \"Spot\"                # Public variable\n",
    "    _breed = \"Golden Retriever\"  # Protected variable\n",
    "    __name = \"Spot\"              # Private variable\n",
    "\n",
    "    def __init__(self, name):\n",
    "        self.name = name\n",
    "\n",
    "    def bark(self):\n",
    "        print(\"Woof!\")\n",
    "\n",
    "\n",
    "my_dog = Dog(\"Spot\")\n",
    "\n",
    "print(my_dog.name)      # output: Spot\n",
    "print(my_dog._breed)    # output: Golden Retriever\n",
    "\n",
    "# print(my_dog.__name)  # This will raise an error\n"
   ]
  },
  {
   "cell_type": "markdown",
   "id": "9f1d9316",
   "metadata": {},
   "source": [
    "## Q7. How do you distinguish between a class variable and an instance variable?"
   ]
  },
  {
   "cell_type": "markdown",
   "id": "65bfcecb",
   "metadata": {},
   "source": [
    "> * **Class variables** are shared by all instances of a class and are defined outside of the __ init__() method.\n",
    "> * **Instance variables** are unique to each instance of a class and are defined inside the __ init__() method."
   ]
  },
  {
   "cell_type": "markdown",
   "id": "423b9de7",
   "metadata": {},
   "source": [
    "## Q8. When, if ever, can self be included in a class's method definitions?"
   ]
  },
  {
   "cell_type": "markdown",
   "id": "c218b20a",
   "metadata": {},
   "source": [
    "> The ***self keyword*** is used in Python class methods to refer to the instance of the class that the method is being called on. The self keyword is always the first parameter in a class method definition."
   ]
  },
  {
   "cell_type": "markdown",
   "id": "c406ebef",
   "metadata": {},
   "source": [
    "## Q9. What is the difference between the _ _add_ _ and the _ _radd_ _ methods?"
   ]
  },
  {
   "cell_type": "markdown",
   "id": "6b247b8d",
   "metadata": {},
   "source": [
    "> The ***__ add__()*** and ***__ radd__()*** methods are special methods in Python that are used to overload the addition operator (+). <br>\n",
    "> The ***__ add__()*** method is called when the addition operator is used on two objects of the same type, while the ***__ radd__()*** method is called when the addition operator is used on an object of one type and an object of another type."
   ]
  },
  {
   "cell_type": "markdown",
   "id": "c5903e35",
   "metadata": {},
   "source": [
    "## Q10. When is it necessary to use a reflection method? When do you not need it, even though you support the operation in question?"
   ]
  },
  {
   "cell_type": "markdown",
   "id": "39818bf7",
   "metadata": {},
   "source": [
    "> Reflection methods are used when we need to access the properties and methods of an object at runtime. This can be useful for a variety of tasks, such as:\n",
    "> * **Dynamically querying the capabilities of an object**: For example, we could use reflection to determine if an object has a particular method or property.\n",
    "> * **Dynamically creating new objects**: For example, we could use reflection to create a new object of a type that is not known at compile time.\n",
    "> * **Dynamically modifying the behavior of an object**: For example, we could use reflection to change the value of a property or to invoke a method on an object.\n",
    "\n",
    "> Reflection methods are not always necessary. If you know the type of an object at compile time, you can usually access its properties and methods directly. However, reflection can be useful if you need to work with objects whose types are not known at compile time."
   ]
  },
  {
   "cell_type": "markdown",
   "id": "e47bd0dd",
   "metadata": {},
   "source": [
    "## Q11. What is the _ _iadd_ _ method called?"
   ]
  },
  {
   "cell_type": "markdown",
   "id": "d7791aa3",
   "metadata": {},
   "source": [
    "> The ***__ iadd__()*** method is called the in-place addition method. It is a special method in Python that is used to overload the augmented addition operator (+=). <br>\n",
    "> The ***__ iadd__()*** method is called when the augmented addition operator is used on an object, and it returns the object itself after the addition has been performed."
   ]
  },
  {
   "cell_type": "code",
   "execution_count": null,
   "id": "4eea38f9",
   "metadata": {},
   "outputs": [],
   "source": [
    "class Number:\n",
    "    def __init__(self, value):\n",
    "        self.value = value\n",
    "\n",
    "    def __iadd__(self, other):\n",
    "        self.value += other\n",
    "        return self\n",
    "\n",
    "\n",
    "number1 = Number(10)\n",
    "number1 += 10\n",
    "print(number1.value)\n"
   ]
  },
  {
   "cell_type": "markdown",
   "id": "530e21ff",
   "metadata": {},
   "source": [
    "## Q12. Is the _ _init_ _ method inherited by subclasses? What do you do if you need to customize its behavior within a subclass?"
   ]
  },
  {
   "cell_type": "markdown",
   "id": "4953bfa8",
   "metadata": {},
   "source": [
    "> Yes, the ***__ init__()*** method is inherited by subclasses. This means that when we create a subclass, the ***__ init__()*** method of the superclass is called automatically when the subclass object is created.\n",
    "\n",
    "> If we need to customize the behavior of the ***__ init__()*** method in a subclass, we can override the method. To **override a method**, we simply define a method with the same name in the subclass. The subclass method will then be called instead of the superclass method."
   ]
  },
  {
   "cell_type": "code",
   "execution_count": null,
   "id": "760ef41f",
   "metadata": {},
   "outputs": [],
   "source": []
  },
  {
   "cell_type": "code",
   "execution_count": null,
   "id": "bb652bef",
   "metadata": {},
   "outputs": [],
   "source": []
  }
 ],
 "metadata": {
  "kernelspec": {
   "display_name": "Python 3 (ipykernel)",
   "language": "python",
   "name": "python3"
  },
  "language_info": {
   "codemirror_mode": {
    "name": "ipython",
    "version": 3
   },
   "file_extension": ".py",
   "mimetype": "text/x-python",
   "name": "python",
   "nbconvert_exporter": "python",
   "pygments_lexer": "ipython3",
   "version": "3.11.3"
  }
 },
 "nbformat": 4,
 "nbformat_minor": 5
}
