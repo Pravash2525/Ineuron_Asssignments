{
 "cells": [
  {
   "cell_type": "markdown",
   "id": "8279765f",
   "metadata": {},
   "source": [
    "<h1> <u> <font color= green > Advanced_Assignment_15 </font> </u> </h1>"
   ]
  },
  {
   "cell_type": "markdown",
   "id": "f36ea9d2",
   "metadata": {},
   "source": [
    "## 1. What are the new features added in Python 3.8 version?"
   ]
  },
  {
   "cell_type": "markdown",
   "id": "a1f72883",
   "metadata": {},
   "source": [
    "> Python 3.8 was released on October 14, 2019, and it included a number of new features and improvements. Here are some of the most notable new features:\n",
    "> * **Assignment expressions**: Assignment expressions are a new way to assign values to variables. \n",
    "> * **Positional-only arguments**: Positional-only arguments are a new way to define arguments that cannot be passed by keyword. This can help to make code more concise and easier to read.\n",
    "> * **Type hints**: Type hints are a way to annotate the types of variables and expressions. This can help to improve the readability and maintainability of code.\n",
    "> * **f-strings**: f-strings are a new way to format strings. They are more concise and easier to read than the old format string syntax.\n",
    "> * **Parallel iterators**: Parallel iterators are a new way to iterate over iterables in parallel. This can improve the performance of code that iterates over large datasets.\n"
   ]
  },
  {
   "cell_type": "markdown",
   "id": "52f12299",
   "metadata": {},
   "source": [
    "## 2. What is monkey patching in Python?"
   ]
  },
  {
   "cell_type": "markdown",
   "id": "cf3f1711",
   "metadata": {},
   "source": [
    "> **Monkey patching** is a technique in Python that allows to modify a class or module at runtime. This can be useful for debugging, testing, or even just changing the behavior of a library."
   ]
  },
  {
   "cell_type": "markdown",
   "id": "3de752b6",
   "metadata": {},
   "source": [
    "## 3. What is the difference between a shallow copy and deep copy?"
   ]
  },
  {
   "cell_type": "markdown",
   "id": "72ea4fac",
   "metadata": {},
   "source": [
    "> **Shallow copy**: A shallow copy creates a new object that references the original object's data. This means that if you change the data in the original object, the changes will be reflected in the shallow copy.\n",
    "\n",
    "> **Deep copy**: A deep copy creates a new object that contains a copy of the original object's data. This means that if you change the data in the original object, the changes will not be reflected in the deep copy.\n"
   ]
  },
  {
   "cell_type": "code",
   "execution_count": null,
   "id": "c7f7e6f6",
   "metadata": {},
   "outputs": [],
   "source": [
    "import copy\n",
    "\n",
    "def shallow_copy(data):\n",
    "    new_data = data.copy()\n",
    "    return new_data\n",
    "\n",
    "def deep_copy(data):\n",
    "    new_data = copy.deepcopy(data)\n",
    "    return new_data\n",
    "\n",
    "data = [1, 2, 3]\n",
    "\n",
    "shallow_copy_data = shallow_copy(data)\n",
    "deep_copy_data = deep_copy(data)\n",
    "\n",
    "data[0] = 4\n",
    "\n",
    "print(shallow_copy_data)\n",
    "print(deep_copy_data)\n"
   ]
  },
  {
   "cell_type": "markdown",
   "id": "c3b62a50",
   "metadata": {},
   "source": [
    "##  4. What is the maximum possible length of an identifier?"
   ]
  },
  {
   "cell_type": "markdown",
   "id": "396d38ff",
   "metadata": {},
   "source": [
    "> An **identifier** is a word or phrase used to identify a variable, function, class, or other object in Python. Identifiers must start with a letter or underscore, and they can contain any combination of letters, numbers, and underscores.\n",
    "\n",
    "> The maximum length of an identifier is ***79 characters***, including the starting letter or underscore and any trailing characters."
   ]
  },
  {
   "cell_type": "markdown",
   "id": "3d30ddba",
   "metadata": {},
   "source": [
    "## 5. What is generator comprehension?"
   ]
  },
  {
   "cell_type": "markdown",
   "id": "2ed62f87",
   "metadata": {},
   "source": [
    "> A **generator comprehension** is a concise way to create a generator object in Python. Generator objects are iterable objects that can be used to iterate over a sequence of values.\n",
    "\n",
    "> **Generator comprehensions** are similar to **list comprehensions**, but they use the ***yield keyword*** instead of the ***return keyword***. The yield keyword tells the Python interpreter to suspend execution of the function and return the next value in the sequence. When the generator function is resumed, it will continue execution from where it left off."
   ]
  },
  {
   "cell_type": "code",
   "execution_count": null,
   "id": "3d275764",
   "metadata": {},
   "outputs": [],
   "source": []
  },
  {
   "cell_type": "code",
   "execution_count": null,
   "id": "ccecd878",
   "metadata": {},
   "outputs": [],
   "source": []
  }
 ],
 "metadata": {
  "kernelspec": {
   "display_name": "Python 3 (ipykernel)",
   "language": "python",
   "name": "python3"
  },
  "language_info": {
   "codemirror_mode": {
    "name": "ipython",
    "version": 3
   },
   "file_extension": ".py",
   "mimetype": "text/x-python",
   "name": "python",
   "nbconvert_exporter": "python",
   "pygments_lexer": "ipython3",
   "version": "3.11.3"
  }
 },
 "nbformat": 4,
 "nbformat_minor": 5
}
