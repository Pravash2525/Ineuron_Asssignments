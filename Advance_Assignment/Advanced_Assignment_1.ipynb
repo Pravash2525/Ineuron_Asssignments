{
 "cells": [
  {
   "cell_type": "markdown",
   "id": "969f761b",
   "metadata": {},
   "source": [
    "<h1> <u> <font color= green > Advanced_Assignment_1 </font> </u> </h1>"
   ]
  },
  {
   "cell_type": "markdown",
   "id": "ac79c062",
   "metadata": {},
   "source": [
    "## Q1. What is the purpose of Python's OOP?"
   ]
  },
  {
   "cell_type": "markdown",
   "id": "ad47b624",
   "metadata": {},
   "source": [
    "> The purpose of Python's Object-Oriented Programming (OOP) is to provide a structured and modular approach to writing code. <br>\n",
    "> The main goals of using OOP in Python (or any other programming language) include:\n",
    "\n",
    ">   * <b> Modularity and Reusability </b>: breaking down a complex problem into smaller, more manageable objects. These objects can be reused in different parts of a program or in other projects, making code more modular and reducing duplication. <br>\n",
    ">   * <b> Encapsulation </b>: bundling data and related methods into a single unit (an object). It improves code maintainability.\n",
    ">   * <b> Abstraction </b>: define classes that represent abstract concepts and hide the implementation details, focusing on what an object does rather than how it does it. \n",
    ">   * <b> Inheritance </b>: Derived classes inherit properties and behaviors from their base classes, allowing code reuse and promoting a hierarchical structure. \n",
    ">   * <b> Polymorphism </b>: different objects can respond to the same method call in different ways, based on their specific implementations. Polymorphism promotes code flexibility, extensibility, and modularity."
   ]
  },
  {
   "cell_type": "markdown",
   "id": "1edf61c2",
   "metadata": {},
   "source": [
    "## Q2. Where does an inheritance search look for an attribute?"
   ]
  },
  {
   "cell_type": "markdown",
   "id": "5a3761fe",
   "metadata": {},
   "source": [
    ">When an inheritance search looks for an attribute, it starts at the object itself and then searches its parent classes, in the order they are defined. If the attribute is not found in any of the parent classes, the search stops."
   ]
  },
  {
   "cell_type": "markdown",
   "id": "145e3add",
   "metadata": {},
   "source": [
    "## Q3. How do you distinguish between a class object and an instance object?"
   ]
  },
  {
   "cell_type": "markdown",
   "id": "1b0220e4",
   "metadata": {},
   "source": [
    "> 1. **Class Object**: A class object, also known as a <b>class</b>, is a blueprint or template for creating instances of objects. In other words, a class is a collection of attributes (variables) and methods (functions) that define the characteristics and actions of the objects created from it. Class objects are created using the class keyword in Python. <br>\n",
    "> 2. **Instance Object**: An instance object, also known as an <b>object</b>, is created from a class and represents a specific occurrence or instance of that class. Each instance has its own set of instance variables. Instance objects are created by calling the class as if it were a function. <br>\n",
    "> 3. **The isinstance() function**: The isinstance() function will return True if the object is an instance of the class, and False otherwise. <br>\n",
    "> 4. **The type() function**: The type() function returns the type of an object. A class object will always have the type \"type\", while an instance object will have the type of the class it was instantiated from. <br>\n",
    "> 5. **The __ class __ attribute**: A class object will have a __ class __ attribute that is equal to itself. An instance object will have a __ class __ attribute that is equal to the class it was instantiated from. \n",
    "\n",
    "> <b><u>For Example </u></b>\n"
   ]
  },
  {
   "cell_type": "code",
   "execution_count": null,
   "id": "fe79f168",
   "metadata": {},
   "outputs": [],
   "source": [
    "class MyClass:    # MyClass is a class object\n",
    "    class_variable = \"I am a class variable\"\n",
    "\n",
    "    def __init__(self):\n",
    "        self.instance_variable = \"I am an instance variable\"\n",
    "\n",
    "    def instance_method(self):\n",
    "        print(\"I am an instance method\")\n",
    "\n",
    "my_object = MyClass()  # my_object is an instance of MyClass\n",
    "print(isinstance(my_object, MyClass)) # will print True since my_object is an instance of MyClass\n",
    "print(type(MyClass))   # will print  <class 'type'\n",
    "print(type(my_object)) # will print  <class '__main__.MyClass'\n",
    "print(my_object.__class__) # will print  <class '__main__.MyClass'"
   ]
  },
  {
   "cell_type": "markdown",
   "id": "53728927",
   "metadata": {},
   "source": [
    "## Q4. What makes the first argument in a class’s method function special?"
   ]
  },
  {
   "cell_type": "markdown",
   "id": "464a6a13",
   "metadata": {},
   "source": [
    "> The first argument in a class’s method function is special because it refers to the instance of the class that the method is being called on. This argument is typically named self by convention, but it can be named anything."
   ]
  },
  {
   "cell_type": "markdown",
   "id": "b14e53b8",
   "metadata": {},
   "source": [
    "## Q5. What is the purpose of the __init__ method?"
   ]
  },
  {
   "cell_type": "markdown",
   "id": "df399811",
   "metadata": {},
   "source": [
    "> The <b>__ init__ method</b> is a special method in Python that is called when an object is created. It is used to initialize the object's attributes. The <b>__ init__ method</b> is often called the constructor of a class."
   ]
  },
  {
   "cell_type": "markdown",
   "id": "821c0147",
   "metadata": {},
   "source": [
    "## Q6. What is the process for creating a class instance?"
   ]
  },
  {
   "cell_type": "markdown",
   "id": "2f2cca38",
   "metadata": {},
   "source": [
    "\n",
    "> The steps on how to create a class instance in Python:\n",
    "\n",
    "> 1. <b>Define a class:</b> Define a class using the <b>class keyword</b> which is a blueprint for creating objects. It defines the attributes and methods that the objects will have.\n",
    "> 2. <b>Instantiate the class:</b> To create an instance of a class, use the <b>__init__() method</b> which is a special method that is called when an object is created. It is used to initialize the object's attributes.\n",
    "> 3. <b>Pass arguments to the init method:</b> The <b>__init__() method</b> can take any number of arguments. These arguments are used to initialize the object's attributes.\n",
    "> 4. <b>Access the object's attributes and methods:</b> Once created an instance of a class, you can access the object's attributes and methods using the dot notation (.). Attributes store data specific to each instance, while methods define actions that can be performed on the instance.\n",
    "---\n",
    "> Each instance will have its own set of attributes and can invoke the defined methods. Instances allow you to work with individual objects that are based on the behavior defined by the class.\n",
    "\n",
    "> <b><u>For Example </u></b>\n"
   ]
  },
  {
   "cell_type": "code",
   "execution_count": null,
   "id": "bbd635d9",
   "metadata": {},
   "outputs": [],
   "source": [
    "class MyClass:\n",
    "    class_variable = \"I am a class variable\"\n",
    "\n",
    "    def instance_method(self):\n",
    "        print(\"I am an instance method\")\n",
    "\n",
    "    @classmethod\n",
    "    def class_method(cls):\n",
    "        print(\"I am a class method\")\n",
    "        \n",
    "my_object = MyClass()  # Creating an instance of MyClass\n",
    "print(my_object.class_method())"
   ]
  },
  {
   "cell_type": "markdown",
   "id": "880eda71",
   "metadata": {},
   "source": [
    "## Q7. What is the process for creating a class?"
   ]
  },
  {
   "cell_type": "markdown",
   "id": "f0f12c7a",
   "metadata": {},
   "source": [
    "> The class is defined by using **class** keyword."
   ]
  },
  {
   "cell_type": "markdown",
   "id": "b2f04007",
   "metadata": {},
   "source": [
    "## Q8. How would you define the superclasses of a class?"
   ]
  },
  {
   "cell_type": "markdown",
   "id": "4a8bf2e7",
   "metadata": {},
   "source": [
    "> The superclasses of a class are the classes that the class inherits from. A class can inherit from multiple classes, but only one class can be the direct superclass.\n",
    "\n",
    "> The superclasses of a class can be defined using the <b>super() function</b>. The super() function returns a proxy object that can be used to access the methods and attributes of the superclass.\n",
    "\n",
    "> <b><u>For Example </u></b>\n",
    "\n"
   ]
  },
  {
   "cell_type": "code",
   "execution_count": null,
   "id": "29e954e8",
   "metadata": {},
   "outputs": [],
   "source": [
    "class Animal:\n",
    "    def __init__(self, name):\n",
    "        self.name = name\n",
    "\n",
    "    def speak(self):\n",
    "        print(\"I am an animal!\")\n",
    "\n",
    "class Dog(Animal):\n",
    "    def __init__(self, name, breed):\n",
    "        super().__init__(name)\n",
    "        self.breed = breed\n",
    "\n",
    "    def bark(self):\n",
    "        print(\"Woof!\")\n",
    "\n",
    "my_dog = Dog(\"Spot\", \"Golden Retriever\")\n",
    "\n",
    "print(my_dog.name)  # Prints \"Spot\"\n",
    "my_dog.speak()  # Prints \"I am an animal!\"\n",
    "my_dog.bark()  # Prints \"Woof!\""
   ]
  },
  {
   "cell_type": "code",
   "execution_count": null,
   "id": "f88b19f4",
   "metadata": {},
   "outputs": [],
   "source": []
  },
  {
   "cell_type": "code",
   "execution_count": null,
   "id": "26b34f44",
   "metadata": {},
   "outputs": [],
   "source": []
  }
 ],
 "metadata": {
  "kernelspec": {
   "display_name": "Python 3 (ipykernel)",
   "language": "python",
   "name": "python3"
  },
  "language_info": {
   "codemirror_mode": {
    "name": "ipython",
    "version": 3
   },
   "file_extension": ".py",
   "mimetype": "text/x-python",
   "name": "python",
   "nbconvert_exporter": "python",
   "pygments_lexer": "ipython3",
   "version": "3.11.3"
  }
 },
 "nbformat": 4,
 "nbformat_minor": 5
}
