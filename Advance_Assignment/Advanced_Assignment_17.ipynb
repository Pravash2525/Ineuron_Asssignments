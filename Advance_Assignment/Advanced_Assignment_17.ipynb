{
 "cells": [
  {
   "cell_type": "markdown",
   "id": "969f761b",
   "metadata": {},
   "source": [
    "<h1> <u> <font color= green > Advanced_Assignment_17 </font> </u> </h1>"
   ]
  },
  {
   "cell_type": "markdown",
   "id": "f0bab827",
   "metadata": {},
   "source": [
    "## Q1. Explain the difference between greedy and non-greedy syntax with visual terms in as few words as possible. What is the bare minimum effort required to transform a greedy pattern into a non-greedy one? What characters or characters can you introduce or change?"
   ]
  },
  {
   "cell_type": "markdown",
   "id": "5b1ced72",
   "metadata": {},
   "source": [
    "> * **Greedy**: Greedy patterns match as much text as possible. For example, the regular expression (.* ) matches any character, zero or more times.\n",
    "> * **Non-greedy**: Non-greedy patterns match the least amount of text possible. For example, the regular expression ( .*? ) matches any character, zero or more times, but it will stop as soon as it finds a match.\n",
    "\n",
    "> The bare minimum effort required to transform a greedy pattern into a non-greedy one is to ***add a question mark (?)*** after the quantifier. For example, the regular expression .* can be transformed into a non-greedy pattern by adding a question mark, like this: ( .*? ). <br>\n",
    ">> The question mark (?) tells the regular expression engine to match the least amount of text possible. This is useful when we want to match a pattern, but you don't want to match too much text."
   ]
  },
  {
   "cell_type": "markdown",
   "id": "d27a5685",
   "metadata": {},
   "source": [
    "## Q2. When exactly does greedy versus non-greedy make a difference? What if you're looking for a non-greedy match but the only one available is greedy?"
   ]
  },
  {
   "cell_type": "markdown",
   "id": "d951afd2",
   "metadata": {},
   "source": [
    "> **Greedy matching** tries to matches the longest possible substring that satisfies the pattern, while<br>\n",
    "> **non-greedy** (also known as lazy) matching attempts to  matches the shortest possible substring that satisfies the pattern.\n",
    "\n",
    ">The difference between greedy and non-greedy matching is determined by the presence of quantifiers such as *, +, ?, or {} in the regular expression pattern."
   ]
  },
  {
   "cell_type": "code",
   "execution_count": null,
   "id": "2b37911a",
   "metadata": {},
   "outputs": [],
   "source": [
    "import re\n",
    "\n",
    "text = \"Hello World\"\n",
    "\n",
    "greedy_match = re.search(r'H.*o', text)    # Greedy matching\n",
    "print(greedy_match.group())  # Output: Hello Wor\n",
    "\n",
    "\n",
    "non_greedy_match = re.search(r'H.*?o', text)    # Non-greedy matching\n",
    "print(non_greedy_match.group())  # Output: Hello\n"
   ]
  },
  {
   "cell_type": "markdown",
   "id": "285398ee",
   "metadata": {},
   "source": [
    "## Q3. In a simple match of a string, which looks only for one match and does not do any replacement, is the use of a non-tagged group likely to make any practical difference?"
   ]
  },
  {
   "cell_type": "markdown",
   "id": "096e0fa4",
   "metadata": {},
   "source": [
    "> The use of a non-tagged group is not likely to make any practical difference in a simple match of a string that looks only for one match and does not do any replacement because:\n",
    "> * **Non-tagged groups are not captured**: Non-tagged groups are not captured in regular expressions. This means that the text matched by a non-tagged group is not stored in memory.\n",
    "> * **Greedy and non-greedy only matter for capturing**: Greedy and non-greedy only matter for capturing groups. If you are not capturing a group, then the greedy or non-greedy modifier will not make any difference.\n",
    "\n",
    "> In a simple match of a string that looks only for one match and does not do any replacement, the text matched by the regular expression is not stored in memory. Therefore, the use of a non-tagged group is not likely to make any practical difference."
   ]
  },
  {
   "cell_type": "markdown",
   "id": "4c01acba",
   "metadata": {},
   "source": [
    "## Q4. Describe a scenario in which using a nontagged category would have a significant impact on the program's outcomes."
   ]
  },
  {
   "cell_type": "markdown",
   "id": "b6fb62f9",
   "metadata": {},
   "source": [
    "> A scenario in which using a non-tagged group would have a significant impact on the program's outcomes are:\n",
    "> * **Scenario**: We are writing a program that parses a text file and extracts the email addresses from the file. We want to store the email addresses in a list.\n",
    "> * **Solution**: We could use a regular expression to match the email addresses in the text file. We could use a non-tagged group to capture the email addresses. The non-tagged group would not be stored in memory, but it would be available to the program.\n",
    "> * **Impact**: The impact of using a non-tagged group in this scenario is that the program would be able to access the email addresses without storing them in memory. This could improve the performance of the program, especially if the text file is large.\n"
   ]
  },
  {
   "cell_type": "code",
   "execution_count": null,
   "id": "1aabc866",
   "metadata": {},
   "outputs": [],
   "source": [
    "# Here is an example of a regular expression that could be used to match email addresses in a text file:\n",
    "import re\n",
    "\n",
    "pattern = '[a-zA-Z0-9._%+-]+@[a-zA-Z0-9.-]+\\.[a-zA-Z]+'\n",
    "\n",
    "text = open('text.txt', 'r').read()\n",
    "\n",
    "matches = re.findall(pattern, text)\n",
    "email_addresses = [match.group() for match in matches]\n",
    "print(email_addresses)"
   ]
  },
  {
   "cell_type": "markdown",
   "id": "1152d81c",
   "metadata": {},
   "source": [
    "## Q5. Unlike a normal regex pattern, a look-ahead condition does not consume the characters it examines. Describe a situation in which this could make a difference in the results of your programme"
   ]
  },
  {
   "cell_type": "markdown",
   "id": "aea6c798",
   "metadata": {},
   "source": [
    "> A situation in which a look-ahead condition could make a difference in the results of a program:\n",
    "> * **Scenario**: You are writing a program that parses a text file and extracts the phone numbers from the file. You want to store the phone numbers in a list.\n",
    "> * **Solution**: You could use a regular expression to match the phone numbers in the text file. You could use a look-ahead condition to ensure that the phone numbers are valid.\n",
    "> * **Impact**: The impact of using a look-ahead condition in this scenario is that the program would be able to filter out invalid phone numbers. This would improve the accuracy of the program.\n"
   ]
  },
  {
   "cell_type": "code",
   "execution_count": null,
   "id": "cd84afdd",
   "metadata": {},
   "outputs": [],
   "source": [
    "# Here is an example of a regular expression that could be used to match phone numbers in a text file:\n",
    "import re\n",
    "\n",
    "pattern = r'^\\d{3}-\\d{3}-\\d{4}(?=\\d{1})$'\n",
    "\n",
    "text = open('text.txt', 'r').read()\n",
    "matches = re.findall(pattern, text)\n",
    "phone_numbers = [match.group() for match in matches]\n",
    "print(phone_numbers)"
   ]
  },
  {
   "cell_type": "markdown",
   "id": "8d9a4949",
   "metadata": {},
   "source": [
    "## Q6. In standard expressions, what is the difference between positive look-ahead and negative look-ahead?"
   ]
  },
  {
   "cell_type": "markdown",
   "id": "44114223",
   "metadata": {},
   "source": [
    "> * **Positive look-ahead**: A positive look-ahead is a regular expression that matches if the specified pattern is found immediately following the current match. The positive look-ahead is denoted by the ?= symbol.\n",
    "> * **Negative look-ahead**: A negative look-ahead is a regular expression that matches if the specified pattern is not found immediately following the current match. The negative look-ahead is denoted by the ?! symbol.\n",
    "\n",
    "> *Here is an example of a positive look-ahead:*\n",
    "```pattern = r'^\\d{3}-\\d{3}-\\d{4}(?=\\d{1})$' ```\n",
    "> This pattern matches a phone number that is followed by a digit. The (?=\\d{1}) part of the pattern is a positive look-ahead that ensures that the phone number is followed by a digit.\n",
    "\n",
    "> *Here is an example of a negative look-ahead:*\n",
    "```pattern = r'^\\d{3}-\\d{3}-\\d{4}(?!\\d{5})$' ```\n",
    "This pattern matches a phone number that is not followed by a five-digit number. The (?!\\d{5}) part of the pattern is a negative look-ahead that ensures that the phone number is not followed by a five-digit number."
   ]
  },
  {
   "cell_type": "markdown",
   "id": "c2b42d57",
   "metadata": {},
   "source": [
    "## Q7. What is the benefit of referring to groups by name rather than by number in a standard expression?"
   ]
  },
  {
   "cell_type": "markdown",
   "id": "f82302a5",
   "metadata": {},
   "source": [
    "> Benefits to referring to groups by name rather than by number in a regular expression:\n",
    "> * **Readability**: Regular expressions with named groups are easier to read and understand, especially for complex patterns.\n",
    "> * **Flexibility**: Named groups can be reused in different parts of a regular expression, which can make the code more concise and easier to maintain.\n",
    "> * **Extensibility**: Named groups can be used to create more complex patterns, such as patterns that capture multiple pieces of information.\n"
   ]
  },
  {
   "cell_type": "markdown",
   "id": "4678deab",
   "metadata": {},
   "source": [
    "## Q8. Can you identify repeated items within a target string using named groups, as in \"The cow jumped over the moon\"?"
   ]
  },
  {
   "cell_type": "markdown",
   "id": "024f049b",
   "metadata": {},
   "source": [
    "> We can identify repeated items within a target string using named groups"
   ]
  },
  {
   "cell_type": "code",
   "execution_count": null,
   "id": "355e61f8",
   "metadata": {},
   "outputs": [],
   "source": [
    "import re\n",
    "\n",
    "pattern = r'(?P<item>\\w+) (?P<repeat>\\d+)'\n",
    "text = 'The cow jumped over the moon'\n",
    "\n",
    "match = re.search(pattern, text)\n",
    "\n",
    "if match:\n",
    "    item = match.group('item')\n",
    "    repeat = match.group('repeat')\n",
    "    print(f'The word \"{item}\" repeated {repeat} times in the text.')\n"
   ]
  },
  {
   "cell_type": "markdown",
   "id": "1d83fc8e",
   "metadata": {},
   "source": [
    "## Q9. When parsing a string, what is at least one thing that the Scanner interface does for you that the re.findall feature does not?"
   ]
  },
  {
   "cell_type": "markdown",
   "id": "cae167ba",
   "metadata": {},
   "source": [
    "> Here is one thing that the Scanner interface does for you when parsing a string that the re.findall feature does not:\n",
    "> * **The Scanner interface allows you to iterate over the matches in a string**: The re.findall() function returns a list of all the matches in a string. However, we cannot iterate over the matches in the list. The Scanner interface allows us to iterate over the matches in a string, which can be useful for processing the matches one at a time.\n"
   ]
  },
  {
   "cell_type": "code",
   "execution_count": null,
   "id": "34b76d4c",
   "metadata": {},
   "outputs": [],
   "source": [
    "import re\n",
    "\n",
    "text = \"Numbers: 123 456 789\"\n",
    "numbers = [int(num) for num in re.findall(r'\\d+', text)]\n",
    "\n",
    "for number in numbers:\n",
    "    print(\"Parsed integer:\", number)\n"
   ]
  },
  {
   "cell_type": "markdown",
   "id": "d0b6e4b8",
   "metadata": {},
   "source": [
    "## Q10. Does a scanner object have to be named scanner?"
   ]
  },
  {
   "cell_type": "markdown",
   "id": "97aef9d6",
   "metadata": {},
   "source": [
    "> No, a scanner object does not have to be named scanner. We can name a scanner object anything you want. However, the name scanner is a common convention for naming scanner objects. <br>\n",
    "When using the re.Scanner object in Python's ***re module***, you can assign any valid variable name to the scanner object."
   ]
  },
  {
   "cell_type": "code",
   "execution_count": null,
   "id": "e34047a6",
   "metadata": {},
   "outputs": [],
   "source": [
    "import re\n",
    "\n",
    "text = \"Hello, World!\"\n",
    "\n",
    "my_scanner = re.Scanner([(r'\\w+', lambda scanner, token: ('WORD', token))])   # Creating a scanner object with a different name\n",
    "\n",
    "tokens, remainder = my_scanner.scan(text)   # Using the scanner object\n",
    "for token in tokens:\n",
    "    print(token)\n"
   ]
  },
  {
   "cell_type": "code",
   "execution_count": null,
   "id": "78c13996",
   "metadata": {},
   "outputs": [],
   "source": []
  },
  {
   "cell_type": "code",
   "execution_count": null,
   "id": "2b6469ad",
   "metadata": {},
   "outputs": [],
   "source": []
  }
 ],
 "metadata": {
  "kernelspec": {
   "display_name": "Python 3 (ipykernel)",
   "language": "python",
   "name": "python3"
  },
  "language_info": {
   "codemirror_mode": {
    "name": "ipython",
    "version": 3
   },
   "file_extension": ".py",
   "mimetype": "text/x-python",
   "name": "python",
   "nbconvert_exporter": "python",
   "pygments_lexer": "ipython3",
   "version": "3.11.3"
  }
 },
 "nbformat": 4,
 "nbformat_minor": 5
}
