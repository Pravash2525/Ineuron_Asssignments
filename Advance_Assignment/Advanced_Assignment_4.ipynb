{
 "cells": [
  {
   "cell_type": "markdown",
   "id": "8279765f",
   "metadata": {},
   "source": [
    "<h1> <u> <font color= green > Advanced_Assignment_4 </font> </u> </h1>"
   ]
  },
  {
   "cell_type": "markdown",
   "id": "421d5510",
   "metadata": {},
   "source": [
    "## Q1. Which two operator overloading methods can you use in your classes to support iteration?"
   ]
  },
  {
   "cell_type": "markdown",
   "id": "6a96a10c",
   "metadata": {},
   "source": [
    "> The two operator overloading methods that you can use in classes to support iteration are the <b> __ iter__()</b> method and the <b> __ next__()</b> method.\n",
    "\n",
    "> * The <b> __ iter__()</b> method is a special method that is called when an object is used in a for loop. The <b> __ iter__()</b> method should return an iterator object, which can be used to iterate over the elements of the object.\n",
    "> * The <b> __ next__()</b>) method is a special method that is called by the iterator object to get the next element in the sequence. The <b> __ next__()</b> method should return the next element in the sequence, or raise a StopIteration exception if there are no more elements.\n",
    "\n",
    "```\n",
    "            class MyClass:\n",
    "                def __init__(self, data):\n",
    "                    self.data = data\n",
    "\n",
    "                def __iter__(self):\n",
    "                    return self\n",
    "\n",
    "                def __next__(self):\n",
    "                    if len(self.data) == 0:\n",
    "                        raise StopIteration\n",
    "\n",
    "                    item = self.data.pop(0)\n",
    "                    return item\n",
    "\n",
    "            my_class = MyClass([1, 2, 3])\n",
    "\n",
    "            for item in my_class:\n",
    "                print(item)\n",
    "```"
   ]
  },
  {
   "cell_type": "markdown",
   "id": "c6bab9bd",
   "metadata": {},
   "source": [
    "## Q2. In what contexts do the two operator overloading methods manage printing?"
   ]
  },
  {
   "cell_type": "markdown",
   "id": "1f0238ee",
   "metadata": {},
   "source": [
    "> The <b> __ str__()</b> and <b> __ repr__()</b> methods manage printing in two contexts:\n",
    "\n",
    "            When an object is printed using the print() function.\n",
    "            When an object is converted to a string using the str() function.\n",
    "\n",
    "> The <b> __ str__()</b> method is used to return a human-readable string representation of the object. The <b>__ repr__()</b> method is used to return a string representation of the object that can be used to reconstruct the object.\n",
    "```\n",
    "            class MyClass:\n",
    "                def __init__(self, name):\n",
    "                    self.name = name\n",
    "\n",
    "                def __str__(self):\n",
    "                    return f\"MyClass({self.name})\"\n",
    "\n",
    "                def __repr__(self):\n",
    "                    return f\"MyClass(name={self.name})\"\n",
    "\n",
    "            my_class = MyClass(\"John Doe\")\n",
    "\n",
    "            print(my_class)  # Prints \"MyClass(John Doe)\"\n",
    "            print(str(my_class))  # Prints \"MyClass(name=John Doe)\"\n",
    "```"
   ]
  },
  {
   "cell_type": "markdown",
   "id": "6804e8cb",
   "metadata": {},
   "source": [
    "## Q3. In a class, how do you intercept slice operations?"
   ]
  },
  {
   "cell_type": "markdown",
   "id": "a607d74e",
   "metadata": {},
   "source": [
    "> To intercept slice operations in a class, you can define the special <b>__ getitem__() methods</b>. These methods allow you to customize the behavior of indexing and slicing operations (using square brackets []) on instances of class.\n",
    "```\n",
    "            class MyClass:\n",
    "                def __init__(self, data):\n",
    "                    self.data = data\n",
    "\n",
    "                def __getitem__(self, index):\n",
    "                    if isinstance(index, slice):\n",
    "                        start, stop, step = index.indices(len(self.data))\n",
    "                        return [self.data[i] for i in range(start, stop, step)]\n",
    "                    else:\n",
    "                        return self.data[index]\n",
    "\n",
    "            my_class = MyClass([1, 2, 3, 4, 5])\n",
    "\n",
    "            print(my_class[1:3])  # Prints [2, 3]\n",
    "            print(my_class[::2])  # Prints [1, 3, 5]\n",
    "\n",
    "```"
   ]
  },
  {
   "cell_type": "markdown",
   "id": "7834059f",
   "metadata": {},
   "source": [
    "## Q4. In a class, how do you capture in-place addition?"
   ]
  },
  {
   "cell_type": "markdown",
   "id": "6e46a9e5",
   "metadata": {},
   "source": [
    "> In a class, we can capture in-place addition by defining the <b>__ iadd__() method</b>. The __ iadd __() method is a special method that is called when an object is added to itself using the += operator.\n",
    "\n",
    "> The <b>__ iadd__() method</b> takes one argument: the object that is being added to the current object. The __ iadd __() method should return the current object, after the addition has been performed.\n",
    "```\n",
    "            class MyClass:\n",
    "                def __init__(self, data):\n",
    "                    self.data = data\n",
    "\n",
    "                def __iadd__(self, other):\n",
    "                    self.data += other.data\n",
    "                    return self\n",
    "\n",
    "            my_class1 = MyClass([1, 2, 3])\n",
    "            my_class2 = MyClass([4, 5, 6])\n",
    "\n",
    "            my_class1 += my_class2\n",
    "\n",
    "            print(my_class1.data)  # Prints [1, 2, 3, 4, 5, 6]\n",
    "```"
   ]
  },
  {
   "cell_type": "markdown",
   "id": "1eb8e31a",
   "metadata": {},
   "source": [
    "## Q5. When is it appropriate to use operator overloading?"
   ]
  },
  {
   "cell_type": "markdown",
   "id": "2ea01bb1",
   "metadata": {},
   "source": [
    "> **Operator overloading** is a technique in object-oriented programming that allows to redefine the meaning of operators for your own classes. This can be useful for making your code more concise and readable, and for providing more flexibility in how your objects can be used.\n",
    "\n",
    "> Here are some cases when it is appropriate to use operator overloading:\n",
    "\n",
    "            When you want to provide a more intuitive way to interact with your objects.\n",
    "            When you want to provide more flexibility in how your objects can be used.\n",
    "            When you want to make your code more concise and readable. "
   ]
  },
  {
   "cell_type": "code",
   "execution_count": null,
   "id": "2282eb9b",
   "metadata": {},
   "outputs": [],
   "source": []
  }
 ],
 "metadata": {
  "kernelspec": {
   "display_name": "Python 3 (ipykernel)",
   "language": "python",
   "name": "python3"
  },
  "language_info": {
   "codemirror_mode": {
    "name": "ipython",
    "version": 3
   },
   "file_extension": ".py",
   "mimetype": "text/x-python",
   "name": "python",
   "nbconvert_exporter": "python",
   "pygments_lexer": "ipython3",
   "version": "3.11.3"
  }
 },
 "nbformat": 4,
 "nbformat_minor": 5
}
