{
 "cells": [
  {
   "cell_type": "markdown",
   "id": "f79c2d04",
   "metadata": {},
   "source": [
    "<h1> <u> <font color= green > Advanced_Assignment_7 </font> </u> </h1>"
   ]
  },
  {
   "cell_type": "markdown",
   "id": "1b4f0630",
   "metadata": {},
   "source": [
    "## Q1. What is the purpose of the try statement?"
   ]
  },
  {
   "cell_type": "markdown",
   "id": "5f8cb616",
   "metadata": {},
   "source": [
    "> The **try statement** in Python is used to execute a block of code and catch any exceptions that are raised. The try statement is often used to protect code that is likely to raise an exception.\n",
    "> * The **try block** is executed first: If an exception is raised in the try block, the except block is executed. \n",
    "> * The **except block** can catch any exception type, or it can catch a specific exception type.\n",
    "> * If no exception is raised in the try block, the **else block** is executed. The else block is optional.\n",
    "> * The **finally block** is executed at the end of the try statement, regardless of whether or not an exception is raised. The finally block is often used to close files or resources that were opened in the try block."
   ]
  },
  {
   "cell_type": "markdown",
   "id": "de795d1a",
   "metadata": {},
   "source": [
    "## Q2. What are the two most popular try statement variations?"
   ]
  },
  {
   "cell_type": "markdown",
   "id": "b1a254fa",
   "metadata": {},
   "source": [
    "> The two most popular try statement variations:\n",
    "\n",
    "> 1. **try...except block**: This is the most basic form of the try statement. It consists of a try block, an except block, and an optional else block. The except block is executed if an exception is raised in the try block. The else block is executed if no exception is raised in the try block.\n",
    "\n",
    "> 2. **try...except...else...finally block**: This is the most comprehensive form of the try statement. It consists of a try block, an except block, an else block, and a finally block. The finally block is executed regardless of whether or not an exception is raised in the try block. This makes it a good place to put code that needs to be executed, such as closing files or releasing resources."
   ]
  },
  {
   "cell_type": "markdown",
   "id": "07419242",
   "metadata": {},
   "source": [
    "## Q3. What is the purpose of the raise statement?"
   ]
  },
  {
   "cell_type": "markdown",
   "id": "ece41379",
   "metadata": {},
   "source": [
    "> The **raise statement** is used to explicitly raise any exception, including built-in exceptions and custom exceptions.\n",
    "\n",
    ">The general syntax for the raise statement is as follows: <br>\n",
    "> ```raise <exception_type> [, <exception_value> [, <traceback>]]```\n",
    "\n",
    "> __exception_type parameter__ is the type of exception that you want to raise. <br>\n",
    "> __exception_value parameter__ is the value of the exception. <br>\n",
    "> __traceback parameter__ is a traceback object that contains information about the stack frame where the exception was raised."
   ]
  },
  {
   "cell_type": "code",
   "execution_count": null,
   "id": "033d4860",
   "metadata": {},
   "outputs": [],
   "source": [
    "def divide_numbers(x, y):\n",
    "    if y == 0:\n",
    "        raise ZeroDivisionError\n",
    "    return x / y\n",
    "\n",
    "try:\n",
    "    print(divide_numbers(10, 0))\n",
    "except ZeroDivisionError:\n",
    "    print(\"Division by zero\")\n"
   ]
  },
  {
   "cell_type": "markdown",
   "id": "a243429f",
   "metadata": {},
   "source": [
    "## Q4. What does the assert statement do, and what other statement is it like?"
   ]
  },
  {
   "cell_type": "markdown",
   "id": "ceb4a9dc",
   "metadata": {},
   "source": [
    "> The **assert statement** in Python is used to check for a condition. If the condition does not meet, the assert statement will raise an AssertionError exception.\n",
    "\n",
    "> The general syntax for the assert statement is as follows: <br>\n",
    "```assert <condition>, <message>```\n",
    "\n",
    "> *condition parameter* is the condition that you want to check. <br>\n",
    "  *message parameter* is the message that will be printed if the condition does not meet."
   ]
  },
  {
   "cell_type": "code",
   "execution_count": null,
   "id": "f14e30ac",
   "metadata": {},
   "outputs": [],
   "source": [
    "def divide_numbers(x, y):\n",
    "    assert y != 0, \"Division by zero\"\n",
    "    return x / y\n",
    "\n",
    "try:\n",
    "    print(divide_numbers(10, 0))\n",
    "except AssertionError:\n",
    "    print(\"Division by zero\")\n"
   ]
  },
  {
   "cell_type": "markdown",
   "id": "8a6029a3",
   "metadata": {},
   "source": [
    "## Q5. What is the purpose of the with/as argument, and what other statement is it like?"
   ]
  },
  {
   "cell_type": "markdown",
   "id": "1073ff29",
   "metadata": {},
   "source": [
    "> The with/as statement in Python is used to manage resources. It is a powerful tool that can be used to ensure that resources are closed properly, even if an exception is raised.\n",
    "\n",
    "> The general syntax for the with/as statement is as follows: <br>\n",
    "```with <resource> as <variable>:\n",
    "    <block>\n",
    "    ```\n",
    "> *resource parameter* is the resource that you want to manage. <br>\n",
    "  *variable parameter* is the variable that will be used to access the resource. <br>\n",
    "  *block* is the code that will be executed with the resource.\n",
    "  "
   ]
  },
  {
   "cell_type": "code",
   "execution_count": null,
   "id": "2c6dc6d3",
   "metadata": {},
   "outputs": [],
   "source": [
    "with open(\"my_file.txt\", \"r\") as f:\n",
    "    contents = f.read()\n"
   ]
  },
  {
   "cell_type": "code",
   "execution_count": null,
   "id": "9b0be693",
   "metadata": {},
   "outputs": [],
   "source": []
  }
 ],
 "metadata": {
  "kernelspec": {
   "display_name": "Python 3 (ipykernel)",
   "language": "python",
   "name": "python3"
  },
  "language_info": {
   "codemirror_mode": {
    "name": "ipython",
    "version": 3
   },
   "file_extension": ".py",
   "mimetype": "text/x-python",
   "name": "python",
   "nbconvert_exporter": "python",
   "pygments_lexer": "ipython3",
   "version": "3.11.3"
  }
 },
 "nbformat": 4,
 "nbformat_minor": 5
}
