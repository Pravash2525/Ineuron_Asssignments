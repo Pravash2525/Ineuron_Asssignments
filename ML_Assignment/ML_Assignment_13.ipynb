{
 "cells": [
  {
   "cell_type": "markdown",
   "id": "8279765f",
   "metadata": {},
   "source": [
    "<h1> <u> <font color= green > ML_Assignment_13 </font> </u> </h1>"
   ]
  },
  {
   "cell_type": "markdown",
   "id": "864dea34",
   "metadata": {},
   "source": [
    "## 1. Provide an example of the concepts of Prior, Posterior, and Likelihood."
   ]
  },
  {
   "cell_type": "markdown",
   "id": "faac5c5b",
   "metadata": {},
   "source": [
    "> Here is an example of the concepts of prior, posterior, and likelihood:\n",
    "> * **Prior**: The prior is our belief about the probability of an event before we have any evidence. For example, we might believe that there is a 50% chance of flipping a coin and getting heads.\n",
    "> * **Posterior**: The posterior is our belief about the probability of an event after we have seen some evidence. For example, if we flip a coin and get heads, our posterior belief about the probability of getting heads might increase to 60%.\n",
    "> * **Likelihood**: The likelihood is the probability of the evidence given the hypothesis. For example, the likelihood of getting heads given the hypothesis that the coin is fair is 50%.\n"
   ]
  },
  {
   "cell_type": "markdown",
   "id": "3c6c27f7",
   "metadata": {},
   "source": [
    "## 2. What role does Bayes' theorem play in the concept learning principle?"
   ]
  },
  {
   "cell_type": "markdown",
   "id": "68de701b",
   "metadata": {},
   "source": [
    "> **Bayes' theorem** is a mathematical formula that is used to update our prior belief about the probability of an event after we have seen some evidence. This is a key concept in the concept learning principle.\n",
    "\n",
    "> In **concept learning**, you are trying to learn the concept of a particular class of objects. For example, we might be trying to learn the concept of a cat. we would start with a prior belief about the probability of an object being a cat. This prior belief might be based on your knowledge of the world or on the data that you have seen so far.\n",
    "\n",
    "> Once we have seen some evidence, we can use Bayes' theorem to update our prior belief."
   ]
  },
  {
   "cell_type": "markdown",
   "id": "53814320",
   "metadata": {},
   "source": [
    "## 3. Offer an example of how the Nave Bayes classifier is used in real life."
   ]
  },
  {
   "cell_type": "markdown",
   "id": "4af54ebb",
   "metadata": {},
   "source": [
    "> examples of how the Naive Bayes classifier is used in real life are:\n",
    "> * **Spam filtering**: Naive Bayes classifiers are often used for spam filtering. Spam filters use Naive Bayes classifiers to identify spam emails by looking for words and phrases that are commonly found in spam emails.\n",
    "> * **Fraud detection**: Naive Bayes classifiers are also used for fraud detection. Fraud detectors use Naive Bayes classifiers to identify fraudulent transactions by looking for patterns that are commonly found in fraudulent transactions.\n",
    "> * **Medical diagnosis**: Naive Bayes classifiers are also used for medical diagnosis. Medical diagnosis systems use Naive Bayes classifiers to identify diseases by looking for symptoms that are commonly associated with diseases.\n",
    "> * **Market sentiment analysis**: Naive Bayes classifiers are also used for market sentiment analysis. Market sentiment analysis systems use Naive Bayes classifiers to identify the sentiment of market participants by looking for words and phrases that are commonly associated with positive and negative sentiment.\n"
   ]
  },
  {
   "cell_type": "markdown",
   "id": "b0a370a2",
   "metadata": {},
   "source": [
    "## 4. Can the Nave Bayes classifier be used on continuous numeric data? If so, how can you go about doing it?"
   ]
  },
  {
   "cell_type": "markdown",
   "id": "f1016f30",
   "metadata": {},
   "source": [
    "> Yes, the Naive Bayes classifier can be used on continuous numeric data. However, there are some challenges associated with doing so.\n",
    "\n",
    "> * One challenge is that the Naive Bayes classifier makes the assumption that the features of a data point are independent. This assumption is not always true for continuous numeric data. For example, the height and weight of a person are likely to be correlated.\n",
    "> * Another challenge is that the Naive Bayes classifier requires the calculation of probabilities. This can be difficult for continuous numeric data, as the probabilities can be very small.\n",
    "\n",
    "> * One way to use the Naive Bayes classifier on continuous numeric data is to discretize the data. This means that we would divide the data into a number of intervals, and then assign each interval a value.\n",
    "> * Another way to use the Naive Bayes classifier on continuous numeric data is to use a kernel density estimator. A kernel density estimator is a way of estimating the probability density function of a continuous variable."
   ]
  },
  {
   "cell_type": "markdown",
   "id": "bacf4de6",
   "metadata": {},
   "source": [
    "## 5. What are Bayesian Belief Networks, and how do they work? What are their applications? Are they capable of resolving a wide range of issues?"
   ]
  },
  {
   "cell_type": "markdown",
   "id": "102342e1",
   "metadata": {},
   "source": [
    "> **Bayesian belief networks (BBNs)** are a type of probabilistic graphical model that can be used to represent and reason about uncertainty. Their application are:\n",
    "> * **Medical diagnosis**: BBNs can be used to represent the relationships between symptoms and diseases. This can be used to help doctors diagnose diseases more accurately.\n",
    "> * **Fraud detection**: BBNs can be used to represent the relationships between different types of fraudulent transactions. This can be used to help organizations detect fraudulent transactions more effectively.\n",
    "> * **Risk assessment**: BBNs can be used to represent the relationships between different types of risk factors. This can be used to help organizations assess risk more accurately.\n",
    "> * **Decision making**: BBNs can be used to represent the different factors that need to be considered when making a decision. This can be used to help organizations make better decisions.\n",
    "\n",
    "> BBNs are capable of resolving a wide range of issues, but they are not always the best solution. They can be computationally expensive to train, and they can be difficult to interpret. However, they are a powerful tool that can be used to solve a variety of problems."
   ]
  },
  {
   "cell_type": "markdown",
   "id": "db4272ae",
   "metadata": {},
   "source": [
    "## 6. Passengers are checked in an airport screening system to see if there is an intruder. Let I be the random variable that indicates whether someone is an intruder I = 1) or not I = 0), and A be the variable that indicates alarm I = 0). If an intruder is detected with probability P(A = 1|I = 1) = 0.98 and a non-intruder is detected with probability P(A = 1|I = 0) = 0.001, an alarm will be triggered, implying the error factor. The likelihood of an intruder in the passenger population is P(I = 1) = 0.00001. What are the chances that an alarm would be triggered when an individual is actually an intruder?"
   ]
  },
  {
   "cell_type": "markdown",
   "id": "08cb248d",
   "metadata": {},
   "source": [
    "> The probability that an alarm will be triggered when an individual is actually an intruder is given by: <br>\n",
    "    ```P(A = 1 | I = 1) = 0.98```\n",
    "> This is because the probability of an alarm being triggered given that the individual is an intruder is equal to the probability that the intruder is detected, which is 0.98.\n",
    "---\n",
    ">The likelihood of an intruder in the passenger population is given by: <br>\n",
    "```P(I = 1) = 0.00001```\n",
    "> This is the probability that an individual is an intruder, which is very low.\n",
    "---\n",
    "> Therefore, the chances that an alarm would be triggered when an individual is actually an intruder is:\n",
    "```0.98 * 0.00001 = 0.0000098```\n",
    ">This is a very small probability, but it is not zero. This means that there is a small chance that the alarm will be triggered even if the individual is not an intruder."
   ]
  },
  {
   "cell_type": "markdown",
   "id": "c9d58483",
   "metadata": {},
   "source": [
    "## 7. An antibiotic resistance test (random variable T) has 1% false positives (i.e., 1% of those who are not immune to an antibiotic display a positive result in the test) and 5% false negatives (i.e., 1% of those who are not resistant to an antibiotic show a positive result in the test) (i.e. 5 percent of those actually resistant to an antibiotic test negative). Assume that 2% of those who were screened were antibiotic-resistant. Calculate the likelihood that a person who tests positive is actually immune (random variable D)."
   ]
  },
  {
   "cell_type": "markdown",
   "id": "6c6b21aa",
   "metadata": {},
   "source": [
    "> We can use Bayes' theorem to calculate the likelihood that a person who tests positive is actually immune. <br>\n",
    "```P(D|T) = P(T|D)P(D) / P(T)```\n",
    "\n",
    "                where:\n",
    "                    D is the event that the person is actually immune\n",
    "                    T is the event that the person tests positive\n",
    "                    P(D|T) is the probability that the person is actually immune given that they test positive\n",
    "                    P(T|D) is the probability that the person tests positive given that they are actually immune\n",
    "                    P(D) is the probability that the person is actually immune\n",
    "                    P(T) is the probability that the person tests positive\n",
    "\n",
    "> In question, given that:\n",
    "\n",
    "                    P(T|D) = 0.99 (1% false positives)\n",
    "                    P(T|D') = 0.05 (5% false negatives)\n",
    "                    P(D) = 0.02 (2% of the population are immune)\n",
    "\n",
    "> We need to calculate P(T). This is the probability that a person tests positive, regardless of whether they are actually immune or not. This is equal to the sum of the probability that a person tests positive and is immune and the probability that a person tests positive and is not immune: <br>\n",
    "```P(T) = P(T|D)P(D) + P(T|D')P(D')```\n",
    "\n",
    "                Substituting the values that we are given, we get:\n",
    "                        P(T) = 0.99 * 0.02 + 0.05 * 0.98\n",
    "                        P(T) = 0.0198\n",
    "\n",
    "                Now we can calculate P(D|T) using Bayes' theorem:\n",
    "                        P(D|T) = 0.99 * 0.02 / 0.0198\n",
    "                        P(D|T) = 0.9491\n"
   ]
  },
  {
   "cell_type": "markdown",
   "id": "8dad4c9a",
   "metadata": {},
   "source": [
    "## 8. In order to prepare for the test, a student knows that there will be one question in the exam that is either form A, B, or C. The chances of getting an A, B, or C on the exam are 30 percent, 20%, and 50 percent, respectively. During the planning, the student solved 9 of 10 type A problems, 2 of 10 type B problems, and 6 of 10 type C problems.\n",
    "1. What is the likelihood that the student can solve the exam problem?\n",
    "2. Given the student's solution, what is the likelihood that the problem was of form A?\n",
    "---\n",
    "---"
   ]
  },
  {
   "cell_type": "markdown",
   "id": "8957d296",
   "metadata": {},
   "source": [
    "> 1. The likelihood that the student can solve the exam problem is the sum of the likelihoods that the student can solve a problem of each type: \n",
    "```likelihood = 0.3 * 0.9 + 0.2 * 0.2 + 0.5 * 0.6 = 0.88```\n",
    "\n",
    "> 2. Given the student's solution, the likelihood that the problem was of form A is the probability that the student solved a problem of form A divided by the probability that the student solved any problem: \n",
    "```likelihood = (0.3 * 0.9) / (0.3 * 0.9 + 0.2 * 0.2 + 0.5 * 0.6) = 0.28```\n"
   ]
  },
  {
   "cell_type": "markdown",
   "id": "e0ac2411",
   "metadata": {},
   "source": [
    "## 9. A bank installs a CCTV system to track and photograph incoming customers. Despite the constant influx of customers, we divide the timeline into 5 minute bins. There may be a customer coming into the bank with a 5% chance in each 5-minute time period, or there may be no customer (again, for simplicity, we assume that either there is 1 customer or none, not the case of multiple customers). If there is a client, the CCTV will detect them with a 99 percent probability. If there is no customer, the camera can take a false photograph with a 10% chance of detecting movement from other objects.\n",
    "1. How many customers come into the bank on a daily basis (10 hours)?\n",
    "2. On a daily basis, how many fake photographs (photographs taken when there is no customer) and how many missed photographs (photographs taken when there is a customer) are there?\n",
    "3. Explain likelihood that there is a customer if there is a photograph?"
   ]
  },
  {
   "cell_type": "markdown",
   "id": "27429c86",
   "metadata": {},
   "source": [
    "> Here are the answers to your questions:\n",
    "> * The expected number of customers coming into the bank on a daily basis (10 hours) is ```0.05 * 10 * 60 = 30.```\n",
    "> * The expected number of fake photographs (photographs taken when there is no customer) on a daily basis is ```0.9 * 10 * 60 = 540```. \n",
    "> * The expected number of missed photographs (photographs taken when there is a customer) on a daily basis is ```0.01 * 10 * 60 = 6```.\n",
    "> * The likelihood that there is a customer if there is a photograph is: ```likelihood = (0.99 * 0.05) / (0.05 * 0.99 + 0.9 * 0.1) = 0.473```\n",
    "\n",
    "> This means that if there is a photograph, there is a 47.3% chance that there is actually a customer."
   ]
  },
  {
   "cell_type": "markdown",
   "id": "b102df58",
   "metadata": {},
   "source": [
    "## 10. Create the conditional probability table associated with the node Won Toss in the Bayesian Belief network to represent the conditional independence assumptions of the Nave Bayes classifier for the match winning prediction problem in Section 6.4.4."
   ]
  },
  {
   "cell_type": "markdown",
   "id": "c1ac064b",
   "metadata": {},
   "source": [
    "> Here is the conditional probability table associated with the node Won Toss in the Bayesian Belief network to represent the conditional independence assumptions of the Nave Bayes classifier for the match winning prediction problem in Section 6.4.4:\n",
    "\n",
    "                            | Won Toss | Won Match | Not Won Match |\n",
    "                            | -------- | --------- | ------------- |\n",
    "                            |   Yes    |    0.65   |     0.35      |\n",
    "                            |   No     |    0.40   |     0.60      |\n",
    "\n",
    "> This table shows the **probability of winning the match** given that the toss was won or not won. As we can see, the probability of winning the match is higher if the toss was won. This is because teams that win the toss have the first opportunity to choose their fielding position, which can give them a significant advantage.\n",
    "\n",
    "> The **conditional independence assumptions of the Nave Bayes classifier** state that the probability of winning the match is independent of the other variables in the network, given the value of the Won Toss variable. This means that the probability of winning the match is the same regardless of whether the team is playing at home or away, the weather conditions, or the strength of the opposing team."
   ]
  },
  {
   "cell_type": "code",
   "execution_count": null,
   "id": "a8172770",
   "metadata": {},
   "outputs": [],
   "source": []
  },
  {
   "cell_type": "code",
   "execution_count": null,
   "id": "8aa854e2",
   "metadata": {},
   "outputs": [],
   "source": []
  }
 ],
 "metadata": {
  "kernelspec": {
   "display_name": "Python 3 (ipykernel)",
   "language": "python",
   "name": "python3"
  },
  "language_info": {
   "codemirror_mode": {
    "name": "ipython",
    "version": 3
   },
   "file_extension": ".py",
   "mimetype": "text/x-python",
   "name": "python",
   "nbconvert_exporter": "python",
   "pygments_lexer": "ipython3",
   "version": "3.11.3"
  }
 },
 "nbformat": 4,
 "nbformat_minor": 5
}
