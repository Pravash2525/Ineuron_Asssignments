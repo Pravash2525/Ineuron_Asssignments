{
 "cells": [
  {
   "cell_type": "markdown",
   "id": "969f761b",
   "metadata": {},
   "source": [
    "<h1> <u> <font color= green > ML_Assignment_1 </font> </u> </h1>"
   ]
  },
  {
   "cell_type": "markdown",
   "id": "648d1495",
   "metadata": {},
   "source": [
    "## 1. What does one mean by the term \"machine learning\"?"
   ]
  },
  {
   "cell_type": "markdown",
   "id": "c0ab84fd",
   "metadata": {},
   "source": [
    "> The term **\"machine learning\"** refers to the ability of computers to learn without being explicitly programmed. Machine learning algorithms are trained on data, and they use that data to learn how to make predictions or decisions.  **Machine learning** is a subset of artificial intelligence (AI). "
   ]
  },
  {
   "cell_type": "markdown",
   "id": "ecb1c8c3",
   "metadata": {},
   "source": [
    "## 2.Can you think of 4 distinct types of issues where it shines?"
   ]
  },
  {
   "cell_type": "markdown",
   "id": "95f33da2",
   "metadata": {},
   "source": [
    "> 4 distinct types of issues where machine learning shines are as follows:\n",
    "> * **Classification**: This is the task of assigning a label to an input. For example, a machine learning algorithm could be used to classify images as cats or dogs, or to classify text as spam or not spam.\n",
    "> * **Regression**: This is the task of predicting a continuous value, such as the price of a house or the likelihood of a customer clicking on an ad.\n",
    "> * **Clustering**: This is the task of grouping similar items together. For example, a machine learning algorithm could be used to cluster customers based on their purchase history, or to cluster images based on their content.\n",
    "> * **Recommendation systems**: These systems are used to recommend products, services, or content to users. For example, a machine learning algorithm could be used to recommend movies to watch, or to recommend products to buy.\n"
   ]
  },
  {
   "cell_type": "markdown",
   "id": "a4cb8a73",
   "metadata": {},
   "source": [
    "## 3.What is a labeled training set, and how does it work?"
   ]
  },
  {
   "cell_type": "markdown",
   "id": "0b106e76",
   "metadata": {},
   "source": [
    "> A **labeled training se**t is a collection of data samples, where each sample is associated with one or more output labels that serve as the ground truth for the problem at hand. In other words, a **labeled training set** is a set of data that has already been classified, so that the machine learning algorithm can learn from it.\n",
    "\n",
    "> Without a **labeled training set**, the algorithm would not have any way to learn what the correct output should be.\n",
    " So, it is used to train a machine learning algorithm. The algorithm will learn from the labeled training set and will eventually be able to make predictions on new data."
   ]
  },
  {
   "cell_type": "markdown",
   "id": "d30c8034",
   "metadata": {},
   "source": [
    "## 4.What are the two most important tasks that are supervised?\n"
   ]
  },
  {
   "cell_type": "markdown",
   "id": "80d5972e",
   "metadata": {},
   "source": [
    "> The two most important tasks that are supervised are **classification** and **regression**.\n",
    "> * **Classification** is the task of assigning a label to an input. For example, a machine learning algorithm could be used to classify images as cats or dogs, or to classify text as spam or not spam.\n",
    "> * **Regression** is the task of predicting a continuous value, such as the price of a house or the likelihood of a customer clicking on an ad.\n"
   ]
  },
  {
   "cell_type": "markdown",
   "id": "cff34c16",
   "metadata": {},
   "source": [
    "## 5.Can you think of four examples of unsupervised tasks?\n"
   ]
  },
  {
   "cell_type": "markdown",
   "id": "a35dbd22",
   "metadata": {},
   "source": [
    "> Four examples of unsupervised tasks are:\n",
    "> * **Clustering**: This is the task of grouping similar items together. For example, a machine learning algorithm could be used to cluster customers based on their purchase history, or to cluster images based on their content.\n",
    "> * **Dimensionality reduction**: This is the task of reducing the number of features in a dataset while preserving as much information as possible. For example, a machine learning algorithm could be used to reduce the number of pixels in an image while still preserving the overall shape of the image.\n",
    "> * **Anomaly detection**: This is the task of identifying unusual or unexpected events. For example, a machine learning algorithm could be used to identify fraudulent credit card transactions, or to identify equipment failures in a manufacturing plant.\n",
    "> * **Association rule mining**: This is the task of finding patterns in data that suggest that two or more items are frequently bought together. For example, a machine learning algorithm could be used to find patterns in grocery store purchases that suggest that people who buy milk also tend to buy bread.\n"
   ]
  },
  {
   "cell_type": "markdown",
   "id": "dd2583a0",
   "metadata": {},
   "source": [
    "## 6.State the machine learning model that would be best to make a robot walk through various unfamiliar terrains?"
   ]
  },
  {
   "cell_type": "markdown",
   "id": "2b33ba46",
   "metadata": {},
   "source": [
    "> The machine learning model that would be best to make a robot walk through various unfamiliar terrains is **reinforcement learning**. **Reinforcement learning** is a type of machine learning that allows an agent to learn how to behave in an environment by trial and error. The agent is rewarded for taking actions that lead to desired outcomes, and it is punished for taking actions that lead to undesired outcomes. Over time, the agent learns to take actions that maximize its rewards.\n",
    "\n",
    "> In the case of a robot walking through unfamiliar terrains, the agent would be the robot itself. The environment would be the terrain that the robot is walking on. The desired outcome would be for the robot to walk through the terrain without falling over. The undesired outcomes would be for the robot to fall over, or to get stuck.\n",
    "\n",
    "> The robot would be rewarded for taking actions that help it to walk through the terrain, such as taking steps in the right direction and maintaining its balance. The robot would be punished for taking actions that make it more likely to fall over, such as taking steps that are too big or too small.\n",
    "\n",
    "> Over time, the robot would learn to take actions that maximize its rewards, which means that it would learn to walk through the terrain without falling over."
   ]
  },
  {
   "cell_type": "markdown",
   "id": "58e7312f",
   "metadata": {},
   "source": [
    "## 7.Which algorithm will you use to divide your customers into different groups?"
   ]
  },
  {
   "cell_type": "markdown",
   "id": "3e4f179c",
   "metadata": {},
   "source": [
    "> There are many different algorithms that can be used to divide customers into different groups. Some of the most common algorithms include:\n",
    "> * **K-means clustering**: This algorithm clusters data points into a pre-determined number of clusters. The algorithm works by iteratively assigning data points to the cluster with the closest mean, and then recalculating the means of the clusters.\n",
    "> * **Hierarchical clustering**: This algorithm clusters data points by creating a hierarchy of clusters. The algorithm starts by clustering all of the data points into a single cluster, and then it iteratively merges the two most similar clusters until there is only one cluster remaining.\n",
    "> * **Spectral clustering**: This algorithm clusters data points by first transforming the data into a graph, and then clustering the graph nodes. The algorithm works by finding the smallest number of cuts that can be made to the graph to separate the nodes into clusters.\n",
    "> * **DBSCAN**: This algorithm clusters data points by finding clusters of high density. The algorithm works by starting with a set of seed points, and then iteratively adding points to the clusters that are close enough to the seed points.\n",
    "\n",
    "> Some factors to consider when choosing an algorithm for customer segmentation:\n",
    "> * **The number of clusters**: Some algorithms, such as K-means clustering, require you to specify the number of clusters in advance. Other algorithms, such as hierarchical clustering, do not require you to specify the number of clusters in advance.\n",
    "> * **The size of the data set**: Some algorithms, such as DBSCAN, are not well-suited for large data sets. Other algorithms, such as K-means clustering, can be used to cluster large data sets.\n",
    "> * **The desired outcome**: Some algorithms, such as K-means clustering, are designed to create clusters of equal size. Other algorithms, such as DBSCAN, are designed to create clusters of varying sizes.\n",
    "\n"
   ]
  },
  {
   "cell_type": "markdown",
   "id": "302bb809",
   "metadata": {},
   "source": [
    "## 8.Will you consider the problem of spam detection to be a supervised or unsupervised learning problem?"
   ]
  },
  {
   "cell_type": "markdown",
   "id": "078d8776",
   "metadata": {},
   "source": [
    "> **Spam detection** is a supervised learning problem because it requires labeled examples. The machine learning algorithm needs to know which emails are spam and which emails are not spam in order to learn to identify spam emails.. In supervised learning, the machine learning algorithm is trained on a dataset of labeled examples. In the case of spam detection, the labeled examples would be emails that have been labeled as spam or not spam. The machine learning algorithm would then learn to identify the features that distinguish spam emails from non-spam emails.\n",
    "\n",
    "> **Unsupervised learning**, on the other hand, does not require labeled examples. In unsupervised learning, the machine learning algorithm is simply given a dataset of unlabeled examples. The machine learning algorithm then learns to identify patterns in the data without any prior knowledge of what the patterns are.\n"
   ]
  },
  {
   "cell_type": "code",
   "execution_count": null,
   "id": "56d476e2",
   "metadata": {},
   "outputs": [],
   "source": []
  },
  {
   "cell_type": "code",
   "execution_count": null,
   "id": "2da22ca0",
   "metadata": {},
   "outputs": [],
   "source": []
  }
 ],
 "metadata": {
  "kernelspec": {
   "display_name": "Python 3 (ipykernel)",
   "language": "python",
   "name": "python3"
  },
  "language_info": {
   "codemirror_mode": {
    "name": "ipython",
    "version": 3
   },
   "file_extension": ".py",
   "mimetype": "text/x-python",
   "name": "python",
   "nbconvert_exporter": "python",
   "pygments_lexer": "ipython3",
   "version": "3.11.3"
  }
 },
 "nbformat": 4,
 "nbformat_minor": 5
}
