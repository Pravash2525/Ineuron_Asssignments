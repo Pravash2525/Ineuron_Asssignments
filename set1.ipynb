{
 "cells": [
  {
   "cell_type": "markdown",
   "id": "548c6689-2ac1-482d-bdf6-534c1b7653c9",
   "metadata": {},
   "source": [
    "**pow()**\n",
    "**round()**"
   ]
  },
  {
   "cell_type": "markdown",
   "id": "c295d3c3-9c1b-40a2-9c77-7a574c3fca42",
   "metadata": {
    "jp-MarkdownHeadingCollapsed": true
   },
   "source": [
    "# **generate a random number**\n",
    "\n",
    "```python\n",
    "import random\n",
    "\n",
    "min_value = int(input(\"Enter first number: \"))\n",
    "max_value = int(input(\"Enter second number: \"))\n",
    "random_number = random.randint(min_value, max_value)\n",
    "\n",
    "print(\"The random number is:\", random_number)\n",
    "```\n",
    "\n",
    "# **swap two variable without using temp variable**\n",
    "```python\n",
    "x = int(input(\"Enter first number: \"))\n",
    "y = int(input(\"Enter second number: \"))\n",
    "print(f\"Before swap: {x}, {y}\")\n",
    "x = x + y\n",
    "y = x - y\n",
    "x = x - y\n",
    "print(f\"After swap: {x}, {y}\")\n",
    "```\n"
   ]
  },
  {
   "cell_type": "markdown",
   "id": "a406c4fe-3581-4b1c-9f56-c963fd88d804",
   "metadata": {},
   "source": [
    "# **find the sum of an array**\n",
    "```python\n",
    "def sum_of_array(array):\n",
    "    sum = 0\n",
    "    for element in array:\n",
    "        sum += element\n",
    "    return sum\n",
    "\n",
    "array = [1, 2, 3, 4, 5]\n",
    "sum_of_array = sum_of_array(array)\n",
    "print(f\"The sum of the elements in the array is: {sum_of_array}\")\n",
    "```\n",
    "\n",
    "# **find largest element in an array**\n",
    "```python\n",
    "array = [1, 2, 3, 4, 5]\n",
    "largest_element = max(array)\n",
    "print(f\"The largest element in the array is: {largest_element}\")\n",
    "```\n",
    "\n",
    "# **Array rotation**\n",
    "```python\n",
    "def rotate_array(arr, rotations): # Perform rotations by shifting elements to the left    \n",
    "    for _ in range(rotations):\n",
    "        temp = arr[0]\n",
    "        for i in range(len(arr) - 1):\n",
    "            arr[i] = arr[i + 1]\n",
    "        arr[-1] = temp\n",
    "\n",
    "array = [1, 2, 3, 4, 5]\n",
    "num_rotations = int(input(\"Enter the number of rotations: \"))\n",
    "\n",
    "print(\"Original Array:\", array)\n",
    "rotate_array(array, num_rotations)\n",
    "print(\"Rotated Array:\", array)\n",
    "```\n",
    "# **Split the array and add the first part to the end**\n",
    "```python\n",
    "def split_and_add(arr, split_index):\n",
    "    if split_index >= len(arr):\n",
    "        return arr          # Return the array as it is if split_index is out of range\n",
    "\n",
    "    return arr[split_index:] + arr[:split_index]    # Split the array into two parts and add the first part to the end\n",
    "\n",
    "array = [1, 2, 3, 4, 5]\n",
    "split_index = int(input(\"Enter the split index: \"))\n",
    "\n",
    "print(\"Original Array:\", array)\n",
    "result = split_and_add(array, split_index)\n",
    "print(\"Modified Array:\", result)\n",
    "```\n",
    "\n",
    "# check if given array is **Monotonic**\n",
    "```python\n",
    "def is_monotonic(array):\n",
    "    increasing = True\n",
    "    decreasing = True\n",
    "    for i in range(1, len(array)):\n",
    "        if array[i] > array[i - 1]:\n",
    "            increasing = False\n",
    "        elif array[i] < array[i - 1]:\n",
    "            decreasing = False\n",
    "    return increasing or decreasing\n",
    "\n",
    "\n",
    "array = [1, 2, 3, 4, 5]\n",
    "is_monotonic_array = is_monotonic(array)\n",
    "print(f\"The array is monotonic: {is_monotonic_array}\")\n",
    "```\n",
    "---"
   ]
  },
  {
   "cell_type": "markdown",
   "id": "5f2cfa69-5b87-47eb-8d61-b8a3c5545831",
   "metadata": {},
   "source": [
    "# **to check prime  number**\n",
    "```python\n",
    "num = int(input(\"Enter a number: \"))\n",
    "\n",
    "flag = False\n",
    "if num == 1:\n",
    "    print(num, \"is not a prime number\")\n",
    "elif num > 1:    \n",
    "    for i in range(2, num): # check for factors\n",
    "        if (num % i) == 0:            \n",
    "            flag = True     # if factor is found, set flag to True             \n",
    "            break           # and break out of loop\n",
    "\n",
    "    \n",
    "if flag:    # check if flag is True\n",
    "    print(num, \"is not a prime number\")\n",
    "else:\n",
    "    print(num, \"is a prime number\")\n",
    "```\n",
    "\n",
    "## print all the prime number from 1 - 100000\n",
    "```python\n",
    "def is_prime(number):  \n",
    "    if number <= 1:\n",
    "        return False\n",
    "    for i in range(2, number):\n",
    "        if number % i == 0:\n",
    "            return False\n",
    "    return True\n",
    "\n",
    "start = 1\n",
    "end = 10000\n",
    "for i in range(start, end+1):\n",
    "    if is_prime(i):\n",
    "        print(f\"{i} is a prime number.\")\n",
    "```\n",
    "-----\n"
   ]
  },
  {
   "cell_type": "markdown",
   "id": "7ce9e175-e747-45f0-b3e5-2936d2fbce1f",
   "metadata": {},
   "source": [
    "# **factorial of a number**\n",
    "```python\n",
    "number = int(input(\"Enter the number: \"))\n",
    "\n",
    "factorial_of_number = 1\n",
    "for i in range(1, number + 1):\n",
    "    factorial_of_number *= i\n",
    "  \n",
    "print(f\"The factorial of {number} is : {factorial_of_number}\")\n",
    "```\n",
    "## **Find Factorial of Number Using Recursion**\n",
    " ```python\n",
    "def factorial(n):\n",
    "    if n == 0:\n",
    "        return 1\n",
    "    else:\n",
    "        return n * factorial(n - 1)\n",
    "\n",
    "number = int(input(\"Enter a number: \"))\n",
    "factorial_of_number = factorial(number)\n",
    "print(f\"The factorial of {number} is: {factorial_of_number}\")\n",
    "----"
   ]
  },
  {
   "cell_type": "markdown",
   "id": "76fef1e0-a6b2-4f7f-9fd7-f4ef0c09352b",
   "metadata": {},
   "source": [
    "# **to check odd & even Number**"
   ]
  },
  {
   "cell_type": "code",
   "execution_count": 6,
   "id": "51a9a87a-9b82-4688-bbf9-b7b2d342df1b",
   "metadata": {},
   "outputs": [
    {
     "name": "stdin",
     "output_type": "stream",
     "text": [
      "enter a number:  5\n"
     ]
    },
    {
     "name": "stdout",
     "output_type": "stream",
     "text": [
      "The number 5 is odd.\n"
     ]
    }
   ],
   "source": [
    "num = input(\"enter a number: \")\n",
    "x = int(num)%2\n",
    "if x == 0:\n",
    "    print(f\"The number {num} is even.\")\n",
    "else:  \n",
    "    print(f\"The number {num} is odd.\")\n",
    "          "
   ]
  },
  {
   "cell_type": "markdown",
   "id": "9105499b-a80b-42c1-a044-0ed0b6784245",
   "metadata": {},
   "source": [
    "# convert the temperature in degree **centigrade to Fahrenheit**"
   ]
  },
  {
   "cell_type": "code",
   "execution_count": 1,
   "id": "f7d2ad71-6d96-45d9-af3e-89d6276156a8",
   "metadata": {},
   "outputs": [
    {
     "name": "stdin",
     "output_type": "stream",
     "text": [
      "enter the temperature in celcius:  34\n"
     ]
    },
    {
     "name": "stdout",
     "output_type": "stream",
     "text": [
      "Temperature in fahrenheit is:  93.2\n"
     ]
    }
   ],
   "source": [
    "c = int(input(\"enter the temperature in celcius: \"))\n",
    "f = round((9/5 * c) + 32, 2)\n",
    "print(\"Temperature in fahrenheit is: \", f)"
   ]
  },
  {
   "cell_type": "markdown",
   "id": "f74b41f1-a16c-4326-9b2e-2f12baaef88d",
   "metadata": {},
   "source": [
    "## **convert celcius into fahrenheit**\n",
    "```python\n",
    "celsius = int(input(\"Write temperature in degree celsius: \"))\n",
    "fahrenheit = round(celsius * 1.8 + 32, 2)\n",
    "print(f\"{celsius}°C is equal to {fahrenheit}°F.\")\n",
    "```\n",
    "\n",
    "## **display the calender**\n",
    "```python\n",
    "import calendar\n",
    "\n",
    "year = int(input(\"Write year \"))\n",
    "month = int(input(\"Write month \"))\n",
    "print(calendar.month(year, month))\n",
    "```\n"
   ]
  },
  {
   "cell_type": "markdown",
   "id": "f98bf0cc-7875-4e1c-b0d4-0911abc2d444",
   "metadata": {},
   "source": [
    "# **find out the average of a set of integers**"
   ]
  },
  {
   "cell_type": "code",
   "execution_count": 1,
   "id": "0b49a6e0-dccc-4af4-824c-b329d353d777",
   "metadata": {},
   "outputs": [
    {
     "name": "stdin",
     "output_type": "stream",
     "text": [
      "enter the count of number:  4\n",
      "enter an integer:  23\n",
      "enter an integer:  23\n",
      "enter an integer:  13\n",
      "enter an integer:  4\n"
     ]
    },
    {
     "name": "stdout",
     "output_type": "stream",
     "text": [
      "the average is:  15.75\n"
     ]
    }
   ],
   "source": [
    "count = int(input(\"enter the count of number: \"))\n",
    "i = 0 \n",
    "sum = 0\n",
    "for i in range(count):\n",
    "    x = int(input(\"enter an integer: \"))\n",
    "    sum += x\n",
    "avg= sum/count\n",
    "print(\"the average is: \", avg)"
   ]
  },
  {
   "cell_type": "markdown",
   "id": "f7e46005-d72d-46a0-98a2-7a8a081543d0",
   "metadata": {},
   "source": [
    "# **check whether the given integer is a multiple of 5**"
   ]
  },
  {
   "cell_type": "code",
   "execution_count": 6,
   "id": "d272d32c-154e-4c96-8825-ba56a64f53bb",
   "metadata": {},
   "outputs": [
    {
     "name": "stdin",
     "output_type": "stream",
     "text": [
      "enter an integer:  45\n"
     ]
    },
    {
     "name": "stdout",
     "output_type": "stream",
     "text": [
      "45  is  a multiple of 5\n"
     ]
    }
   ],
   "source": [
    "num = int(input(\"enter an integer: \"))\n",
    "if (num % 5 == 0):\n",
    "    print(num, \" is  a multiple of 5\")\n",
    "else:\n",
    "    print(num, \" is not a multiple of 5\")"
   ]
  },
  {
   "cell_type": "markdown",
   "id": "67381059-8532-465f-8b89-7093a726a6b8",
   "metadata": {},
   "source": [
    "# check whether the given integer is a multiple of both 5 and 7"
   ]
  },
  {
   "cell_type": "code",
   "execution_count": 8,
   "id": "fd217428-2660-4239-8ff4-3a1ed3805fe0",
   "metadata": {},
   "outputs": [
    {
     "name": "stdin",
     "output_type": "stream",
     "text": [
      "enter an integer:  35\n"
     ]
    },
    {
     "name": "stdout",
     "output_type": "stream",
     "text": [
      "35 is multiple of both 5 and 7\n"
     ]
    }
   ],
   "source": [
    "num = int(input(\"enter an integer: \"))\n",
    "if num%5==0 and num%7==0 :\n",
    "    print(f\"{num} is multiple of both 5 and 7\")\n",
    "else:\n",
    "    print(f\"{num} is not a multiple of both 5 & 7\")\n",
    "    "
   ]
  },
  {
   "cell_type": "markdown",
   "id": "857af06c-b203-4f01-8cde-3d034cbca5ff",
   "metadata": {},
   "source": [
    "# **display the given integer in a reverse manner**"
   ]
  },
  {
   "cell_type": "code",
   "execution_count": 9,
   "id": "dfa1ed4c-6355-4620-8299-6aa0bd1d3034",
   "metadata": {},
   "outputs": [
    {
     "name": "stdin",
     "output_type": "stream",
     "text": [
      "Enter an integer:  5213\n"
     ]
    },
    {
     "name": "stdout",
     "output_type": "stream",
     "text": [
      "The reverse of 0 is 3125.\n"
     ]
    }
   ],
   "source": [
    "num = int(input(\"Enter an integer: \"))\n",
    "rev = 0\n",
    "while num != 0:\n",
    "    last_digit = num%10              # give last digit  or remainder\n",
    "    rev = (rev*10) + last_digit          \n",
    "    num = num // 10                  # give quotient   or remaining other num (except last digit)\n",
    "print(f\"The reverse of {num} is {rev}.\")\n",
    "\n"
   ]
  },
  {
   "cell_type": "markdown",
   "id": "706bc75d-2131-4027-9d88-9abc617a1e26",
   "metadata": {},
   "source": [
    "# **find the sum of the digits of an integer using a while loop**"
   ]
  },
  {
   "cell_type": "code",
   "execution_count": 23,
   "id": "fe1ba29a-8e51-4c5d-892e-f0ef97412904",
   "metadata": {},
   "outputs": [
    {
     "name": "stdin",
     "output_type": "stream",
     "text": [
      "Enter an integer:  2313\n"
     ]
    },
    {
     "name": "stdout",
     "output_type": "stream",
     "text": [
      "\n",
      " the Sum of digits is:  9\n"
     ]
    }
   ],
   "source": [
    "num = int(input(\"Enter an integer: \"))\n",
    "sum = 0\n",
    "while(num!=0):\n",
    "    digit = num%10        # will give last digit of a number i.e remainder\n",
    "    sum = sum+digit        # \n",
    "    num = num//10     # will give  quotient\n",
    "    \n",
    "# print(\"\\n the Sum of digits is:%d %d\", %sum %num)\n",
    "print(\"\\n the Sum of digits is: \", sum)"
   ]
  },
  {
   "cell_type": "markdown",
   "id": "9605567b-8b77-47c5-a485-25a0d1e1f348",
   "metadata": {},
   "source": [
    "# **Reverse of a string**"
   ]
  },
  {
   "cell_type": "code",
   "execution_count": 16,
   "id": "7f08305c-f46c-424e-9953-a2fb8fff8efe",
   "metadata": {},
   "outputs": [
    {
     "name": "stdin",
     "output_type": "stream",
     "text": [
      "Enter an integer:  hump\n"
     ]
    },
    {
     "name": "stdout",
     "output_type": "stream",
     "text": [
      "pmuh\n"
     ]
    }
   ],
   "source": [
    "string = input(\"Enter an integer: \")\n",
    "rev = \"\"\n",
    "for i in string:\n",
    "    rev =  i + rev   \n",
    "print(rev)"
   ]
  },
  {
   "cell_type": "markdown",
   "id": "b338863e-a0e4-405c-8719-b4dd20f42aa9",
   "metadata": {},
   "source": [
    "# Reverse using for loop"
   ]
  },
  {
   "cell_type": "markdown",
   "id": "d63add02-0f4d-425c-a6a8-7341e76b2024",
   "metadata": {},
   "source": [
    "# Reverse using for function"
   ]
  },
  {
   "cell_type": "markdown",
   "id": "d0428af1-224c-4c61-9a6a-062b3ede9ded",
   "metadata": {},
   "source": [
    "# __check whether the given integer is a prime number or not__"
   ]
  },
  {
   "cell_type": "code",
   "execution_count": null,
   "id": "9e5b441e-84de-470f-ae62-e34187f1afa7",
   "metadata": {},
   "outputs": [],
   "source": [
    "num = int(input(\"Enter an integer greater than 1: \"))\n",
    "isprime = 1 #assuming that num is prime\n",
    "for i in range(2,num//2):\n",
    "    if (num%i==0):\n",
    "        isprime = 0\n",
    "        break\n",
    "if(isprime==1):\n",
    "    print(num, \"is a prime number\")\n",
    "else:\n",
    "    print(num, \"is not a prime number\")"
   ]
  },
  {
   "cell_type": "markdown",
   "id": "ac0f9afa-9cb5-4070-96be-a430f4caf9b8",
   "metadata": {
    "jp-MarkdownHeadingCollapsed": true
   },
   "source": [
    "---\n",
    "## Write a Python Program to **Check Leap Year**?\n",
    "\n",
    "> + The year should be divisible by 4.\n",
    "> + If the year is divisible by 100, then it should also be divisible by 400.\n",
    "> + The year should be divisible by 400. \n",
    "> * ___Method-1:___\n",
    "```python\n",
    "year = int(input(\"Enter the year: \"))\n",
    "\n",
    "if year % 400 == 0:\n",
    "    print(\"Leap Year\")\n",
    "elif year % 100 == 0:\n",
    "    print(\"Not a Leap Year\")\n",
    "else:\n",
    "    if year % 4 == 0:\n",
    "        print(\"Leap Year\")\n",
    "    else:\n",
    "        print(\"Not a Leap Year\")\n",
    "```\n",
    "\n",
    "> * ___Method-2:___\n",
    "```python\n",
    "year = int(input('Enter year : '))\n",
    " \n",
    "if (year%4 == 0 and year%100 != 0) or (year%400 == 0) :\n",
    "    print(year, \"is a leap year.\")\n",
    "else :\n",
    "    print(year, \"is not a leap year.\")\n",
    "````\n",
    "------\n"
   ]
  },
  {
   "cell_type": "markdown",
   "id": "e3cc9531-0884-4447-abca-3ebecb3f13eb",
   "metadata": {},
   "source": [
    "---\n",
    "## solve **quadratic equation**\n",
    "\n",
    "```python\n",
    "import math\n",
    "\n",
    "a = float(input(\"Enter the coefficient of x^2 (a): \"))\n",
    "b = float(input(\"Enter the coefficient of x (b): \"))\n",
    "c = float(input(\"Enter the constant term (c): \"))\n",
    "\n",
    "discriminant = b**2 - 4*a*c     # Calculate the discriminant\n",
    "\n",
    "if discriminant > 0:            # Two real and distinct solutions    \n",
    "    x1 = (-b + math.sqrt(discriminant)) / (2*a)\n",
    "    x2 = (-b - math.sqrt(discriminant)) / (2*a)\n",
    "    print(f\"Solution are: {x1}, {x2}\")\n",
    "elif discriminant == 0:          # One real solution (both roots are the same)    \n",
    "    x = -b / (2*a)\n",
    "    print(f\"Solution are: {x}, {x}\")\n",
    "else:                            # Complex solutions (no real roots)         \n",
    "    real_part = -b / (2*a)\n",
    "    imaginary_part = math.sqrt(abs(discriminant)) / (2*a)\n",
    "    x1 = complex(real_part, imaginary_part)\n",
    "    x2 = complex(real_part, -imaginary_part)\n",
    "    print(f\"Solution are: {x1}, {x2}\")\n",
    "```"
   ]
  },
  {
   "cell_type": "markdown",
   "id": "2d4b5767-26ff-45a8-a339-c4da1b21550a",
   "metadata": {},
   "source": [
    "# **find the factorial of a number using recursion**"
   ]
  },
  {
   "cell_type": "code",
   "execution_count": 20,
   "id": "da30ef3e-df51-4710-8a66-4dd09f72f6fa",
   "metadata": {},
   "outputs": [
    {
     "name": "stdin",
     "output_type": "stream",
     "text": [
      "enter an integer:  7\n"
     ]
    },
    {
     "name": "stdout",
     "output_type": "stream",
     "text": [
      "the factorial of 7! is 5040\n"
     ]
    }
   ],
   "source": [
    "def fact(n):\n",
    "    if n==0 or n==1: \n",
    "        f=1\n",
    "    else:\n",
    "        f = n*fact(n-1)\n",
    "    return f\n",
    "    \n",
    "num = int(input(\"enter an integer: \"))\n",
    "result = fact(num)\n",
    "print(f\"the factorial of {num}! is {result}\")\n",
    "        "
   ]
  },
  {
   "cell_type": "markdown",
   "id": "ec161750-ac1e-47ac-892a-c575d6da7230",
   "metadata": {},
   "source": [
    "# **implement linear search**"
   ]
  },
  {
   "cell_type": "code",
   "execution_count": 26,
   "id": "ece94b65-6fa9-44e9-ad64-94aaac88016e",
   "metadata": {},
   "outputs": [
    {
     "name": "stdin",
     "output_type": "stream",
     "text": [
      "enter the number to be find out:  4\n"
     ]
    },
    {
     "name": "stdout",
     "output_type": "stream",
     "text": [
      "Successful search, the element is found at position 0\n"
     ]
    }
   ],
   "source": [
    "list = [4,2,7,8,4,9,9,5,3]\n",
    "f = 0    # flag\n",
    "x = int(input(\"enter the number to be find out: \"))\n",
    "\n",
    "for i in range(len(list)):\n",
    "    if (x==list[i]):\n",
    "        print(\"Successful search, the element is found at position\", i)\n",
    "        f = 1\n",
    "        break\n",
    "if(f==0):\n",
    "    print(\"Oops! Search unsuccessful\")"
   ]
  },
  {
   "cell_type": "markdown",
   "id": "668d90cb-e1bd-402b-a5a0-25df02a708b6",
   "metadata": {},
   "source": [
    "# **implement binary search**"
   ]
  },
  {
   "cell_type": "code",
   "execution_count": 35,
   "id": "0a41be32-4243-4499-9afe-fa758cecc51f",
   "metadata": {},
   "outputs": [
    {
     "name": "stdout",
     "output_type": "stream",
     "text": [
      "The sorteg array is:  [1, 2, 3, 4, 5, 8, 19, 23, 35, 65]\n"
     ]
    },
    {
     "name": "stdin",
     "output_type": "stream",
     "text": [
      "Enter the nuber to be search:  35\n"
     ]
    },
    {
     "name": "stdout",
     "output_type": "stream",
     "text": [
      "Search successful, element found at position  8\n"
     ]
    }
   ],
   "source": [
    "def binarySearch(number, low, high, x):\n",
    "    if high >= low:\n",
    "        mid = low + (high-low)//2\n",
    "        if number[mid] == x:\n",
    "            return mid\n",
    "        elif number[mid] > x:\n",
    "            return binarySearch(number, low, mid-1, x)\n",
    "        else:\n",
    "            return binarySearch(number, mid+1, high, x)\n",
    "    else:\n",
    "        return  -1\n",
    "\n",
    "numbers = [5,8,2,35,65,3,4,23,1,19]\n",
    "num = sorted(numbers)                   # binary search Requires sorted numbers\n",
    "print(\"The sorteg array is: \", num)\n",
    "search_num = int(input(\"Enter the nuber to be search: \"))\n",
    "result = binarySearch(num, 0, len(num)-1, search_num)\n",
    "\n",
    "if result != -1:\n",
    "    print(\"Search successful, element found at position \", result)\n",
    "else:\n",
    "    print(\"The given element is not present in the array\")"
   ]
  },
  {
   "cell_type": "markdown",
   "id": "59867366-4bec-489d-b06b-75ce77d97dba",
   "metadata": {},
   "source": [
    "# find the **largest number in a list** without using built-in functions"
   ]
  },
  {
   "cell_type": "code",
   "execution_count": 37,
   "id": "40e30566-5710-4c13-b667-8050514ad4e2",
   "metadata": {},
   "outputs": [
    {
     "name": "stdout",
     "output_type": "stream",
     "text": [
      "The largest element is 4 which is found at position 7\n"
     ]
    }
   ],
   "source": [
    "num = [3,8,1,7,2,9,5,4]\n",
    "big = num[0]\n",
    "position = 0\n",
    "for i in range(len(num)):\n",
    "    if (numbers[i]>big):\n",
    "        big = num[i]\n",
    "        position = i\n",
    "        \n",
    "print(f\"The largest element is {big} which is found at position {position}\")"
   ]
  },
  {
   "cell_type": "markdown",
   "id": "44079918-2b3f-48cc-8b56-5514fbc02fef",
   "metadata": {},
   "source": [
    "# **insert a number to any position in a list**"
   ]
  },
  {
   "cell_type": "code",
   "execution_count": 40,
   "id": "84556ebe-1fb6-48cc-a5cc-661cf51e8aeb",
   "metadata": {},
   "outputs": [
    {
     "name": "stdout",
     "output_type": "stream",
     "text": [
      "[3, 4, 1, 9, 6, 2, 8]\n"
     ]
    },
    {
     "name": "stdin",
     "output_type": "stream",
     "text": [
      "Enter the number to be inserted:  8\n",
      "Enter the position:  9\n"
     ]
    },
    {
     "name": "stdout",
     "output_type": "stream",
     "text": [
      "[3, 4, 1, 9, 6, 2, 8, 8]\n"
     ]
    }
   ],
   "source": [
    "numbers = [3,4,1,9,6,2,8]\n",
    "print(numbers)\n",
    "x = int(input(\"Enter the number to be inserted: \"))\n",
    "y = int(input(\"Enter the position: \"))\n",
    "\n",
    "numbers.insert(y,x)     # index, object\n",
    "print(numbers)"
   ]
  },
  {
   "cell_type": "markdown",
   "id": "d5c03a79-23b7-4b7d-a739-2cd5492828d8",
   "metadata": {},
   "source": [
    "# check whether a string is **palindrome or not**"
   ]
  },
  {
   "cell_type": "code",
   "execution_count": 42,
   "id": "8afafd52-1fc5-41e4-b919-418d4a5a0d1d",
   "metadata": {},
   "outputs": [
    {
     "name": "stdin",
     "output_type": "stream",
     "text": [
      "Enter a string:  sunnus\n"
     ]
    },
    {
     "name": "stdout",
     "output_type": "stream",
     "text": [
      "The string is palindrome\n"
     ]
    }
   ],
   "source": [
    "def rev(inputString):\n",
    "    return inputString[::-1]\n",
    "    \n",
    "def isPalindrome(inputString):\n",
    "    reverseString = rev(inputString)\n",
    "    if (inputString == reverseString):\n",
    "        return True\n",
    "    return False\n",
    "    \n",
    "s = input(\"Enter a string: \")\n",
    "result = isPalindrome(s)\n",
    "if result == 1:\n",
    "    print(\"The string is palindrome\")\n",
    "else:\n",
    "    print(\"The string is not palindrome\")"
   ]
  },
  {
   "cell_type": "markdown",
   "id": "d441f032-b0c6-44c2-a759-47b322fd0e0e",
   "metadata": {},
   "source": [
    "# **implement matrix addition**"
   ]
  },
  {
   "cell_type": "code",
   "execution_count": 1,
   "id": "c49ad0e5-6ab8-4932-95f5-57e3810088d3",
   "metadata": {},
   "outputs": [
    {
     "name": "stdout",
     "output_type": "stream",
     "text": [
      "[16, 10, 4]\n",
      "[18, 8, 9]\n",
      "[13, 10, 4]\n",
      "[118, 69, 60]\n",
      "[117, 68, 50]\n",
      "[113, 62, 57]\n"
     ]
    }
   ],
   "source": [
    "X = [[8,5,1],\n",
    "    [9 ,3,2],\n",
    "    [4 ,6,3]]\n",
    "Y = [[8,5,3],\n",
    "    [9,5,7],\n",
    "    [9,4,1]]\n",
    "\n",
    "result = [[0,0,0],\n",
    "          [0,0,0],\n",
    "          [0,0,0]]\n",
    "\n",
    "# matrix addition\n",
    "for i in range(len(X)):\n",
    "    for j in range(len(X[0])):\n",
    "        result[i][j] = X[i][j] + Y[i][j]\n",
    "for k in result:\n",
    "    print(k)\n",
    "\n",
    "# ===============================================================\n",
    "result = [[0,0,0],\n",
    "          [0,0,0],\n",
    "          [0,0,0]]\n",
    "\n",
    "# matrix multiplication\n",
    "for i in range(len(X)):\n",
    "    for j in range(len(Y[0])):\n",
    "        for k in range(len(Y)):\n",
    "            result[i][j] += X[i][k] * Y[k][j]\n",
    "for x in result:\n",
    "    print(x)\n",
    "\n"
   ]
  },
  {
   "cell_type": "markdown",
   "id": "adff660e-125c-4a8d-8c11-4c76df612093",
   "metadata": {},
   "source": [
    "# **Python program to check leap year**"
   ]
  },
  {
   "cell_type": "code",
   "execution_count": 80,
   "id": "efd72694-f9f9-457b-8dbe-fdd48dd29af7",
   "metadata": {},
   "outputs": [
    {
     "name": "stdin",
     "output_type": "stream",
     "text": [
      "Enter a year:  2024\n"
     ]
    },
    {
     "name": "stdout",
     "output_type": "stream",
     "text": [
      "2024 is a leap year\n",
      "================================================================\n",
      "2024 is a leap year\n"
     ]
    }
   ],
   "source": [
    "year = int(input(\"Enter a year: \"))\n",
    "if (year % 4) == 0:                             # Every year that is exactly divisible by four is a leap year, \n",
    "    if (year % 100) == 0:                       # except for years that are exactly divisible by 100\n",
    "        if (year % 400) == 0:\n",
    "            print(year, \"is a leap year\")\n",
    "        else:\n",
    "            print(year, \"is not a leap year\")\n",
    "    else:\n",
    "        print(year, \"is a leap year\")\n",
    "else:\n",
    "    print(year, \" is not a leap year\")\n",
    "    \n",
    "print(\"================================================================\")\n",
    "# year = int(input(\"Enter a year: \"))\n",
    "if (year % 4 == 0) and ((year % 100 != 0) or (year % 400 == 0)): # A leap year is exactly divisible by 4 except for century years (years ending with 00).\n",
    "    print(year, \"is a leap year\")                                # The century year is a leap year only if it is perfectly divisible by 400.\n",
    "else:\n",
    "    print(year, \" is not a leap year\")"
   ]
  },
  {
   "cell_type": "markdown",
   "id": "1890ffe4-c05c-4889-9c0c-0f8f2cfd041d",
   "metadata": {},
   "source": [
    "# find the Nth term in a **Fibonacci series using recursion**"
   ]
  },
  {
   "cell_type": "code",
   "execution_count": null,
   "id": "17bd41f8-b564-46ed-8226-28fcf54fc4b3",
   "metadata": {},
   "outputs": [],
   "source": [
    "def Fib(n):\n",
    "    if n<0:\n",
    "        print(\"The input is incorrect.\")\n",
    "    elif n==1:\n",
    "        return 0\n",
    "    elif n==2:\n",
    "        return 1\n",
    "    else:\n",
    "        return Fib(n-1)+Fib(n-2)\n",
    "print(Fib(7))"
   ]
  },
  {
   "cell_type": "markdown",
   "id": "449bc591-a85f-41da-aead-adf5ef103e70",
   "metadata": {},
   "source": [
    "# **Fibonacci series using iteration**"
   ]
  },
  {
   "cell_type": "code",
   "execution_count": 2,
   "id": "bf3b45fd-7715-4727-879d-df0aca211fc2",
   "metadata": {},
   "outputs": [
    {
     "name": "stdin",
     "output_type": "stream",
     "text": [
      "Enter the number of terms in the sequence:  5\n"
     ]
    },
    {
     "name": "stdout",
     "output_type": "stream",
     "text": [
      "0 1 1 2 3 "
     ]
    }
   ],
   "source": [
    "a = 0\n",
    "b = 1\n",
    "n=int(input(\"Enter the number of terms in the sequence: \"))\n",
    "print(a,b,end=\" \")\n",
    "while(n-2):\n",
    "    c=a+b\n",
    "    a,b = b,c\n",
    "    print(c,end=\" \")\n",
    "    n=n-1"
   ]
  },
  {
   "cell_type": "markdown",
   "id": "040b4681-768c-4749-a0cd-72d9d0f9892e",
   "metadata": {},
   "source": [
    "# Write a Python Program to Print the **Fibonacci sequence?**\n",
    "\n",
    "> * ___Fibonacci Series Without using Recursion___\n",
    "\n",
    "```python\n",
    "terms = int(input(\"Enter the number of terms in the Fibonacci sequence: \"))\n",
    "a = 0  # first term\n",
    "b = 1  # second term\n",
    "print(a,b,end=\" \")\n",
    "while(terms - 2):  # two terms already printed, so (terms - 2)\n",
    "    c = a+b\n",
    "    a,b = b,c  \n",
    "    print(c,end=\" \")\n",
    "    terms -= 1\n",
    "```\n",
    "\n",
    "> * ___Fibonacci Series With using Recursion___\n",
    "```python\n",
    "def fibonacci(n):\n",
    "    if(n <= 1):\n",
    "        return n\n",
    "    else:\n",
    "        return(fibonacci(n-1) + fibonacci(n-2))\n",
    "    \n",
    "terms = int(input(\"Enter the number of terms in the Fibonacci sequence: \"))\n",
    "for i in range(terms):\n",
    "    print(fibonacci(i), end = \" \")\n",
    "```\n",
    "\n",
    "## **Display Fibonacci Sequence Using Recursion**\n",
    "``` python\n",
    "def fibonacci(n):\n",
    "    if n == 0:\n",
    "        return 0\n",
    "    elif n == 1:\n",
    "        return 1\n",
    "    else:\n",
    "        return fibonacci(n - 1) + fibonacci(n - 2)\n",
    "\n",
    "terms = int(input(\"Enter the number of terms for finobacci series: \"))\n",
    "for i in range(terms):\n",
    "    print(fibonacci(i), end = \" \")\n",
    "```\n",
    "----"
   ]
  },
  {
   "cell_type": "markdown",
   "id": "22bd74d7-62f8-4b0c-b8ed-aab98776fc33",
   "metadata": {},
   "source": [
    "## Why are functions advantageous to have in your programs?\n",
    "\n",
    "> Functions are advantageous because\n",
    "> 1. __Code Reusability:__ Functions allow you to encapsulate a block of code that can be reused throughout your program. You can call it multiple times, reducing code duplication.\n",
    "> 2. __Code Readability:__ Well-structured functions with appropriate names and a clear purpose make the code more readable. \n",
    "> 3. __Maintainability:__ Functions with specific tasks enhances maintainability.\n",
    "> 4. __Modularity:__ Functions by breaking down complex problems into smaller parts with specific task or functionality makes the codebase more organized & easier to understand. \n",
    "> 5. __Testing and Debugging:__ you can easily test them individually, makes it easier to locate & fix bugs and hence ensuring they work as intended. \n"
   ]
  },
  {
   "cell_type": "markdown",
   "id": "4e79b6af-c039-4466-b823-c5da9a34be61",
   "metadata": {},
   "source": [
    "# Write a Python Program to **Check Armstrong Number**?\n",
    "\n",
    "> __Armstrong Number__ is an integer such that the sum of the cubes of its digits is equal to the number itself. <br>\n",
    "> for example:   1^3 + 5^3 + 3^3 = 153\n",
    "```python\n",
    "number = int(input(\"Enter any number: \"))\n",
    "a = list(map(int,str(number)))\n",
    "b = list(map(lambda x:x**3,a))\n",
    "if (sum(b)==number):\n",
    "    print(f\"{number} is an Armstrong number.\")\n",
    "else:\n",
    "    print(f\"{number} is not an Armstrong number.\")\n",
    "```\n",
    "## Find Armstrong Number in an Interval?\n",
    "```python\n",
    "def is_armstrong_number(number):\n",
    "    sum_of_digits = 0\n",
    "    for digit in str(number):\n",
    "        sum_of_digits += int(digit) ** len(str(number))\n",
    "    return number == sum_of_digits\n",
    "\n",
    "\n",
    "start = int(input(\"Enter starting point: \"))\n",
    "end = int(input(\"Enter ending point: \"))\n",
    "for i in range(start,end+1):\n",
    "    if is_armstrong_number(i):\n",
    "        print(f\"{i} is an Armstrong number.\")\n",
    "```\n"
   ]
  },
  {
   "cell_type": "markdown",
   "id": "613264e0-9a1d-48d2-9b05-65324c8ca155",
   "metadata": {},
   "source": [
    "# find the **sum of natural numbers**\n",
    "```python\n",
    "number = int(input(\"Enter the number of natural numbers: \"))\n",
    "\n",
    "sum_of_numbers = 0\n",
    "for i in range(1, number + 1):\n",
    "    sum_of_numbers += i\n",
    "    \n",
    "print(f\"The sum of the first {number} natural numbers is: {sum_of_numbers}\")\n",
    "```"
   ]
  },
  {
   "cell_type": "markdown",
   "id": "51dc19e4-51f5-424a-ae94-a266f4fc2941",
   "metadata": {},
   "source": [
    "---\n",
    "# **Find LCM**\n",
    "```python\n",
    "num1 = int(input(\"Enter the first number: \"))\n",
    "num2 = int(input(\"Enter the second number: \"))\n",
    "max_num = max(num1,num2)\n",
    "\n",
    "while True:    \n",
    "    if max_num % num1 == 0 and max_num % num2 == 0:\n",
    "        lcm = max_num\n",
    "        break\n",
    "    max_num += 1\n",
    "    \n",
    "print(f\"The LCM of {num1} and {num2} is: {lcm}\")\n",
    "```\n",
    "\n",
    "# **Find HCF**\n",
    "```python\n",
    "num1 = int(input(\"Enter the first number: \"))\n",
    "num2 = int(input(\"Enter the second number: \"))\n",
    "hcf = 1\n",
    "for i in range(1, num1 + 1):\n",
    "    if num1 % i == 0 and num2 % i == 0:\n",
    "        hcf = i\n",
    "\n",
    "print(f\"The HCF of {num1} and {num2} is: {hcf}\")\n",
    "```\n",
    "---"
   ]
  },
  {
   "cell_type": "markdown",
   "id": "d2db437d-9af5-44cc-89e3-53e1a1a69d95",
   "metadata": {},
   "source": [
    "# **Convert Decimal to Binary, Octal and Hexadecimal**\n",
    "```python\n",
    "decimal = int(input(\"Enter a decimal number: \"))\n",
    "\n",
    "decimal_to_binary = bin(decimal)[2:]  # Remove the '0b' prefix from the binary string\n",
    "decimal_to_octal = oct(decimal)[2:]  # Remove the '0o' prefix from the octal string\n",
    "decimal_to_hexadecimal = hex(decimal)[2:]  # Remove the '0x' prefix from the hexadecimal string\n",
    "\n",
    "print(f\"Binary representation: {decimal_to_binary}\")\n",
    "print(f\"Octal representation: {decimal_to_octal}\")\n",
    "print(f\"Hexadecimal representation: {decimal_to_hexadecimal}\")\n",
    "```\n",
    "\n",
    "# Find ASCII value of a character\n",
    "```python\n",
    "character = input(\"Enter a character: \")\n",
    "ascii_value = ord(character)\n",
    "print(f\"The ASCII value of '{character}' is {ascii_value}.\")\n",
    "```"
   ]
  },
  {
   "cell_type": "markdown",
   "id": "083341ac-55c3-42f6-a2fa-334fb9153458",
   "metadata": {},
   "source": [
    "# **Sort Words in Alphabetic Order**\n",
    "```python\n",
    "words = [\"hello\", \"world\", \"python\", \"programming\"]\n",
    "\n",
    "sorted_words = []\n",
    "for word in words:\n",
    "    sorted_words.append(word.lower())\n",
    "sorted_words.sort()\n",
    "\n",
    "print(f\"The sorted words are: {sorted_words}\")\n",
    "```\n",
    "# Remove Punctuation From a String\n",
    "``` python\n",
    "import re\n",
    "\n",
    "string = input(\"Write a sentence: \")\n",
    "\n",
    "punctuation_regex = re.compile(r\"[^\\w\\s]\")\n",
    "cleaned_string = punctuation_regex.sub(\"\", string)\n",
    "\n",
    "print(f\"The cleaned string is: {cleaned_string}\")\n",
    "```"
   ]
  },
  {
   "cell_type": "markdown",
   "id": "f541ba33-5488-44bc-b32f-8a1ba143ec55",
   "metadata": {},
   "source": [
    "# Write a Python program to check if the given number is a **Disarium Number**?\n",
    "\n",
    "> A __Disarium number__ is a number that is equal to the sum of its digits raised to the power of their respective positions. <br> \n",
    "> Disarium value of digits \"d1 d2 d3 ... dn\" is calculated as d1^1 + d2^2 + d3^3 + ... + dn^n.\n",
    ">> for example:  175 = 1^1 + 7^2 + 5^3\n",
    "```python\n",
    "def is_disarium(number):\n",
    "    sum_of_digits = 0\n",
    "    for i in range(len(str(number))):\n",
    "        digit = int(str(number)[i])\n",
    "        sum_of_digits += digit ** (i + 1)\n",
    "    return number == sum_of_digits\n",
    "\n",
    "\n",
    "number = 175\n",
    "\n",
    "if is_disarium(number):\n",
    "    print(f\"{number} is a Disarium number.\")\n",
    "else:\n",
    "    print(f\"{number} is not a Disarium number.\")\n",
    "```\n",
    "\n",
    "## print all disarium numbers between 1 to 100\n",
    "```python\n",
    "def is_disarium(number):\n",
    "    sum_of_digits = 0\n",
    "    for i in range(len(str(number))):\n",
    "        digit = int(str(number)[i])\n",
    "        sum_of_digits += digit ** (i + 1)\n",
    "    return number == sum_of_digits\n",
    "\n",
    "\n",
    "for i in range(1,101):\n",
    "    if is_disarium(i):\n",
    "        print(f\"{i} is a Disarium number.\")\n",
    "```\n"
   ]
  },
  {
   "cell_type": "markdown",
   "id": "48fadfef-ac8b-4ba7-bfe9-f81a7e284668",
   "metadata": {},
   "source": [
    "---\n",
    "# Write a Python program to check if the given number is **Happy Number**?\n",
    "\n",
    "> A __happy number__ is a number that, when repeatedly replaced by the sum of the squares of its digits, eventually reaches 1. <br>\n",
    "> In other words, a happy number is a number that never reaches a loop of repeating numbers other than 1. <br>\n",
    "> For example, 19 is a happy number because 19 → 82 → 65 → 91 → 82 → 65 → 91 → ...\n",
    "\n",
    "> Here are some other examples of happy numbers:\n",
    "\n",
    "                7 → 49 → 64 → 4 → 16 → 37 → 1 → 1\n",
    "                13 → 16 → 37 → 1 → 1\n",
    "                20 → 4 → 16 → 37 → 1 → 1\n",
    "```python\n",
    "def is_happy_number(number):\n",
    "    seen_numbers = set()\n",
    "    while number != 1:\n",
    "        next_number = 0\n",
    "        for digit in str(number):\n",
    "            next_number += int(digit) ** 2\n",
    "        number = next_number\n",
    "        if number in seen_numbers:\n",
    "            return False\n",
    "        seen_numbers.add(number)\n",
    "    return True\n",
    "\n",
    "\n",
    "number = 19\n",
    "\n",
    "if is_happy_number(number):\n",
    "    print(f\"{number} is a Happy number.\")\n",
    "else:\n",
    "    print(f\"{number} is not a Happy number.\")\n",
    "```\n",
    "\n",
    "# print all happy numbers between 1 and 100\n",
    "```python\n",
    "def is_happy_number(number):\n",
    "    seen_numbers = set()\n",
    "    while number != 1:\n",
    "        next_number = 0\n",
    "        for digit in str(number):\n",
    "            next_number += int(digit) ** 2\n",
    "        number = next_number\n",
    "        if number in seen_numbers:\n",
    "            return False\n",
    "        seen_numbers.add(number)\n",
    "    return True\n",
    "\n",
    "for i in range(1,101):\n",
    "    if is_happy_number(i):\n",
    "        print(f\"{i} is a Happy number.\")\n",
    "        \n",
    "```\n",
    "---"
   ]
  },
  {
   "cell_type": "markdown",
   "id": "2708da68-0119-4e2c-b90f-242136312e28",
   "metadata": {},
   "source": [
    "# Write a Python program to determine whether the given number is a **Harshad Number**?\n",
    "\n",
    "> A __harshad number__ is a number that is divisible by the sum of its digits. Harshad numbers are also known as __Niven numbers__. <br>\n",
    "\n",
    "> Here are some examples of harshad numbers:\n",
    "\n",
    "            10 = 1 + 0 = 1\n",
    "            17 = 1 + 7 = 8\n",
    "            28 = 2 + 8 = 10\n",
    "            36 = 3 + 6 = 9\n",
    "            55 = 5 + 5 = 10\n",
    "```python\n",
    "def is_harshad_number(number):\n",
    "    sum_of_digits = 0\n",
    "    for digit in str(number):\n",
    "        sum_of_digits += int(digit)\n",
    "    return number % sum_of_digits == 0\n",
    "\n",
    "number = 89\n",
    "\n",
    "if is_harshad_number(number):\n",
    "    print(f\"{number} is a Harshed number.\")\n",
    "else:\n",
    "    print(f\"{number} is not a Harshed number.\")\n",
    "```\n",
    "\n",
    "# print all pronic numbers between 1 and 100\n",
    "```python\n",
    "def is_harshad_number(number):\n",
    "    # Convert the number to a string for digit extraction\n",
    "    number_str = str(number)\n",
    "    \n",
    "    # Calculate the sum of digits\n",
    "    digit_sum = sum(int(digit) for digit in number_str)\n",
    "    \n",
    "    return number % digit_sum == 0\n",
    "\n",
    "\n",
    "for i in range(1, 101):\n",
    "    if is_harshad_number(i):\n",
    "        print(f\"{i} is a Harshed number.\")\n",
    "```\n",
    "---"
   ]
  },
  {
   "cell_type": "markdown",
   "id": "6e34320e-7ac0-499e-b8e7-f7b9218ae6ce",
   "metadata": {},
   "source": [
    "# find **sum of elements in list**\n",
    "```python\n",
    "my_list = [1, 2, 3, 4, 5]\n",
    "\n",
    "sum_of_numbers = 0\n",
    "for i in my_list:\n",
    "    sum_of_numbers += i\n",
    "\n",
    "print(f\"The sum of the elements in the list is: {sum_of_numbers}\")\n",
    "```\n",
    "# **Multiply all numbers in the list**\n",
    "```python\n",
    "my_list = [ 3, 3, 4, 5]\n",
    "\n",
    "product_of_numbers = 1\n",
    "for i in my_list:\n",
    "    product_of_numbers *= i\n",
    "\n",
    "print(f\"The product of the elements in the list is: {product_of_numbers}\")\n",
    "```\n",
    "\n",
    "# find **smallest number in a list**\n",
    "```python\n",
    "my_list = [7, 4, 3, 4, 5]\n",
    "\n",
    "smallest_number = my_list[0]\n",
    "for i in my_list:\n",
    "    if i < smallest_number:\n",
    "        smallest_number = i\n",
    "        \n",
    "print(f\"The smallest number in the list is: {smallest_number}\")\n",
    "```\n",
    "\n",
    "# find **largest number in a list**\n",
    "```python\n",
    "my_list = [7, 4, 3, 9, 5]\n",
    "\n",
    "largest_number = my_list[0]\n",
    "for i in my_list:\n",
    "    if i > largest_number:\n",
    "        largest_number = i\n",
    "        \n",
    "print(f\"The largest number in the list is: {largest_number}\")\n",
    "```\n",
    "\n",
    "# find **second largest number in a list**\n",
    "```python\n",
    "my_list = [7, 14, 3, 19, 5, 9]\n",
    "\n",
    "largest_number = my_list[0]\n",
    "second_largest_number = 0\n",
    "\n",
    "for i in my_list:\n",
    "    if i > largest_number:\n",
    "        second_largest_number = largest_number\n",
    "        largest_number = i\n",
    "    elif i > second_largest_number:\n",
    "        second_largest_number = i\n",
    "\n",
    "\n",
    "print(f\"The second largest number in the list is: {second_largest_number}\")\n",
    "```\n",
    "\n",
    "# find **N largest elements from a list**\n",
    "```python\n",
    "def find_n_largest(numbers, n):   \n",
    "    if len(numbers) < n:             # Check if the list has enough elements\n",
    "        print(\"Error: The list does not have enough elements.\")\n",
    "        return None\n",
    "\n",
    "    sorted_numbers = sorted(numbers, reverse=True)     # Sort the list in descending order    \n",
    "    largest_elements = sorted_numbers[:n]              # Extract the N largest elements\n",
    "    return largest_elements\n",
    "\n",
    "my_list = [10, 5, 8, 20, 15, 3]\n",
    "n = 3\n",
    "\n",
    "print(\"Original list:\", my_list)\n",
    "print(\"Number of largest elements to find:\", n)\n",
    "\n",
    "largest_elements = find_n_largest(my_list, n)\n",
    "\n",
    "if largest_elements is not None:\n",
    "    print(f\"{n} largest elements:\", largest_elements)\n",
    "```\n",
    "----"
   ]
  },
  {
   "cell_type": "markdown",
   "id": "242c53f8-89d9-4c74-98fd-27608a6b3bd3",
   "metadata": {},
   "source": [
    "# print **odd & even number from a list**\n",
    "```python\n",
    "my_list = [6, 7, 3, 14, 2, 6, 5, 8, 9, 10]\n",
    "\n",
    "for i in my_list:\n",
    "    if i%2 == 0:\n",
    "        print(i, end = \" \")\n",
    "\n",
    "for i in my_list:\n",
    "    if i%2 != 0:\n",
    "        print(i, end = \" \")\n",
    "```\n",
    "# **remove empty list**\n",
    "```python\n",
    "my_list = [[1, 2, 3], [], [4, 5, 6], [], []]\n",
    "\n",
    "new_list = []\n",
    "for i in list_of_lists:\n",
    "    if len(i) != 0:\n",
    "        new_list.append(i)\n",
    "\n",
    "print(f\"The list of lists without empty lists is: {new_list}\")\n",
    "```\n",
    "\n",
    "# **Count occurrences of an element in a list**\n",
    "```python\n",
    "my_list = [1, 2, 3, 1, 2, 3, 4, 2, 5]\n",
    "\n",
    "element_to_count = 22\n",
    "count = 0\n",
    "if element_to_count in my_list:\n",
    "    for i in my_list:\n",
    "        if element_to_count == i:\n",
    "            count += 1    \n",
    "    print(f\"The number of occurrences of {element_to_count} in the list is: {count}\")\n",
    "    \n",
    "else:\n",
    "    print(\"Element to count is not availabe in the list.\")\n",
    "```\n",
    "---"
   ]
  },
  {
   "cell_type": "markdown",
   "id": "fded084d-f3b4-41da-b6c2-30fa99c8af91",
   "metadata": {},
   "source": [
    "# **find words which are greater than given length** \n",
    "```python\n",
    "list_of_words = [\"hello\", \"world\", \"this\", \"is\", \"a\", \"list\"]\n",
    "k = 3\n",
    "\n",
    "list_of_words_greater_than_k = []\n",
    "for word in list_of_words:\n",
    "    if len(word) > k:\n",
    "          list_of_words_greater_than_k.append(word)\n",
    "            \n",
    "print(f\"The list of words greater than {k} characters long is/are: {list_of_words_greater_than_k}\")\n",
    "```\n",
    "# **removing i-th character from a string**\n",
    "```python\n",
    "string = \"Pravash Chaudhary\"\n",
    "i = 15\n",
    "new_string = \"\"\n",
    "if i < len(string):\n",
    "    for index, character in enumerate(string):\n",
    "        if index != i:\n",
    "            new_string += character\n",
    "            \n",
    "    print(f\"The string without the {i}-th character is: {new_string}\")\n",
    "    print(f\"The removed character is:\",string[i])\n",
    "        \n",
    "else:\n",
    "    print(\"string index out of range\")\n",
    "```\n",
    "\n",
    "# **split and join a string**\n",
    "```python\n",
    "string = input(\"Write a sentence: \")\n",
    "splitted_string = string.split(\" \")\n",
    "joined_string = \" \".join(splitted_string)\n",
    "\n",
    "print(f\"splitted_string: {splitted_string}\")\n",
    "print(f\"joined_string: {joined_string}\")\n",
    "```\n",
    "# **check if a given string is binary string or not**\n",
    "```python\n",
    "string = \"110110\"\n",
    "\n",
    "binary_string = [True for character in string if character in \"01\"]\n",
    "  \n",
    "if len(binary_string) == len(string):\n",
    "    print(f\"The string '{string}' is a binary string.\")\n",
    "else:\n",
    "    print(f\"The string '{string}' is not a binary string.\")\n",
    "```\n",
    "# **find uncommon words from two Strings**\n",
    "```python\n",
    "string1 = \"hello test world\"\n",
    "string2 = \"this is a test of string\"\n",
    "    \n",
    "list_of_uncommon_words = []\n",
    "set_of_words1 = set(string1.split())\n",
    "set_of_words2 = set(string2.split())\n",
    "for word in set_of_words1:\n",
    "    if word not in set_of_words2:\n",
    "        list_of_uncommon_words.append(word)\n",
    "for word in set_of_words2:\n",
    "    if word not in set_of_words1:\n",
    "        list_of_uncommon_words.append(word)        \n",
    "        \n",
    "print(f\"The list of uncommon words is/are: {list_of_uncommon_words}\")\n",
    "```\n",
    "\n",
    "# **find all duplicate characters in string**\n",
    "```python\n",
    "string = \"hello world\"\n",
    "\n",
    "list_of_duplicate_characters = []\n",
    "set_of_characters = set()\n",
    "for character in string:\n",
    "    if character in set_of_characters:\n",
    "        list_of_duplicate_characters.append(character)\n",
    "    else:\n",
    "        set_of_characters.add(character)\n",
    "\n",
    "print(f\"The list of duplicate characters is: {list_of_duplicate_characters}\")\n",
    "```\n",
    "# **check if a string contains any special character**\n",
    "```python\n",
    "import re\n",
    "\n",
    "def contains_special_characters(string):    \n",
    "    special_characters = re.compile(r\"[^a-zA-Z0-9., ]\")\n",
    "    \n",
    "    if special_characters.search(string):\n",
    "        return True\n",
    "    else:\n",
    "        return False\n",
    "\n",
    "text = \"Hello, Python Developers\"\n",
    "\n",
    "if contains_special_characters(text):\n",
    "    print(\"The string contains special characters.\")\n",
    "else:\n",
    "    print(\"The string does not contain any special characters.\")\n",
    "```\n",
    "---"
   ]
  },
  {
   "cell_type": "markdown",
   "id": "8f7f560b-73c7-4357-b662-b6d6a8f88843",
   "metadata": {},
   "source": [
    "---\n",
    "# **find the sum of all items in a dictionary**\n",
    "```python\n",
    "my_dict = {\n",
    "      \"key1\": 10,\n",
    "      \"key2\": 20,\n",
    "      \"key3\": 30,\n",
    "      \"key4\": 40,\n",
    "      \"key5\": 50,  }\n",
    "    \n",
    "list_of_dict_values = list(my_dict.values())\n",
    "sum_of_all_values = sum(list_of_dict_values)\n",
    "print(sum_of_all_values)\n",
    "```\n",
    "# **Merging two Dictionaries**\n",
    "```python\n",
    "dict1 = {\n",
    "      \"key1\": \"value1\",\n",
    "      \"key2\": \"value2\"  }\n",
    "dict2 = {\n",
    "      \"key3\": \"value3\",\n",
    "      \"key4\": \"value4\"  }\n",
    "\n",
    "merged_dict = dict1.copy()\n",
    "merged_dict.update(dict2)\n",
    "print(merged_dict)\n",
    "```"
   ]
  },
  {
   "cell_type": "markdown",
   "id": "e0a1aeee-cd8b-43fd-9424-9ea7660b9945",
   "metadata": {},
   "source": [
    "# Write a Python program to insertion at the beginning in OrderedDict?\n",
    "```python\n",
    "from collections import OrderedDict\n",
    "\n",
    "my_dict = {\n",
    "          \"key1\": \"value1\",\n",
    "          \"key2\": \"value2\"  }\n",
    "\n",
    "ordered_dict = OrderedDict(my_dict)\n",
    "\n",
    "key = 'x'\n",
    "value = 10\n",
    "\n",
    "insert_at_beginning_in_ordered_dict = OrderedDict([(key, value)])\n",
    "insert_at_beginning_in_ordered_dict.update(ordered_dict)\n",
    "\n",
    "print(insert_at_beginning_in_ordered_dict)\n",
    "```\n",
    "\n",
    "# check order of character in string using OrderedDict()\n",
    "```python\n",
    "from collections import OrderedDict\n",
    "\n",
    "def check_order_of_character_in_string(string):\n",
    "    ordered_dict = OrderedDict()\n",
    "    for character in string:\n",
    "        ordered_dict[character] = None\n",
    "    for character in string:\n",
    "        if character not in ordered_dict:\n",
    "            return False\n",
    "        else:\n",
    "            del ordered_dict[character]\n",
    "    return True\n",
    "\n",
    "string = \"qwerty\"\n",
    "is_order_correct = check_order_of_character_in_string(string)\n",
    "print(f\"The order of characters in the string is correct: {is_order_correct}\")\n",
    "```\n",
    "##  Write a Python program to sort Python Dictionaries by Key or Value?\n",
    "```python\n",
    "def sort_dictionary_by_key(dictionary):\n",
    "    sorted_dict = dict(sorted(dictionary.items()))\n",
    "    return sorted_dict\n",
    "\n",
    "def sort_dictionary_by_value(dictionary):\n",
    "    sorted_dict = dict(sorted(dictionary.items(), key=lambda x: x[1]))\n",
    "    return sorted_dict\n",
    "\n",
    "dictionary = {'c': 3, 'a': 1, 'b': 2}\n",
    "\n",
    "sorted_dictionary_by_key = sort_dictionary_by_key(dictionary)\n",
    "sorted_dictionary_by_value = sort_dictionary_by_value(dictionary)\n",
    "print(f\"The sorted dictionary by key is: {sorted_dictionary_by_key}\")\n",
    "print(f\"The sorted dictionary by value is: {sorted_dictionary_by_value}\")\n",
    "```\n",
    "---"
   ]
  },
  {
   "cell_type": "markdown",
   "id": "90eef1ce-3503-444f-8d4d-757ac9d59953",
   "metadata": {},
   "source": [
    "# How do you type a tuple value that only contains the integer 42?\n",
    "\n",
    "> + tuple_value = (42,)"
   ]
  },
  {
   "cell_type": "markdown",
   "id": "6900181d-1c75-42b3-94ff-97d8f20501ca",
   "metadata": {},
   "source": [
    "\n",
    "# How do you distinguish between **copy.copy()** and **copy.deepcopy()**?\n",
    "\n",
    "> The copy.copy() and copy.deepcopy() functions in Python are used to create copies of objects.\n",
    "> + A **shallow copy** creates a new object that contains the same references to the data as the original object. This means that if you change the data in the original object, the changes will be reflected in the copy.\n",
    "> + A **deep copy** creates a new object that contains new references to the data. This means that if you change the data in the original object, the changes will not be reflected in the copy.\n",
    "```python\n",
    "import copy\n",
    "my_list = [1, 2, 3]\n",
    "my_copy = copy.copy(my_list)\n",
    "my_deepcopy = copy.deepcopy(my_list)\n",
    "my_list.append(4)\n",
    "print(my_copy)\n",
    "print(my_deepcopy)\n",
    "```"
   ]
  },
  {
   "cell_type": "markdown",
   "id": "35c91a55-948b-4242-bff5-277b97e33b42",
   "metadata": {},
   "source": [
    "# ***Short-hand if-else***"
   ]
  },
  {
   "cell_type": "code",
   "execution_count": 3,
   "id": "c1414d7a-3139-47cc-8f12-5398567c605a",
   "metadata": {},
   "outputs": [
    {
     "name": "stdout",
     "output_type": "stream",
     "text": [
      "yes\n",
      "minor\n",
      "middle age\n",
      "middle age\n"
     ]
    }
   ],
   "source": [
    "# if condition\n",
    "# if condition: expr\n",
    "num = 7\n",
    "if num >= 0: print (\"yes\")\n",
    "\n",
    "\n",
    "# if-else condition\n",
    "# [True] if [expression]   else [False]\n",
    "age=15\n",
    "result = 'major' if age>55    else 'minor'\n",
    "print(result)\n",
    "\n",
    "numbers = [1, 2, 3, 4, 5] \n",
    "even_numbers = [num for num in numbers if num % 2 == 0]\n",
    "\n",
    "\n",
    "\n",
    "# if-else-if-else condition\n",
    "age= 35\n",
    "if age<12:\n",
    "    print('child')\n",
    "elif age<20:\n",
    "    print('teen')\n",
    "elif age<30:\n",
    "    print('young')\n",
    "elif age<50:\n",
    "    print('middle age')\n",
    "else:\n",
    "    print('old')\n",
    "    \n",
    "x='child' if age<12 else 'teen'   if age<20 else 'young'   if age<30 else 'middle age'   if age<50 else 'old'\n",
    "print(x)"
   ]
  },
  {
   "cell_type": "code",
   "execution_count": 97,
   "id": "89d20f59-a1bf-4398-afa2-900059aa297c",
   "metadata": {},
   "outputs": [
    {
     "data": {
      "text/plain": [
       "'There-can-only-one.'"
      ]
     },
     "execution_count": 97,
     "metadata": {},
     "output_type": "execute_result"
    }
   ],
   "source": [
    "'-'.join('There can only one.'.split()) "
   ]
  },
  {
   "cell_type": "markdown",
   "id": "a4bdfc6f-d197-4f07-8758-3e6f2dc5ac7b",
   "metadata": {},
   "source": [
    "> The compile() function takes a regular expression as input and returns a Regex object. <br>\n",
    "> The r prefix tells Python that the string is a raw string. <br>\n",
    "> The return value of the search() method is __Match object__ if a match is found, and __None__ if no match is found.  <br>\n",
    "> The match object gives the start and end positions of the match, and the matched string.\n",
    "```python\n",
    "import re\n",
    "regex = re.compile(r\"\\d+\")\n",
    "match = regex.search(string)\n",
    "if match:\n",
    "    print(match.group())\n",
    "else:\n",
    "    print(\"No match\")\n",
    "```\n",
    "\n"
   ]
  },
  {
   "cell_type": "markdown",
   "id": "6473b8a8-a996-406b-a880-373779544a67",
   "metadata": {},
   "source": [
    "# In the regex which created from the r'(\\d\\d\\d)-(\\d\\d\\d-\\d\\d\\d\\d)', what does group zero cover? Group 2? Group 1?\n",
    "\n",
    "> **Group 0** covers the entire match. <br>\n",
    "> **Group 1** covers the first group of digits, which is the three-digit phone number.  <br>\n",
    "> **Group 2** covers the second group of digits, which is the seven-digit phone number."
   ]
  },
  {
   "cell_type": "markdown",
   "id": "b5d7c6dd-60b2-46ca-b74f-0bb16fff47ba",
   "metadata": {},
   "source": [
    "# The **findall()** method returns a string list or a list of string tuples. What causes it to return one of the two options?\n",
    "\n",
    "> The findall() method returns a list of strings or a list of string tuples, depending on whether the regular expression contains any capturing groups. <br>\n",
    "> If the regular expression does not contain any capturing groups, then the findall() method will return a list of strings.<br>\n",
    "> If the regular expression contains capturing groups, then the findall() method will return a list of string tuples, where each tuple contains the matched string and the captured groups.\n",
    ">\n",
    "```python\n",
    "regex = re.compile(r\"\\d+\")     # will return a list of strings.\n",
    "regex = re.compile(r\"(\\d+)-(\\d+)\")   # will return a list of string tuples.\n",
    "```"
   ]
  },
  {
   "cell_type": "markdown",
   "id": "171f6ce9-21ba-405b-bbc0-9d6be9340541",
   "metadata": {},
   "source": [
    "# In regular expressions, what is the difference between the + and * characters?\n",
    "\n",
    "> * The * character matches zero or more repetitions of the preceding character. <br>\n",
    "> * The + character matches one or more repetitions of the preceding character."
   ]
  },
  {
   "cell_type": "markdown",
   "id": "dae16d19-3eb7-4f90-815b-148520f1d75c",
   "metadata": {},
   "source": [
    "# What is the difference between {4} and {4,5} in regular expression?\n",
    "\n",
    "> * {4} matches exactly 4 occurrences of the preceding character, \n",
    "> * while {4,5} matches 4 or 5 occurrences of the preceding character."
   ]
  },
  {
   "cell_type": "markdown",
   "id": "8981e2da-106c-4560-9f7b-429a291f3008",
   "metadata": {},
   "source": [
    "# What do means by \\D, \\W, and \\S shorthand character classes signify in regular expressions?\n",
    "\n",
    "> * \\D matches any character that is not a digit.\n",
    "> * \\W matches any character that is not a word character. Word characters include letters, digits, and underscores.\n",
    "> * \\S matches any character that is not a whitespace character. Whitespace characters include spaces, tabs, newlines, and carriage returns.\n"
   ]
  },
  {
   "cell_type": "markdown",
   "id": "714db9ff-3c71-4ef5-97d8-f15fa5195c7b",
   "metadata": {},
   "source": [
    "# What is the difference between (.* ?) and (.* )     ?\n",
    "\n",
    "> (.* ?) is a non-greedy quantifier, while (.*) is a greedy quantifier.<br>\n",
    "> A greedy quantifier will match as many occurrences of the preceding character as possible, <br>\n",
    "    while a non-greedy quantifier will match as few occurrences of the preceding character as possible."
   ]
  },
  {
   "cell_type": "markdown",
   "id": "b9a3c7cc-5159-46ad-8fcb-10a9f4f5959e",
   "metadata": {},
   "source": [
    "# What is the syntax for matching both numbers and lowercase letters with a character class?\n",
    "\n",
    "> The \\w character class matches any word character, which includes letters, digits, and underscores. <br>\n",
    "> syntax: ___r\"\\w+\\d+\\w+\"___"
   ]
  },
  {
   "cell_type": "markdown",
   "id": "4481408a-9c27-4b7d-8b83-bc20ba47ef04",
   "metadata": {},
   "source": [
    "# What is the procedure for making a normal expression in regax case insensitive?\n",
    "\n",
    "> To make a regular expression case insensitive in Python, you can use the re.IGNORECASE flag. <br>\n",
    "```python\n",
    "regex = re.compile(r\"hello\", re.IGNORECASE)\n",
    "match = regex.search(\"Hello\")\n",
    "```"
   ]
  },
  {
   "cell_type": "markdown",
   "id": "5aa310b5-e1a2-4d51-95c7-071daa789061",
   "metadata": {},
   "source": [
    "# What does the . character normally match? What does it match if re.DOTALL is passed as 2nd argument in re.compile()?\n",
    "\n",
    "> The . character normally matches any single character, except for a newline character. r\".\" will match any string, including empty strings.<br>\n",
    "> if the re.DOTALL flag is passed as the second argument to the re.compile() function, then the . character will match any character, including newline characters. "
   ]
  },
  {
   "cell_type": "markdown",
   "id": "b4304406-4724-46eb-bcd5-dba8b72ab5f0",
   "metadata": {},
   "source": [
    "# If numReg = re.compile(r'\\d+'), what will numRegex.sub('X', '11 drummers, 10 pipers, five rings, 4 hen') return? \n",
    "\n",
    "> It will return: __X drummers, X pipers, five rings, X hen__\n",
    "```python\n",
    "import re\n",
    "numReg = re.compile(r'\\d+')\n",
    "result = numReg.sub('X', '11 drummers, 10 pipers, five rings, 4 hen')\n",
    "print(result)\n",
    "```"
   ]
  },
  {
   "cell_type": "markdown",
   "id": "e2a5b4e2-e599-4f40-951c-d35031cd4ef8",
   "metadata": {},
   "source": [
    "# What does passing re.VERBOSE as the 2nd argument to re.compile() allow to do?\n",
    "\n",
    "> The re.VERBOSE flag, when passed as the second argument to the re.compile() function, allows you to write more verbose regular expressions. This means that we can use whitespace and comments in our regular expressions without affecting their meaning.\n",
    "```python\n",
    "import re\n",
    "regex = re.compile(r\"this(  this is a comment )?verbose\", re.VERBOSE)\n",
    "match = regex.search(\"this verbose\")\n",
    "if match:\n",
    "    print(\"The match is:\", match.group())\n",
    "else:\n",
    "    print(\"No match\")\n",
    "```"
   ]
  },
  {
   "cell_type": "markdown",
   "id": "dbf2ae17-56c4-4c52-af5e-a2a9b171e99e",
   "metadata": {},
   "source": [
    "# How would you write a regex that match a number with comma for every three digits? It must match the given following:\n",
    "\n",
    "    '42'\n",
    "    '1,234'\n",
    "    '6,368,745'\n",
    "\n",
    "> regex = re.compile(r'\\d{1,3}(?:,\\d{3})*')"
   ]
  },
  {
   "cell_type": "markdown",
   "id": "aa5cfe44-816b-49f7-8024-4c003cb298ba",
   "metadata": {},
   "source": [
    "# What do the functions os.getcwd() and os.chdir() do?\n",
    "\n",
    ">   * The __os.getcwd()__ function returns the current working directory, \n",
    ">   * The __os.chdir()__ function changes the current working directory.\n",
    "```python\n",
    "import os\n",
    "current_directory = os.getcwd()\n",
    "print(current_directory)\n",
    "os.chdir('/home/user')\n",
    "new_directory = os.getcwd()\n",
    "print(new_directory)\n",
    "```"
   ]
  },
  {
   "cell_type": "markdown",
   "id": "08d6ccc4-47a5-49db-9499-244febda65a9",
   "metadata": {},
   "source": [
    "# How do you distinguish between shutil.copy() and shutil.copytree()?\n",
    "\n",
    "> The __shutil.copy()__ function copies a _single file_ from one location to another. <br>\n",
    "> The __shutil.copytree()__ function copies an _entire directory tree_ from one location to another."
   ]
  },
  {
   "cell_type": "markdown",
   "id": "8febd448-dec5-4eae-b143-8e293f10b856",
   "metadata": {},
   "source": [
    "# What function is used to rename files?\n",
    "\n",
    "> ___os.rename()___ function used to rename files and it takes two arguments: the old filename and the new filename. \n",
    "```python\n",
    "import os\n",
    "old_filename = 'myfile.txt'\n",
    "new_filename = 'new_file.txt'\n",
    "os.rename(old_filename, new_filename)\n",
    "```"
   ]
  },
  {
   "cell_type": "markdown",
   "id": "bd7b66d9-b375-4f12-8f7a-6e3d6dc54e13",
   "metadata": {},
   "source": [
    "# Create a programme that searches a folder tree for files with a certain file extension (such as .pdf or .jpg). Copy these files from whatever location they are in to a new folder.\n",
    "\n",
    ">\n",
    " ```python\n",
    "import os\n",
    "import shutil\n",
    "\n",
    "def search_folder(folder, file_extension):\n",
    "    count = 0\n",
    "    for root, directories, files in os.walk(folder):\n",
    "        for file in files:\n",
    "            if file.endswith(file_extension):\n",
    "                current_source_file_path = os.path.join(root, file)\n",
    "                save_to_destination_file_path = os.path.join(folder, file_extension)\n",
    "                copied_file_name = shutil.copy(current_source_file_path, save_to_destination_file_path)                      \n",
    "            \n",
    "save_to_folder = r'C:\\Users\\pravash\\Desktop\\Ineuron_Assignments'\n",
    "search_file_extension = '.pdf'\n",
    "\n",
    "search_folder(save_to_folder, search_file_extension)\n",
    "```"
   ]
  },
  {
   "cell_type": "markdown",
   "id": "58beadcf-bfbc-44d9-8703-ebc079ddeace",
   "metadata": {},
   "source": [
    "# What are the two lines that must be present in your software in order to call logging.debug()?\n",
    "\n",
    "```python\n",
    "import logging\n",
    "logging.basicConfig(level=logging.DEBUG) \n",
    "```"
   ]
  },
  {
   "cell_type": "markdown",
   "id": "dadbbe40-e636-4a0c-90f4-61546eee7033",
   "metadata": {},
   "source": [
    "# What are the five levels of logging?\n",
    "\n",
    "> * **DEBUG**:    This level is used to log information that is useful for debugging.\n",
    "> * **INFO**:     This level is used to log general information about the program's execution.\n",
    "> * **WARNING**:  This level is used to log warnings about potential problems.\n",
    "> * **ERROR**:    This level is used to log errors that have occurred.\n",
    "> * **CRITICAL**: This level is used to log critical errors that have caused the program to terminate.\n"
   ]
  },
  {
   "cell_type": "markdown",
   "id": "709a61bf-5c1e-44ed-88ac-a3a36298df91",
   "metadata": {},
   "source": [
    "# What line of code would you add to your software to disable all logging messages?\n",
    "\n",
    "```python\n",
    "logging.disable(logging.CRITICAL) \n",
    "```\n",
    "> This line of code sets the logging level to CRITICAL. This means that no logging messages will be logged, not even critical errors."
   ]
  },
  {
   "cell_type": "markdown",
   "id": "293c59a4-c32a-4dce-afe6-6e136eae4998",
   "metadata": {},
   "source": [
    "# Why is using logging messages better than using print() to display the same message?\n",
    "\n",
    "> There are several reasons why using logging messages is better than using print() to display the same message.\n",
    "\n",
    "* __Logging messages are more structured__: When you use print(), the output is just a string. This can be difficult to parse and understand, especially if you have a lot of logging messages. When you use logging, the output is a structured object that contains information about the message, such as the level, the source, and the timestamp. This makes it easier to filter, search, and analyze the logging messages.\n",
    " * __Logging messages can be redirected__: By default, logging messages are printed to the console. However, you can also redirect logging messages to a file, a database, or an email address. This allows you to keep a record of your logging messages, even if your program crashes or terminates unexpectedly.\n",
    " * __Logging messages can be filtered__: You can filter logging messages based on their level, source, or other criteria. This allows you to focus on the logging messages that are most relevant to you.\n",
    " * __Logging messages can be formatted__: You can format logging messages to make them more readable and easier to understand. For example, you can format the messages with timestamps, colors, or other special characters.\n"
   ]
  },
  {
   "cell_type": "markdown",
   "id": "dee9e575-ee2c-40dd-a4ae-35820a52e618",
   "metadata": {},
   "source": [
    "# What are the differences between the Step Over, Step In, and Step Out buttons in the debugger?\n",
    "\n",
    "> The Step Over, Step In, and Step Out buttons in the debugger are used to control the flow of execution of your program.\n",
    "* __Step Over__ executes the next line of code, but it does not step into any function calls. This means that if the next line of code is a function call, the debugger will not enter the function. Instead, it will execute the next line of code after the function call.\n",
    "* __Step In__ executes the next line of code, and it steps into any function calls. This means that if the next line of code is a function call, the debugger will enter the function and execute the first line of code in the function.\n",
    "* __Step Out__ executes the current function until it returns. This means that if you are currently in a function, the Step Out button will execute the rest of the code in the function, and then it will return to the line of code that called the function.\n"
   ]
  },
  {
   "cell_type": "markdown",
   "id": "918fda36-f9db-49a1-a256-788939136380",
   "metadata": {},
   "source": [
    "# After you click Continue, when will the debugger stop ?\n",
    "\n",
    "> After we click Continue, the debugger will stop when it reaches the end of the program, or when it encounters a breakpoint. A breakpoint is a line of code that you can set in your program to tell the debugger to stop execution."
   ]
  },
  {
   "cell_type": "markdown",
   "id": "082cf881-37fa-4fc5-9f0d-fbc0bd1cfaa7",
   "metadata": {},
   "source": [
    "# What is the concept of a breakpoint?\n",
    "\n",
    "> A ___breakpoint___ is a line of code that you can set in your program to tell the debugger to stop execution. When the debugger reaches a breakpoint, it will pause execution and you will be able to inspect the values of variables and the state of the program."
   ]
  },
  {
   "cell_type": "markdown",
   "id": "257ecff9-acd2-4590-86cc-48ac79be58b1",
   "metadata": {},
   "source": [
    "# In what modes should the PdfFileReader() and PdfFileWriter() File objects will be opened?\n",
    "\n",
    "> The PdfFileReader() and PdfFileWriter() file objects should be opened in read-binary mode, which is indicated by the rb mode. This mode used to open files that are only to be read and prevents the file from being modified or corrupted. \n",
    "> ```python\n",
    "import PyPDF2 as pdf\n",
    "pdf_file = open(\"my_pdf.pdf\", \"rb\")\n",
    "pdf_reader = pdf.PdfFileReader(pdf_file)\n",
    "print(pdf_reader)\n",
    "```\n",
    "\n",
    "#  From a PdfFileReader object, how do you get a Page object for page 5?\n",
    "> we can get get a Page object for page 5 as:\n",
    "```python\n",
    "page_5 = pdf_reader.getPage(5)\n",
    "```\n",
    "\n",
    "\n",
    "# What PdfFileReader variable stores the number of pages in the PDF document?\n",
    "\n",
    "> The numPages variable in a PdfFileReader object stores the number of pages in the PDF document. \n",
    "> ```python\n",
    "import PyPDF2 as pdf\n",
    "pdf_file = open(\"my_pdf.pdf\", \"rb\")\n",
    "pdf_reader = pdf.PdfFileReader(pdf_file)\n",
    "num_pages = pdf_reader.numPages\n",
    "print(num_pages)\n",
    "```"
   ]
  },
  {
   "cell_type": "markdown",
   "id": "566858ea-70f7-4f10-b94f-98e876a4d046",
   "metadata": {},
   "source": [
    "# How do you create a Document object for a new Word document?\n",
    "\n",
    "> To create a Document object for a new Word document, we can use the code:\n",
    "```python\n",
    "import docx\n",
    "document = docx.Document()\n",
    "```\n",
    "\n",
    "# How do you add a paragraph with the text 'Hello, there!' to a Document object stored in a variable named doc?\n",
    "\n",
    "> To add a paragraph with the text \"Hello, there!\" to a Document object stored in a variable named doc\n",
    "```python\n",
    "import docx\n",
    "doc = docx.Document()\n",
    "paragraph = doc.add_paragraph(\"Hello, there!\")\n",
    "```"
   ]
  },
  {
   "cell_type": "markdown",
   "id": "67686fc7-8875-44f6-b61a-3fe78184962c",
   "metadata": {},
   "source": [
    "# What do you pass to csv.reader() and csv.writer() to create reader and writer objects?\n",
    "\n",
    "> To create reader and writer objects, the following arguments are passed to csv.reader() and csv.writer():\n",
    "> * __csvfile__: This is a file object or a list of strings that contains the CSV data.\n",
    "> * __delimiter__: This is the character that separates the fields in the CSV data. The default delimiter is a comma (,).\n",
    "\n",
    "> __Example__\n",
    "```python\n",
    "import csv\n",
    "\n",
    "with open('data.csv', 'r') as csvfile:\n",
    "    reader = csv.reader(csvfile, delimiter=',')\n",
    "    \n",
    "with open('output.csv', 'w') as csvfile:\n",
    "    writer = csv.writer(csvfile, delimiter=',')\n",
    "\n",
    "    writer.writerow(['Name', 'Age', 'Country'])\n",
    "    writer.writerow(['John Doe', 30, 'USA'])\n",
    "    writer.writerow(['Jane Doe', 25, 'Canada'])\n",
    "```\n"
   ]
  },
  {
   "cell_type": "markdown",
   "id": "686d76f7-1e36-4c05-8db0-4ee488375617",
   "metadata": {},
   "source": [
    "# What function takes a string of JSON data and returns a Python data structure?\n",
    "\n",
    "> The **json.loads()** function takes a string of JSON data and returns a Python data structure. It is used to parse JSON data and convert it into a Python data structure.\n",
    "\n",
    "# What function takes a Python data structure and returns a string of JSON data?\n",
    "\n",
    "> The __json.dumps()__ function takes a Python data structure and returns a string of JSON data. It is used to serialize Python data structures into JSON format."
   ]
  },
  {
   "cell_type": "markdown",
   "id": "c9109f21-3d75-442b-b59b-414ea8dc2b8a",
   "metadata": {},
   "source": [
    "# Use your image and load in notebook then, How can you find out the width and height of an Image object?\n",
    "\n",
    "> To find out the width and height of an Image object, you can use the __size__ property. <br>\n",
    "> lets find the width and height of image.\n",
    "```python\n",
    "    import PIL.Image\n",
    "\n",
    "    image = PIL.Image.open('pravash.png')\n",
    "    width = image.size[0]\n",
    "    height = image.size[1]\n",
    "    print(width, height)\n",
    "\n",
    "    crop_coordinates = (0, 0, width / 2, height / 2)\n",
    "    cropped_image = image.crop(crop_coordinates)\n",
    "    print(cropped_image)\n",
    "```"
   ]
  },
  {
   "cell_type": "markdown",
   "id": "70d35b71-659a-43cf-bf12-ea42d4f30e42",
   "metadata": {},
   "source": [
    "# Use a list comprehension to make a list of the even numbers in range(10)\n",
    "\n",
    "```python\n",
    "# list comprehension\n",
    "even_list = [i for i in range(10) if (i%2) == 0] \n",
    "print(even_list)\n",
    "\n",
    "# dict comprehension\n",
    "squares = {i: i**2 for i in range(10)}\n",
    "print(squares)\n",
    "\n",
    "# set comprehension\n",
    "odd = {i for i in range(10) if (i%2) == 1}\n",
    "print(odd)\n",
    "\n",
    "# generator comprehension\n",
    "string_generator = ('Got ' + str(i) for i in range(10))\n",
    "for item in string_generator:\n",
    "    print(item)\n",
    "```"
   ]
  },
  {
   "cell_type": "markdown",
   "id": "77a11e4b-d820-4414-a180-bf0224a1f1fd",
   "metadata": {},
   "source": [
    "# Define a generator function called get_odds that returns the odd numbers from range(10). Use a for loop to find and print the third value returned.\n",
    "\n",
    "```python\n",
    "def get_odds():\n",
    "    for i in range(10):\n",
    "        if (i%2) == 1:\n",
    "            yield i\n",
    "\n",
    "count = 0\n",
    "for i in get_odds():\n",
    "    count += 1\n",
    "    if count == 3:\n",
    "        print(\"third value returned is\", i)\n",
    "```\n"
   ]
  },
  {
   "cell_type": "markdown",
   "id": "40a7b9cb-95af-4664-8cc8-493bddb9fba6",
   "metadata": {},
   "source": [
    "# Create a CSV file called books.csv by using these lines:\n",
    "\n",
    "        title,author,year\n",
    "        The Weirdstone of Brisingamen,Alan Garner,1960\n",
    "        Perdido Street Station,China Miéville,2000\n",
    "        Thud!,Terry Pratchett,2005\n",
    "        The Spellman Files,Lisa Lutz,2007\n",
    "        Small Gods,Terry Pratchett,1992\n",
    ">\n",
    "```python\n",
    "import csv\n",
    "\n",
    "with open('books.csv', 'w', newline='') as csvfile:\n",
    "    writer = csv.writer(csvfile, delimiter=',')\n",
    "    writer.writerow(['title', 'author', 'year'])\n",
    "    writer.writerow(['The Weirdstone of Brisingamen', 'Alan Garner', 1960])\n",
    "    writer.writerow(['Perdido Street Station', 'China Miéville', 2000])\n",
    "    writer.writerow(['Thud!', 'Terry Pratchett', 2005])\n",
    "    writer.writerow(['The Spellman Files', 'Lisa Lutz', 2007])\n",
    "    writer.writerow(['Small Gods', 'Terry Pratchett', 1992])\n",
    "```\n"
   ]
  },
  {
   "cell_type": "markdown",
   "id": "a21c2053-fab9-4e17-bbf6-325fde38c5d6",
   "metadata": {},
   "source": [
    "# Use the sqlite3 module to create a SQLite database called books.db, and a table called books with these fields: title (text), author (text), and year (integer).\n",
    "\n",
    "```python\n",
    "import sqlite3\n",
    "\n",
    "conn = sqlite3.connect('books.db')\n",
    "cur = conn.cursor()\n",
    "cur.execute('CREATE TABLE books (title TEXT, author TEXT, year INTEGER)')\n",
    "\n",
    "conn.commit()\n",
    "conn.close()\n",
    "```\n",
    "\n",
    "# Read books.csv and insert its data into the book table.\n",
    "\n",
    "```python\n",
    "import csv\n",
    "import sqlite3\n",
    "\n",
    "conn = sqlite3.connect('books.db')\n",
    "\n",
    "cur = conn.cursor()\n",
    "\n",
    "with open('books.csv', 'r') as csvfile:\n",
    "    reader = csv.reader(csvfile, delimiter=',')\n",
    "    next(reader, None)                 # skip header\n",
    "    for row in reader:\n",
    "        cur.execute('INSERT INTO books (title, author, year) VALUES (?, ?, ?)', row)\n",
    "\n",
    "conn.commit()\n",
    "conn.close()\n",
    "```\n",
    "\n",
    "# Select and print the title column from the book table in alphabetical order.\n",
    "\n",
    "```python\n",
    "import sqlite3\n",
    "\n",
    "conn = sqlite3.connect('books.db')\n",
    "cur = conn.cursor()\n",
    "cur.execute('SELECT title FROM books ORDER BY title ASC')\n",
    "\n",
    "for row in cur.fetchall():\n",
    "    print(row[0])\n",
    "\n",
    "conn.close()\n",
    "```\n",
    "\n",
    "# From the book table, select and print all columns in the order of publication.\n",
    "\n",
    "```python\n",
    "import sqlite3\n",
    "\n",
    "conn = sqlite3.connect('books.db')\n",
    "cur = conn.cursor()\n",
    "cur.execute('SELECT title, author, year FROM books ORDER BY year ASC')\n",
    "\n",
    "for row in cur.fetchall():\n",
    "    print(row)\n",
    "\n",
    "conn.close()\n",
    "```"
   ]
  },
  {
   "cell_type": "markdown",
   "id": "ebbbf7e6-05a4-41b7-a69b-c221e2c27839",
   "metadata": {},
   "source": [
    "# Use the sqlalchemy module to connect to the sqlite3 database books.db that you just made in exercise 6.\n",
    "\n",
    "```python\n",
    "import sqlalchemy\n",
    "\n",
    "engine = sqlalchemy.create_engine('sqlite:///books.db')\n",
    "connection = engine.connect()\n",
    "metadata = sqlalchemy.MetaData()\n",
    "\n",
    "books_table = sqlalchemy.Table('books', metadata,\n",
    "                             Column('title', sqlalchemy.String),\n",
    "                             Column('author', sqlalchemy.String),\n",
    "                             Column('year', sqlalchemy.Integer))\n",
    "\n",
    "metadata.create_all(engine)\n",
    "conn = engine.connect()\n",
    "\n",
    "for row in conn.execute('SELECT title, author, year FROM books'):\n",
    "    print(row)\n",
    "\n",
    "conn.close()\n",
    "```\n"
   ]
  },
  {
   "cell_type": "markdown",
   "id": "7a2516f1-4f02-48cf-bca0-f89b2854e368",
   "metadata": {},
   "source": [
    "# Install the Redis server and the Python redis library (pip install redis) on your computer. Create a Redis hash called test with the fields count (1) and name ('Fester Bestertester'). Print all the fields for test.\n",
    "\n",
    "```python\n",
    "import redis\n",
    "\n",
    "# Connect to the Redis server\n",
    "r = redis.Redis()\n",
    "\n",
    "# Create a hash called test\n",
    "test = r.hmset(\"test\", {\"count\": 1, \"name\": \"Fester Bestertester\"})\n",
    "\n",
    "# Print all the fields for test\n",
    "print(r.hgetall(\"test\"))\n",
    "\n",
    "# increments the count field of test by 1.\n",
    "r.hincrby(\"test\", \"count\", 1)\n",
    "\n",
    "# prints the value of the count field of test\n",
    "print(r.hget(\"test\", \"count\"))\n",
    "```"
   ]
  },
  {
   "cell_type": "markdown",
   "id": "bc3c39f9-8248-4801-9514-0bd176d5cc67",
   "metadata": {},
   "source": [
    "# Add the current date to the text file today.txt as a string.\n",
    "\n",
    "```python\n",
    "import datetime\n",
    "\n",
    "today = datetime.date.today()    # current date\n",
    "\n",
    "with open('today.txt', 'a') as f:\n",
    "    f.write(str(today))\n",
    "```\n",
    "\n",
    "# What day of the week was your day of birth?\n",
    "\n",
    "```python\n",
    "import datetime\n",
    "\n",
    "my_birthday = datetime.date(1998,7,14)\n",
    "day_of_week = my_birthday.weekday()\n",
    "print(day_of_week)\n",
    "```\n",
    "> * here week-day satrt from monday with 0, tuesday with 1, ... , sunday with 6\n",
    "\n",
    "\n",
    "# When will you be (or when were you) 10,000 days old?\n",
    "\n",
    "```python\n",
    "import datetime as dt\n",
    "\n",
    "my_birthday = dt.date(1998,7,14)\n",
    "will_be_10000_days_old = my_birthday + dt.timedelta(days=10000)\n",
    "\n",
    "print(\"I will be 10000 years old at:\", will_be_10000_days_old.strftime(\"%Y-%m-%d\"))\n",
    "\n",
    "```"
   ]
  },
  {
   "cell_type": "markdown",
   "id": "1e42d710-9b9a-4f3d-8407-7c77a456fa2c",
   "metadata": {},
   "source": [
    "# List the files in your current directory\n",
    "\n",
    "```python\n",
    "import os\n",
    "\n",
    "files = os.listdir()  # List the files in the current directory\n",
    "\n",
    "for file in files:\n",
    "    print(file)       # Print the files\n",
    "```\n",
    "---\n",
    "# Create a list of all of the files in your parent directory (minimum five files should be available).\n",
    "\n",
    "```python\n",
    "import os\n",
    "\n",
    "parent_dir = os.path.dirname(os.getcwd())  # Get the parent directory\n",
    "files = os.listdir(parent_dir)             # List the files in the parent directory\n",
    "\n",
    "for file in files:\n",
    "    if len(files) <= 5:\n",
    "        break\n",
    "    else:\n",
    "        print(file)\n",
    "```"
   ]
  },
  {
   "cell_type": "markdown",
   "id": "13954d79-e0ed-42e8-bf29-9486a5f923ad",
   "metadata": {},
   "source": [
    "# Compare and contrast map, filter, and reduce.\n",
    "\n",
    "> __map, filter, and reduce__ are the functions that operate on iterables. However, they each have a different purpose.\n",
    ">> * __Map__ applies a function to each element of an iterable and returns a new iterable with the results. This can be useful for transforming data or performing calculations on each element of an iterable.\n",
    ">> * __Filter__ filters an iterable by applying a function to each element and returning only those elements for which the function returns True. This can be useful for removing unwanted elements from an iterable or selecting specific elements from an iterable.\n",
    ">> * __Reduce__ reduces an iterable to a single value by applying a function to consecutive pairs of elements and passing the result to the function as the next element. This can be useful for performing cumulative calculations on an iterable.\n",
    "> Example: \n",
    "* ***``` map(lambda x: x ** 2, [1, 2, 3, 4]) ```*** returns an iterator [1, 4, 9, 16], where each element is the square of the corresponding element in the original list.\n",
    "* ___``` filter(lambda x: x % 2 == 0, [1, 2, 3, 4, 5, 6]) ```___ returns an iterator [2, 4, 6], containing only the even numbers from the original list.\n",
    "* ___``` reduce(lambda x, y: x + y, [1, 2, 3, 4, 5]) ```___ returns 15, which is the sum of all the elements in the original list.\n"
   ]
  },
  {
   "cell_type": "markdown",
   "id": "be24d373-f5ec-45e0-89d1-1fd6f95c976d",
   "metadata": {},
   "source": [
    "***```python\n",
    "reduce(lambda x, y: x + y, [1, 2, 3, 4, 5]) \n",
    "```***"
   ]
  },
  {
   "cell_type": "markdown",
   "id": "9ac16805-2a50-4d25-bbc7-3dc6bde33a4c",
   "metadata": {},
   "source": [
    "# What is the difference between enclosing a list comprehension in square brackets and parentheses? \n",
    "\n",
    "> * __Square brackets__: Enclosing a ***list comprehension*** in square brackets _creates a list_. For example, the following code creates a list of the squares of the numbers from 1 to 5:  ___``` squares = [x * x for x in range(1, 6)] ```___\n",
    "\n",
    "> * __Parentheses___: Enclosing a list comprehension in parentheses creates a ___generator expression___. A generator expression is a special type of expression that can be used to iterate over a sequence of values. They are more efficient. For example, the following code creates a generator expression that yields the squares of the numbers from 1 to 5: ___``` squares = (x * x for x in range(1, 6)) ```__\n"
   ]
  },
  {
   "cell_type": "markdown",
   "id": "7032c4f3-cbef-4759-866f-beffb9e35291",
   "metadata": {},
   "source": [
    "# What is the relationship between generators and iterators? \n",
    "\n",
    "> * __Generators__: Generators are a special _type of function_ that can be used to iterate over a sequence of values. Generators do not actually create a list in memory, but rather they __yield the values one at a time__. This makes generators _more efficient than lists_, especially when you are iterating over a large sequence of values.\n",
    "> * __Iterators__: Iterators are _objects_ that can be used to iterate over a __sequence of values__. Iterators can be created from lists, strings, and other iterable objects. Iterators can also be created from generators.\n",
    "> * \n",
    "\n",
    "<h1> What are the signs that a function is a generator function? </h1>\n",
    "\n",
    "> * The function uses the ___yield keyword___. This allows the function to be used to iterate over a sequence of values one at a time.\n",
    "> * The function can be used in a for loop. Generator functions can be used in a for loop just like any other iterable object. This allows you to iterate over the sequence of values that the generator function yields.\n",
    "\n",
    "> __For example__\n",
    "```\n",
    "def squares():\n",
    "    for x in range(1, 6):\n",
    "        yield x * x\n",
    "\n",
    "for x in squares():\n",
    "    print(x)\n",
    "```"
   ]
  },
  {
   "cell_type": "markdown",
   "id": "b9e0bdd5-8d24-4ec0-acda-a47a0bf1a86a",
   "metadata": {},
   "source": [
    "# What is the purpose of a yield statement? \n",
    "\n",
    "> * The yield statement in Python is used to suspend the execution of a function and return a value. This allows the function to be used to iterate over a sequence of values one at a time.\n",
    "> * Generator functions do not actually create a list in memory, but rather they yield the values one at a time. This makes generators more efficient than lists, especially when you are iterating over a large sequence of values.\n",
    ">\n",
    "\n",
    "<h1> What is the relationship between map calls and list comprehensions? Make a comparison and contrast between the two. </h1>\n",
    "\n",
    "> * __Map calls__: Map calls are a way to apply a function to each element of an iterable object and return a new iterable object with the results. For example, uses a map call to square the numbers from 1 to 5: ___``` list(map(lambda x: x * x, [1, 2, 3, 4, 5])) ```___\n",
    "> * __List comprehensions__: List comprehensions are a concise way to create a list from the results of a function call. For example, use a list comprehension to create a list of the squares of the numbers from 1 to 5: ___``` [x * x for x in [1, 2, 3, 4, 5]] ```___"
   ]
  },
  {
   "cell_type": "code",
   "execution_count": null,
   "id": "b6b2c595-d2f0-403f-bb7f-94b72cd921bc",
   "metadata": {},
   "outputs": [],
   "source": []
  },
  {
   "cell_type": "code",
   "execution_count": null,
   "id": "a3526e0c-5658-46b0-adc5-479b9a26d1be",
   "metadata": {},
   "outputs": [],
   "source": []
  }
 ],
 "metadata": {
  "kernelspec": {
   "display_name": "Python 3 (ipykernel)",
   "language": "python",
   "name": "python3"
  },
  "language_info": {
   "codemirror_mode": {
    "name": "ipython",
    "version": 3
   },
   "file_extension": ".py",
   "mimetype": "text/x-python",
   "name": "python",
   "nbconvert_exporter": "python",
   "pygments_lexer": "ipython3",
   "version": "3.11.8"
  }
 },
 "nbformat": 4,
 "nbformat_minor": 5
}
